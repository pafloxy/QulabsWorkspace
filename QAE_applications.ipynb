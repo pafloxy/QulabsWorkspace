{
 "cells": [
  {
   "cell_type": "code",
   "execution_count": 1,
   "metadata": {},
   "outputs": [],
   "source": [
    "## imports\n",
    "from qiskit import *\n",
    "from qiskit.algorithms import *\n",
    "from qiskit import QuantumRegister, ClassicalRegister, QuantumCircuit\n",
    "from qiskit import quantum_info, IBMQ, Aer,providers\n",
    "from qiskit import BasicAer\n",
    "from qiskit.utils import QuantumInstance\n",
    "# backend = BasicAer.get_backend(\"statevector_simulator\")\n",
    "# quantum_instance = QuantumInstance(backend)\n",
    "from qiskit.circuit.library import LinearAmplitudeFunction\n",
    "from qiskit_finance.circuit.library import LogNormalDistribution, NormalDistribution\n",
    "from qiskit.algorithms import AmplitudeEstimation\n",
    "#from qiskit.ignis.verification.tomography import state_tomography_circuits, StateTomographyFitter\n",
    "from qiskit.visualization import plot_histogram, plot_state_qsphere, plot_bloch_multivector, plot_bloch_vector\n",
    "import numpy as np\n",
    "from numpy import pi\n",
    "import seaborn as sns\n",
    "from IPython.display import Image\n",
    "import matplotlib.pyplot as plt"
   ]
  },
  {
   "cell_type": "code",
   "execution_count": 2,
   "metadata": {},
   "outputs": [],
   "source": [
    "# setup simulator using IBM_id\n",
    "# IBMQ.save_account(\"1c62e8a0d2b058d0e797db9c811bc34582df5553e25812301cd1518662c0ab68d2378ac6c197b65f8be944d04b7e7439f034e3926a44fa8088538b3d13782c1a\", overwrite= True)\n",
    "provider = IBMQ.load_account()\n",
    "IBMQ.get_provider(hub='ibm-q-education', group='iit-madras-1', project='quantum-computin')\n",
    "# setup required backends \n",
    "lima = provider.get_backend('ibmq_lima')\n",
    "manila = provider.get_backend('ibmq_manila')\n",
    "qsm_simulator = Aer.get_backend('qasm_simulator')\n",
    "stv_simulator = Aer.get_backend('statevector_simulator')\n",
    "aer = Aer.get_backend('aer_simulator')"
   ]
  },
  {
   "cell_type": "markdown",
   "metadata": {},
   "source": [
    "## Helper Functions"
   ]
  },
  {
   "cell_type": "code",
   "execution_count": 66,
   "metadata": {},
   "outputs": [],
   "source": [
    "def crot(qc, l):\n",
    "    if l == 0:\n",
    "        return qc\n",
    "    l = l-1\n",
    "    qc.h(l)\n",
    "    for q in range(l):\n",
    "        qc.cp(pi/2**(l-q), q, l)\n",
    "    #qc.barrier()\n",
    "    # qc.draw()\n",
    "    \n",
    "def QFT(qc):\n",
    "   \"\"\"function to generate QFT circuit \"\"\"\n",
    "   dim = qc.num_qubits\n",
    "   for q in range(dim):\n",
    "      crot(qc, dim-q)\n",
    "   for q in range(int(dim/2)):\n",
    "      qc.swap(q, dim-q-1)\n",
    "\n",
    "   #qc.draw()\n",
    "   return qc\n",
    "   "
   ]
  },
  {
   "cell_type": "code",
   "execution_count": 67,
   "metadata": {},
   "outputs": [],
   "source": [
    "# ## equal superpostion of qreg ~\n",
    "# def prep():\n",
    "#     qreg = QuantumRegister(nbit, name= 'qreg')\n",
    "#     ancilla = AncillaRegister(1, name= 'ancilla')\n",
    "#     qc = QuantumCircuit(qreg, ancilla) \n",
    "#     qc.h(qreg)\n",
    "\n",
    "#     return qc.to_gate()\n",
    "\n",
    "## fucntion evaluation circuit ~\n",
    "def feval(nmax,nbit):\n",
    "    qreg = QuantumRegister(nbit, name= 'qreg')\n",
    "    ancilla = QuantumRegister(1, name= 'ancilla')\n",
    "    qc = QuantumCircuit(qreg, ancilla, name= 'f_eval') \n",
    "\n",
    "    qc.ry(nmax/(2**nbit), ancilla)\n",
    "    for qubit in range(nbit): qc.cry(nmax/(2**(nbit - qubit- 1)), qubit, ancilla )\n",
    "\n",
    "    return qc.to_gate()\n",
    "\n",
    "## generate generalised grover operators ~\n",
    "def Q0(nmax, nbit):\n",
    "    qreg = QuantumRegister(nbit, name= 'qreg')\n",
    "    ancilla = QuantumRegister(1, name= 'ancilla')\n",
    "    qc = QuantumCircuit(qreg, ancilla, name= 'Q0') \n",
    "\n",
    "    qc.z(ancilla)\n",
    "    return qc\n",
    "\n",
    "def Q1(nmax, nbit):\n",
    "    qreg = QuantumRegister(nbit, name= 'qreg')\n",
    "    ancilla = QuantumRegister(1, name= 'ancilla')\n",
    "    qc = QuantumCircuit(qreg, ancilla, name= \"Q1\") \n",
    "\n",
    "    qc.append(feval(nmax, nbit), list(range(nbit+1)))\n",
    "    qc.h(qreg)\n",
    "\n",
    "    qc.x(qreg)\n",
    "    qc.x(ancilla)\n",
    "    qc.h(ancilla)\n",
    "    qc.mcx(list(range(len(qreg))), ancilla)\n",
    "    qc.h(ancilla)\n",
    "    qc.x(ancilla)\n",
    "    qc.x(qreg)\n",
    "    \n",
    "\n",
    "    qc.h(qreg)\n",
    "    qc.append(feval(nmax, nbit).inverse(), list(range(nbit+1)))\n",
    "    \n",
    "    return qc\n",
    "\n",
    "def grover(nbit, nmax, steps):\n",
    "    qreg = QuantumRegister(nbit, name= 'qreg')\n",
    "    ancilla = QuantumRegister(1, name= 'ancilla')\n",
    "    qc = QuantumCircuit(qreg, ancilla, name= 'grover^'+ str(steps))\n",
    "\n",
    "    q0 = Q0(nmax, nbit).to_gate()\n",
    "    q1 = Q1(nmax, nbit).to_gate()\n",
    "\n",
    "\n",
    "    for step in range(steps):\n",
    "        qc.compose(q0, inplace= True)\n",
    "        qc.compose(q1, inplace= True)\n",
    "\n",
    "    return qc.to_gate()\n"
   ]
  },
  {
   "cell_type": "markdown",
   "metadata": {},
   "source": [
    "## Numerical Integration using QAE"
   ]
  },
  {
   "cell_type": "markdown",
   "metadata": {},
   "source": [
    "## Expectation of Boolen function "
   ]
  },
  {
   "cell_type": "code",
   "execution_count": 3,
   "metadata": {},
   "outputs": [
    {
     "data": {
      "text/html": [
       "<pre style=\"word-wrap: normal;white-space: pre;background: #fff0;line-height: 1.1;font-family: &quot;Courier New&quot;,Courier,monospace\">     ┌───────┐\n",
       "q_0: ┤0      ├\n",
       "     │       │\n",
       "q_1: ┤1      ├\n",
       "     │  P(X) │\n",
       "q_2: ┤2      ├\n",
       "     │       │\n",
       "q_3: ┤3      ├\n",
       "     └───────┘</pre>"
      ],
      "text/plain": [
       "     ┌───────┐\n",
       "q_0: ┤0      ├\n",
       "     │       │\n",
       "q_1: ┤1      ├\n",
       "     │  P(X) │\n",
       "q_2: ┤2      ├\n",
       "     │       │\n",
       "q_3: ┤3      ├\n",
       "     └───────┘"
      ]
     },
     "execution_count": 3,
     "metadata": {},
     "output_type": "execute_result"
    }
   ],
   "source": [
    "## defining distributions ~\n",
    "num_qubits = 4\n",
    "\n",
    "## distribution: [normal/ log-normal ]\n",
    "d_nrml = NormalDistribution(num_qubits, mu = 0, sigma= 1 )\n",
    "\n",
    "d_nrml.draw()"
   ]
  },
  {
   "cell_type": "code",
   "execution_count": 4,
   "metadata": {},
   "outputs": [
    {
     "data": {
      "image/png": "[encoded data removed]",
      "text/plain": [
       "<Figure size 504x360 with 1 Axes>"
      ]
     },
     "execution_count": 4,
     "metadata": {},
     "output_type": "execute_result"
    }
   ],
   "source": [
    "d_nrml.measure_all()\n",
    "job = execute(d_nrml, backend= aer)\n",
    "plot_histogram(job.result().get_counts(),sort= 'asc')"
   ]
  },
  {
   "cell_type": "code",
   "execution_count": 5,
   "metadata": {},
   "outputs": [
    {
     "data": {
      "text/html": [
       "<pre style=\"word-wrap: normal;white-space: pre;background: #fff0;line-height: 1.1;font-family: &quot;Courier New&quot;,Courier,monospace\">       ┌────────┐\n",
       "q41_0: ┤0       ├\n",
       "       │        │\n",
       "q41_1: ┤1       ├\n",
       "       │        │\n",
       "q41_2: ┤2 lae_1 ├\n",
       "       │        │\n",
       "q41_3: ┤3       ├\n",
       "       │        │\n",
       "  q42: ┤4       ├\n",
       "       └────────┘</pre>"
      ],
      "text/plain": [
       "       ┌────────┐\n",
       "q41_0: ┤0       ├\n",
       "       │        │\n",
       "q41_1: ┤1       ├\n",
       "       │        │\n",
       "q41_2: ┤2 lae_1 ├\n",
       "       │        │\n",
       "q41_3: ┤3       ├\n",
       "       │        │\n",
       "  q42: ┤4       ├\n",
       "       └────────┘"
      ]
     },
     "execution_count": 5,
     "metadata": {},
     "output_type": "execute_result"
    }
   ],
   "source": [
    "## defining a arbitrary linear function \n",
    "lae = LinearAmplitudeFunction(num_qubits, 1, -1.0, (0,1),(-1,1), name= 'lae_1' )\n",
    "lae.draw()"
   ]
  },
  {
   "cell_type": "code",
   "execution_count": 6,
   "metadata": {},
   "outputs": [
    {
     "data": {
      "image/png": "[encoded data removed]",
      "text/plain": [
       "<Figure size 504x360 with 1 Axes>"
      ]
     },
     "execution_count": 6,
     "metadata": {},
     "output_type": "execute_result"
    }
   ],
   "source": [
    "lae.measure_all()\n",
    "job = execute(lae, backend= aer)\n",
    "plot_histogram(job.result().get_counts(),sort= 'asc')"
   ]
  },
  {
   "cell_type": "code",
   "execution_count": 7,
   "metadata": {},
   "outputs": [
    {
     "data": {
      "text/html": [
       "<pre style=\"word-wrap: normal;white-space: pre;background: #fff0;line-height: 1.1;font-family: &quot;Courier New&quot;,Courier,monospace\">        ┌───────┐ ░ ┌─┐         ┌────────┐ ░ ┌─┐            \n",
       " q41_0: ┤0      ├─░─┤M├─────────┤0       ├─░─┤M├────────────\n",
       "        │       │ ░ └╥┘┌─┐      │        │ ░ └╥┘┌─┐         \n",
       " q41_1: ┤1      ├─░──╫─┤M├──────┤1       ├─░──╫─┤M├─────────\n",
       "        │  P(X) │ ░  ║ └╥┘┌─┐   │        │ ░  ║ └╥┘┌─┐      \n",
       " q41_2: ┤2      ├─░──╫──╫─┤M├───┤2 lae_1 ├─░──╫──╫─┤M├──────\n",
       "        │       │ ░  ║  ║ └╥┘┌─┐│        │ ░  ║  ║ └╥┘┌─┐   \n",
       " q41_3: ┤3      ├─░──╫──╫──╫─┤M├┤3       ├─░──╫──╫──╫─┤M├───\n",
       "        └───────┘ ░  ║  ║  ║ └╥┘│        │ ░  ║  ║  ║ └╥┘┌─┐\n",
       "   q42: ─────────────╫──╫──╫──╫─┤4       ├─░──╫──╫──╫──╫─┤M├\n",
       "                     ║  ║  ║  ║ └────────┘ ░  ║  ║  ║  ║ └╥┘\n",
       "meas: 5/═════════════╩══╩══╩══╩═══════════════╩══╩══╩══╩══╩═\n",
       "                     0  1  2  3               0  1  2  3  4 </pre>"
      ],
      "text/plain": [
       "        ┌───────┐ ░ ┌─┐         ┌────────┐ ░ ┌─┐            \n",
       " q41_0: ┤0      ├─░─┤M├─────────┤0       ├─░─┤M├────────────\n",
       "        │       │ ░ └╥┘┌─┐      │        │ ░ └╥┘┌─┐         \n",
       " q41_1: ┤1      ├─░──╫─┤M├──────┤1       ├─░──╫─┤M├─────────\n",
       "        │  P(X) │ ░  ║ └╥┘┌─┐   │        │ ░  ║ └╥┘┌─┐      \n",
       " q41_2: ┤2      ├─░──╫──╫─┤M├───┤2 lae_1 ├─░──╫──╫─┤M├──────\n",
       "        │       │ ░  ║  ║ └╥┘┌─┐│        │ ░  ║  ║ └╥┘┌─┐   \n",
       " q41_3: ┤3      ├─░──╫──╫──╫─┤M├┤3       ├─░──╫──╫──╫─┤M├───\n",
       "        └───────┘ ░  ║  ║  ║ └╥┘│        │ ░  ║  ║  ║ └╥┘┌─┐\n",
       "   q42: ─────────────╫──╫──╫──╫─┤4       ├─░──╫──╫──╫──╫─┤M├\n",
       "                     ║  ║  ║  ║ └────────┘ ░  ║  ║  ║  ║ └╥┘\n",
       "meas: 5/═════════════╩══╩══╩══╩═══════════════╩══╩══╩══╩══╩═\n",
       "                     0  1  2  3               0  1  2  3  4 "
      ]
     },
     "execution_count": 7,
     "metadata": {},
     "output_type": "execute_result"
    }
   ],
   "source": [
    "qc = lae.compose(d_nrml, qubits= [0,1,2,3] ,front= True)\n",
    "qc.draw()"
   ]
  },
  {
   "cell_type": "code",
   "execution_count": 9,
   "metadata": {},
   "outputs": [],
   "source": [
    "# qc.measure([0,1,2,3])\n",
    "# job = execute(qc, backend= aer)\n",
    "# plot_histogram(job.result().get_counts(),sort= 'asc')"
   ]
  },
  {
   "cell_type": "markdown",
   "metadata": {},
   "source": [
    "## Integrating $ \\frac{1}{n_{max}} \\int_{0}^{n_{max}} sin^{2}(x) dx$ numerically\n"
   ]
  },
  {
   "cell_type": "code",
   "execution_count": 10,
   "metadata": {},
   "outputs": [
    {
     "name": "stdout",
     "output_type": "stream",
     "text": [
      "Analytical Result: 0.12158663567967151\n",
      "Discretized Result: 0.1215623195455658\n"
     ]
    }
   ],
   "source": [
    "## discretization of the integral domain x in [0, 2^{n}-1] by using n qubits ~\n",
    "nmax = pi / 5  # upper limit of integral\n",
    "nbit = 5  # change this value to get discretized result closer to analytical results\n",
    "\n",
    "analyticResult = (nmax / 2.0 - np.sin(2 * nmax) / 4.0 ) / nmax  # the target integral can be analytically solved\n",
    "print(\"Analytical Result:\", analyticResult)\n",
    "\n",
    "ndiv = 2**nbit  #number of discretization \n",
    "discretizedResult = 0.0\n",
    "for i in range(ndiv):\n",
    "    discretizedResult += np.sin(nmax / ndiv * (i + 0.5))**2\n",
    "discretizedResult = discretizedResult / ndiv\n",
    "print(\"Discretized Result:\", discretizedResult)"
   ]
  },
  {
   "cell_type": "code",
   "execution_count": 116,
   "metadata": {},
   "outputs": [
    {
     "data": {
      "text/html": [
       "<pre style=\"word-wrap: normal;white-space: pre;background: #fff0;line-height: 1.1;font-family: &quot;Courier New&quot;,Courier,monospace\">         ┌───┐┌─────────┐ ░ \n",
       " qreg_0: ┤ H ├┤0        ├─░─\n",
       "         ├───┤│         │ ░ \n",
       " qreg_1: ┤ H ├┤1        ├─░─\n",
       "         ├───┤│         │ ░ \n",
       " qreg_2: ┤ H ├┤2        ├─░─\n",
       "         ├───┤│  f_eval │ ░ \n",
       " qreg_3: ┤ H ├┤3        ├─░─\n",
       "         ├───┤│         │ ░ \n",
       " qreg_4: ┤ H ├┤4        ├─░─\n",
       "         └───┘│         │ ░ \n",
       "ancilla: ─────┤5        ├─░─\n",
       "              └─────────┘ ░ </pre>"
      ],
      "text/plain": [
       "         ┌───┐┌─────────┐ ░ \n",
       " qreg_0: ┤ H ├┤0        ├─░─\n",
       "         ├───┤│         │ ░ \n",
       " qreg_1: ┤ H ├┤1        ├─░─\n",
       "         ├───┤│         │ ░ \n",
       " qreg_2: ┤ H ├┤2        ├─░─\n",
       "         ├───┤│  f_eval │ ░ \n",
       " qreg_3: ┤ H ├┤3        ├─░─\n",
       "         ├───┤│         │ ░ \n",
       " qreg_4: ┤ H ├┤4        ├─░─\n",
       "         └───┘│         │ ░ \n",
       "ancilla: ─────┤5        ├─░─\n",
       "              └─────────┘ ░ "
      ]
     },
     "execution_count": 116,
     "metadata": {},
     "output_type": "execute_result"
    }
   ],
   "source": [
    "qreg = QuantumRegister(nbit, name= 'qreg')\n",
    "ancilla = QuantumRegister(1, name= 'ancilla')\n",
    "qc = QuantumCircuit(qreg, ancilla) \n",
    "\n",
    "qc.h(qreg)\n",
    "qc.append(feval(nmax, nbit), list(range(nbit+1)))\n",
    "qc.barrier()\n",
    "\n",
    "# qc.compose(grover(nbit, nmax, 2), inplace= True)\n",
    "\n",
    "qc.draw()"
   ]
  },
  {
   "cell_type": "code",
   "execution_count": 129,
   "metadata": {},
   "outputs": [
    {
     "data": {
      "text/html": [
       "<pre style=\"word-wrap: normal;white-space: pre;background: #fff0;line-height: 1.1;font-family: &quot;Courier New&quot;,Courier,monospace\">               ┌───┐┌─────────┐ ░ \n",
       "       qreg_0: ┤ H ├┤0        ├─░─\n",
       "               ├───┤│         │ ░ \n",
       "       qreg_1: ┤ H ├┤1        ├─░─\n",
       "               ├───┤│         │ ░ \n",
       "       qreg_2: ┤ H ├┤2        ├─░─\n",
       "               ├───┤│  f_eval │ ░ \n",
       "       qreg_3: ┤ H ├┤3        ├─░─\n",
       "               ├───┤│         │ ░ \n",
       "       qreg_4: ┤ H ├┤4        ├─░─\n",
       "               └───┘│         │ ░ \n",
       "      ancilla: ─────┤5        ├─░─\n",
       "                    └─────────┘ ░ \n",
       "precision_q_0: ───────────────────\n",
       "                                  \n",
       "precision_q_1: ───────────────────\n",
       "                                  \n",
       "precision_q_2: ───────────────────\n",
       "                                  \n",
       "       creg: 3/═══════════════════\n",
       "                                  </pre>"
      ],
      "text/plain": [
       "               ┌───┐┌─────────┐ ░ \n",
       "       qreg_0: ┤ H ├┤0        ├─░─\n",
       "               ├───┤│         │ ░ \n",
       "       qreg_1: ┤ H ├┤1        ├─░─\n",
       "               ├───┤│         │ ░ \n",
       "       qreg_2: ┤ H ├┤2        ├─░─\n",
       "               ├───┤│  f_eval │ ░ \n",
       "       qreg_3: ┤ H ├┤3        ├─░─\n",
       "               ├───┤│         │ ░ \n",
       "       qreg_4: ┤ H ├┤4        ├─░─\n",
       "               └───┘│         │ ░ \n",
       "      ancilla: ─────┤5        ├─░─\n",
       "                    └─────────┘ ░ \n",
       "precision_q_0: ───────────────────\n",
       "                                  \n",
       "precision_q_1: ───────────────────\n",
       "                                  \n",
       "precision_q_2: ───────────────────\n",
       "                                  \n",
       "       creg: 3/═══════════════════\n",
       "                                  "
      ]
     },
     "execution_count": 129,
     "metadata": {},
     "output_type": "execute_result"
    }
   ],
   "source": [
    "qreg = QuantumRegister(nbit, name= 'qreg')\n",
    "ancilla = QuantumRegister(1, name= 'ancilla')\n",
    "qc = QuantumCircuit(qreg, ancilla) \n",
    "\n",
    "precision = 3\n",
    "preg = QuantumRegister(precision, name= 'precision_q')\n",
    "clreg = ClassicalRegister(precision, name= 'creg')\n",
    "\n",
    "qc.h(qreg)\n",
    "qc.append(feval(nmax, nbit), list(range(nbit+1)))\n",
    "qc.barrier()\n",
    "\n",
    "qc.add_register(preg, clreg)\n",
    "qc.draw()"
   ]
  },
  {
   "cell_type": "code",
   "execution_count": 130,
   "metadata": {},
   "outputs": [
    {
     "data": {
      "text/html": [
       "<pre style=\"word-wrap: normal;white-space: pre;background: #fff0;line-height: 1.1;font-family: &quot;Courier New&quot;,Courier,monospace\">               ┌───┐┌─────────┐ ░ ┌───────────┐┌───────────┐┌───────────┐ ░ »\n",
       "       qreg_0: ┤ H ├┤0        ├─░─┤0          ├┤0          ├┤0          ├─░─»\n",
       "               ├───┤│         │ ░ │           ││           ││           │ ░ »\n",
       "       qreg_1: ┤ H ├┤1        ├─░─┤1          ├┤1          ├┤1          ├─░─»\n",
       "               ├───┤│         │ ░ │           ││           ││           │ ░ »\n",
       "       qreg_2: ┤ H ├┤2        ├─░─┤2          ├┤2          ├┤2          ├─░─»\n",
       "               ├───┤│  f_eval │ ░ │  grover^1 ││  grover^2 ││  grover^4 │ ░ »\n",
       "       qreg_3: ┤ H ├┤3        ├─░─┤3          ├┤3          ├┤3          ├─░─»\n",
       "               ├───┤│         │ ░ │           ││           ││           │ ░ »\n",
       "       qreg_4: ┤ H ├┤4        ├─░─┤4          ├┤4          ├┤4          ├─░─»\n",
       "               └───┘│         │ ░ │           ││           ││           │ ░ »\n",
       "      ancilla: ─────┤5        ├─░─┤5          ├┤5          ├┤5          ├─░─»\n",
       "               ┌───┐└─────────┘ ░ └─────┬─────┘└─────┬─────┘└─────┬─────┘ ░ »\n",
       "precision_q_0: ┤ H ├────────────────────■────────────┼────────────┼───────░─»\n",
       "               ├───┤                                 │            │       ░ »\n",
       "precision_q_1: ┤ H ├─────────────────────────────────■────────────┼───────░─»\n",
       "               ├───┤                                              │       ░ »\n",
       "precision_q_2: ┤ H ├──────────────────────────────────────────────■───────░─»\n",
       "               └───┘                                                      ░ »\n",
       "       creg: 3/═════════════════════════════════════════════════════════════»\n",
       "                                                                            »\n",
       "«                          \n",
       "«       qreg_0: ───────────\n",
       "«                          \n",
       "«       qreg_1: ───────────\n",
       "«                          \n",
       "«       qreg_2: ───────────\n",
       "«                          \n",
       "«       qreg_3: ───────────\n",
       "«                          \n",
       "«       qreg_4: ───────────\n",
       "«                          \n",
       "«      ancilla: ───────────\n",
       "«               ┌─────────┐\n",
       "«precision_q_0: ┤0        ├\n",
       "«               │         │\n",
       "«precision_q_1: ┤1 QFT_dg ├\n",
       "«               │         │\n",
       "«precision_q_2: ┤2        ├\n",
       "«               └─────────┘\n",
       "«       creg: 3/═══════════\n",
       "«                          </pre>"
      ],
      "text/plain": [
       "               ┌───┐┌─────────┐ ░ ┌───────────┐┌───────────┐┌───────────┐ ░ »\n",
       "       qreg_0: ┤ H ├┤0        ├─░─┤0          ├┤0          ├┤0          ├─░─»\n",
       "               ├───┤│         │ ░ │           ││           ││           │ ░ »\n",
       "       qreg_1: ┤ H ├┤1        ├─░─┤1          ├┤1          ├┤1          ├─░─»\n",
       "               ├───┤│         │ ░ │           ││           ││           │ ░ »\n",
       "       qreg_2: ┤ H ├┤2        ├─░─┤2          ├┤2          ├┤2          ├─░─»\n",
       "               ├───┤│  f_eval │ ░ │  grover^1 ││  grover^2 ││  grover^4 │ ░ »\n",
       "       qreg_3: ┤ H ├┤3        ├─░─┤3          ├┤3          ├┤3          ├─░─»\n",
       "               ├───┤│         │ ░ │           ││           ││           │ ░ »\n",
       "       qreg_4: ┤ H ├┤4        ├─░─┤4          ├┤4          ├┤4          ├─░─»\n",
       "               └───┘│         │ ░ │           ││           ││           │ ░ »\n",
       "      ancilla: ─────┤5        ├─░─┤5          ├┤5          ├┤5          ├─░─»\n",
       "               ┌───┐└─────────┘ ░ └─────┬─────┘└─────┬─────┘└─────┬─────┘ ░ »\n",
       "precision_q_0: ┤ H ├────────────────────■────────────┼────────────┼───────░─»\n",
       "               ├───┤                                 │            │       ░ »\n",
       "precision_q_1: ┤ H ├─────────────────────────────────■────────────┼───────░─»\n",
       "               ├───┤                                              │       ░ »\n",
       "precision_q_2: ┤ H ├──────────────────────────────────────────────■───────░─»\n",
       "               └───┘                                                      ░ »\n",
       "       creg: 3/═════════════════════════════════════════════════════════════»\n",
       "                                                                            »\n",
       "«                          \n",
       "«       qreg_0: ───────────\n",
       "«                          \n",
       "«       qreg_1: ───────────\n",
       "«                          \n",
       "«       qreg_2: ───────────\n",
       "«                          \n",
       "«       qreg_3: ───────────\n",
       "«                          \n",
       "«       qreg_4: ───────────\n",
       "«                          \n",
       "«      ancilla: ───────────\n",
       "«               ┌─────────┐\n",
       "«precision_q_0: ┤0        ├\n",
       "«               │         │\n",
       "«precision_q_1: ┤1 QFT_dg ├\n",
       "«               │         │\n",
       "«precision_q_2: ┤2        ├\n",
       "«               └─────────┘\n",
       "«       creg: 3/═══════════\n",
       "«                          "
      ]
     },
     "execution_count": 130,
     "metadata": {},
     "output_type": "execute_result"
    }
   ],
   "source": [
    "# qc.barrier()\n",
    "qc.h(preg)\n",
    "for q in range(precision):\n",
    "    qc.append(grover(nbit, nmax, 2**q).control(1), [nbit+1+q]+list(range(nbit+1)) )\n",
    "\n",
    "qftgate_inv = QFT(QuantumCircuit(precision, name='QFT')).to_gate().inverse()\n",
    "qc.barrier()\n",
    "qc.append(qftgate_inv, list(range(nbit+1, nbit+1+precision)) ) \n",
    "\n",
    "qc.draw()\n"
   ]
  },
  {
   "cell_type": "code",
   "execution_count": 131,
   "metadata": {},
   "outputs": [],
   "source": [
    "qc.measure(preg, clreg)\n",
    "job = execute(qc, backend= aer, shots= 2000)\n",
    "counts = job.result().get_counts()\n",
    "# counts"
   ]
  },
  {
   "cell_type": "code",
   "execution_count": 132,
   "metadata": {},
   "outputs": [
    {
     "data": {
      "image/png": "[encoded data removed]",
      "text/plain": [
       "<Figure size 504x360 with 1 Axes>"
      ]
     },
     "execution_count": 132,
     "metadata": {},
     "output_type": "execute_result"
    }
   ],
   "source": [
    "plot_histogram(counts)"
   ]
  },
  {
   "cell_type": "code",
   "execution_count": 133,
   "metadata": {},
   "outputs": [
    {
     "name": "stdout",
     "output_type": "stream",
     "text": [
      "p =  0.1464466094067263\n",
      "p =  0.1464466094067262\n",
      "p =  3.749399456654644e-33\n",
      "p =  0.5000000000000001\n",
      "p =  0.4999999999999999\n",
      "p =  0.8535533905932737\n",
      "p =  0.8535533905932737\n",
      "p =  1.0\n"
     ]
    },
    {
     "ename": "IndexError",
     "evalue": "list index out of range",
     "output_type": "error",
     "traceback": [
      "\u001b[0;31m---------------------------------------------------------------------------\u001b[0m",
      "\u001b[0;31mIndexError\u001b[0m                                Traceback (most recent call last)",
      "\u001b[1;32m/home/rajarsi/Documents/GitHub/QulabsWorkspace/QAE_applications.ipynb Cell 21'\u001b[0m in \u001b[0;36m<cell line: 2>\u001b[0;34m()\u001b[0m\n\u001b[1;32m      <a href='vscode-notebook-cell:/home/rajarsi/Documents/GitHub/QulabsWorkspace/QAE_applications.ipynb#ch0000038?line=0'>1</a>\u001b[0m estimate \u001b[39m=\u001b[39m \u001b[39msorted\u001b[39m(\u001b[39mzip\u001b[39m(counts\u001b[39m.\u001b[39mvalues(), counts\u001b[39m.\u001b[39mkeys()), reverse\u001b[39m=\u001b[39m \u001b[39mTrue\u001b[39;00m)\n\u001b[0;32m----> <a href='vscode-notebook-cell:/home/rajarsi/Documents/GitHub/QulabsWorkspace/QAE_applications.ipynb#ch0000038?line=1'>2</a>\u001b[0m \u001b[39mfor\u001b[39;00m p \u001b[39min\u001b[39;00m \u001b[39mrange\u001b[39m(\u001b[39m10\u001b[39m): \u001b[39mprint\u001b[39m(\u001b[39m'\u001b[39m\u001b[39mp = \u001b[39m\u001b[39m'\u001b[39m,(np\u001b[39m.\u001b[39mcos(\u001b[39mint\u001b[39m(estimate[p][\u001b[39m1\u001b[39m], \u001b[39m2\u001b[39m)\u001b[39m*\u001b[39mpi\u001b[39m/\u001b[39m(\u001b[39m2\u001b[39m\u001b[39m*\u001b[39m\u001b[39m*\u001b[39mprecision)))\u001b[39m*\u001b[39m\u001b[39m*\u001b[39m\u001b[39m2\u001b[39m )\n",
      "\u001b[0;31mIndexError\u001b[0m: list index out of range"
     ]
    }
   ],
   "source": [
    "estimate = sorted(zip(counts.values(), counts.keys()), reverse= True)\n",
    "for p in range(10): print('p = ',(np.cos(int(estimate[p][1], 2)*pi/(2**precision)))**2 )"
   ]
  },
  {
   "cell_type": "markdown",
   "metadata": {},
   "source": [
    "## European Put Options"
   ]
  },
  {
   "cell_type": "code",
   "execution_count": null,
   "metadata": {},
   "outputs": [
    {
     "data": {
      "text/html": [
       "<pre style=\"word-wrap: normal;white-space: pre;background: #fff0;line-height: 1.1;font-family: &quot;Courier New&quot;,Courier,monospace\">     ┌───────┐\n",
       "q_0: ┤0      ├\n",
       "     │       │\n",
       "q_1: ┤1 P(X) ├\n",
       "     │       │\n",
       "q_2: ┤2      ├\n",
       "     └───────┘</pre>"
      ],
      "text/plain": [
       "     ┌───────┐\n",
       "q_0: ┤0      ├\n",
       "     │       │\n",
       "q_1: ┤1 P(X) ├\n",
       "     │       │\n",
       "q_2: ┤2      ├\n",
       "     └───────┘"
      ]
     },
     "execution_count": 46,
     "metadata": {},
     "output_type": "execute_result"
    }
   ],
   "source": [
    "# number of qubits to represent the uncertainty\n",
    "num_uncertainty_qubits = 3\n",
    "\n",
    "# parameters for considered random distribution\n",
    "S = 2.0  # initial spot price\n",
    "vol = 0.4  # volatility of 40%\n",
    "r = 0.05  # annual interest rate of 4%\n",
    "T = 40 / 365  # 40 days to maturity\n",
    "\n",
    "# resulting parameters for log-normal distribution\n",
    "mu = (r - 0.5 * vol**2) * T + np.log(S)\n",
    "sigma = vol * np.sqrt(T)\n",
    "mean = np.exp(mu + sigma**2 / 2)\n",
    "variance = (np.exp(sigma**2) - 1) * np.exp(2 * mu + sigma**2)\n",
    "stddev = np.sqrt(variance)\n",
    "\n",
    "# lowest and highest value considered for the spot price; in between, an equidistant discretization is considered.\n",
    "low = np.maximum(0, mean - 3 * stddev)\n",
    "high = mean + 3 * stddev\n",
    "\n",
    "# construct A operator for QAE for the payoff function by\n",
    "# composing the uncertainty model and the objective\n",
    "uncertainty_model = LogNormalDistribution(\n",
    "    num_uncertainty_qubits, mu=mu, sigma=sigma**2, bounds=(low, high)\n",
    ")\n",
    "uncertainty_model.draw()"
   ]
  },
  {
   "cell_type": "code",
   "execution_count": null,
   "metadata": {},
   "outputs": [
    {
     "data": {
      "image/png": "[encoded data removed]",
      "text/plain": [
       "<Figure size 504x360 with 1 Axes>"
      ]
     },
     "execution_count": 35,
     "metadata": {},
     "output_type": "execute_result"
    }
   ],
   "source": [
    "uncertainty_model.measure_all()\n",
    "job = execute(d_nrml, backend= aer)\n",
    "plot_histogram(job.result().get_counts(),sort= 'asc')"
   ]
  },
  {
   "cell_type": "code",
   "execution_count": null,
   "metadata": {},
   "outputs": [
    {
     "data": {
      "image/png": "[encoded data removed]",
      "text/plain": [
       "<Figure size 432x288 with 1 Axes>"
      ]
     },
     "metadata": {
      "needs_background": "light"
     },
     "output_type": "display_data"
    }
   ],
   "source": [
    "# plot probability distribution\n",
    "x = uncertainty_model.values\n",
    "y = uncertainty_model.probabilities\n",
    "plt.bar(x, y, width=0.2)\n",
    "plt.xticks(x, size=15, rotation=90)\n",
    "plt.yticks(size=15)\n",
    "plt.show()\n"
   ]
  },
  {
   "cell_type": "code",
   "execution_count": null,
   "metadata": {},
   "outputs": [],
   "source": [
    "## amplitue function ~ \n",
    "# set the strike price (should be within the low and the high value of the uncertainty)\n",
    "strike_price = 2.126\n",
    "\n",
    "# set the approximation scaling for the payoff function\n",
    "rescaling_factor = 0.25\n",
    "\n",
    "# setup piecewise linear objective fcuntion\n",
    "breakpoints = [low, strike_price]\n",
    "slopes = [-1, 0]\n",
    "offsets = [strike_price - low, 0]\n",
    "f_min = 0\n",
    "f_max = strike_price - low\n",
    "european_put_objective = LinearAmplitudeFunction(\n",
    "    num_uncertainty_qubits,\n",
    "    slopes,\n",
    "    offsets,\n",
    "    domain=(low, high),\n",
    "    image=(f_min, f_max),\n",
    "    breakpoints=breakpoints,\n",
    "    rescaling_factor=rescaling_factor,\n",
    ")\n",
    "\n",
    "# construct A operator for QAE for the payoff function by\n",
    "# composing the uncertainty model and the objective\n",
    "european_put = european_put_objective.compose(uncertainty_model, front=True)"
   ]
  },
  {
   "cell_type": "code",
   "execution_count": null,
   "metadata": {},
   "outputs": [
    {
     "data": {
      "text/html": [
       "<pre style=\"word-wrap: normal;white-space: pre;background: #fff0;line-height: 1.1;font-family: &quot;Courier New&quot;,Courier,monospace\">         ┌────┐\n",
       "q1830_0: ┤0   ├\n",
       "         │    │\n",
       "q1830_1: ┤1   ├\n",
       "         │    │\n",
       "q1830_2: ┤2   ├\n",
       "         │    │\n",
       "  q1831: ┤3 F ├\n",
       "         │    │\n",
       "   a2_0: ┤4   ├\n",
       "         │    │\n",
       "   a2_1: ┤5   ├\n",
       "         │    │\n",
       "   a2_2: ┤6   ├\n",
       "         └────┘</pre>"
      ],
      "text/plain": [
       "         ┌────┐\n",
       "q1830_0: ┤0   ├\n",
       "         │    │\n",
       "q1830_1: ┤1   ├\n",
       "         │    │\n",
       "q1830_2: ┤2   ├\n",
       "         │    │\n",
       "  q1831: ┤3 F ├\n",
       "         │    │\n",
       "   a2_0: ┤4   ├\n",
       "         │    │\n",
       "   a2_1: ┤5   ├\n",
       "         │    │\n",
       "   a2_2: ┤6   ├\n",
       "         └────┘"
      ]
     },
     "execution_count": 48,
     "metadata": {},
     "output_type": "execute_result"
    }
   ],
   "source": [
    "european_put_objective.draw()"
   ]
  },
  {
   "cell_type": "code",
   "execution_count": null,
   "metadata": {},
   "outputs": [
    {
     "data": {
      "text/html": [
       "<pre style=\"word-wrap: normal;white-space: pre;background: #fff0;line-height: 1.1;font-family: &quot;Courier New&quot;,Courier,monospace\">                                                            »\n",
       "q1713_0: ───────────────────────────────────────────────────»\n",
       "                                  ┌────────────────────────┐»\n",
       "q1713_1: ─────────────────────────┤0                       ├»\n",
       "         ┌───────────────────────┐│  multiplex2_reverse_dg │»\n",
       "q1713_2: ┤ multiplex1_reverse_dg ├┤1                       ├»\n",
       "         └───────────────────────┘└────────────────────────┘»\n",
       "  q1714: ───────────────────────────────────────────────────»\n",
       "                                                            »\n",
       "   a0_0: ───────────────────────────────────────────────────»\n",
       "                                                            »\n",
       "   a0_1: ───────────────────────────────────────────────────»\n",
       "                                                            »\n",
       "   a0_2: ───────────────────────────────────────────────────»\n",
       "                                                            »\n",
       "«         ┌────────────────────────┐┌────┐\n",
       "«q1713_0: ┤0                       ├┤0   ├\n",
       "«         │                        ││    │\n",
       "«q1713_1: ┤1 multiplex3_reverse_dg ├┤1   ├\n",
       "«         │                        ││    │\n",
       "«q1713_2: ┤2                       ├┤2   ├\n",
       "«         └────────────────────────┘│    │\n",
       "«  q1714: ──────────────────────────┤3 F ├\n",
       "«                                   │    │\n",
       "«   a0_0: ──────────────────────────┤4   ├\n",
       "«                                   │    │\n",
       "«   a0_1: ──────────────────────────┤5   ├\n",
       "«                                   │    │\n",
       "«   a0_2: ──────────────────────────┤6   ├\n",
       "«                                   └────┘</pre>"
      ],
      "text/plain": [
       "                                                            »\n",
       "q1713_0: ───────────────────────────────────────────────────»\n",
       "                                  ┌────────────────────────┐»\n",
       "q1713_1: ─────────────────────────┤0                       ├»\n",
       "         ┌───────────────────────┐│  multiplex2_reverse_dg │»\n",
       "q1713_2: ┤ multiplex1_reverse_dg ├┤1                       ├»\n",
       "         └───────────────────────┘└────────────────────────┘»\n",
       "  q1714: ───────────────────────────────────────────────────»\n",
       "                                                            »\n",
       "   a0_0: ───────────────────────────────────────────────────»\n",
       "                                                            »\n",
       "   a0_1: ───────────────────────────────────────────────────»\n",
       "                                                            »\n",
       "   a0_2: ───────────────────────────────────────────────────»\n",
       "                                                            »\n",
       "«         ┌────────────────────────┐┌────┐\n",
       "«q1713_0: ┤0                       ├┤0   ├\n",
       "«         │                        ││    │\n",
       "«q1713_1: ┤1 multiplex3_reverse_dg ├┤1   ├\n",
       "«         │                        ││    │\n",
       "«q1713_2: ┤2                       ├┤2   ├\n",
       "«         └────────────────────────┘│    │\n",
       "«  q1714: ──────────────────────────┤3 F ├\n",
       "«                                   │    │\n",
       "«   a0_0: ──────────────────────────┤4   ├\n",
       "«                                   │    │\n",
       "«   a0_1: ──────────────────────────┤5   ├\n",
       "«                                   │    │\n",
       "«   a0_2: ──────────────────────────┤6   ├\n",
       "«                                   └────┘"
      ]
     },
     "execution_count": 32,
     "metadata": {},
     "output_type": "execute_result"
    }
   ],
   "source": [
    "european_put.decompose().draw()"
   ]
  },
  {
   "cell_type": "code",
   "execution_count": null,
   "metadata": {},
   "outputs": [
    {
     "ename": "VisualizationError",
     "evalue": "'Must define target_string when using distance measure.'",
     "output_type": "error",
     "traceback": [
      "\u001b[0;31m---------------------------------------------------------------------------\u001b[0m",
      "\u001b[0;31mVisualizationError\u001b[0m                        Traceback (most recent call last)",
      "\u001b[1;32m/home/rajarsi/Documents/GitHub/QulabsWorkspace/QAE_applications.ipynb Cell 11'\u001b[0m in \u001b[0;36m<cell line: 3>\u001b[0;34m()\u001b[0m\n\u001b[1;32m      <a href='vscode-notebook-cell:/home/rajarsi/Documents/GitHub/QulabsWorkspace/QAE_applications.ipynb#ch0000011?line=0'>1</a>\u001b[0m european_put\u001b[39m.\u001b[39mmeasure_all()\n\u001b[1;32m      <a href='vscode-notebook-cell:/home/rajarsi/Documents/GitHub/QulabsWorkspace/QAE_applications.ipynb#ch0000011?line=1'>2</a>\u001b[0m job \u001b[39m=\u001b[39m execute(d_nrml, backend\u001b[39m=\u001b[39m aer)\n\u001b[0;32m----> <a href='vscode-notebook-cell:/home/rajarsi/Documents/GitHub/QulabsWorkspace/QAE_applications.ipynb#ch0000011?line=2'>3</a>\u001b[0m plot_histogram(job\u001b[39m.\u001b[39;49mresult()\u001b[39m.\u001b[39;49mget_counts() , sort\u001b[39m=\u001b[39;49m \u001b[39m'\u001b[39;49m\u001b[39mhamming\u001b[39;49m\u001b[39m'\u001b[39;49m)\n",
      "File \u001b[0;32m~/.local/lib/python3.10/site-packages/qiskit/utils/lazy_tester.py:165\u001b[0m, in \u001b[0;36mLazyDependencyManager.require_in_call.<locals>.out\u001b[0;34m(*args, **kwargs)\u001b[0m\n\u001b[1;32m    162\u001b[0m \u001b[39m@functools\u001b[39m\u001b[39m.\u001b[39mwraps(function)\n\u001b[1;32m    163\u001b[0m \u001b[39mdef\u001b[39;00m \u001b[39mout\u001b[39m(\u001b[39m*\u001b[39margs, \u001b[39m*\u001b[39m\u001b[39m*\u001b[39mkwargs):\n\u001b[1;32m    164\u001b[0m     \u001b[39mself\u001b[39m\u001b[39m.\u001b[39mrequire_now(feature)\n\u001b[0;32m--> 165\u001b[0m     \u001b[39mreturn\u001b[39;00m function(\u001b[39m*\u001b[39;49margs, \u001b[39m*\u001b[39;49m\u001b[39m*\u001b[39;49mkwargs)\n",
      "File \u001b[0;32m~/.local/lib/python3.10/site-packages/qiskit/visualization/counts_visualization.py:122\u001b[0m, in \u001b[0;36mplot_histogram\u001b[0;34m(data, figsize, color, number_to_keep, sort, target_string, legend, bar_labels, title, ax, filename)\u001b[0m\n\u001b[1;32m    120\u001b[0m \u001b[39mif\u001b[39;00m sort \u001b[39min\u001b[39;00m DIST_MEAS \u001b[39mand\u001b[39;00m target_string \u001b[39mis\u001b[39;00m \u001b[39mNone\u001b[39;00m:\n\u001b[1;32m    121\u001b[0m     err_msg \u001b[39m=\u001b[39m \u001b[39m\"\u001b[39m\u001b[39mMust define target_string when using distance measure.\u001b[39m\u001b[39m\"\u001b[39m\n\u001b[0;32m--> 122\u001b[0m     \u001b[39mraise\u001b[39;00m VisualizationError(err_msg)\n\u001b[1;32m    124\u001b[0m \u001b[39mif\u001b[39;00m \u001b[39misinstance\u001b[39m(data, \u001b[39mdict\u001b[39m):\n\u001b[1;32m    125\u001b[0m     data \u001b[39m=\u001b[39m [data]\n",
      "\u001b[0;31mVisualizationError\u001b[0m: 'Must define target_string when using distance measure.'"
     ]
    }
   ],
   "source": [
    "european_put.measure_all()\n",
    "job = execute(d_nrml, backend= aer)\n",
    "plot_histogram(job.result().get_counts())"
   ]
  },
  {
   "cell_type": "code",
   "execution_count": null,
   "metadata": {},
   "outputs": [],
   "source": []
  }
 ],
 "metadata": {
  "kernelspec": {
   "display_name": "Python 3.10.4 64-bit",
   "language": "python",
   "name": "python3"
  },
  "language_info": {
   "codemirror_mode": {
    "name": "ipython",
    "version": 3
   },
   "file_extension": ".py",
   "mimetype": "text/x-python",
   "name": "python",
   "nbconvert_exporter": "python",
   "pygments_lexer": "ipython3",
   "version": "3.10.4"
  },
  "orig_nbformat": 4,
  "vscode": {
   "interpreter": {
    "hash": "31f2aee4e71d21fbe5cf8b01ff0e069b9275f58929596ceb00d14d90e3e16cd6"
   }
  }
 },
 "nbformat": 4,
 "nbformat_minor": 2
}
