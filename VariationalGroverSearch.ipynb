{
 "cells": [
  {
   "cell_type": "code",
   "execution_count": 12,
   "metadata": {},
   "outputs": [],
   "source": [
    "## imports\n",
    "from qiskit import *\n",
    "from qiskit.algorithms import *\n",
    "from qiskit import QuantumRegister, ClassicalRegister, QuantumCircuit\n",
    "from qiskit import quantum_info, IBMQ, Aer\n",
    "from qiskit import BasicAer\n",
    "from qiskit.utils import QuantumInstance\n",
    "from qiskit.extensions import HamiltonianGate\n",
    "# backend = BasicAer.get_backend(\"statevector_simulator\")\n",
    "# quantum_instance = QuantumInstance(backend)\n",
    "from qiskit.algorithms import AmplitudeEstimation\n",
    "from qiskit.quantum_info import Statevector, Operator\n",
    "from qiskit.opflow import CircuitStateFn\n",
    "#from qiskit.ignis.verification.tomography import state_tomography_circuits, StateTomographyFitter\n",
    "from qiskit.visualization import plot_histogram, plot_state_qsphere, plot_bloch_multivector, plot_bloch_vector\n",
    "import numpy as np\n",
    "import scipy \n",
    "from numpy import pi\n",
    "import seaborn as sns\n",
    "from IPython.display import Image\n",
    "import matplotlib.pyplot as plt"
   ]
  },
  {
   "cell_type": "code",
   "execution_count": 13,
   "metadata": {},
   "outputs": [],
   "source": [
    "## import optimisers\n",
    "from qiskit.algorithms.optimizers import COBYLA\n",
    "from scipy.optimize import minimize"
   ]
  },
  {
   "cell_type": "code",
   "execution_count": 14,
   "metadata": {},
   "outputs": [],
   "source": [
    "# setup simulator using IBM_id\n",
    "# IBMQ.save_account(\"1c62e8a0d2b058d0e797db9c811bc34582df5553e25812301cd1518662c0ab68d2378ac6c197b65f8be944d04b7e7439f034e3926a44fa8088538b3d13782c1a\", overwrite= True)\n",
    "provider = IBMQ.load_account()\n",
    "IBMQ.get_provider(hub='ibm-q-education', group='iit-madras-1', project='quantum-computin')\n",
    "# setup required backends \n",
    "lima = provider.get_backend('ibmq_lima')\n",
    "manila = provider.get_backend('ibmq_manila')\n",
    "qsm = Aer.get_backend('qasm_simulator')\n",
    "stv = Aer.get_backend('statevector_simulator')\n",
    "aer = Aer.get_backend('aer_simulator')\n"
   ]
  },
  {
   "cell_type": "code",
   "execution_count": 15,
   "metadata": {},
   "outputs": [],
   "source": [
    "## sub-routines for Grover Search ~\n",
    "def to_oracle(pattern, name= 'oracle'):\n",
    "    \"\"\" Convert a given pattern to an oracle\n",
    "        input: pattern= a numpy vector with binarry entries \n",
    "        output: oracle.Gate    \"\"\"\n",
    "\n",
    "    l = len(pattern)\n",
    "    qr = QuantumRegister(l, name='reg')\n",
    "    a = AncillaRegister(1, name='ancilla')\n",
    "    qc = QuantumCircuit(qr, a, name= name+str(pattern))\n",
    "    for q in range(l):\n",
    "        if(pattern[q]=='0'): qc.x(qr[q])\n",
    "    qc.x(a)\n",
    "    qc.h(a)\n",
    "    qc.mcx(qr, a)\n",
    "    qc.h(a)\n",
    "    qc.x(a)\n",
    "    for q in range(l):\n",
    "        if(pattern[q]=='0'): qc.x(qr[q])\n",
    "    #qc.barrier()\n",
    "    return qc.to_gate()\n",
    "\n",
    "def diffuser(l):\n",
    "    \"\"\" Gnerate the Diffuser operator for the case where the initial state  is \n",
    "        the equal superposition state of all basis vectors \n",
    "        input: l= no. of qubits\n",
    "        output: diffuser.Gate    \"\"\"\n",
    "    qr = QuantumRegister(l, name='reg')\n",
    "    a = AncillaRegister(1, name='ancilla')\n",
    "    circuit = QuantumCircuit(qr, a, name= 'Diff.')\n",
    "    \n",
    "    circuit.h(qr)\n",
    "    circuit.x(qr)\n",
    "    \n",
    "    circuit.x(a)\n",
    "    circuit.h(a)\n",
    "    circuit.mcx(qr ,a)\n",
    "    circuit.h(a)\n",
    "    circuit.x(a)\n",
    "\n",
    "    circuit.x(qr)\n",
    "    circuit.h(qr)\n",
    "          \n",
    "    return circuit.to_gate()\n",
    "\n",
    "def grover_iterate(qc, oracles, diffuser, qreg_u, ancilla, steps):\n",
    "    \"\"\" Run full Grover iteration for given number of steps.\n",
    "        input:\n",
    "        qc: QuantumCiruit to append to \n",
    "        oracles: a list of oracles generated from 'to_oracle()' function \n",
    "        diffuser: a diffuser from 'diffuser()' function \n",
    "        steps: no. of grover iterates\"\"\"\n",
    "    for step in range(steps):\n",
    "        for oracle in oracles:\n",
    "            qc.append(oracle, list(range(qc.num_qubits)) )\n",
    "        qc.append(diffuser, list([q for q in qreg_u])+ list(ancilla) )\n",
    "        # qc.barrier()\n",
    "    return qc\n",
    "\n",
    "def run(patterns, grover_steps ):\n",
    "    \n",
    "    dim = len(patterns[0])\n",
    "    # create oracles ~\\\n",
    "    oracles = []\n",
    "    for pattern in patterns : oracles.append( to_oracle(pattern)) \n",
    "    \n",
    "    # create diffuser ~\\\n",
    "    diff = diffuser(dim)\n",
    "    # create circuit ~\\\n",
    "    \n",
    "    qreg = QuantumRegister(dim, name= 'init')\n",
    "    ancilla = AncillaRegister(1, name='ancilla')\n",
    "    creg = ClassicalRegister(dim)\n",
    "    qc = QuantumCircuit(qreg, creg, ancilla)\n",
    "    qc.h(qreg)\n",
    "    # run grover update steps ~\\\n",
    "    grover_iterate(qc, oracles, diff, qreg, ancilla,grover_steps)\n",
    "    qc.measure(qreg, creg)\n",
    "    \n",
    "    job = execute(qc, backend= aer, shots= 1024)\n",
    "    plot_histogram(job.result().get_counts())\n",
    "    \n",
    "    return qc, job\n",
    "\n"
   ]
  },
  {
   "cell_type": "markdown",
   "metadata": {},
   "source": [
    "## Variational Grover Search \n",
    "Here my aim is to train a variational circuit to reproduce the action of a Grover operator following the research article in https://arxiv.org/pdf/1805.09337.pdf\n"
   ]
  },
  {
   "cell_type": "markdown",
   "metadata": {},
   "source": [
    "The operation here proceeds by generating a variational equivalent of the operators used in generalised grover search algorithm.\n",
    "\n",
    "Say $\\{\\ket{\\phi}\\}$ is the set of 'good' states and $\\ket{\\psi_0}$ is the intial state that we begin with, then we define the corrsponding projectors as $P_{\\phi}$ as the projector on the 'good' states and $P_{\\psi_0}$ as the projector on the initial state.\n",
    "\n",
    "The algorithm proceeds by repeatedly applying the follwoing unitary operators $\\ket{\\psi_0}$ \n",
    "$$  U_i(\\alpha) = e^{i\\alpha P_{\\psi_0}}    $$\n",
    "$$  U_p(\\beta) = e^{i\\beta P_{\\phi} }       $$\n",
    "in succesion on the initial state $\\ket{\\psi_0}$ to obtain the variational 'ansatz' state \n",
    "<!-- $$\\ket{\\psi_{(\\vec{\\alpha}, \\vec{\\beta})}} = U_i(\\alpha_p)U_p(\\beta_p)  . .U_i(\\aplha_2)U_p(\\beta_2)U_i(\\aplha_1)U_p(\\beta_1) \\ket{\\psi_0} $$ -->\n"
   ]
  },
  {
   "cell_type": "markdown",
   "metadata": {},
   "source": [
    "Once the variational state $\\ket{\\psi_{\\vec{\\alpha}, \\vec{\\beta}}}$ is obtained, we variationally update the parameters $\\vec{\\alpha} = {\\alpha_1, \\alpha_2,. . \\alpha_p}$ and $\\vec{beta} = {\\beta_1, \\beta_2, . . \\beta_p}$, by minimizing the projection of the ansatz state on the orthogonal component of $P_{\\phi}$ i.e \n",
    "\n",
    "$$  \\vec{\\alpha}, \\vec{\\beta} = min_{\\alpha, \\beta} \\bra{\\psi_{\\vec{\\alpha}, \\vec{\\beta}}} \\mathbb{I} - P_{\\phi} \\ket{\\psi_{\\vec{\\alpha}, \\vec{\\beta}}}$$"
   ]
  },
  {
   "cell_type": "code",
   "execution_count": 16,
   "metadata": {},
   "outputs": [],
   "source": [
    "# # projector_init =  Statevector.from_label('+'*(stvc.num_qubits  )).to_operator()\n",
    "# # # is_hermitian_matrix(projector_init)\n",
    "# # projector_init.conjugate() == projector_init\n",
    "# # HamiltonianGate(projector_init, -1)\n",
    "# patterns = [ '000', '111']\n",
    "# projector_init, projector_good = var_grover_projectors(patterns, init= 'all+')\n",
    "# # unitary_good = [ HamiltonianGate(projector_good, -1*alpha, label='U_good: '+ str(alpha)) for alpha in alphas ]\n",
    "# # unitary_init = [ HamiltonianGate(projector_init, -1*beta, label= 'U_init: '+ str(beta)) for beta in betas]"
   ]
  },
  {
   "cell_type": "code",
   "execution_count": 17,
   "metadata": {},
   "outputs": [],
   "source": [
    "def var_grover_projectors(patterns, init = 'all+', init_state_prep = None):\n",
    "    \"\"\" Returns projectors on the good states and the initial state\n",
    "         Args: \n",
    "            patterns= list of states in string form . Eg. ['000', '101']\n",
    "            init= iniial state\n",
    "         Returns: projectors on initial states and good states\"\"\"\n",
    "\n",
    "    states_good = []\n",
    "    projector_init = 0\n",
    "    for pattern in patterns:\n",
    "        stvc = Statevector.from_label(pattern)\n",
    "        states_good.append(stvc)\n",
    "    projector_good = states_good[0].to_operator()\n",
    "    for i in range(1,len(states_good)):  projector_good = projector_good + states_good[i].to_operator()\n",
    "    if init== 'all+': \n",
    "        projector_init =  Statevector.from_label('+'*(stvc.num_qubits  )).to_operator()\n",
    "    else:\n",
    "        projector_init = Statevector.from_instruction(init_state_prep).to_operator()\n",
    "        \n",
    "    return projector_init, projector_good\n"
   ]
  },
  {
   "cell_type": "code",
   "execution_count": 18,
   "metadata": {},
   "outputs": [],
   "source": [
    "def var_grover_circuit(patterns, params,  init= 'all+', init_state_prep = None, method= 'stv', shots= 1024):\n",
    "    \"\"\" Returns variational grover circuit \n",
    "        Args:\n",
    "            patterns= list of states in string form . Eg. ['000', '101']\n",
    "            init= iniial state\n",
    "            init_state_prep = circuit to prepare the initial state\n",
    "    \"\"\"\n",
    "    p = len(params)//2\n",
    "    alphas = params[:p]\n",
    "    betas = params[p:]\n",
    "    \n",
    "    if len(alphas) != len(betas):\n",
    "        raise ValueError(\"alpha beta has incompatible length\")\n",
    "\n",
    "    nq = len(patterns[0])\n",
    "    qreg = QuantumRegister(nq , name= 'qreg')\n",
    "    # creg = ClassicalRegister(nq , name= 'creg')\n",
    "    # qc = QuantumCircuit(qreg, creg)\n",
    "    qc =QuantumCircuit(qreg)\n",
    "    \n",
    "    if init== 'all+': qc.h(qreg)\n",
    "    else: qc.compose(init_state_prep)\n",
    "    \n",
    "    projector_init, projector_good = var_grover_projectors(patterns, init= init, init_state_prep= init_state_prep)\n",
    "    unitary_good = [ HamiltonianGate(projector_good, -1*alpha, label='U_good: '+ str(alpha)) for alpha in alphas ]\n",
    "    unitary_init = [ HamiltonianGate(projector_init, -1*beta, label= 'U_init: '+ str(beta)) for beta in betas]\n",
    "\n",
    "    for p in range(len(alphas)):\n",
    "        qc = qc.compose(unitary_good[p])\n",
    "        qc = qc.compose(unitary_init[p])\n",
    "\n",
    "    return qc\n"
   ]
  },
  {
   "cell_type": "code",
   "execution_count": 19,
   "metadata": {},
   "outputs": [],
   "source": [
    "def var_grover_get_expectation( params, patterns ,method= 'stv', shots= 1024):\n",
    "    \"\"\" Returns the expectation value of the orthogonal component of the projector on good states for a give ansatz state\n",
    "        Args:\n",
    "            params= Values of variational parameters\n",
    "            patterns= list of states in string form . Eg. ['000', '101']\n",
    "            method= Method of obtaining the expectation (statevector simulation/ shot-based measurement)\n",
    "            \"\"\"\n",
    "    p = len(params)//2\n",
    "    alphas = params[:p]\n",
    "    betas = params[p:]\n",
    "    \n",
    "   \n",
    "    if len(alphas) != len(betas):\n",
    "        raise ValueError(\"alpha beta has incompatible length\")\n",
    "    \n",
    "    projector_init, projector_good = var_grover_projectors(patterns)\n",
    "    qc = var_grover_circuit(patterns, params)\n",
    "    nq = qc.num_qubits\n",
    "\n",
    "    if method == 'stv' :\n",
    "        job = execute(qc, backend= stv, shots= shots)\n",
    "        state = job.result().get_statevector()\n",
    "        # state = CircuitStateFn(qc)\n",
    "        op = Operator(np.identity(2**nq)) - projector_good\n",
    "        exp_op = state.expectation_value(op)\n",
    "    ## todo: add genralisation for method= 'counts' for counts based calculation of 'exp_op'\n",
    "    # if method == 'counts' :\n",
    "    #     job.execute(qc, backend= qsm, shots= shots)\n",
    "\n",
    "    \n",
    "    return exp_op\n"
   ]
  },
  {
   "cell_type": "code",
   "execution_count": 39,
   "metadata": {},
   "outputs": [],
   "source": [
    "global patterns\n",
    "patterns = [ '00000', '11011','11111']\n",
    "# alphas, betas = [pi], [pi]\n",
    "# params = alphas + betas\n",
    "\n",
    "steps = 5 \n",
    "params = np.random.rand(2*steps)"
   ]
  },
  {
   "cell_type": "code",
   "execution_count": 36,
   "metadata": {},
   "outputs": [],
   "source": [
    "## trial ~ variational grover operator\n",
    "qc = var_grover_circuit(patterns, params )\n",
    "# qc.draw()"
   ]
  },
  {
   "cell_type": "code",
   "execution_count": 22,
   "metadata": {},
   "outputs": [
    {
     "name": "stderr",
     "output_type": "stream",
     "text": [
      "/home/rajarsi/.local/lib/python3.10/site-packages/scipy/optimize/_cobyla_py.py:273: ComplexWarning: Casting complex values to real discards the imaginary part\n",
      "  xopt, info = cobyla.minimize(calcfc, m=m, x=np.copy(x0), rhobeg=rhobeg,\n"
     ]
    }
   ],
   "source": [
    "## optimization subroutine : scipy\n",
    "# steps = 5\n",
    "result = minimize( var_grover_get_expectation, np.random.rand(2*steps) , (patterns ) , method= 'COBYLA' )"
   ]
  },
  {
   "cell_type": "code",
   "execution_count": 40,
   "metadata": {},
   "outputs": [],
   "source": [
    "## trial ~ variational grover operator\n",
    "qc = var_grover_circuit(patterns, result.x )\n",
    "# qc.draw()"
   ]
  },
  {
   "cell_type": "code",
   "execution_count": 41,
   "metadata": {},
   "outputs": [
    {
     "data": {
      "image/png": "[encoded data removed]",
      "text/plain": [
       "<Figure size 504x360 with 1 Axes>"
      ]
     },
     "execution_count": 41,
     "metadata": {},
     "output_type": "execute_result"
    }
   ],
   "source": [
    "qc.measure_all()\n",
    "counts = execute(qc, backend= qsm, shots= 1024).result().get_counts()\n",
    "plot_histogram(counts)\n",
    "# counts"
   ]
  },
  {
   "cell_type": "code",
   "execution_count": 25,
   "metadata": {},
   "outputs": [],
   "source": [
    "# patterns = [ '000', '111']\n",
    "# # states_good = []\n",
    "# # for pattern in patterns:\n",
    "# #     stvc = Statevector.from_label(pattern)\n",
    "# #     states_good.append(stvc)\n",
    "# # projector_good = states_good[0].to_operator()\n",
    "# # for i in range(1,len(states_good)):  projector_good = projector_good + states_good[i].to_operator()\n",
    "# # alpha, beta = 1, 1\n",
    "# # unitary_good = HamiltonianGate(projector_good, -1*alpha, label='U_good')\n",
    "# # unitary_init = HamiltonianGate(projector_init, -1*beta, label= 'U_init')\n",
    "\n",
    "# alphas, betas = [pi], [pi]\n",
    "# params = alphas + betas\n",
    "# # nq = len(patterns[0])\n",
    "# # qreg = QuantumRegister(len(patterns[0]), name= 'qreg')\n",
    "# # creg = ClassicalRegister(len(patterns[0]), name= 'creg')\n",
    "# # qc = QuantumCircuit(qreg, creg)\n",
    "# # qc.h(qreg)\n",
    "\n",
    "# # # if init== 'all+': qc.h(qreg)\n",
    "# # ## todo: add generalizability to prepare init state arbitraliy\n",
    "\n",
    "# # projector_init, projector_good = var_grover_projectors(patterns)\n",
    "# # unitary_good = [ HamiltonianGate(projector_good, -1*alpha, label='U_good: '+ str(alpha)) for alpha in alphas ]\n",
    "# # unitary_init = [ HamiltonianGate(projector_init, -1*beta, label= 'U_init: '+ str(beta)) for beta in betas]\n",
    "\n",
    "# # for p in range(len(alphas)):\n",
    "# #     qc = qc.compose(unitary_good[p])\n",
    "# #     qc = qc.compose(unitary_init[p])\n",
    "# var_grover_get_expectation(params, patterns)\n",
    "\n",
    "\n",
    "# # qc.draw()\n"
   ]
  },
  {
   "cell_type": "markdown",
   "metadata": {},
   "source": [
    "### Remarks\n",
    "1. For using single iterate of variational unitary evolution operators the paramters settle on $\\pi$ as required.\n",
    "2. One significant advantgage of the variational method is, that for a fixed number of 'steps' we only need to train the model once with any arbitrary choice of 'good' states. The variational operators retain their efficeincy in retrieval of states, independent of the 'good' states choosen or even the dimensionality of the 'good' states."
   ]
  },
  {
   "cell_type": "markdown",
   "metadata": {},
   "source": [
    "### scratch space"
   ]
  },
  {
   "cell_type": "markdown",
   "metadata": {},
   "source": []
  },
  {
   "cell_type": "code",
   "execution_count": null,
   "metadata": {},
   "outputs": [],
   "source": []
  },
  {
   "cell_type": "code",
   "execution_count": null,
   "metadata": {},
   "outputs": [],
   "source": []
  },
  {
   "cell_type": "code",
   "execution_count": 26,
   "metadata": {},
   "outputs": [
    {
     "ename": "NameError",
     "evalue": "name 'projector_good' is not defined",
     "output_type": "error",
     "traceback": [
      "\u001b[0;31m---------------------------------------------------------------------------\u001b[0m",
      "\u001b[0;31mNameError\u001b[0m                                 Traceback (most recent call last)",
      "\u001b[1;32m/home/rajarsi/Documents/GitHub/QulabsWorkspace/VariationalGroverSearch.ipynb Cell 22'\u001b[0m in \u001b[0;36m<cell line: 1>\u001b[0;34m()\u001b[0m\n\u001b[0;32m----> <a href='vscode-notebook-cell:/home/rajarsi/Documents/GitHub/QulabsWorkspace/VariationalGroverSearch.ipynb#ch0000019?line=0'>1</a>\u001b[0m unitary_good \u001b[39m=\u001b[39m HamiltonianGate(projector_good, \u001b[39m-\u001b[39m\u001b[39m1\u001b[39m\u001b[39m*\u001b[39malpha, label\u001b[39m=\u001b[39m\u001b[39m'\u001b[39m\u001b[39mU_good\u001b[39m\u001b[39m'\u001b[39m)\n\u001b[1;32m      <a href='vscode-notebook-cell:/home/rajarsi/Documents/GitHub/QulabsWorkspace/VariationalGroverSearch.ipynb#ch0000019?line=1'>2</a>\u001b[0m unitary_init \u001b[39m=\u001b[39m HamiltonianGate(projector_init, \u001b[39m-\u001b[39m\u001b[39m1\u001b[39m\u001b[39m*\u001b[39mbeta, label\u001b[39m=\u001b[39m \u001b[39m'\u001b[39m\u001b[39mU_init\u001b[39m\u001b[39m'\u001b[39m)\n",
      "\u001b[0;31mNameError\u001b[0m: name 'projector_good' is not defined"
     ]
    }
   ],
   "source": [
    "unitary_good = HamiltonianGate(projector_good, -1*alpha, label='U_good')\n",
    "unitary_init = HamiltonianGate(projector_init, -1*beta, label= 'U_init')"
   ]
  },
  {
   "cell_type": "code",
   "execution_count": null,
   "metadata": {},
   "outputs": [],
   "source": [
    "p = -1*np.identity(4) + np.sin(pi/4)*np.identity(4) \n",
    "ui = HamiltonianGate(p, 1, label= '1')\n"
   ]
  },
  {
   "cell_type": "code",
   "execution_count": null,
   "metadata": {},
   "outputs": [
    {
     "data": {
      "text/html": [
       "<pre style=\"word-wrap: normal;white-space: pre;background: #fff0;line-height: 1.1;font-family: &quot;Courier New&quot;,Courier,monospace\">     ┌───┐┌────┐\n",
       "q_0: ┤ H ├┤0   ├\n",
       "     └───┘│  1 │\n",
       "q_1: ─────┤1   ├\n",
       "          └────┘</pre>"
      ],
      "text/plain": [
       "     ┌───┐┌────┐\n",
       "q_0: ┤ H ├┤0   ├\n",
       "     └───┘│  1 │\n",
       "q_1: ─────┤1   ├\n",
       "          └────┘"
      ]
     },
     "execution_count": 22,
     "metadata": {},
     "output_type": "execute_result"
    }
   ],
   "source": [
    "qc = QuantumCircuit(2)\n",
    "qc.h(0)\n",
    "qc.append(ui, [0,1])\n",
    "\n",
    "qc.draw()"
   ]
  },
  {
   "cell_type": "code",
   "execution_count": null,
   "metadata": {},
   "outputs": [
    {
     "data": {
      "image/png": "[encoded data removed]",
      "text/plain": [
       "<Figure size 504x504 with 2 Axes>"
      ]
     },
     "execution_count": 19,
     "metadata": {},
     "output_type": "execute_result"
    }
   ],
   "source": [
    "plot_state_qsphere(qc)"
   ]
  },
  {
   "cell_type": "code",
   "execution_count": null,
   "metadata": {},
   "outputs": [],
   "source": []
  }
 ],
 "metadata": {
  "kernelspec": {
   "display_name": "Python 3.10.4 64-bit",
   "language": "python",
   "name": "python3"
  },
  "language_info": {
   "codemirror_mode": {
    "name": "ipython",
    "version": 3
   },
   "file_extension": ".py",
   "mimetype": "text/x-python",
   "name": "python",
   "nbconvert_exporter": "python",
   "pygments_lexer": "ipython3",
   "version": "3.10.4"
  },
  "orig_nbformat": 4,
  "vscode": {
   "interpreter": {
    "hash": "31f2aee4e71d21fbe5cf8b01ff0e069b9275f58929596ceb00d14d90e3e16cd6"
   }
  }
 },
 "nbformat": 4,
 "nbformat_minor": 2
}
