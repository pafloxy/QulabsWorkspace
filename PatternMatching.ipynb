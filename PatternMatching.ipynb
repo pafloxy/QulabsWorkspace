{
 "cells": [
  {
   "cell_type": "code",
   "execution_count": 1,
   "metadata": {
    "ExecuteTime": {
     "end_time": "2022-03-06T05:34:04.814662Z",
     "start_time": "2022-03-06T05:33:50.169172Z"
    }
   },
   "outputs": [],
   "source": [
    "## imports\n",
    "from qiskit import *\n",
    "from qiskit import QuantumRegister, ClassicalRegister, QuantumCircuit\n",
    "from qiskit import quantum_info, IBMQ, Aer\n",
    "#from qiskit.ignis.verification.tomography import state_tomography_circuits, StateTomographyFitter\n",
    "from qiskit.visualization import plot_histogram, plot_state_qsphere, plot_bloch_multivector, plot_bloch_vector\n",
    "import numpy as np\n",
    "import seaborn as sns\n",
    "from IPython.display import Image\n",
    "import matplotlib.pyplot as plt"
   ]
  },
  {
   "cell_type": "code",
   "execution_count": 4,
   "metadata": {},
   "outputs": [
    {
     "data": {
      "text/html": [
       "<h3>Version Information</h3><table><tr><th>Qiskit Software</th><th>Version</th></tr><tr><td><code>qiskit-terra</code></td><td>0.19.2</td></tr><tr><td><code>qiskit-aer</code></td><td>0.10.3</td></tr><tr><td><code>qiskit-ignis</code></td><td>0.7.0</td></tr><tr><td><code>qiskit-ibmq-provider</code></td><td>0.18.3</td></tr><tr><td><code>qiskit</code></td><td>0.34.2</td></tr><tr><th>System information</th></tr><tr><td>Python version</td><td>3.8.10</td></tr><tr><td>Python compiler</td><td>GCC 9.4.0</td></tr><tr><td>Python build</td><td>default, Mar 15 2022 12:22:08</td></tr><tr><td>OS</td><td>Linux</td></tr><tr><td>CPUs</td><td>4</td></tr><tr><td>Memory (Gb)</td><td>7.631717681884766</td></tr><tr><td colspan='2'>Tue Jun 07 19:59:06 2022 IST</td></tr></table>"
      ],
      "text/plain": [
       "<IPython.core.display.HTML object>"
      ]
     },
     "metadata": {},
     "output_type": "display_data"
    }
   ],
   "source": [
    "import qiskit.tools.jupyter\n",
    "%qiskit_version_table \n",
    "# %qiskit_copyright"
   ]
  },
  {
   "cell_type": "code",
   "execution_count": 6,
   "metadata": {
    "ExecuteTime": {
     "end_time": "2022-03-06T05:34:18.746532Z",
     "start_time": "2022-03-06T05:34:05.720669Z"
    }
   },
   "outputs": [],
   "source": [
    "## setup simulator using IBM_id\n",
    "#IBMQ.save_account(\"1c62e8a0d2b058d0e797db9c811bc34582df5553e25812301cd1518662c0ab68d2378ac6c197b65f8be944d04b7e7439f034e3926a44fa8088538b3d13782c1a\", overwrite= True)\n",
    "# provider = IBMQ.load_account()\n",
    "# IBMQ.get_provider(hub='ibm-q-education', group='iit-madras-1', project='quantum-computin')\n",
    "## setup required backends \n",
    "# lima = provider.get_backend('ibmq_lima')\n",
    "# manila = provider.get_backend('ibmq_manila')\n",
    "# qsm_simulator = Aer.get_backend('qasm_simulator')\n",
    "# stv_simulator = Aer.get_backend('statevector_simulator')\n",
    "aer = Aer.get_backend('aer_simulator')"
   ]
  },
  {
   "cell_type": "code",
   "execution_count": 17,
   "metadata": {},
   "outputs": [],
   "source": [
    "def to_oracle(pattern, name= 'oracle'):\n",
    "    \"\"\" convert a given pattern to an oracle\n",
    "    pattern~ a numpy vector with binarry entries \"\"\"\n",
    "    l = len(pattern)\n",
    "    qr = QuantumRegister(l, name='reg')\n",
    "    a = AncillaRegister(1, name='ancilla')\n",
    "    qc = QuantumCircuit(qr, a, name= name+str(pattern))\n",
    "    for q in range(l):\n",
    "        if(pattern[q]==0): qc.x(qr[q])\n",
    "    qc.mcx(qr, a)\n",
    "    for q in range(l):\n",
    "        if(pattern[q]==0): qc.x(qr[q])\n",
    "    #qc.barrier()\n",
    "    return qc.to_gate()\n",
    "\n",
    "def diffuser(l):\n",
    "    qr = QuantumRegister(l, name='reg')\n",
    "    a = AncillaRegister(1, name='ancilla')\n",
    "    circuit = QuantumCircuit(qr, a, name= 'Diff.')\n",
    "    \n",
    "    circuit.h(qr)\n",
    "    circuit.x(qr)\n",
    "    \n",
    "    circuit.x(a)\n",
    "    circuit.h(a)\n",
    "    circuit.mcx(qr ,a)\n",
    "    circuit.h(a)\n",
    "    circuit.x(a)\n",
    "\n",
    "    circuit.x(qr)\n",
    "    circuit.h(qr)\n",
    "   \n",
    "\n",
    "\n",
    "        \n",
    "    return circuit.to_gate()\n",
    "\n",
    "def grover_iterate(qc, oracles, diffuser, qreg_u, ancilla, steps):\n",
    "    for step in range(steps):\n",
    "        for oracle in oracles:\n",
    "            qc.append(oracle, list(range(qc.num_qubits)) )\n",
    "        qc.append(diffuser, list([q for q in qreg_u])+ list(ancilla) )\n",
    "        qc.barrier()\n",
    "    return qc\n"
   ]
  },
  {
   "cell_type": "code",
   "execution_count": 8,
   "metadata": {},
   "outputs": [],
   "source": [
    "def run(given_state, patterns, grover_steps):\n",
    "    dim_g = len(given_state)\n",
    "    dim = len(patterns[0])\n",
    "    dim_u = dim - dim_g\n",
    "\n",
    "    # create oracles ~\\\n",
    "    oracles = []\n",
    "    for pattern in patterns : oracles.append( to_oracle(pattern)) \n",
    "    # create diffuser ~\\\n",
    "    diff = diffuser(dim_u)\n",
    "    # create circuit ~\\\n",
    "    qreg_g = QuantumRegister(dim_g, name= 'init')\n",
    "    qreg_u = QuantumRegister(dim_u, name= 'unk')\n",
    "    ancilla = AncillaRegister(1, name='ancilla')\n",
    "    creg_g = ClassicalRegister(dim_g)\n",
    "    creg_u = ClassicalRegister(dim_u)\n",
    "    qc = QuantumCircuit(qreg_g, qreg_u, creg_g, creg_u, ancilla)\n",
    "    # initiate 'init' register to 'given_state' ~\\\n",
    "    for q in range(len(qreg_g)):\n",
    "        if(given_state[q] == 1): qc.x(qreg_g[q])\n",
    "    # initiate 'unk' register to equal superpostion ~\\\n",
    "    qc.h(qreg_u)\n",
    "    # run grover update steps ~\\\n",
    "    grover_iterate(qc, oracles, diff, qreg_u, ancilla,grover_steps)\n",
    "   \n",
    "    qc.measure(qreg_g, creg_g)\n",
    "    qc.measure(qreg_u, creg_u)\n",
    "    job = execute(qc, backend= aer, shots= 1024)\n",
    "    plot_histogram(job.result().get_counts())\n",
    "    \n",
    "    return qc, job\n"
   ]
  },
  {
   "cell_type": "code",
   "execution_count": 15,
   "metadata": {},
   "outputs": [
    {
     "ename": "CircuitError",
     "evalue": "'The number of control qubits must be in [1, num_qubits-1]'",
     "output_type": "error",
     "traceback": [
      "\u001b[0;31m---------------------------------------------------------------------------\u001b[0m",
      "\u001b[0;31mCircuitError\u001b[0m                              Traceback (most recent call last)",
      "\u001b[1;32m/home/rajarsi/Documents/QuantumML.project/PatternMatching.ipynb Cell 6'\u001b[0m in \u001b[0;36m<cell line: 2>\u001b[0;34m()\u001b[0m\n\u001b[1;32m      <a href='vscode-notebook-cell:/home/rajarsi/Documents/QuantumML.project/PatternMatching.ipynb#ch0000004?line=0'>1</a>\u001b[0m p \u001b[39m=\u001b[39m [np\u001b[39m.\u001b[39marray([\u001b[39m1\u001b[39m,\u001b[39m1\u001b[39m,\u001b[39m1\u001b[39m,\u001b[39m0\u001b[39m]), np\u001b[39m.\u001b[39marray([\u001b[39m1\u001b[39m,\u001b[39m1\u001b[39m,\u001b[39m0\u001b[39m,\u001b[39m1\u001b[39m])]\n\u001b[0;32m----> <a href='vscode-notebook-cell:/home/rajarsi/Documents/QuantumML.project/PatternMatching.ipynb#ch0000004?line=1'>2</a>\u001b[0m qc, job \u001b[39m=\u001b[39m run(np\u001b[39m.\u001b[39;49marray([\u001b[39m1\u001b[39;49m,\u001b[39m0\u001b[39;49m,\u001b[39m0\u001b[39;49m,\u001b[39m0\u001b[39;49m]), p,\u001b[39m2\u001b[39;49m)\n",
      "\u001b[1;32m/home/rajarsi/Documents/QuantumML.project/PatternMatching.ipynb Cell 5'\u001b[0m in \u001b[0;36mrun\u001b[0;34m(given_state, patterns, grover_steps)\u001b[0m\n\u001b[1;32m      <a href='vscode-notebook-cell:/home/rajarsi/Documents/QuantumML.project/PatternMatching.ipynb#ch0000003?line=7'>8</a>\u001b[0m \u001b[39mfor\u001b[39;00m pattern \u001b[39min\u001b[39;00m patterns : oracles\u001b[39m.\u001b[39mappend( to_oracle(pattern)) \n\u001b[1;32m      <a href='vscode-notebook-cell:/home/rajarsi/Documents/QuantumML.project/PatternMatching.ipynb#ch0000003?line=8'>9</a>\u001b[0m \u001b[39m# create diffuser ~\\\u001b[39;00m\n\u001b[0;32m---> <a href='vscode-notebook-cell:/home/rajarsi/Documents/QuantumML.project/PatternMatching.ipynb#ch0000003?line=9'>10</a>\u001b[0m diff \u001b[39m=\u001b[39m diffuser(dim_u)\n\u001b[1;32m     <a href='vscode-notebook-cell:/home/rajarsi/Documents/QuantumML.project/PatternMatching.ipynb#ch0000003?line=10'>11</a>\u001b[0m \u001b[39m# create circuit ~\\\u001b[39;00m\n\u001b[1;32m     <a href='vscode-notebook-cell:/home/rajarsi/Documents/QuantumML.project/PatternMatching.ipynb#ch0000003?line=11'>12</a>\u001b[0m qreg_g \u001b[39m=\u001b[39m QuantumRegister(dim_g, name\u001b[39m=\u001b[39m \u001b[39m'\u001b[39m\u001b[39minit\u001b[39m\u001b[39m'\u001b[39m)\n",
      "\u001b[1;32m/home/rajarsi/Documents/QuantumML.project/PatternMatching.ipynb Cell 4'\u001b[0m in \u001b[0;36mdiffuser\u001b[0;34m(l)\u001b[0m\n\u001b[1;32m     <a href='vscode-notebook-cell:/home/rajarsi/Documents/QuantumML.project/PatternMatching.ipynb#ch0000002?line=20'>21</a>\u001b[0m     circuit\u001b[39m.\u001b[39mh(q)\n\u001b[1;32m     <a href='vscode-notebook-cell:/home/rajarsi/Documents/QuantumML.project/PatternMatching.ipynb#ch0000002?line=21'>22</a>\u001b[0m     circuit\u001b[39m.\u001b[39mx(q)\n\u001b[0;32m---> <a href='vscode-notebook-cell:/home/rajarsi/Documents/QuantumML.project/PatternMatching.ipynb#ch0000002?line=22'>23</a>\u001b[0m circuit\u001b[39m.\u001b[39;49mmcx(qr ,a)\n\u001b[1;32m     <a href='vscode-notebook-cell:/home/rajarsi/Documents/QuantumML.project/PatternMatching.ipynb#ch0000002?line=23'>24</a>\u001b[0m \u001b[39mfor\u001b[39;00m q \u001b[39min\u001b[39;00m \u001b[39mrange\u001b[39m(l):\n\u001b[1;32m     <a href='vscode-notebook-cell:/home/rajarsi/Documents/QuantumML.project/PatternMatching.ipynb#ch0000002?line=24'>25</a>\u001b[0m     circuit\u001b[39m.\u001b[39mx(q)\n",
      "File \u001b[0;32m~/.local/lib/python3.8/site-packages/qiskit/circuit/quantumcircuit.py:3874\u001b[0m, in \u001b[0;36mQuantumCircuit.mcx\u001b[0;34m(self, control_qubits, target_qubit, ancilla_qubits, mode)\u001b[0m\n\u001b[1;32m   <a href='file:///home/rajarsi/.local/lib/python3.8/site-packages/qiskit/circuit/quantumcircuit.py?line=3868'>3869</a>\u001b[0m \u001b[39mfrom\u001b[39;00m \u001b[39m.\u001b[39;00m\u001b[39mlibrary\u001b[39;00m\u001b[39m.\u001b[39;00m\u001b[39mstandard_gates\u001b[39;00m\u001b[39m.\u001b[39;00m\u001b[39mx\u001b[39;00m \u001b[39mimport\u001b[39;00m MCXGrayCode, MCXRecursive, MCXVChain\n\u001b[1;32m   <a href='file:///home/rajarsi/.local/lib/python3.8/site-packages/qiskit/circuit/quantumcircuit.py?line=3870'>3871</a>\u001b[0m num_ctrl_qubits \u001b[39m=\u001b[39m \u001b[39mlen\u001b[39m(control_qubits)\n\u001b[1;32m   <a href='file:///home/rajarsi/.local/lib/python3.8/site-packages/qiskit/circuit/quantumcircuit.py?line=3872'>3873</a>\u001b[0m available_implementations \u001b[39m=\u001b[39m {\n\u001b[0;32m-> <a href='file:///home/rajarsi/.local/lib/python3.8/site-packages/qiskit/circuit/quantumcircuit.py?line=3873'>3874</a>\u001b[0m     \u001b[39m\"\u001b[39m\u001b[39mnoancilla\u001b[39m\u001b[39m\"\u001b[39m: MCXGrayCode(num_ctrl_qubits),\n\u001b[1;32m   <a href='file:///home/rajarsi/.local/lib/python3.8/site-packages/qiskit/circuit/quantumcircuit.py?line=3874'>3875</a>\u001b[0m     \u001b[39m\"\u001b[39m\u001b[39mrecursion\u001b[39m\u001b[39m\"\u001b[39m: MCXRecursive(num_ctrl_qubits),\n\u001b[1;32m   <a href='file:///home/rajarsi/.local/lib/python3.8/site-packages/qiskit/circuit/quantumcircuit.py?line=3875'>3876</a>\u001b[0m     \u001b[39m\"\u001b[39m\u001b[39mv-chain\u001b[39m\u001b[39m\"\u001b[39m: MCXVChain(num_ctrl_qubits, \u001b[39mFalse\u001b[39;00m),\n\u001b[1;32m   <a href='file:///home/rajarsi/.local/lib/python3.8/site-packages/qiskit/circuit/quantumcircuit.py?line=3876'>3877</a>\u001b[0m     \u001b[39m\"\u001b[39m\u001b[39mv-chain-dirty\u001b[39m\u001b[39m\"\u001b[39m: MCXVChain(num_ctrl_qubits, dirty_ancillas\u001b[39m=\u001b[39m\u001b[39mTrue\u001b[39;00m),\n\u001b[1;32m   <a href='file:///home/rajarsi/.local/lib/python3.8/site-packages/qiskit/circuit/quantumcircuit.py?line=3877'>3878</a>\u001b[0m     \u001b[39m# outdated, previous names\u001b[39;00m\n\u001b[1;32m   <a href='file:///home/rajarsi/.local/lib/python3.8/site-packages/qiskit/circuit/quantumcircuit.py?line=3878'>3879</a>\u001b[0m     \u001b[39m\"\u001b[39m\u001b[39madvanced\u001b[39m\u001b[39m\"\u001b[39m: MCXRecursive(num_ctrl_qubits),\n\u001b[1;32m   <a href='file:///home/rajarsi/.local/lib/python3.8/site-packages/qiskit/circuit/quantumcircuit.py?line=3879'>3880</a>\u001b[0m     \u001b[39m\"\u001b[39m\u001b[39mbasic\u001b[39m\u001b[39m\"\u001b[39m: MCXVChain(num_ctrl_qubits, dirty_ancillas\u001b[39m=\u001b[39m\u001b[39mFalse\u001b[39;00m),\n\u001b[1;32m   <a href='file:///home/rajarsi/.local/lib/python3.8/site-packages/qiskit/circuit/quantumcircuit.py?line=3880'>3881</a>\u001b[0m     \u001b[39m\"\u001b[39m\u001b[39mbasic-dirty-ancilla\u001b[39m\u001b[39m\"\u001b[39m: MCXVChain(num_ctrl_qubits, dirty_ancillas\u001b[39m=\u001b[39m\u001b[39mTrue\u001b[39;00m),\n\u001b[1;32m   <a href='file:///home/rajarsi/.local/lib/python3.8/site-packages/qiskit/circuit/quantumcircuit.py?line=3881'>3882</a>\u001b[0m }\n\u001b[1;32m   <a href='file:///home/rajarsi/.local/lib/python3.8/site-packages/qiskit/circuit/quantumcircuit.py?line=3883'>3884</a>\u001b[0m \u001b[39m# check ancilla input\u001b[39;00m\n\u001b[1;32m   <a href='file:///home/rajarsi/.local/lib/python3.8/site-packages/qiskit/circuit/quantumcircuit.py?line=3884'>3885</a>\u001b[0m \u001b[39mif\u001b[39;00m ancilla_qubits:\n",
      "File \u001b[0;32m~/.local/lib/python3.8/site-packages/qiskit/circuit/library/standard_gates/x.py:1053\u001b[0m, in \u001b[0;36mMCXGrayCode.__init__\u001b[0;34m(self, num_ctrl_qubits, label, ctrl_state)\u001b[0m\n\u001b[1;32m   <a href='file:///home/rajarsi/.local/lib/python3.8/site-packages/qiskit/circuit/library/standard_gates/x.py?line=1046'>1047</a>\u001b[0m \u001b[39mdef\u001b[39;00m \u001b[39m__init__\u001b[39m(\n\u001b[1;32m   <a href='file:///home/rajarsi/.local/lib/python3.8/site-packages/qiskit/circuit/library/standard_gates/x.py?line=1047'>1048</a>\u001b[0m     \u001b[39mself\u001b[39m,\n\u001b[1;32m   <a href='file:///home/rajarsi/.local/lib/python3.8/site-packages/qiskit/circuit/library/standard_gates/x.py?line=1048'>1049</a>\u001b[0m     num_ctrl_qubits: \u001b[39mint\u001b[39m,\n\u001b[1;32m   <a href='file:///home/rajarsi/.local/lib/python3.8/site-packages/qiskit/circuit/library/standard_gates/x.py?line=1049'>1050</a>\u001b[0m     label: Optional[\u001b[39mstr\u001b[39m] \u001b[39m=\u001b[39m \u001b[39mNone\u001b[39;00m,\n\u001b[1;32m   <a href='file:///home/rajarsi/.local/lib/python3.8/site-packages/qiskit/circuit/library/standard_gates/x.py?line=1050'>1051</a>\u001b[0m     ctrl_state: Optional[Union[\u001b[39mstr\u001b[39m, \u001b[39mint\u001b[39m]] \u001b[39m=\u001b[39m \u001b[39mNone\u001b[39;00m,\n\u001b[1;32m   <a href='file:///home/rajarsi/.local/lib/python3.8/site-packages/qiskit/circuit/library/standard_gates/x.py?line=1051'>1052</a>\u001b[0m ):\n\u001b[0;32m-> <a href='file:///home/rajarsi/.local/lib/python3.8/site-packages/qiskit/circuit/library/standard_gates/x.py?line=1052'>1053</a>\u001b[0m     \u001b[39msuper\u001b[39;49m()\u001b[39m.\u001b[39;49m\u001b[39m__init__\u001b[39;49m(num_ctrl_qubits, label\u001b[39m=\u001b[39;49mlabel, ctrl_state\u001b[39m=\u001b[39;49mctrl_state, _name\u001b[39m=\u001b[39;49m\u001b[39m\"\u001b[39;49m\u001b[39mmcx_gray\u001b[39;49m\u001b[39m\"\u001b[39;49m)\n",
      "File \u001b[0;32m~/.local/lib/python3.8/site-packages/qiskit/circuit/library/standard_gates/x.py:953\u001b[0m, in \u001b[0;36mMCXGate.__init__\u001b[0;34m(self, num_ctrl_qubits, label, ctrl_state, _name)\u001b[0m\n\u001b[1;32m    <a href='file:///home/rajarsi/.local/lib/python3.8/site-packages/qiskit/circuit/library/standard_gates/x.py?line=950'>951</a>\u001b[0m \u001b[39m\"\"\"Create new MCX gate.\"\"\"\u001b[39;00m\n\u001b[1;32m    <a href='file:///home/rajarsi/.local/lib/python3.8/site-packages/qiskit/circuit/library/standard_gates/x.py?line=951'>952</a>\u001b[0m num_ancilla_qubits \u001b[39m=\u001b[39m \u001b[39mself\u001b[39m\u001b[39m.\u001b[39m\u001b[39m__class__\u001b[39m\u001b[39m.\u001b[39mget_num_ancilla_qubits(num_ctrl_qubits)\n\u001b[0;32m--> <a href='file:///home/rajarsi/.local/lib/python3.8/site-packages/qiskit/circuit/library/standard_gates/x.py?line=952'>953</a>\u001b[0m \u001b[39msuper\u001b[39;49m()\u001b[39m.\u001b[39;49m\u001b[39m__init__\u001b[39;49m(\n\u001b[1;32m    <a href='file:///home/rajarsi/.local/lib/python3.8/site-packages/qiskit/circuit/library/standard_gates/x.py?line=953'>954</a>\u001b[0m     _name,\n\u001b[1;32m    <a href='file:///home/rajarsi/.local/lib/python3.8/site-packages/qiskit/circuit/library/standard_gates/x.py?line=954'>955</a>\u001b[0m     num_ctrl_qubits \u001b[39m+\u001b[39;49m \u001b[39m1\u001b[39;49m \u001b[39m+\u001b[39;49m num_ancilla_qubits,\n\u001b[1;32m    <a href='file:///home/rajarsi/.local/lib/python3.8/site-packages/qiskit/circuit/library/standard_gates/x.py?line=955'>956</a>\u001b[0m     [],\n\u001b[1;32m    <a href='file:///home/rajarsi/.local/lib/python3.8/site-packages/qiskit/circuit/library/standard_gates/x.py?line=956'>957</a>\u001b[0m     num_ctrl_qubits\u001b[39m=\u001b[39;49mnum_ctrl_qubits,\n\u001b[1;32m    <a href='file:///home/rajarsi/.local/lib/python3.8/site-packages/qiskit/circuit/library/standard_gates/x.py?line=957'>958</a>\u001b[0m     label\u001b[39m=\u001b[39;49mlabel,\n\u001b[1;32m    <a href='file:///home/rajarsi/.local/lib/python3.8/site-packages/qiskit/circuit/library/standard_gates/x.py?line=958'>959</a>\u001b[0m     ctrl_state\u001b[39m=\u001b[39;49mctrl_state,\n\u001b[1;32m    <a href='file:///home/rajarsi/.local/lib/python3.8/site-packages/qiskit/circuit/library/standard_gates/x.py?line=959'>960</a>\u001b[0m     base_gate\u001b[39m=\u001b[39;49mXGate(),\n\u001b[1;32m    <a href='file:///home/rajarsi/.local/lib/python3.8/site-packages/qiskit/circuit/library/standard_gates/x.py?line=960'>961</a>\u001b[0m )\n",
      "File \u001b[0;32m~/.local/lib/python3.8/site-packages/qiskit/circuit/controlledgate.py:97\u001b[0m, in \u001b[0;36mControlledGate.__init__\u001b[0;34m(self, name, num_qubits, params, label, num_ctrl_qubits, definition, ctrl_state, base_gate)\u001b[0m\n\u001b[1;32m     <a href='file:///home/rajarsi/.local/lib/python3.8/site-packages/qiskit/circuit/controlledgate.py?line=94'>95</a>\u001b[0m \u001b[39msuper\u001b[39m()\u001b[39m.\u001b[39m\u001b[39m__init__\u001b[39m(name, num_qubits, params, label\u001b[39m=\u001b[39mlabel)\n\u001b[1;32m     <a href='file:///home/rajarsi/.local/lib/python3.8/site-packages/qiskit/circuit/controlledgate.py?line=95'>96</a>\u001b[0m \u001b[39mself\u001b[39m\u001b[39m.\u001b[39m_num_ctrl_qubits \u001b[39m=\u001b[39m \u001b[39m1\u001b[39m\n\u001b[0;32m---> <a href='file:///home/rajarsi/.local/lib/python3.8/site-packages/qiskit/circuit/controlledgate.py?line=96'>97</a>\u001b[0m \u001b[39mself\u001b[39m\u001b[39m.\u001b[39mnum_ctrl_qubits \u001b[39m=\u001b[39m num_ctrl_qubits\n\u001b[1;32m     <a href='file:///home/rajarsi/.local/lib/python3.8/site-packages/qiskit/circuit/controlledgate.py?line=97'>98</a>\u001b[0m \u001b[39mself\u001b[39m\u001b[39m.\u001b[39mdefinition \u001b[39m=\u001b[39m copy\u001b[39m.\u001b[39mdeepcopy(definition)\n\u001b[1;32m     <a href='file:///home/rajarsi/.local/lib/python3.8/site-packages/qiskit/circuit/controlledgate.py?line=98'>99</a>\u001b[0m \u001b[39mself\u001b[39m\u001b[39m.\u001b[39m_ctrl_state \u001b[39m=\u001b[39m \u001b[39mNone\u001b[39;00m\n",
      "File \u001b[0;32m~/.local/lib/python3.8/site-packages/qiskit/circuit/controlledgate.py:180\u001b[0m, in \u001b[0;36mControlledGate.num_ctrl_qubits\u001b[0;34m(self, num_ctrl_qubits)\u001b[0m\n\u001b[1;32m    <a href='file:///home/rajarsi/.local/lib/python3.8/site-packages/qiskit/circuit/controlledgate.py?line=177'>178</a>\u001b[0m     \u001b[39mself\u001b[39m\u001b[39m.\u001b[39m_num_ctrl_qubits \u001b[39m=\u001b[39m num_ctrl_qubits\n\u001b[1;32m    <a href='file:///home/rajarsi/.local/lib/python3.8/site-packages/qiskit/circuit/controlledgate.py?line=178'>179</a>\u001b[0m \u001b[39melse\u001b[39;00m:\n\u001b[0;32m--> <a href='file:///home/rajarsi/.local/lib/python3.8/site-packages/qiskit/circuit/controlledgate.py?line=179'>180</a>\u001b[0m     \u001b[39mraise\u001b[39;00m CircuitError(\u001b[39m\"\u001b[39m\u001b[39mThe number of control qubits must be in [1, num_qubits-1]\u001b[39m\u001b[39m\"\u001b[39m)\n",
      "\u001b[0;31mCircuitError\u001b[0m: 'The number of control qubits must be in [1, num_qubits-1]'"
     ]
    }
   ],
   "source": [
    "p = [np.array([1,1,1,0]), np.array([1,1,0,1])]\n",
    "qc, job = run(np.array([1,0,0,0]), p,2)"
   ]
  },
  {
   "cell_type": "code",
   "execution_count": null,
   "metadata": {},
   "outputs": [
    {
     "data": {
      "image/png": "[encoded data removed]",
      "text/plain": [
       "<Figure size 504x360 with 1 Axes>"
      ]
     },
     "execution_count": 14,
     "metadata": {},
     "output_type": "execute_result"
    }
   ],
   "source": [
    "plot_histogram(job.result().get_counts())"
   ]
  },
  {
   "cell_type": "code",
   "execution_count": 16,
   "metadata": {},
   "outputs": [
    {
     "data": {
      "text/html": [
       "<pre style=\"word-wrap: normal;white-space: pre;background: #fff0;line-height: 1.1;font-family: &quot;Courier New&quot;,Courier,monospace\">                           ┌───┐     ┌───┐               ┌───┐           ░ »\n",
       "ancilla: ──────────────────┤ X ├─────┤ X ├───────────────┤ X ├───────────░─»\n",
       "          ┌─────────┐ ┌───┐└─┬─┘┌───┐└─┬─┘┌───┐┌───┐     └─┬─┘┌───┐┌───┐ ░ »\n",
       "  unk_1: ─┤ U2(0,π) ├─┤ X ├──■──┤ X ├──■──┤ H ├┤ X ├───────■──┤ X ├┤ H ├─░─»\n",
       "          ├─────────┤ └───┘  │  ├───┤  │  ├───┤├───┤┌───┐  │  ├───┤├───┤ ░ »\n",
       "  unk_0: ─┤ U2(0,π) ├────────■──┤ X ├──■──┤ X ├┤ H ├┤ X ├──■──┤ X ├┤ H ├─░─»\n",
       "          └─────────┘        │  └───┘  │  └───┘└───┘└───┘     └───┘└───┘ ░ »\n",
       " init_1: ────────────────────■─────────■─────────────────────────────────░─»\n",
       "         ┌───────────┐       │         │                                 ░ »\n",
       " init_0: ┤ U3(π,0,π) ├───────■─────────■─────────────────────────────────░─»\n",
       "         └───────────┘                                                   ░ »\n",
       "   c5: 2/══════════════════════════════════════════════════════════════════»\n",
       "                                                                           »\n",
       "   c4: 2/══════════════════════════════════════════════════════════════════»\n",
       "                                                                           »\n",
       "«              ┌───┐     ┌───┐               ┌───┐           ░             \n",
       "«ancilla: ─────┤ X ├─────┤ X ├───────────────┤ X ├───────────░─────────────\n",
       "«         ┌───┐└─┬─┘┌───┐└─┬─┘┌───┐┌───┐     └─┬─┘┌───┐┌───┐ ░          ┌─┐\n",
       "«  unk_1: ┤ X ├──■──┤ X ├──■──┤ H ├┤ X ├───────■──┤ X ├┤ H ├─░──────────┤M├\n",
       "«         └───┘  │  ├───┤  │  ├───┤├───┤┌───┐  │  ├───┤├───┤ ░       ┌─┐└╥┘\n",
       "«  unk_0: ───────■──┤ X ├──■──┤ X ├┤ H ├┤ X ├──■──┤ X ├┤ H ├─░───────┤M├─╫─\n",
       "«                │  └───┘  │  └───┘└───┘└───┘     └───┘└───┘ ░    ┌─┐└╥┘ ║ \n",
       "« init_1: ───────■─────────■─────────────────────────────────░────┤M├─╫──╫─\n",
       "«                │         │                                 ░ ┌─┐└╥┘ ║  ║ \n",
       "« init_0: ───────■─────────■─────────────────────────────────░─┤M├─╫──╫──╫─\n",
       "«                                                            ░ └╥┘ ║  ║  ║ \n",
       "«   c5: 2/══════════════════════════════════════════════════════╬══╬══╩══╩═\n",
       "«                                                               ║  ║  0  1 \n",
       "«   c4: 2/══════════════════════════════════════════════════════╩══╩═══════\n",
       "«                                                               0  1       </pre>"
      ],
      "text/plain": [
       "                           ┌───┐     ┌───┐               ┌───┐           ░ »\n",
       "ancilla: ──────────────────┤ X ├─────┤ X ├───────────────┤ X ├───────────░─»\n",
       "          ┌─────────┐ ┌───┐└─┬─┘┌───┐└─┬─┘┌───┐┌───┐     └─┬─┘┌───┐┌───┐ ░ »\n",
       "  unk_1: ─┤ U2(0,π) ├─┤ X ├──■──┤ X ├──■──┤ H ├┤ X ├───────■──┤ X ├┤ H ├─░─»\n",
       "          ├─────────┤ └───┘  │  ├───┤  │  ├───┤├───┤┌───┐  │  ├───┤├───┤ ░ »\n",
       "  unk_0: ─┤ U2(0,π) ├────────■──┤ X ├──■──┤ X ├┤ H ├┤ X ├──■──┤ X ├┤ H ├─░─»\n",
       "          └─────────┘        │  └───┘  │  └───┘└───┘└───┘     └───┘└───┘ ░ »\n",
       " init_1: ────────────────────■─────────■─────────────────────────────────░─»\n",
       "         ┌───────────┐       │         │                                 ░ »\n",
       " init_0: ┤ U3(π,0,π) ├───────■─────────■─────────────────────────────────░─»\n",
       "         └───────────┘                                                   ░ »\n",
       "   c5: 2/══════════════════════════════════════════════════════════════════»\n",
       "                                                                           »\n",
       "   c4: 2/══════════════════════════════════════════════════════════════════»\n",
       "                                                                           »\n",
       "«              ┌───┐     ┌───┐               ┌───┐           ░             \n",
       "«ancilla: ─────┤ X ├─────┤ X ├───────────────┤ X ├───────────░─────────────\n",
       "«         ┌───┐└─┬─┘┌───┐└─┬─┘┌───┐┌───┐     └─┬─┘┌───┐┌───┐ ░          ┌─┐\n",
       "«  unk_1: ┤ X ├──■──┤ X ├──■──┤ H ├┤ X ├───────■──┤ X ├┤ H ├─░──────────┤M├\n",
       "«         └───┘  │  ├───┤  │  ├───┤├───┤┌───┐  │  ├───┤├───┤ ░       ┌─┐└╥┘\n",
       "«  unk_0: ───────■──┤ X ├──■──┤ X ├┤ H ├┤ X ├──■──┤ X ├┤ H ├─░───────┤M├─╫─\n",
       "«                │  └───┘  │  └───┘└───┘└───┘     └───┘└───┘ ░    ┌─┐└╥┘ ║ \n",
       "« init_1: ───────■─────────■─────────────────────────────────░────┤M├─╫──╫─\n",
       "«                │         │                                 ░ ┌─┐└╥┘ ║  ║ \n",
       "« init_0: ───────■─────────■─────────────────────────────────░─┤M├─╫──╫──╫─\n",
       "«                                                            ░ └╥┘ ║  ║  ║ \n",
       "«   c5: 2/══════════════════════════════════════════════════════╬══╬══╩══╩═\n",
       "«                                                               ║  ║  0  1 \n",
       "«   c4: 2/══════════════════════════════════════════════════════╩══╩═══════\n",
       "«                                                               0  1       "
      ]
     },
     "execution_count": 16,
     "metadata": {},
     "output_type": "execute_result"
    }
   ],
   "source": [
    "qc.decompose().draw(reverse_bits= True)\n",
    "# qc.measure(qreg_g, qreg_u, creg)\n",
    "# job = execute(qc, backend= aer, shots= 1024)\n",
    "# plot_histogram(job.result().get_counts())"
   ]
  },
  {
   "cell_type": "code",
   "execution_count": 5,
   "metadata": {},
   "outputs": [],
   "source": [
    "def experiment(dim_g, dim_u, samples, grover_steps):\n",
    "    dim = dim_g + dim_u\n",
    "    patterns, oracles = [], []\n",
    "    for j in range(samples):\n",
    "        patterns.append(np.random.choice([0,1], size= dim))\n",
    "    for j in range(samples):\n",
    "        oracles.append(to_oracle(j))\n",
    "    \n",
    "    diff = diffuser(dim_u)\n",
    "\n",
    "    qreg = QuantumRegister(dim, name='reg')\n",
    "    creg = ClassicalRegister(dim, name='c')\n",
    "    ancilla = AncillaRegister(1, name='ancilla')\n",
    "    qc = QuantumCircuit(qreg, ancilla, creg)\n",
    "\n",
    "    for j in range(dim_g):\n",
    "        if(init_state[j] == 1): qc.x(qreg[j])\n",
    "        \n",
    "\n",
    "    qc.h(ancilla)\n",
    "    qc.x(ancilla)\n",
    "    qc.barrier()\n",
    "\n",
    "    grover_iterate(qc, oracles, diff, grover_steps)\n",
    "    qc.measure(qreg, creg)\n",
    "    job = execute(qc, backend= aer)\n",
    "    plot_histogram(job.result().counts())\n",
    "\n",
    "\n",
    "\n"
   ]
  },
  {
   "cell_type": "code",
   "execution_count": 10,
   "metadata": {},
   "outputs": [],
   "source": [
    "p = np.array([1,0,1])\n",
    "pqc = to_oracle(p)"
   ]
  },
  {
   "cell_type": "code",
   "execution_count": 42,
   "metadata": {
    "ExecuteTime": {
     "end_time": "2022-03-05T18:37:40.281001Z",
     "start_time": "2022-03-05T18:37:39.843542Z"
    }
   },
   "outputs": [
    {
     "data": {
      "text/html": [
       "<pre style=\"word-wrap: normal;white-space: pre;background: #fff0;line-height: 1.1;font-family: &quot;Courier New&quot;,Courier,monospace\">         ┌───┐   \n",
       "q13_0: ──┤ H ├───\n",
       "         ├───┤   \n",
       "q13_1: ──┤ H ├───\n",
       "         ├───┤   \n",
       "q13_2: ──┤ H ├───\n",
       "         ├───┤   \n",
       "q13_3: ──┤ H ├───\n",
       "       ┌─┴───┴──┐\n",
       "q14_0: ┤0       ├\n",
       "       │        │\n",
       "q14_1: ┤1 Diff. ├\n",
       "       │        │\n",
       "q14_2: ┤2       ├\n",
       "       └────────┘</pre>"
      ],
      "text/plain": [
       "         ┌───┐   \n",
       "q13_0: ──┤ H ├───\n",
       "         ├───┤   \n",
       "q13_1: ──┤ H ├───\n",
       "         ├───┤   \n",
       "q13_2: ──┤ H ├───\n",
       "         ├───┤   \n",
       "q13_3: ──┤ H ├───\n",
       "       ┌─┴───┴──┐\n",
       "q14_0: ┤0       ├\n",
       "       │        │\n",
       "q14_1: ┤1 Diff. ├\n",
       "       │        │\n",
       "q14_2: ┤2       ├\n",
       "       └────────┘"
      ]
     },
     "execution_count": 42,
     "metadata": {},
     "output_type": "execute_result"
    }
   ],
   "source": [
    "qr = QuantumRegister(4)\n",
    "qp = QuantumRegister(3)\n",
    "anci = AncillaRegister(1)\n",
    "qc = QuantumCircuit(qr, qp)\n",
    "\n",
    "qc.h(qr)\n",
    "qc.append(df, list([q for q in qp]))\n",
    "qc.draw()"
   ]
  },
  {
   "cell_type": "code",
   "execution_count": 43,
   "metadata": {},
   "outputs": [
    {
     "data": {
      "text/plain": [
       "[Qubit(QuantumRegister(3, 'q14'), 0),\n",
       " Qubit(QuantumRegister(3, 'q14'), 1),\n",
       " Qubit(QuantumRegister(3, 'q14'), 2),\n",
       " AncillaQubit(AncillaRegister(1, 'a0'), 0)]"
      ]
     },
     "execution_count": 43,
     "metadata": {},
     "output_type": "execute_result"
    }
   ],
   "source": [
    "list([q for q in qp]) + list(anci)"
   ]
  },
  {
   "cell_type": "code",
   "execution_count": null,
   "metadata": {},
   "outputs": [],
   "source": []
  }
 ],
 "metadata": {
  "interpreter": {
   "hash": "31f2aee4e71d21fbe5cf8b01ff0e069b9275f58929596ceb00d14d90e3e16cd6"
  },
  "kernelspec": {
   "display_name": "Python 3.8.10 ('venv': venv)",
   "language": "python",
   "name": "python3"
  },
  "language_info": {
   "codemirror_mode": {
    "name": "ipython",
    "version": 3
   },
   "file_extension": ".py",
   "mimetype": "text/x-python",
   "name": "python",
   "nbconvert_exporter": "python",
   "pygments_lexer": "ipython3",
   "version": "3.8.10"
  },
  "varInspector": {
   "cols": {
    "lenName": 16,
    "lenType": 16,
    "lenVar": 40
   },
   "kernels_config": {
    "python": {
     "delete_cmd_postfix": "",
     "delete_cmd_prefix": "del ",
     "library": "var_list.py",
     "varRefreshCmd": "print(var_dic_list())"
    },
    "r": {
     "delete_cmd_postfix": ") ",
     "delete_cmd_prefix": "rm(",
     "library": "var_list.r",
     "varRefreshCmd": "cat(var_dic_list()) "
    }
   },
   "types_to_exclude": [
    "module",
    "function",
    "builtin_function_or_method",
    "instance",
    "_Feature"
   ],
   "window_display": false
  }
 },
 "nbformat": 4,
 "nbformat_minor": 4
}
