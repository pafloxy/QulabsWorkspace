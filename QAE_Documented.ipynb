{
 "cells": [
  {
   "cell_type": "code",
   "execution_count": 1,
   "metadata": {},
   "outputs": [],
   "source": [
    "## imports\n",
    "from qiskit import *\n",
    "from qiskit.algorithms import *\n",
    "from qiskit import QuantumRegister, ClassicalRegister, QuantumCircuit\n",
    "from qiskit import quantum_info, IBMQ, Aer\n",
    "from qiskit import BasicAer\n",
    "from qiskit.utils import QuantumInstance\n",
    "# backend = BasicAer.get_backend(\"statevector_simulator\")\n",
    "# quantum_instance = QuantumInstance(backend)\n",
    "from qiskit.algorithms import AmplitudeEstimation\n",
    "#from qiskit.ignis.verification.tomography import state_tomography_circuits, StateTomographyFitter\n",
    "from qiskit.visualization import plot_histogram, plot_state_qsphere, plot_bloch_multivector, plot_bloch_vector\n",
    "import numpy as np\n",
    "from numpy import pi\n",
    "import seaborn as sns\n",
    "from IPython.display import Image\n",
    "import matplotlib.pyplot as plt\n"
   ]
  },
  {
   "cell_type": "code",
   "execution_count": 2,
   "metadata": {},
   "outputs": [],
   "source": [
    "# setup simulator using IBM_id\n",
    "# IBMQ.save_account(\"1c62e8a0d2b058d0e797db9c811bc34582df5553e25812301cd1518662c0ab68d2378ac6c197b65f8be944d04b7e7439f034e3926a44fa8088538b3d13782c1a\", overwrite= True)\n",
    "provider = IBMQ.load_account()\n",
    "IBMQ.get_provider(hub='ibm-q-education', group='iit-madras-1', project='quantum-computin')\n",
    "# setup required backends \n",
    "lima = provider.get_backend('ibmq_lima')\n",
    "manila = provider.get_backend('ibmq_manila')\n",
    "qsm_simulator = Aer.get_backend('qasm_simulator')\n",
    "stv_simulator = Aer.get_backend('statevector_simulator')\n",
    "aer = Aer.get_backend('aer_simulator')\n"
   ]
  },
  {
   "cell_type": "markdown",
   "metadata": {},
   "source": [
    "## Grover Search and Quantum Amplitude Estimation \n",
    "\n",
    "Here we will illustrate some of the nice application of Grover's search algorithm into pattern matching and Quantum Amplitude Estimation. We assume that the reader is familiar with some basic understanding of Grover's algorithm, a nice and detailed introduction can be found here https://qiskit.org/textbook/ch-algorithms/grover.html. "
   ]
  },
  {
   "cell_type": "markdown",
   "metadata": {},
   "source": [
    "## GroverSearch \n",
    "\n",
    "\n",
    "\n",
    "The basic idea of Grover's search is to find a particular element (** a ket), say $\\ket{s}$, among all possible states $\\{\\ket{b}\\}$, usually we choose $\\{\\ket{b}\\}$ to be the computational basis states and so is $\\ket{s}$.\n",
    "This is accomplished using an Oracle operator $\\textbf{O}$ and a Diffuser operator $\\textbf{D}$ such that repeated application of both of them amplifies the probability of the state $\\ket{s}$, which then could be retrieved by simply measuring the qubits in computational basis state.\n",
    "\n",
    "Simply put, \n",
    "$\\begin{equation}\n",
    "\\mathbf{G}\\mathbf{G}\\mathbf{G}..\\mathbf{G} \\ket{\\psi_{0}} \\approx \\ket{s}\n",
    "\\end{equation}$ where $\\mathbf{G}$ is the Grover operator defined as $\\mathbf{G} = -\\mathbf{DO}$ and $\\ket{\\psi_0}$ is initialized at the equal superpostion state."
   ]
  },
  {
   "cell_type": "markdown",
   "metadata": {},
   "source": [
    "The action of the oracle operator $\\textbf{O}$ is to reflect a state $\\ket{\\psi}$ about the good states ( here $\\ket{s}$) : $ \\mathbf{O} = \\mathbb{I} - \\ket{s}\\bra{s} $ and the action of the diffuser operator is to reflect a state about the initial state : $ \\mathbf{D} = \\mathbb{I} - \\ket{\\psi_0}\\bra{\\psi_0} $"
   ]
  },
  {
   "cell_type": "code",
   "execution_count": 3,
   "metadata": {},
   "outputs": [],
   "source": [
    "## sub-routines for Grover Search ~\n",
    "def to_oracle(pattern, name= 'oracle'):\n",
    "    \"\"\" Convert a given pattern to an oracle\n",
    "        input: pattern= a numpy vector with binarry entries \n",
    "        output: oracle.Gate    \"\"\"\n",
    "\n",
    "    l = len(pattern)\n",
    "    qr = QuantumRegister(l, name='reg')\n",
    "    a = AncillaRegister(1, name='ancilla')\n",
    "    qc = QuantumCircuit(qr, a, name= name+str(pattern))\n",
    "    for q in range(l):\n",
    "        if(pattern[q]==0): qc.x(qr[q])\n",
    "    qc.x(a)\n",
    "    qc.h(a)\n",
    "    qc.mcx(qr, a)\n",
    "    qc.h(a)\n",
    "    qc.x(a)\n",
    "    for q in range(l):\n",
    "        if(pattern[q]==0): qc.x(qr[q])\n",
    "    #qc.barrier()\n",
    "    return qc.to_gate()\n",
    "\n",
    "def diffuser(l):\n",
    "    \"\"\" Gnerate the Diffuser operator for the case where the initial state  is \n",
    "        the equal superposition state of all basis vectors \n",
    "        input: l= no. of qubits\n",
    "        output: diffuser.Gate    \"\"\"\n",
    "    qr = QuantumRegister(l, name='reg')\n",
    "    a = AncillaRegister(1, name='ancilla')\n",
    "    circuit = QuantumCircuit(qr, a, name= 'Diff.')\n",
    "    \n",
    "    circuit.h(qr)\n",
    "    circuit.x(qr)\n",
    "    \n",
    "    circuit.x(a)\n",
    "    circuit.h(a)\n",
    "    circuit.mcx(qr ,a)\n",
    "    circuit.h(a)\n",
    "    circuit.x(a)\n",
    "\n",
    "    circuit.x(qr)\n",
    "    circuit.h(qr)\n",
    "          \n",
    "    return circuit.to_gate()\n",
    "\n",
    "def grover_iterate(qc, oracles, diffuser, qreg_u, ancilla, steps):\n",
    "    \"\"\" Run full Grover iteration for given number of steps.\n",
    "        input:\n",
    "        qc: QuantumCiruit to append to \n",
    "        oracles: a list of oracles generated from 'to_oracle()' function \n",
    "        diffuser: a diffuser from 'diffuser()' function \n",
    "        steps: no. of grover iterates\"\"\"\n",
    "    for step in range(steps):\n",
    "        for oracle in oracles:\n",
    "            qc.append(oracle, list(range(qc.num_qubits)) )\n",
    "        qc.append(diffuser, list([q for q in qreg_u])+ list(ancilla) )\n",
    "        # qc.barrier()\n",
    "    return qc\n"
   ]
  },
  {
   "cell_type": "code",
   "execution_count": 4,
   "metadata": {},
   "outputs": [],
   "source": [
    "def run(patterns, grover_steps ):\n",
    "    \n",
    "    dim = len(patterns[0])\n",
    "    # create oracles ~\\\n",
    "    oracles = []\n",
    "    for pattern in patterns : oracles.append( to_oracle(pattern)) \n",
    "    \n",
    "    # create diffuser ~\\\n",
    "    diff = diffuser(dim)\n",
    "    # create circuit ~\\\n",
    "    \n",
    "    qreg = QuantumRegister(dim, name= 'init')\n",
    "    ancilla = AncillaRegister(1, name='ancilla')\n",
    "    creg = ClassicalRegister(dim)\n",
    "    qc = QuantumCircuit(qreg, creg, ancilla)\n",
    "    qc.h(qreg)\n",
    "    # run grover update steps ~\\\n",
    "    grover_iterate(qc, oracles, diff, qreg, ancilla,grover_steps)\n",
    "    qc.measure(qreg, creg)\n",
    "    \n",
    "    job = execute(qc, backend= aer, shots= 1024)\n",
    "    plot_histogram(job.result().get_counts())\n",
    "    \n",
    "    return qc, job\n"
   ]
  },
  {
   "cell_type": "markdown",
   "metadata": {},
   "source": [
    "Here is an simple example of using Grover' algorithm to retrieve a given set of 3-bit patterns from an equal superposition of the basis states. \n",
    "\n",
    "The 'patterns' to be stored are stored below, you can change them to any other possible binary string of your choice ; )"
   ]
  },
  {
   "cell_type": "code",
   "execution_count": 5,
   "metadata": {},
   "outputs": [],
   "source": [
    "patterns = [[0,1,1],[0,1,0],[0,0,0]]"
   ]
  },
  {
   "cell_type": "markdown",
   "metadata": {},
   "source": [
    "Run a single iteration of the Grover search algorithm, you can change the number by tweaking the 'steps' in the argument of the function ; )"
   ]
  },
  {
   "cell_type": "code",
   "execution_count": 6,
   "metadata": {},
   "outputs": [
    {
     "data": {
      "text/html": [
       "<pre style=\"word-wrap: normal;white-space: pre;background: #fff0;line-height: 1.1;font-family: &quot;Courier New&quot;,Courier,monospace\">         ┌───┐┌──────────────────┐┌──────────────────┐┌──────────────────┐»\n",
       " init_0: ┤ H ├┤0                 ├┤0                 ├┤0                 ├»\n",
       "         ├───┤│                  ││                  ││                  │»\n",
       " init_1: ┤ H ├┤1                 ├┤1                 ├┤1                 ├»\n",
       "         ├───┤│  oracle[0, 1, 1] ││  oracle[0, 1, 0] ││  oracle[0, 0, 0] │»\n",
       " init_2: ┤ H ├┤2                 ├┤2                 ├┤2                 ├»\n",
       "         └───┘│                  ││                  ││                  │»\n",
       "ancilla: ─────┤3                 ├┤3                 ├┤3                 ├»\n",
       "              └──────────────────┘└──────────────────┘└──────────────────┘»\n",
       "   c0: 3/═════════════════════════════════════════════════════════════════»\n",
       "                                                                          »\n",
       "«         ┌────────┐┌─┐      \n",
       "« init_0: ┤0       ├┤M├──────\n",
       "«         │        │└╥┘┌─┐   \n",
       "« init_1: ┤1       ├─╫─┤M├───\n",
       "«         │  Diff. │ ║ └╥┘┌─┐\n",
       "« init_2: ┤2       ├─╫──╫─┤M├\n",
       "«         │        │ ║  ║ └╥┘\n",
       "«ancilla: ┤3       ├─╫──╫──╫─\n",
       "«         └────────┘ ║  ║  ║ \n",
       "«   c0: 3/═══════════╩══╩══╩═\n",
       "«                    0  1  2 </pre>"
      ],
      "text/plain": [
       "         ┌───┐┌──────────────────┐┌──────────────────┐┌──────────────────┐»\n",
       " init_0: ┤ H ├┤0                 ├┤0                 ├┤0                 ├»\n",
       "         ├───┤│                  ││                  ││                  │»\n",
       " init_1: ┤ H ├┤1                 ├┤1                 ├┤1                 ├»\n",
       "         ├───┤│  oracle[0, 1, 1] ││  oracle[0, 1, 0] ││  oracle[0, 0, 0] │»\n",
       " init_2: ┤ H ├┤2                 ├┤2                 ├┤2                 ├»\n",
       "         └───┘│                  ││                  ││                  │»\n",
       "ancilla: ─────┤3                 ├┤3                 ├┤3                 ├»\n",
       "              └──────────────────┘└──────────────────┘└──────────────────┘»\n",
       "   c0: 3/═════════════════════════════════════════════════════════════════»\n",
       "                                                                          »\n",
       "«         ┌────────┐┌─┐      \n",
       "« init_0: ┤0       ├┤M├──────\n",
       "«         │        │└╥┘┌─┐   \n",
       "« init_1: ┤1       ├─╫─┤M├───\n",
       "«         │  Diff. │ ║ └╥┘┌─┐\n",
       "« init_2: ┤2       ├─╫──╫─┤M├\n",
       "«         │        │ ║  ║ └╥┘\n",
       "«ancilla: ┤3       ├─╫──╫──╫─\n",
       "«         └────────┘ ║  ║  ║ \n",
       "«   c0: 3/═══════════╩══╩══╩═\n",
       "«                    0  1  2 "
      ]
     },
     "execution_count": 6,
     "metadata": {},
     "output_type": "execute_result"
    }
   ],
   "source": [
    "steps= 1\n",
    "circuit, job = run(patterns,steps)\n",
    "circuit.draw()"
   ]
  },
  {
   "cell_type": "markdown",
   "metadata": {},
   "source": [
    "NB: Note that the oracle for each pattern is independent of each other and the particular order in which they are appended to the circuit is irrelevant for our purpose!"
   ]
  },
  {
   "cell_type": "markdown",
   "metadata": {},
   "source": [
    "Let's plot the result of the measurements !"
   ]
  },
  {
   "cell_type": "code",
   "execution_count": 7,
   "metadata": {},
   "outputs": [
    {
     "data": {
      "image/png": "[encoded data removed]",
      "text/plain": [
       "<Figure size 504x360 with 1 Axes>"
      ]
     },
     "execution_count": 7,
     "metadata": {},
     "output_type": "execute_result"
    }
   ],
   "source": [
    "plot_histogram(job.result().get_counts())    "
   ]
  },
  {
   "cell_type": "markdown",
   "metadata": {},
   "source": [
    "And Et Voila! we can see that the strings corresponding to our patterns occur with higher probability !"
   ]
  },
  {
   "cell_type": "markdown",
   "metadata": {},
   "source": [
    "## QAE based on Quantum Phase Estimation"
   ]
  },
  {
   "cell_type": "markdown",
   "metadata": {},
   "source": [
    "Now we move on to do Quantum Amplitude Estimation using QPE, an introduction to QPE can be found here https://learn.qiskit.org/course/ch-algorithms/quantum-phase-estimation."
   ]
  },
  {
   "cell_type": "markdown",
   "metadata": {},
   "source": [
    "As we saw in the previous section on grover's algorithm there are some 'good' states we seek (like $\\ket{s}$) and others 'bad' states that we don't, and usually any arbitrary state is a n weighted mixture of both kind of this states, as such\n",
    "$$\n",
    "    \\ket{\\psi_0} = \\sqrt{a}\\ket{good} + \\sqrt{1-a}\\ket{bad}\n",
    "$$\n",
    "\n",
    " The objective of QAE is to provide a numerical estimate of the coeffcient 'a', this is usually done in two steps, the first step involves amplifying the amplitude corresponding to the $\\ket{good}$ states by using the Grover operators described in the last section and in the second step we estimate the amplitude by using the Quantum Phase Estimation algorithm. \n"
   ]
  },
  {
   "cell_type": "code",
   "execution_count": 8,
   "metadata": {},
   "outputs": [
    {
     "name": "stdout",
     "output_type": "stream",
     "text": [
      "The history saving thread hit an unexpected error (OperationalError('database is locked')).History will not be written to the database.\n"
     ]
    }
   ],
   "source": [
    "## sub-routines for QPE ~\n",
    "def crot(qc, l):\n",
    "    \"\"\" Function to generate Controlled Rotation Ooeration  \"\"\"\n",
    "    if l == 0:\n",
    "        return qc\n",
    "    l = l-1\n",
    "    qc.h(l)\n",
    "    for q in range(l):\n",
    "        qc.cp(pi/2**(l-q), q, l)\n",
    "    #qc.barrier()\n",
    "    # qc.draw()\n",
    "    \n",
    "def QFT(qc):\n",
    "   \"\"\"function to generate QFT circuit \"\"\"\n",
    "   dim = qc.num_qubits\n",
    "   for q in range(dim):\n",
    "      crot(qc, dim-q)\n",
    "   for q in range(int(dim/2)):\n",
    "      qc.swap(q, dim-q-1)\n",
    "\n",
    "   #qc.draw()\n",
    "   return qc\n",
    "   "
   ]
  },
  {
   "cell_type": "code",
   "execution_count": 9,
   "metadata": {},
   "outputs": [],
   "source": [
    "## modified sub-routine for grover ~\n",
    "## Based on the 'grover_iterate()' function defined earlier\n",
    "def grover(patterns, grover_steps):\n",
    "    \n",
    "    dim = len(patterns[0])\n",
    "    \n",
    "    # create oracles ~\\\n",
    "    oracles = []\n",
    "    for pattern in patterns : oracles.append( to_oracle(pattern)) \n",
    "    \n",
    "    # create diffuser ~\\\n",
    "    diff = diffuser(dim)\n",
    "\n",
    "    # create circuit ~\\\n",
    "    qreg = QuantumRegister(dim, name= 'init')\n",
    "    ancilla = AncillaRegister(1, name='ancilla')\n",
    "    qc = QuantumCircuit(qreg, ancilla, name='grover'+'^'+str(grover_steps))\n",
    "    qc = grover_iterate(qc, oracles, diff, qreg, ancilla,grover_steps)\n",
    "  \n",
    "    return qc"
   ]
  },
  {
   "cell_type": "markdown",
   "metadata": {},
   "source": [
    "## 1 Qubit Example  :\n"
   ]
  },
  {
   "cell_type": "markdown",
   "metadata": {},
   "source": [
    "Say we have a single qubit state $ \\ket{\\psi_{0}} = \\sqrt{p} \\ket{1} + \\sqrt{1-p} \\ket{0} $ and we are interested in nuemrically estimating the amplitude of $\\ket{1}$ i.e 'a'.\n",
    "We can have, $\\sqrt{p} = sin(\\theta)$ and $\\sqrt{1-p} = cos(\\theta)\\\\$ \n",
    "Then the amplitude amplification process requires operator\n",
    "$\\begin{equation}\n",
    "    \\mathcal{Q} = -\\mathcal{S}_{\\ket{\\psi_0}} \\mathcal{S}_{\\ket{1}}\n",
    "\\end{equation}$\n",
    "where, $\\mathcal{S}_{\\ket{\\psi_0}} and \\mathcal{S}_{\\ket{1}}$ are reflection operators about $\\ket{\\psi_0}$ and $\\ket{1}$ respectively $\\\\$\n",
    "As, \n",
    "$\\mathcal{S}_{\\ket{\\psi_0}} = R_y(\\theta)$, and $\\mathcal{S}_{\\ket{\\psi_0}} = \\mathbb{I} - \\ket{1}\\bra{1}$, a simple algebra leads us to \n",
    "$\\mathcal{Q} = cos(\\theta) (\\ket{0}\\bra{0} + \\ket{1}\\bra{1}) + sin(\\theta) (\\ket{0}\\bra{1} - \\ket{1}\\bra{0}) = R_{y}(2\\theta) \\\\ $\n",
    " \n"
   ]
  },
  {
   "cell_type": "markdown",
   "metadata": {},
   "source": [
    "Note that applying the Grover operator $t$ times is equivalent to\n",
    "$$  \\mathcal{Q}^{t} \\ket{\\psi_0} = sin((2t+1)\\theta)\\ket{1} cos((2t+1)\\theta)\\ket{0}\n",
    " \n",
    "$$ "
   ]
  },
  {
   "cell_type": "markdown",
   "metadata": {},
   "source": [
    "Here we define some functions that would implement the state preparation $\\ket{\\psi_0}$ and grover operator $\\textbf{G}$"
   ]
  },
  {
   "cell_type": "code",
   "execution_count": 10,
   "metadata": {},
   "outputs": [],
   "source": [
    "## operator preparation ~\n",
    "def s_psi0(p):\n",
    "    \"\"\" Prepare a QuantumCircuit that intiates a state required\n",
    "        input:\n",
    "            p= amplitude \n",
    "        output:\n",
    "            s_psi0 gate                                            \"\"\"\n",
    "    qc = QuantumCircuit(1, name= \" S_psi0 \")\n",
    "    theta = 2*np.arcsin(np.sqrt(p))\n",
    "    qc.ry(theta, 0)\n",
    "\n",
    "    return qc.to_gate()\n",
    "\n",
    "def Q(p, power):\n",
    "    \"\"\" Prepare an Gate to implement 'Q^power' operator\n",
    "        input:\n",
    "            p= amplitude\n",
    "            power= no.of times 'Q' is imposed\n",
    "        output:\n",
    "            Q gate\"\"\"\n",
    "    theta = 2*np.arcsin(np.sqrt(p))\n",
    "    qc = QuantumCircuit(1, name= ' Q'+ '^'+ str(power) )\n",
    "    qc.ry(2*theta*power, 0)\n",
    "\n",
    "    return qc.to_gate()\n",
    "    "
   ]
  },
  {
   "cell_type": "markdown",
   "metadata": {},
   "source": [
    "Next let's set the 'p' value of your choice for the state preparation, and also choose the 'precision' of the QPE algorithm to generate the full implementation of the QAE algorithm."
   ]
  },
  {
   "cell_type": "code",
   "execution_count": 11,
   "metadata": {},
   "outputs": [
    {
     "data": {
      "text/html": [
       "<pre style=\"word-wrap: normal;white-space: pre;background: #fff0;line-height: 1.1;font-family: &quot;Courier New&quot;,Courier,monospace\">                  ┌───┐     ░                                  ░ ┌─────────┐\n",
       "precision_q_0: ───┤ H ├─────░────■─────────────────────────────░─┤0        ├\n",
       "                  ├───┤     ░    │                             ░ │         │\n",
       "precision_q_1: ───┤ H ├─────░────┼───────■─────────────────────░─┤1        ├\n",
       "                  ├───┤     ░    │       │                     ░ │  QFT_dg │\n",
       "precision_q_2: ───┤ H ├─────░────┼───────┼───────■─────────────░─┤2        ├\n",
       "                  ├───┤     ░    │       │       │             ░ │         │\n",
       "precision_q_3: ───┤ H ├─────░────┼───────┼───────┼───────■─────░─┤3        ├\n",
       "               ┌──┴───┴───┐ ░ ┌──┴───┐┌──┴───┐┌──┴───┐┌──┴───┐ ░ └─────────┘\n",
       "         qreg: ┤  S_psi0  ├─░─┤  Q^1 ├┤  Q^2 ├┤  Q^4 ├┤  Q^8 ├─░────────────\n",
       "               └──────────┘ ░ └──────┘└──────┘└──────┘└──────┘ ░            \n",
       "precision_c: 4/═════════════════════════════════════════════════════════════\n",
       "                                                                            </pre>"
      ],
      "text/plain": [
       "                  ┌───┐     ░                                  ░ ┌─────────┐\n",
       "precision_q_0: ───┤ H ├─────░────■─────────────────────────────░─┤0        ├\n",
       "                  ├───┤     ░    │                             ░ │         │\n",
       "precision_q_1: ───┤ H ├─────░────┼───────■─────────────────────░─┤1        ├\n",
       "                  ├───┤     ░    │       │                     ░ │  QFT_dg │\n",
       "precision_q_2: ───┤ H ├─────░────┼───────┼───────■─────────────░─┤2        ├\n",
       "                  ├───┤     ░    │       │       │             ░ │         │\n",
       "precision_q_3: ───┤ H ├─────░────┼───────┼───────┼───────■─────░─┤3        ├\n",
       "               ┌──┴───┴───┐ ░ ┌──┴───┐┌──┴───┐┌──┴───┐┌──┴───┐ ░ └─────────┘\n",
       "         qreg: ┤  S_psi0  ├─░─┤  Q^1 ├┤  Q^2 ├┤  Q^4 ├┤  Q^8 ├─░────────────\n",
       "               └──────────┘ ░ └──────┘└──────┘└──────┘└──────┘ ░            \n",
       "precision_c: 4/═════════════════════════════════════════════════════════════\n",
       "                                                                            "
      ]
     },
     "execution_count": 11,
     "metadata": {},
     "output_type": "execute_result"
    }
   ],
   "source": [
    "## set p ~\n",
    "p = 0.85\n",
    "\n",
    "## set precision ~\n",
    "precision = 4\n",
    "\n",
    "## generate the Quantum Circuit ~\n",
    "preg = QuantumRegister(precision, name= 'precision_q')\n",
    "qreg = QuantumRegister(1, name='qreg')\n",
    "creg = ClassicalRegister(precision, name='precision_c')\n",
    "qc = QuantumCircuit(preg,qreg, creg)\n",
    "\n",
    "qc.h(preg)\n",
    "qc.append(s_psi0(p), [precision] )\n",
    "qc.barrier()\n",
    "for q in range(precision):\n",
    "    qc.append(Q(p,2**q).control(1), [q]+list(range(precision,precision+1)) )\n",
    "\n",
    "qftgate_inv = QFT(QuantumCircuit(precision, name='QFT')).to_gate().inverse()\n",
    "qc.barrier()\n",
    "qc.append(qftgate_inv, list(range(precision)))\n",
    "\n",
    "\n",
    "qc.draw()"
   ]
  },
  {
   "cell_type": "markdown",
   "metadata": {},
   "source": [
    "All that is left now is to measure the precision qubits!"
   ]
  },
  {
   "cell_type": "code",
   "execution_count": 12,
   "metadata": {},
   "outputs": [],
   "source": [
    "qc.measure(preg, creg)\n",
    "job = execute(qc, backend= aer, shots= 2000)\n",
    "counts = job.result().get_counts()\n",
    "# counts"
   ]
  },
  {
   "cell_type": "markdown",
   "metadata": {},
   "source": [
    "and plot em'"
   ]
  },
  {
   "cell_type": "code",
   "execution_count": 13,
   "metadata": {},
   "outputs": [
    {
     "data": {
      "image/png": "[encoded data removed]",
      "text/plain": [
       "<Figure size 504x360 with 1 Axes>"
      ]
     },
     "execution_count": 13,
     "metadata": {},
     "output_type": "execute_result"
    }
   ],
   "source": [
    "plot_histogram(counts)"
   ]
  },
  {
   "cell_type": "markdown",
   "metadata": {},
   "source": [
    "We can see that the distributions is symmetric about the $\\ket{0001}$ state, this follows from the periodicity of the sine function. Next we calculate 'p' from the best estimates from our measurements\n"
   ]
  },
  {
   "cell_type": "code",
   "execution_count": 14,
   "metadata": {},
   "outputs": [
    {
     "name": "stdout",
     "output_type": "stream",
     "text": [
      "p =  0.8535533905932737\n",
      "p =  0.8535533905932737\n"
     ]
    }
   ],
   "source": [
    "no_estimates= 2\n",
    "estimate = sorted(zip(counts.values(), counts.keys()), reverse= True)\n",
    "for p in range(no_estimates): print('p = ',(np.sin(int(estimate[p][1], 2)*pi/(2**precision)))**2 )"
   ]
  },
  {
   "cell_type": "markdown",
   "metadata": {},
   "source": [
    "We obtain a pretty close approximation of 'p' = 0.853 from the two sgnificant peaks in the histogram. You can try setting up a different 'no_estimates' or 'precision' for a better result !"
   ]
  },
  {
   "cell_type": "markdown",
   "metadata": {},
   "source": [
    "Next we extend our implementation to multi-qubit case !"
   ]
  },
  {
   "cell_type": "code",
   "execution_count": 15,
   "metadata": {},
   "outputs": [],
   "source": [
    "def circuit_example(n_qubits, circuit_name):\n",
    "    qc = QuantumCircuit(n_qubits, name= circuit_name)\n",
    "    return qc.to_gate()"
   ]
  },
  {
   "cell_type": "markdown",
   "metadata": {},
   "source": [
    "## Generalised Multi-Qubit QAE"
   ]
  },
  {
   "cell_type": "markdown",
   "metadata": {},
   "source": [
    "For the multi qubit case consider a n-qubit system, such that some of its computational basis state are marked 'good' while others are marked 'bad' states as mentioned in the descussion above. \n",
    "Then if we start with an equal superposition state, then the initial state can be expressed as \n",
    "$\\begin{equation}\n",
    "    \\ket{\\psi_0} = \\sqrt{\\frac{M}{N}}\\ket{bad} + \\sqrt{\\frac{N-M}{N}}\\ket{good}\n",
    "\\end{equation}$\n",
    "where $N = 2^n$ is the no. of computational basis states and $M$ is the no. of 'good' states.$\\\\$\n",
    "Our aim here is to estimate the number of 'good' states $\\frac{M}{N}$ using QPE as proposed by Brassard et al ('96) $\\\\$\n",
    "As before we assume,\n",
    "$\\begin{align}\n",
    "    \\sqrt{\\frac{M}{N}} = cos(\\frac{\\theta}{2}) \\\\\n",
    "    \\sqrt{\\frac{N-M}{N}} = sin(\\frac{\\theta}{2})\n",
    "\\end{align}$ \n",
    "and then QPE to estimate the coeffcient of $\\ket{good}$ states.\n",
    "\n"
   ]
  },
  {
   "cell_type": "markdown",
   "metadata": {},
   "source": [
    "As before we chose set of binary strings as our pattern "
   ]
  },
  {
   "cell_type": "code",
   "execution_count": 16,
   "metadata": {},
   "outputs": [],
   "source": [
    "# patterns = [[0,1,1],[0,1,0],[1,1,1],[1,0,1],[1,1,0],[0,0,0],[0,0,1]]\n",
    "patterns = [[0,1,1,1],[0,0,1,0],[1,0,1,1], [0,0,0,0]]\n",
    "good_states = [ ''.join([str(elem) for elem in pattern]) for pattern in patterns ]"
   ]
  },
  {
   "cell_type": "markdown",
   "metadata": {},
   "source": [
    "Since, we are using M= 4 $\\ket{good}$ states out of N= 16 possible states, so ideally we should obtain $\\frac{3}{16}$ value of 0.25"
   ]
  },
  {
   "cell_type": "markdown",
   "metadata": {},
   "source": [
    "Here we illustrate how we can use qiskit's 'EstimationProblem' and 'AmplitudeEstimation' module to estimate the amplitude !\n"
   ]
  },
  {
   "cell_type": "code",
   "execution_count": 17,
   "metadata": {},
   "outputs": [],
   "source": [
    "## using qiksit Estimation problem module\n",
    "d = len(patterns[0])\n",
    "qreg = QuantumRegister(d)\n",
    "ancilla = AncillaRegister(1)\n",
    "stateprep = QuantumCircuit(qreg, ancilla)\n",
    "stateprep.h(qreg)\n",
    "\n",
    "estimation = EstimationProblem(stateprep, [0,1,2,3], grover_operator= grover(patterns,1), is_good_state= good_states)\n",
    "precision = 5\n",
    "ae = AmplitudeEstimation(\n",
    "    num_eval_qubits=precision,  # the number of evaluation qubits specifies circuit width and accuracy\n",
    "    quantum_instance= QuantumInstance(stv_simulator) \n",
    ")\n",
    "rslt = ae.estimate(estimation)\n",
    "# rslt.estimaation, rslt.mle , 7/8"
   ]
  },
  {
   "cell_type": "code",
   "execution_count": 18,
   "metadata": {},
   "outputs": [
    {
     "data": {
      "text/plain": [
       "(0.2222149, 0.2500000093022525, 0.25)"
      ]
     },
     "execution_count": 18,
     "metadata": {},
     "output_type": "execute_result"
    }
   ],
   "source": [
    "1-rslt.estimation, 1-rslt.mle , len(patterns)/2**(len(patterns[0])) "
   ]
  },
  {
   "cell_type": "markdown",
   "metadata": {},
   "source": [
    "Next we provide implementation of the above from scratch, the basic steps are the same as before! We set the 'precsion' to our required level, prepare the intial state $\\psi_0$ by applying 'H' gates to all qubits and then simply append our QPE steps to it."
   ]
  },
  {
   "cell_type": "code",
   "execution_count": 19,
   "metadata": {},
   "outputs": [
    {
     "data": {
      "text/html": [
       "<pre style=\"word-wrap: normal;white-space: pre;background: #fff0;line-height: 1.1;font-family: &quot;Courier New&quot;,Courier,monospace\">               ┌───┐                                                    »\n",
       "precision_q_0: ┤ H ├──────■─────────────────────────────────────────────»\n",
       "               ├───┤      │                                             »\n",
       "precision_q_1: ┤ H ├──────┼────────────■────────────────────────────────»\n",
       "               ├───┤      │            │                                »\n",
       "precision_q_2: ┤ H ├──────┼────────────┼────────────■───────────────────»\n",
       "               ├───┤      │            │            │                   »\n",
       "precision_q_3: ┤ H ├──────┼────────────┼────────────┼────────────■──────»\n",
       "               ├───┤      │            │            │            │      »\n",
       "precision_q_4: ┤ H ├──────┼────────────┼────────────┼────────────┼──────»\n",
       "               ├───┤┌─────┴─────┐┌─────┴─────┐┌─────┴─────┐┌─────┴─────┐»\n",
       "       qreg_0: ┤ H ├┤0          ├┤0          ├┤0          ├┤0          ├»\n",
       "               ├───┤│           ││           ││           ││           │»\n",
       "       qreg_1: ┤ H ├┤1          ├┤1          ├┤1          ├┤1          ├»\n",
       "               ├───┤│           ││           ││           ││           │»\n",
       "       qreg_2: ┤ H ├┤2 grover^1 ├┤2 grover^2 ├┤2 grover^4 ├┤2 grover^8 ├»\n",
       "               ├───┤│           ││           ││           ││           │»\n",
       "       qreg_3: ┤ H ├┤3          ├┤3          ├┤3          ├┤3          ├»\n",
       "               └───┘│           ││           ││           ││           │»\n",
       "      ancilla: ─────┤4          ├┤4          ├┤4          ├┤4          ├»\n",
       "                    └───────────┘└───────────┘└───────────┘└───────────┘»\n",
       " precison_c: 5/═════════════════════════════════════════════════════════»\n",
       "                                                                        »\n",
       "«                              ░ ┌─────────┐\n",
       "«precision_q_0: ───────────────░─┤0        ├\n",
       "«                              ░ │         │\n",
       "«precision_q_1: ───────────────░─┤1        ├\n",
       "«                              ░ │         │\n",
       "«precision_q_2: ───────────────░─┤2 QFT_dg ├\n",
       "«                              ░ │         │\n",
       "«precision_q_3: ───────────────░─┤3        ├\n",
       "«                              ░ │         │\n",
       "«precision_q_4: ──────■────────░─┤4        ├\n",
       "«               ┌─────┴──────┐ ░ └─────────┘\n",
       "«       qreg_0: ┤0           ├─░────────────\n",
       "«               │            │ ░            \n",
       "«       qreg_1: ┤1           ├─░────────────\n",
       "«               │            │ ░            \n",
       "«       qreg_2: ┤2 grover^16 ├─░────────────\n",
       "«               │            │ ░            \n",
       "«       qreg_3: ┤3           ├─░────────────\n",
       "«               │            │ ░            \n",
       "«      ancilla: ┤4           ├─░────────────\n",
       "«               └────────────┘ ░            \n",
       "« precison_c: 5/════════════════════════════\n",
       "«                                           </pre>"
      ],
      "text/plain": [
       "               ┌───┐                                                    »\n",
       "precision_q_0: ┤ H ├──────■─────────────────────────────────────────────»\n",
       "               ├───┤      │                                             »\n",
       "precision_q_1: ┤ H ├──────┼────────────■────────────────────────────────»\n",
       "               ├───┤      │            │                                »\n",
       "precision_q_2: ┤ H ├──────┼────────────┼────────────■───────────────────»\n",
       "               ├───┤      │            │            │                   »\n",
       "precision_q_3: ┤ H ├──────┼────────────┼────────────┼────────────■──────»\n",
       "               ├───┤      │            │            │            │      »\n",
       "precision_q_4: ┤ H ├──────┼────────────┼────────────┼────────────┼──────»\n",
       "               ├───┤┌─────┴─────┐┌─────┴─────┐┌─────┴─────┐┌─────┴─────┐»\n",
       "       qreg_0: ┤ H ├┤0          ├┤0          ├┤0          ├┤0          ├»\n",
       "               ├───┤│           ││           ││           ││           │»\n",
       "       qreg_1: ┤ H ├┤1          ├┤1          ├┤1          ├┤1          ├»\n",
       "               ├───┤│           ││           ││           ││           │»\n",
       "       qreg_2: ┤ H ├┤2 grover^1 ├┤2 grover^2 ├┤2 grover^4 ├┤2 grover^8 ├»\n",
       "               ├───┤│           ││           ││           ││           │»\n",
       "       qreg_3: ┤ H ├┤3          ├┤3          ├┤3          ├┤3          ├»\n",
       "               └───┘│           ││           ││           ││           │»\n",
       "      ancilla: ─────┤4          ├┤4          ├┤4          ├┤4          ├»\n",
       "                    └───────────┘└───────────┘└───────────┘└───────────┘»\n",
       " precison_c: 5/═════════════════════════════════════════════════════════»\n",
       "                                                                        »\n",
       "«                              ░ ┌─────────┐\n",
       "«precision_q_0: ───────────────░─┤0        ├\n",
       "«                              ░ │         │\n",
       "«precision_q_1: ───────────────░─┤1        ├\n",
       "«                              ░ │         │\n",
       "«precision_q_2: ───────────────░─┤2 QFT_dg ├\n",
       "«                              ░ │         │\n",
       "«precision_q_3: ───────────────░─┤3        ├\n",
       "«                              ░ │         │\n",
       "«precision_q_4: ──────■────────░─┤4        ├\n",
       "«               ┌─────┴──────┐ ░ └─────────┘\n",
       "«       qreg_0: ┤0           ├─░────────────\n",
       "«               │            │ ░            \n",
       "«       qreg_1: ┤1           ├─░────────────\n",
       "«               │            │ ░            \n",
       "«       qreg_2: ┤2 grover^16 ├─░────────────\n",
       "«               │            │ ░            \n",
       "«       qreg_3: ┤3           ├─░────────────\n",
       "«               │            │ ░            \n",
       "«      ancilla: ┤4           ├─░────────────\n",
       "«               └────────────┘ ░            \n",
       "« precison_c: 5/════════════════════════════\n",
       "«                                           "
      ]
     },
     "execution_count": 19,
     "metadata": {},
     "output_type": "execute_result"
    }
   ],
   "source": [
    "## implementation from scratch ~\n",
    "precision = 5 \n",
    "preg = QuantumRegister(precision, name='precision_q')\n",
    "qreg = QuantumRegister(4,name='qreg')\n",
    "ancilla = AncillaRegister(1, name='ancilla')\n",
    "creg = ClassicalRegister(precision, name='precison_c')\n",
    "\n",
    "qc = QuantumCircuit(preg, qreg, ancilla, creg)\n",
    "\n",
    "qc.h(preg)\n",
    "qc.h(qreg)\n",
    "for q in range(precision):\n",
    "    qc.append(grover(patterns,2**q).to_gate().control(1), [q]+list(range(precision,precision+5)) )\n",
    "\n",
    "qftgate_inv = QFT(QuantumCircuit(precision, name='QFT')).to_gate().inverse()\n",
    "qc.barrier()\n",
    "qc.append(qftgate_inv, list(range(precision)))\n",
    "\n",
    "qc.decompose(gates_to_decompose= ['grover^1']).draw()\n"
   ]
  },
  {
   "cell_type": "markdown",
   "metadata": {},
   "source": [
    "And measure and plot the outcomes...."
   ]
  },
  {
   "cell_type": "code",
   "execution_count": 20,
   "metadata": {},
   "outputs": [],
   "source": [
    "qc.measure(preg, creg)\n",
    "job = execute(qc, backend= aer, shots= 2000)\n",
    "counts = job.result().get_counts()\n",
    "# counts"
   ]
  },
  {
   "cell_type": "code",
   "execution_count": 21,
   "metadata": {},
   "outputs": [
    {
     "data": {
      "image/png": "[encoded data removed]",
      "text/plain": [
       "<Figure size 504x360 with 1 Axes>"
      ]
     },
     "execution_count": 21,
     "metadata": {},
     "output_type": "execute_result"
    }
   ],
   "source": [
    "plot_histogram(counts)"
   ]
  },
  {
   "cell_type": "markdown",
   "metadata": {},
   "source": [
    ".. and estimate the value $\\frac{M}{N}$.."
   ]
  },
  {
   "cell_type": "code",
   "execution_count": 22,
   "metadata": {},
   "outputs": [
    {
     "name": "stdout",
     "output_type": "stream",
     "text": [
      "M/N =  0.22221488349019902\n",
      "M/N =  0.2222148834901988\n",
      "M/N =  0.30865828381745475\n",
      "M/N =  0.3086582838174551\n"
     ]
    }
   ],
   "source": [
    "estimate = sorted(zip(counts.values(), counts.keys()), reverse= True)\n",
    "for p in range(4): print('M/N = ',1-(np.sin(int(estimate[p][1], 2)*pi/(2**precision)))**2 )"
   ]
  },
  {
   "cell_type": "markdown",
   "metadata": {},
   "source": [
    "The best estimate is around $M/N \\approx 0.22 $ giving $ M \\approx 3.5 $, which is pretty close to the actual value of $ M = 4 $! Try tweaking the 'precsion' levels to get a better estimate ."
   ]
  },
  {
   "cell_type": "code",
   "execution_count": null,
   "metadata": {},
   "outputs": [],
   "source": []
  },
  {
   "cell_type": "markdown",
   "metadata": {},
   "source": [
    "## QAE based on Maximum Likelihood Estimation"
   ]
  },
  {
   "cell_type": "markdown",
   "metadata": {},
   "source": [
    "In this section we wil elborate a rather different scheme of amplitude estiamtion which does not involve quantum phase estiamtion. This technique was first proposed by Suzuki et al in https://arxiv.org/abs/1904.10246. The main motivation to not use QPE in our estimation algorithm is the incresead circuit depth introduced due to repeated application of the grover operators. Given the contemporary NISQ devices our implementations would accumulate significant amount of errors with increasing depth of the ciruit such that our estimates might become invalid.\n"
   ]
  },
  {
   "cell_type": "markdown",
   "metadata": {},
   "source": [
    "To get around this problem we use the follwing scheme. \n",
    "\n",
    "We know from our discussion above that for an arbitrary intial state of $\\ket{\\psi_0} = sin(\\theta)\\ket{good} + cos(\\theta)\\ket{bad}$ , applying the grover operator $\\mathcal{Q}$ $t$ times leads to,\n",
    "$$  \\mathcal{Q}^t \\ket{\\psi_0} = sin((2t+1)\\theta) \\ket{good} + cos((2t+1)\\theta) \\ket{bad}\n",
    "$$ \n",
    "Now if one measures the state in comptational basis, the probabiility of measuring it in $\\ket{good}$ state would be  $\\mathtt{P}(\\ket{good}) = |sin((2t+1))|^2$ for a single measurement. Thus it follows that if we measure the states 'N' times probability of getting $\\ket{good}$ states 'h' times is given by the likelihood function as\n",
    "$$      \\mathtt{P}(N,h,t|\\theta) = \\big( |sin((2t+1)\\theta)|^2  \\big)^h \\big( |cos((2t+1)\\theta)|^2  \\big)^{N-h}\n",
    "$$"
   ]
  },
  {
   "cell_type": "markdown",
   "metadata": {},
   "source": [
    "Since our onjective here is to get an estimate of $\\theta $, we can do a brute force search over some equidistant grid of $\\theta$ values such that the likelihood $\\mathtt{P}(N,h,t|\\theta)$ is maximised. "
   ]
  },
  {
   "cell_type": "markdown",
   "metadata": {},
   "source": [
    "As described in the paper by Suzuki et al we can obtain a sequence of likelihood functions by using different possible values of $N$ and $t$ and combine them  \n",
    "$$  \\mathtt{P'} = \\Pi_{N_i,t_i, h_i} \\mathtt{P}(N_i, t_i, h_i|\\theta)\n",
    "$$ \n",
    "\n",
    "and find $\\theta$ tha maximises the combined likelihood function."
   ]
  },
  {
   "cell_type": "markdown",
   "metadata": {},
   "source": [
    "The data for the estimation problem is obtained by experimentting on the various values of N and t and measuring the corresponding h in form {$(N_1,t_1,h_1), (N_2,t_2,h_2), (N_3,t_3,h_3)$ ... } ."
   ]
  },
  {
   "cell_type": "code",
   "execution_count": 23,
   "metadata": {},
   "outputs": [
    {
     "data": {
      "text/html": [
       "<pre style=\"word-wrap: normal;white-space: pre;background: #fff0;line-height: 1.1;font-family: &quot;Courier New&quot;,Courier,monospace\">        ┌──────────┐ ░ ┌──────┐┌─┐\n",
       "  qreg: ┤  S_psi0  ├─░─┤  Q^1 ├┤M├\n",
       "        └──────────┘ ░ └──────┘└╥┘\n",
       "creg: 1/════════════════════════╩═\n",
       "                                0 </pre>"
      ],
      "text/plain": [
       "        ┌──────────┐ ░ ┌──────┐┌─┐\n",
       "  qreg: ┤  S_psi0  ├─░─┤  Q^1 ├┤M├\n",
       "        └──────────┘ ░ └──────┘└╥┘\n",
       "creg: 1/════════════════════════╩═\n",
       "                                0 "
      ]
     },
     "execution_count": 23,
     "metadata": {},
     "output_type": "execute_result"
    }
   ],
   "source": [
    "## example circuit\n",
    "\n",
    "p , q = 0.3, 1    \n",
    "qreg = QuantumRegister(1, name= 'qreg')\n",
    "creg = ClassicalRegister(1, name= 'creg')\n",
    "qc = QuantumCircuit(qreg, creg )\n",
    "\n",
    "qc.append(s_psi0(p),[0])\n",
    "qc.barrier()\n",
    "qc.append(Q(p, q), [0])\n",
    "\n",
    "qc.measure(qreg, creg)\n",
    "qc.draw()"
   ]
  },
  {
   "cell_type": "code",
   "execution_count": 24,
   "metadata": {},
   "outputs": [
    {
     "data": {
      "text/html": [
       "<pre style=\"word-wrap: normal;white-space: pre;background: #fff0;line-height: 1.1;font-family: &quot;Courier New&quot;,Courier,monospace\">        ┌──────────┐ ░ ┌──────┐┌─┐\n",
       "  qreg: ┤  S_psi0  ├─░─┤  Q^2 ├┤M├\n",
       "        └──────────┘ ░ └──────┘└╥┘\n",
       "creg: 1/════════════════════════╩═\n",
       "                                0 </pre>"
      ],
      "text/plain": [
       "        ┌──────────┐ ░ ┌──────┐┌─┐\n",
       "  qreg: ┤  S_psi0  ├─░─┤  Q^2 ├┤M├\n",
       "        └──────────┘ ░ └──────┘└╥┘\n",
       "creg: 1/════════════════════════╩═\n",
       "                                0 "
      ]
     },
     "execution_count": 24,
     "metadata": {},
     "output_type": "execute_result"
    }
   ],
   "source": [
    "## example circuit\n",
    "\n",
    "p , q = 0.3, 2   \n",
    "qreg = QuantumRegister(1, name= 'qreg')\n",
    "creg = ClassicalRegister(1, name= 'creg')\n",
    "qc = QuantumCircuit(qreg, creg )\n",
    "\n",
    "qc.append(s_psi0(p),[0])\n",
    "qc.barrier()\n",
    "qc.append(Q(p, q), [0])\n",
    "\n",
    "qc.measure(qreg, creg)\n",
    "qc.draw()"
   ]
  },
  {
   "cell_type": "code",
   "execution_count": 25,
   "metadata": {},
   "outputs": [
    {
     "data": {
      "text/html": [
       "<pre style=\"word-wrap: normal;white-space: pre;background: #fff0;line-height: 1.1;font-family: &quot;Courier New&quot;,Courier,monospace\">        ┌──────────┐ ░ ┌──────┐┌─┐\n",
       "  qreg: ┤  S_psi0  ├─░─┤  Q^4 ├┤M├\n",
       "        └──────────┘ ░ └──────┘└╥┘\n",
       "creg: 1/════════════════════════╩═\n",
       "                                0 </pre>"
      ],
      "text/plain": [
       "        ┌──────────┐ ░ ┌──────┐┌─┐\n",
       "  qreg: ┤  S_psi0  ├─░─┤  Q^4 ├┤M├\n",
       "        └──────────┘ ░ └──────┘└╥┘\n",
       "creg: 1/════════════════════════╩═\n",
       "                                0 "
      ]
     },
     "execution_count": 25,
     "metadata": {},
     "output_type": "execute_result"
    }
   ],
   "source": [
    "## example circuit\n",
    "\n",
    "p , q = 0.3, 4\n",
    "qreg = QuantumRegister(1, name= 'qreg')\n",
    "creg = ClassicalRegister(1, name= 'creg')\n",
    "qc = QuantumCircuit(qreg, creg )\n",
    "\n",
    "qc.append(s_psi0(p),[0])\n",
    "qc.barrier()\n",
    "qc.append(Q(p, q), [0])\n",
    "\n",
    "qc.measure(qreg, creg)\n",
    "qc.draw()"
   ]
  },
  {
   "cell_type": "markdown",
   "metadata": {},
   "source": [
    "However for most practical cases one or two intances of the likelihood function yeilds reasonably accurate estimates !"
   ]
  },
  {
   "cell_type": "markdown",
   "metadata": {},
   "source": [
    "Now let's see an example of amplitude estimation using maximum liklihood estimation for the simple one qubit case, where we have \n",
    "$$ \\ket{\\psi_0} = \\sqrt{a}\\ket{1} + \\sqrt{1-a}\\ket{0}\n",
    "$$\n",
    "and our aim as before is to estimate 'a'."
   ]
  },
  {
   "cell_type": "markdown",
   "metadata": {},
   "source": [
    "First let's define some helper functions to assist us in this task "
   ]
  },
  {
   "cell_type": "code",
   "execution_count": 26,
   "metadata": {},
   "outputs": [],
   "source": [
    "## helper functions for likelihood estimation\n",
    "def likelihood(n,m, shots, thetas= np.linspace(0, 2*pi, 100), log= False):\n",
    "    \"\"\" Generate likelihood function over the given range of 'thetas'\n",
    "        Input:\n",
    "            n = count of 'good' state i.e '1'\n",
    "            m = no. of grover steps\n",
    "            shots = no. of shots\n",
    "            thetas = range of angles \n",
    "            log = (Bool) return the log value of likelihood   \n",
    "        Output:\n",
    "            dictionary containing {theta: liklihood(theta)} pairs\"\"\"\n",
    "    dic = {}\n",
    "    for theta in thetas: \n",
    "        dic[theta] = (((np.sin((2*m+1)*theta))**2)**n)*(((np.cos((2*m+1)*theta))**2)**(shots-n)) \n",
    "        if log== True: dic[theta] = np.log((((np.sin((2*m+1)*theta))**2)**n)*(((np.cos((2*m+1)*theta))**2)**(shots-n)) )\n",
    "    return dic\n",
    "\n",
    "def combine_likelihood(lkhs):\n",
    "    \"\"\" Combine a list of liklehoods \"\"\"\n",
    "    dic = lkhs[0]\n",
    "    for lkh in lkhs[1:]: \n",
    "        for theta in lkh.keys():\n",
    "            dic[theta] = dic[theta]*lkh[theta]\n",
    "            \n",
    "    return dic\n",
    "\n",
    "def generate_le(p,q= 1, shots= 100, thetas= np.linspace(0, 2*pi, 50, endpoint= False)):\n",
    "    \"\"\" Generate likelihood for various values of 'p' and 'q' \n",
    "        Input:\n",
    "            p= amplitude\n",
    "            q= no. of grover steps\n",
    "        Output:\n",
    "            dictionary of likelihood\n",
    "            \"\"\"\n",
    "        \n",
    "    qreg = QuantumRegister(1, name= 'qreg')\n",
    "    creg = ClassicalRegister(1, name= 'creg')\n",
    "    qc = QuantumCircuit(qreg, creg )\n",
    "\n",
    "    qc.append(s_psi0(p),[0])\n",
    "    qc.barrier()\n",
    "    qc.append(Q(p, q), [0])\n",
    "\n",
    "    qc.measure(qreg, creg)\n",
    "    counts =  execute(qc, backend= aer, shots = shots).result().get_counts()\n",
    "    le = likelihood(counts['1'],q,shots,thetas= thetas)\n",
    "\n",
    "    return le\n",
    "    \n",
    "    "
   ]
  },
  {
   "cell_type": "markdown",
   "metadata": {},
   "source": [
    "Let's know proceed with our example"
   ]
  },
  {
   "cell_type": "code",
   "execution_count": 27,
   "metadata": {},
   "outputs": [],
   "source": [
    "## set p \n",
    "p = 0.23\n",
    "\n",
    "## set values of q for which observation is required\n",
    "qs= [1,2,3,4,5,6,7]\n",
    "\n",
    "## generatte liklihoods for q in qs\n",
    "les = [ generate_le(p, q= q, shots= 50 ) for q in qs ]\n",
    "\n",
    "## combine the genrated likelihoods\n",
    "les_f = combine_likelihood(les)"
   ]
  },
  {
   "cell_type": "markdown",
   "metadata": {},
   "source": [
    "Here we plot the likelihood function evaluated over the grid of theta values for different values of the grover steps"
   ]
  },
  {
   "cell_type": "code",
   "execution_count": 28,
   "metadata": {},
   "outputs": [
    {
     "data": {
      "image/png": "[encoded data removed]",
      "text/plain": [
       "<Figure size 504x360 with 1 Axes>"
      ]
     },
     "execution_count": 28,
     "metadata": {},
     "output_type": "execute_result"
    }
   ],
   "source": [
    "plot_histogram(les, legend = [str(i) for i in qs ])"
   ]
  },
  {
   "cell_type": "markdown",
   "metadata": {},
   "source": [
    "And also the combined likelihood function "
   ]
  },
  {
   "cell_type": "code",
   "execution_count": 29,
   "metadata": {},
   "outputs": [
    {
     "data": {
      "image/png": "[encoded data removed]",
      "text/plain": [
       "<Figure size 504x360 with 1 Axes>"
      ]
     },
     "execution_count": 29,
     "metadata": {},
     "output_type": "execute_result"
    }
   ],
   "source": [
    "plot_histogram(les_f)"
   ]
  },
  {
   "cell_type": "code",
   "execution_count": 30,
   "metadata": {},
   "outputs": [
    {
     "name": "stdout",
     "output_type": "stream",
     "text": [
      "theta =  2.6389378290154264\n",
      " p =  0.23208660251050164\n",
      "theta =  5.7805304826052195\n",
      " p =  0.23208660251050173\n",
      "theta =  3.6442474781641603\n",
      " p =  0.23208660251050178\n",
      "theta =  0.5026548245743669\n",
      " p =  0.23208660251050173\n"
     ]
    }
   ],
   "source": [
    "i = 4\n",
    "estimate = sorted(zip(les[i].values(), les[i].keys()), reverse= True)\n",
    "for p in range(4): print('theta = ',estimate[p][1] ), print(' p = ', (np.sin(estimate[p][1]))**2 ) "
   ]
  },
  {
   "cell_type": "code",
   "execution_count": 31,
   "metadata": {},
   "outputs": [
    {
     "name": "stdout",
     "output_type": "stream",
     "text": [
      "theta =  2.6389378290154264\n",
      " p =  0.23208660251050164\n",
      "theta =  5.7805304826052195\n",
      " p =  0.23208660251050173\n",
      "theta =  3.6442474781641603\n",
      " p =  0.23208660251050178\n",
      "theta =  0.5026548245743669\n",
      " p =  0.23208660251050173\n",
      "theta =  0.7539822368615504\n",
      " p =  0.4686047402353434\n"
     ]
    }
   ],
   "source": [
    "estimate = sorted(zip(les_f.values(), les_f.keys()), reverse= True)\n",
    "for p in range(5): print('theta = ',estimate[p][1] ), print(' p = ', (np.sin(estimate[p][1]))**2 ) "
   ]
  },
  {
   "cell_type": "code",
   "execution_count": null,
   "metadata": {},
   "outputs": [],
   "source": []
  },
  {
   "cell_type": "code",
   "execution_count": null,
   "metadata": {},
   "outputs": [],
   "source": []
  },
  {
   "cell_type": "markdown",
   "metadata": {},
   "source": [
    "## Some Applications of QAE algorithm"
   ]
  },
  {
   "cell_type": "markdown",
   "metadata": {},
   "source": [
    "One useful application of the techniques develpoed in the previous sections is to do Monte-Carlo integration. Using QAE we can estimate averages quadratically faster than classical monte carlo technique."
   ]
  },
  {
   "cell_type": "markdown",
   "metadata": {},
   "source": [
    "Here we provide a breif overview of this technique using one example. For a detailed anlalysis refer to  https://arxiv.org/abs/1904.10246. "
   ]
  },
  {
   "cell_type": "markdown",
   "metadata": {},
   "source": [
    "Say we have a continuous function $f(x)$ defined over some interval $d_x : (x_{min}, x_{max})$ and there is some probability distribution $P(x)$ defined over that domain. Then our aim here is to estimate $\\braket{f(x)}$ as \n",
    "$$ \\braket{f(x)} = \\int_{x \\in d_x} f(x) \\: P(x) \\: dx\n",
    "$$\n",
    "using QAE. "
   ]
  },
  {
   "cell_type": "markdown",
   "metadata": {},
   "source": [
    "However fist we need to discretize the interval $d_x$ where the level of discretization depends on the number of qubits we are using, for eg. using 'n' qubits gives us an $2^n$ bdiscrete units. We can express the discretization as $\\phi(x)$, then the integral becomes\n",
    "$$  \\braket{f(x)} = \\sum_{\\phi(x)} f(\\phi(x)) P(\\phi(x))\n",
    "$$\n",
    "$ %\\ket{b_i} = x_{min} + \\frac{x_{max} - x_{min} }{2^n}       $"
   ]
  },
  {
   "cell_type": "markdown",
   "metadata": {},
   "source": [
    "To evaluate the sum abov using QAE we need to follow this steps:\n",
    "\n",
    "First we load the probability distribution 'P(x)' on the qubits, i.e implement \n",
    "$$  \\mathbf{P}(x) \\ket{0}_n \\to \\sqrt{P(\\phi(x))}\\ket{x}_n $$ \n",
    " As shown in the figure below"
   ]
  },
  {
   "cell_type": "code",
   "execution_count": 32,
   "metadata": {},
   "outputs": [
    {
     "data": {
      "text/html": [
       "<pre style=\"word-wrap: normal;white-space: pre;background: #fff0;line-height: 1.1;font-family: &quot;Courier New&quot;,Courier,monospace\">         ┌───────┐\n",
       "    q_0: ┤0      ├\n",
       "         │       │\n",
       "    q_1: ┤1      ├\n",
       "         │  P(x) │\n",
       "    q_2: ┤2      ├\n",
       "         │       │\n",
       "    q_3: ┤3      ├\n",
       "         └───────┘\n",
       "ancilla: ─────────\n",
       "                  </pre>"
      ],
      "text/plain": [
       "         ┌───────┐\n",
       "    q_0: ┤0      ├\n",
       "         │       │\n",
       "    q_1: ┤1      ├\n",
       "         │  P(x) │\n",
       "    q_2: ┤2      ├\n",
       "         │       │\n",
       "    q_3: ┤3      ├\n",
       "         └───────┘\n",
       "ancilla: ─────────\n",
       "                  "
      ]
     },
     "execution_count": 32,
     "metadata": {},
     "output_type": "execute_result"
    }
   ],
   "source": [
    "nq = 4\n",
    "qreg = QuantumRegister(nq, name= 'q')\n",
    "ancilla = QuantumRegister(1, name= 'ancilla')\n",
    "qc = QuantumCircuit(qreg, ancilla)\n",
    "qc.append( circuit_example(nq, 'P(x)'), list(range(nq)) )\n",
    "\n",
    "qc.draw()"
   ]
  },
  {
   "cell_type": "markdown",
   "metadata": {},
   "source": [
    "For practical implementtation we can use the pre-defined distributions from qiskit's circuit library or initialte the statevector by manually designating an appropraite value vector. \n",
    "\n",
    "Here is an example where we prepare a circuit that produces a Nornal distribution with zero mean and unit variance "
   ]
  },
  {
   "cell_type": "code",
   "execution_count": 33,
   "metadata": {},
   "outputs": [],
   "source": [
    "from qiskit_finance.circuit.library import LogNormalDistribution, NormalDistribution"
   ]
  },
  {
   "cell_type": "code",
   "execution_count": 34,
   "metadata": {},
   "outputs": [
    {
     "data": {
      "text/html": [
       "<pre style=\"word-wrap: normal;white-space: pre;background: #fff0;line-height: 1.1;font-family: &quot;Courier New&quot;,Courier,monospace\">     ┌─────────┐\n",
       "q_0: ┤0        ├\n",
       "     │         │\n",
       "q_1: ┤1        ├\n",
       "     │         │\n",
       "q_2: ┤2 N(0,1) ├\n",
       "     │         │\n",
       "q_3: ┤3        ├\n",
       "     │         │\n",
       "q_4: ┤4        ├\n",
       "     └─────────┘</pre>"
      ],
      "text/plain": [
       "     ┌─────────┐\n",
       "q_0: ┤0        ├\n",
       "     │         │\n",
       "q_1: ┤1        ├\n",
       "     │         │\n",
       "q_2: ┤2 N(0,1) ├\n",
       "     │         │\n",
       "q_3: ┤3        ├\n",
       "     │         │\n",
       "q_4: ┤4        ├\n",
       "     └─────────┘"
      ]
     },
     "execution_count": 34,
     "metadata": {},
     "output_type": "execute_result"
    }
   ],
   "source": [
    "n_qubit = 5\n",
    "mean, std = 0, 0.3\n",
    "nrml_dist = NormalDistribution(n_qubit, mu= mean, sigma= std, name= 'N(0,1)')\n",
    "nrml_dist.draw()"
   ]
  },
  {
   "cell_type": "code",
   "execution_count": 35,
   "metadata": {},
   "outputs": [
    {
     "data": {
      "image/png": "[encoded data removed]",
      "text/plain": [
       "<Figure size 504x360 with 1 Axes>"
      ]
     },
     "execution_count": 35,
     "metadata": {},
     "output_type": "execute_result"
    }
   ],
   "source": [
    "nrml_dist.measure_all()\n",
    "plot_histogram( execute(nrml_dist, aer, shots= 10024 ).result().get_counts() ,bar_labels= False, sort='desc')"
   ]
  },
  {
   "cell_type": "markdown",
   "metadata": {},
   "source": [
    "Next we need to load the function $f(\\phi(x))$ in the following manner,\n",
    "$$  \\mathbf{F}(x) \\ket{x}_n \\ket{+}= \\sqrt{f(\\phi(x))} \\ket{x}_n\\ket{1} + \\sqrt{1-f(\\phi(x))} \\ket{x}_n\\ket{0} $$\n",
    "as shown in the figure below"
   ]
  },
  {
   "cell_type": "code",
   "execution_count": 36,
   "metadata": {},
   "outputs": [
    {
     "data": {
      "text/html": [
       "<pre style=\"word-wrap: normal;white-space: pre;background: #fff0;line-height: 1.1;font-family: &quot;Courier New&quot;,Courier,monospace\">         ┌───────┐┌───────┐\n",
       "    q_0: ┤0      ├┤0      ├\n",
       "         │       ││       │\n",
       "    q_1: ┤1      ├┤1      ├\n",
       "         │  P(x) ││       │\n",
       "    q_2: ┤2      ├┤2 F(x) ├\n",
       "         │       ││       │\n",
       "    q_3: ┤3      ├┤3      ├\n",
       "         └───────┘│       │\n",
       "ancilla: ─────────┤4      ├\n",
       "                  └───────┘</pre>"
      ],
      "text/plain": [
       "         ┌───────┐┌───────┐\n",
       "    q_0: ┤0      ├┤0      ├\n",
       "         │       ││       │\n",
       "    q_1: ┤1      ├┤1      ├\n",
       "         │  P(x) ││       │\n",
       "    q_2: ┤2      ├┤2 F(x) ├\n",
       "         │       ││       │\n",
       "    q_3: ┤3      ├┤3      ├\n",
       "         └───────┘│       │\n",
       "ancilla: ─────────┤4      ├\n",
       "                  └───────┘"
      ]
     },
     "execution_count": 36,
     "metadata": {},
     "output_type": "execute_result"
    }
   ],
   "source": [
    "qc.append( circuit_example(nq+1, 'F(x)'), list(range(nq+1)) )\n",
    "qc.draw()"
   ]
  },
  {
   "cell_type": "markdown",
   "metadata": {},
   "source": [
    "However, note that implementing the $\\mathbb{F}(x)$ is usually an non-trivial task. One approach is to exapnd the function $f(x)$ in taylor seriies and then use ```cry``` gates controlled by the 'ancilla' to prepare the circuit. When $f(x)$ is linear or peicewise linear we can use qiskit's $\\: $ ```LinearAmplitudeFunction``` to effectively get results."
   ]
  },
  {
   "cell_type": "markdown",
   "metadata": {},
   "source": [
    "With the action of $\\mathbf{P}(x)$ followed by $\\mathbf{F}(x)$,  we have the state\n",
    "$$  \\ket{\\psi} = \\sqrt{f(\\phi(x)))} \\sqrt{P(\\phi(x))} \\ket{x}_n\\ket{1} + \\sqrt{1-f(\\phi(x))} \\sqrt{P(\\phi(x))} \\ket{x}_n\\ket{0} $$\n",
    "Thus, the the required expectation $\\braket{f(x)}$ can be read of from the probability of obtaining the ancilla state in $\\ket{1}$\n",
    "$$  \\mathbb{P}(\\ket{1}) =   \\sum_{\\phi(x)} f(\\phi(x)) P(\\phi(x))     $$\n"
   ]
  },
  {
   "cell_type": "markdown",
   "metadata": {},
   "source": [
    "Instead of directly measuring the ancilla we can also use the methods described above to first amplify the amplitude of the $\\ket{1}$ stae for the ancilla qubit and then estimate it using QAE."
   ]
  },
  {
   "cell_type": "markdown",
   "metadata": {},
   "source": [
    "Here consider the example where we are integrating an function $  sin^{2}(x) dx $ numerically.\n",
    "\n",
    "Say, we want to do $\\mathcal{I} =  \\frac{1}{n_{max}} \\int_{0}^{n_{max}} sin^{2}(x) dx $"
   ]
  },
  {
   "cell_type": "markdown",
   "metadata": {},
   "source": [
    "Numerically  $\\; \\mathcal{I} = \\sum_{x} sin^2(\\frac{(x + 1/2)n_{max}}{2^n}) $\n",
    "\n",
    "To put it in the form above we choose an uniform distribution for the probability distribution, i.e $\\mathbf{P}(\\phi(x)) = \\frac{1}{2^n}$, which can easily be obtained be Hadamard'ing all the qubits.\n",
    "\n",
    "\n",
    "Below we check the difference between the analytic result and the discretized result numerically, withou using QAE."
   ]
  },
  {
   "cell_type": "code",
   "execution_count": 37,
   "metadata": {},
   "outputs": [
    {
     "name": "stdout",
     "output_type": "stream",
     "text": [
      "Analytical Result: 0.08650332843365593\n",
      "Discretized Result: 0.08642951552645953\n"
     ]
    }
   ],
   "source": [
    "## discretization of the integral domain x in [0, 2^{n}-1] by using n qubits ~\n",
    "nmax = pi/6  # upper limit of integral\n",
    "nbit = 4 # level of discretization\n",
    "\n",
    "analyticResult = (nmax / 2.0 - np.sin(2 * nmax) / 4.0 ) / nmax  # the target integral can be analytically solved\n",
    "print(\"Analytical Result:\", analyticResult)\n",
    "\n",
    "ndiv = 2**nbit  # level of discretization \n",
    "discretizedResult = 0.0\n",
    "for i in range(ndiv):\n",
    "    discretizedResult += np.sin(nmax / ndiv * (i + 0.5))**2\n",
    "discretizedResult = discretizedResult / ndiv\n",
    "print(\"Discretized Result:\", discretizedResult)"
   ]
  },
  {
   "cell_type": "markdown",
   "metadata": {},
   "source": [
    "Let us now calculate the above result using the technique described above "
   ]
  },
  {
   "cell_type": "code",
   "execution_count": 38,
   "metadata": {},
   "outputs": [],
   "source": [
    "def feval(nmax,nbit):\n",
    "    qreg = QuantumRegister(nbit, name= 'qreg')\n",
    "    ancilla = QuantumRegister(1, name= 'ancilla')\n",
    "    qc = QuantumCircuit(qreg, ancilla, name= 'f(x)') \n",
    "\n",
    "    qc.ry(nmax/(2**nbit), ancilla)\n",
    "    for qubit in range(nbit): qc.cry(nmax/(2**(nbit - qubit- 1)), qubit, ancilla )\n",
    "\n",
    "    return qc.to_gate()\n",
    "\n",
    "## generate generalised grover operators ~\n",
    "def Q0(nmax, nbit):\n",
    "    qreg = QuantumRegister(nbit, name= 'qreg')\n",
    "    ancilla = QuantumRegister(1, name= 'ancilla')\n",
    "    qc = QuantumCircuit(qreg, ancilla, name= 'Q0') \n",
    "\n",
    "    qc.z(ancilla)\n",
    "    return qc\n",
    "\n",
    "def Q1(nmax, nbit):\n",
    "    qreg = QuantumRegister(nbit, name= 'qreg')\n",
    "    ancilla = QuantumRegister(1, name= 'ancilla')\n",
    "    qc = QuantumCircuit(qreg, ancilla, name= \"Q1\") \n",
    "\n",
    "    qc.append(feval(nmax, nbit), list(range(nbit+1)))\n",
    "    qc.h(qreg)\n",
    "\n",
    "    qc.x(qreg)\n",
    "    qc.x(ancilla)\n",
    "    qc.h(ancilla)\n",
    "    qc.mcx(list(range(len(qreg))), ancilla)\n",
    "    qc.h(ancilla)\n",
    "    qc.x(ancilla)\n",
    "    qc.x(qreg)\n",
    "    \n",
    "\n",
    "    qc.h(qreg)\n",
    "    qc.append(feval(nmax, nbit).inverse(), list(range(nbit+1)))\n",
    "    \n",
    "    return qc\n",
    "\n",
    "def grover_integration(nbit, nmax, steps):\n",
    "    qreg = QuantumRegister(nbit, name= 'qreg')\n",
    "    ancilla = QuantumRegister(1, name= 'ancilla')\n",
    "    qc = QuantumCircuit(qreg, ancilla, name= 'grover^'+ str(steps))\n",
    "\n",
    "    q0 = Q0(nmax, nbit).to_gate()\n",
    "    q1 = Q1(nmax, nbit).to_gate()\n",
    "\n",
    "\n",
    "    for step in range(steps):\n",
    "        qc.compose(q0, inplace= True)\n",
    "        qc.compose(q1, inplace= True)\n",
    "\n",
    "    return qc.to_gate()"
   ]
  },
  {
   "cell_type": "code",
   "execution_count": 39,
   "metadata": {},
   "outputs": [
    {
     "data": {
      "text/html": [
       "<pre style=\"word-wrap: normal;white-space: pre;background: #fff0;line-height: 1.1;font-family: &quot;Courier New&quot;,Courier,monospace\">         ┌───┐┌───────┐ ░ \n",
       " qreg_0: ┤ H ├┤0      ├─░─\n",
       "         ├───┤│       │ ░ \n",
       " qreg_1: ┤ H ├┤1      ├─░─\n",
       "         ├───┤│       │ ░ \n",
       " qreg_2: ┤ H ├┤2 f(x) ├─░─\n",
       "         ├───┤│       │ ░ \n",
       " qreg_3: ┤ H ├┤3      ├─░─\n",
       "         └───┘│       │ ░ \n",
       "ancilla: ─────┤4      ├─░─\n",
       "              └───────┘ ░ </pre>"
      ],
      "text/plain": [
       "         ┌───┐┌───────┐ ░ \n",
       " qreg_0: ┤ H ├┤0      ├─░─\n",
       "         ├───┤│       │ ░ \n",
       " qreg_1: ┤ H ├┤1      ├─░─\n",
       "         ├───┤│       │ ░ \n",
       " qreg_2: ┤ H ├┤2 f(x) ├─░─\n",
       "         ├───┤│       │ ░ \n",
       " qreg_3: ┤ H ├┤3      ├─░─\n",
       "         └───┘│       │ ░ \n",
       "ancilla: ─────┤4      ├─░─\n",
       "              └───────┘ ░ "
      ]
     },
     "execution_count": 39,
     "metadata": {},
     "output_type": "execute_result"
    }
   ],
   "source": [
    "qreg = QuantumRegister(nbit, name= 'qreg')\n",
    "ancilla = QuantumRegister(1, name= 'ancilla')\n",
    "qc = QuantumCircuit(qreg, ancilla) \n",
    "\n",
    "qc.h(qreg)\n",
    "qc.append(feval(nmax, nbit), list(range(nbit+1)))\n",
    "qc.barrier()\n",
    "\n",
    "# qc.compose(grover(nbit, nmax, 2), inplace= True)\n",
    "\n",
    "qc.draw()"
   ]
  },
  {
   "cell_type": "code",
   "execution_count": 40,
   "metadata": {},
   "outputs": [],
   "source": [
    "## estimation sub-routine\n",
    "def generate_le(nbit, nmax, grovers= 1, shots= 100 , p_val = np.linspace(0.10, 0.15, 50) ):\n",
    "    def likelihood(grovers , shots, p_vals = np.linspace(0, 2*pi, 100)):\n",
    "        dic = {}\n",
    "        for p in p_vals: \n",
    "            dic[p] = p**(grovers) \n",
    "        return dic\n",
    "\n",
    "    def combine_likelihood(lkhs):\n",
    "        dic = lkhs[0]\n",
    "        for lkh in lkhs[1:]: \n",
    "            for theta in lkh.keys():\n",
    "                dic[theta] = dic[theta]*lkh[theta]     \n",
    "        return dic\n",
    "    \n",
    "    qreg = QuantumRegister(nbit, name= 'qreg')\n",
    "    ancilla = QuantumRegister(1, name= 'ancilla')\n",
    "    qc = QuantumCircuit(qreg, ancilla) \n",
    "\n",
    "    qc.h(qreg)\n",
    "    qc.append(feval(nmax, nbit), list(range(nbit+1)))\n",
    "    qc.barrier()\n",
    "\n",
    "    qc.compose(grover_integration(nbit, nmax, grovers), inplace= True)\n",
    "\n",
    "    ## since we know that the itegral evaluuates to 0.12158663567967151 we pick the domain ~\n",
    "    \n",
    "    \n",
    "\n",
    "    return qc"
   ]
  },
  {
   "cell_type": "code",
   "execution_count": 41,
   "metadata": {},
   "outputs": [
    {
     "data": {
      "text/html": [
       "<pre style=\"word-wrap: normal;white-space: pre;background: #fff0;line-height: 1.1;font-family: &quot;Courier New&quot;,Courier,monospace\">         ┌───┐┌───────┐ ░ ┌───────────┐   \n",
       " qreg_0: ┤ H ├┤0      ├─░─┤0          ├───\n",
       "         ├───┤│       │ ░ │           │   \n",
       " qreg_1: ┤ H ├┤1      ├─░─┤1          ├───\n",
       "         ├───┤│       │ ░ │           │   \n",
       " qreg_2: ┤ H ├┤2 f(x) ├─░─┤2 grover^0 ├───\n",
       "         ├───┤│       │ ░ │           │   \n",
       " qreg_3: ┤ H ├┤3      ├─░─┤3          ├───\n",
       "         └───┘│       │ ░ │           │┌─┐\n",
       "ancilla: ─────┤4      ├─░─┤4          ├┤M├\n",
       "              └───────┘ ░ └───────────┘└╥┘\n",
       " creg: 1/═══════════════════════════════╩═\n",
       "                                        0 </pre>"
      ],
      "text/plain": [
       "         ┌───┐┌───────┐ ░ ┌───────────┐   \n",
       " qreg_0: ┤ H ├┤0      ├─░─┤0          ├───\n",
       "         ├───┤│       │ ░ │           │   \n",
       " qreg_1: ┤ H ├┤1      ├─░─┤1          ├───\n",
       "         ├───┤│       │ ░ │           │   \n",
       " qreg_2: ┤ H ├┤2 f(x) ├─░─┤2 grover^0 ├───\n",
       "         ├───┤│       │ ░ │           │   \n",
       " qreg_3: ┤ H ├┤3      ├─░─┤3          ├───\n",
       "         └───┘│       │ ░ │           │┌─┐\n",
       "ancilla: ─────┤4      ├─░─┤4          ├┤M├\n",
       "              └───────┘ ░ └───────────┘└╥┘\n",
       " creg: 1/═══════════════════════════════╩═\n",
       "                                        0 "
      ]
     },
     "execution_count": 41,
     "metadata": {},
     "output_type": "execute_result"
    }
   ],
   "source": [
    "qc = generate_le(nbit, nmax, grovers= 0 )\n",
    "creg= ClassicalRegister(1, name= 'creg')\n",
    "qc.add_register(creg)\n",
    "qc.measure(ancilla, creg)\n",
    "\n",
    "qc.draw()"
   ]
  },
  {
   "cell_type": "code",
   "execution_count": 42,
   "metadata": {},
   "outputs": [
    {
     "data": {
      "image/png": "[encoded data removed]",
      "text/plain": [
       "<Figure size 504x360 with 1 Axes>"
      ]
     },
     "execution_count": 42,
     "metadata": {},
     "output_type": "execute_result"
    }
   ],
   "source": [
    "shots= 1200\n",
    "job = execute(qc, backend= aer, shots= shots)\n",
    "counts = job.result().get_counts()\n",
    "plot_histogram(counts)"
   ]
  },
  {
   "cell_type": "code",
   "execution_count": 43,
   "metadata": {},
   "outputs": [
    {
     "data": {
      "text/plain": [
       "0.09"
      ]
     },
     "execution_count": 43,
     "metadata": {},
     "output_type": "execute_result"
    }
   ],
   "source": [
    "counts['1']/shots"
   ]
  },
  {
   "cell_type": "markdown",
   "metadata": {},
   "source": [
    "The obtained result is 0.095 which is close to the expected result of 0.086. You can try increasing the number of qubits for discretization to increase the precison ! ; )"
   ]
  },
  {
   "cell_type": "markdown",
   "metadata": {},
   "source": []
  }
 ],
 "metadata": {
  "interpreter": {
   "hash": "31f2aee4e71d21fbe5cf8b01ff0e069b9275f58929596ceb00d14d90e3e16cd6"
  },
  "kernelspec": {
   "display_name": "Python 3.8.10 64-bit",
   "language": "python",
   "name": "python3"
  },
  "language_info": {
   "codemirror_mode": {
    "name": "ipython",
    "version": 3
   },
   "file_extension": ".py",
   "mimetype": "text/x-python",
   "name": "python",
   "nbconvert_exporter": "python",
   "pygments_lexer": "ipython3",
   "version": "3.10.4"
  },
  "orig_nbformat": 4
 },
 "nbformat": 4,
 "nbformat_minor": 2
}
