{
 "cells": [
  {
   "cell_type": "code",
   "execution_count": 2,
   "metadata": {},
   "outputs": [],
   "source": [
    "## imports\n",
    "from qiskit import *\n",
    "from qiskit.algorithms import *\n",
    "from qiskit import QuantumRegister, ClassicalRegister, QuantumCircuit\n",
    "from qiskit import quantum_info, IBMQ, Aer\n",
    "from qiskit import BasicAer\n",
    "from qiskit.utils import QuantumInstance\n",
    "from qiskit.extensions import HamiltonianGate\n",
    "# backend = BasicAer.get_backend(\"statevector_simulator\")\n",
    "# quantum_instance = QuantumInstance(backend)\n",
    "from qiskit.algorithms import AmplitudeEstimation\n",
    "from qiskit.quantum_info import Statevector, Operator\n",
    "from qiskit.opflow import CircuitStateFn\n",
    "#from qiskit.ignis.verification.tomography import state_tomography_circuits, StateTomographyFitter\n",
    "from qiskit.visualization import plot_histogram, plot_state_qsphere, plot_bloch_multivector, plot_bloch_vector\n",
    "import numpy as np\n",
    "import scipy \n",
    "from numpy import pi\n",
    "import seaborn as sns\n",
    "import networkx as nx\n",
    "from IPython.display import Image\n",
    "import matplotlib.pyplot as plt"
   ]
  },
  {
   "cell_type": "code",
   "execution_count": 3,
   "metadata": {},
   "outputs": [],
   "source": [
    "## import optimisers\n",
    "from qiskit.algorithms.optimizers import COBYLA\n",
    "from scipy.optimize import minimize"
   ]
  },
  {
   "cell_type": "code",
   "execution_count": 4,
   "metadata": {},
   "outputs": [],
   "source": [
    "# setup simulators using IBM_id\n",
    "# IBMQ.save_account(\"1c62e8a0d2b058d0e797db9c811bc34582df5553e25812301cd1518662c0ab68d2378ac6c197b65f8be944d04b7e7439f034e3926a44fa8088538b3d13782c1a\", overwrite= True)\n",
    "provider = IBMQ.load_account()\n",
    "IBMQ.get_provider(hub='ibm-q-education', group='iit-madras-1', project='quantum-computin')\n",
    "# setup required backends \n",
    "lima = provider.get_backend('ibmq_lima')\n",
    "manila = provider.get_backend('ibmq_manila')\n",
    "qsm = Aer.get_backend('qasm_simulator')\n",
    "stv = Aer.get_backend('statevector_simulator')\n",
    "aer = Aer.get_backend('aer_simulator')"
   ]
  },
  {
   "cell_type": "code",
   "execution_count": 5,
   "metadata": {},
   "outputs": [],
   "source": [
    "## sub-routines for QFT  ~\n",
    "def crot(qc, l):\n",
    "    \"\"\" Function to generate Controlled Rotation Ooeration  \"\"\"\n",
    "    if l == 0:\n",
    "        return qc\n",
    "    l = l-1\n",
    "    qc.h(l)\n",
    "    for q in range(l):\n",
    "        qc.cp(pi/2**(l-q), q, l)\n",
    "    #qc.barrier()\n",
    "    # qc.draw()\n",
    "    \n",
    "def QFT(qc):\n",
    "   \"\"\"function to generate QFT circuit \"\"\"\n",
    "   dim = qc.num_qubits\n",
    "   for q in range(dim):\n",
    "      crot(qc, dim-q)\n",
    "   for q in range(int(dim/2)):\n",
    "      qc.swap(q, dim-q-1)\n",
    "\n",
    "   #qc.draw()\n",
    "   return qc\n",
    "   "
   ]
  },
  {
   "cell_type": "markdown",
   "metadata": {},
   "source": [
    "## Quantum Dictionary\n",
    "Implement a quantum algorithm to store (key, value) pairs in the same form a regular hash-based dictionary works. \n",
    "\n",
    "Given the keys $\\{k_i\\}$ and values $\\{v_i\\}$ the quantum dictionary implements a circuit to prepare the state\n",
    "$$  \\ket{\\psi(k,v)} = \\sum_{k_i} \\ket{k_i}\\ket{v_i}  $$\n"
   ]
  },
  {
   "cell_type": "markdown",
   "metadata": {},
   "source": [
    "Our purpose here is to use the quantum dictionary format to store the function evaluations of the an function 'f(k)' on the keys 'k',\n",
    "$$  \\ket{\\psi(f)} = \\sum_{k_i} \\ket{k_i}\\ket{f(k_i)} $$"
   ]
  },
  {
   "cell_type": "markdown",
   "metadata": {},
   "source": [
    "### Example 1: \n",
    "There's a function \n",
    "'f(x)'such that\n",
    "$$ f(0) = 5, f(3) = 7\n",
    "$$"
   ]
  },
  {
   "cell_type": "code",
   "execution_count": 6,
   "metadata": {},
   "outputs": [
    {
     "data": {
      "text/plain": [
       "<qiskit.circuit.instructionset.InstructionSet at 0x7f17cfec7a40>"
      ]
     },
     "execution_count": 6,
     "metadata": {},
     "output_type": "execute_result"
    }
   ],
   "source": [
    "precision = 3\n",
    "qreg = QuantumRegister(2, name= 'qreg')\n",
    "qm = QuantumRegister(precision, name= 'precision')\n",
    "ancilla = QuantumRegister(1, name= 'ancilla')\n",
    "creg_q = ClassicalRegister(2, name='creg')\n",
    "creg_qm = ClassicalRegister(precision, name= 'precision_c')\n",
    "\n",
    "qc = QuantumCircuit(qreg, qm, ancilla, creg_qm, creg_q)\n",
    "\n",
    "qc.h(qreg)\n",
    "qc.h(qm)\n",
    "qc.rx(pi/2, ancilla)\n",
    "qc.z(ancilla)\n",
    "qc.x(ancilla)\n",
    "qc.barrier()\n",
    "\n",
    "# qc.x(qreg[0])\n",
    "# qc.mcry(  4*(2*pi/2**4)*2, [qreg[0],qm[0]],ancilla)\n",
    "# qc.mcry(  4*(2*pi/2**4)*2, [qreg[0],qreg[1],qm[0]],ancilla)\n",
    "# qc.mcry(  1*(2*pi/2**4)*2, [qreg[1],qm[0]],ancilla)\n",
    "qc.x(qreg)\n",
    "qc.mcry(5*(2*pi/2**precision)*2, [qreg[0], qreg[1], qm[0]], ancilla)\n",
    "qc.mcry(5*(2*pi/2**precision)*4, [qreg[0], qreg[1], qm[1]], ancilla)\n",
    "qc.mcry(5*(2*pi/2**precision)*8, [qreg[0], qreg[1], qm[2]], ancilla)\n",
    "qc.x(qreg)\n",
    "\n",
    "# qc.x(qreg)\n",
    "qc.mcry(7*(2*pi/2**precision)*2, [qreg[0], qreg[1], qm[0]], ancilla)\n",
    "qc.mcry(7*(2*pi/2**precision)*4, [qreg[0], qreg[1], qm[1]], ancilla)\n",
    "qc.mcry(7*(2*pi/2**precision)*8, [qreg[0], qreg[1], qm[2]], ancilla)\n",
    "# qc.x(qreg)\n",
    "\n",
    "\n",
    "qc = qc.compose(QFT(QuantumCircuit(precision, name= 'QFT')).to_gate().inverse() , [2,3,4]  )\n",
    "qc.barrier()\n",
    "# qc.draw()\n",
    "\n",
    "\n"
   ]
  },
  {
   "cell_type": "code",
   "execution_count": 7,
   "metadata": {},
   "outputs": [
    {
     "data": {
      "text/plain": [
       "<qiskit.circuit.instructionset.InstructionSet at 0x7f17cfef7bc0>"
      ]
     },
     "execution_count": 7,
     "metadata": {},
     "output_type": "execute_result"
    }
   ],
   "source": [
    "qc.measure(qreg, creg_q )\n",
    "qc.measure(qm, creg_qm)\n",
    "# qc.draw()\n"
   ]
  },
  {
   "cell_type": "code",
   "execution_count": 8,
   "metadata": {},
   "outputs": [
    {
     "data": {
      "image/png": "[encoded data removed]",
      "text/plain": [
       "<Figure size 504x360 with 1 Axes>"
      ]
     },
     "execution_count": 8,
     "metadata": {},
     "output_type": "execute_result"
    }
   ],
   "source": [
    "counts = execute(qc, backend= aer, shots= 10024).result().get_counts()\n",
    "plot_histogram(counts)"
   ]
  },
  {
   "cell_type": "markdown",
   "metadata": {},
   "source": [
    "#### Example 2:\n",
    "Function 'f(x)' defined on 3 variables as :\n",
    "\n",
    "$$  f(x_1, x_2, x_3) = -2 x_1 x_2 + 3 x_1 x_3 - x_1   $$"
   ]
  },
  {
   "cell_type": "code",
   "execution_count": 9,
   "metadata": {},
   "outputs": [
    {
     "data": {
      "text/plain": [
       "<qiskit.circuit.instructionset.InstructionSet at 0x7f17c9b07540>"
      ]
     },
     "execution_count": 9,
     "metadata": {},
     "output_type": "execute_result"
    }
   ],
   "source": [
    "precision = 3\n",
    "qreg = QuantumRegister(3, name= 'qreg')\n",
    "qm = QuantumRegister(precision, name= 'precision')\n",
    "ancilla = QuantumRegister(1, name= 'ancilla')\n",
    "creg_q = ClassicalRegister(3, name='creg')\n",
    "creg_qm = ClassicalRegister(precision, name= 'precision_c')\n",
    "\n",
    "qc = QuantumCircuit(qreg, qm, ancilla, creg_qm, creg_q)\n",
    "\n",
    "qc.h(qreg)\n",
    "qc.h(qm)\n",
    "qc.rx(pi/2, ancilla)\n",
    "qc.z(ancilla)\n",
    "qc.x(ancilla)\n",
    "qc.barrier()\n",
    "\n",
    "\n",
    "\n",
    "qc.mcry(-2*(2*pi/2**precision)*2, [qreg[0], qreg[1], qm[0]], ancilla)\n",
    "qc.mcry(-2*(2*pi/2**precision)*4, [qreg[0], qreg[1], qm[1]], ancilla)\n",
    "qc.mcry(-2*(2*pi/2**precision)*8, [qreg[0], qreg[1], qm[2]], ancilla)\n",
    "\n",
    "qc.mcry(-1*(2*pi/2**precision)*2, [qreg[0],  qm[0]], ancilla)\n",
    "qc.mcry(-1*(2*pi/2**precision)*4, [qreg[0],  qm[1]], ancilla)\n",
    "qc.mcry(-1*(2*pi/2**precision)*8, [qreg[0],  qm[2]], ancilla)\n",
    "\n",
    "qc.mcry(3*(2*pi/2**precision)*2, [qreg[0], qreg[2], qm[0]], ancilla)\n",
    "qc.mcry(3*(2*pi/2**precision)*4, [qreg[0], qreg[2], qm[1]], ancilla)\n",
    "qc.mcry(3*(2*pi/2**precision)*8, [qreg[0], qreg[2], qm[2]], ancilla)\n",
    "\n",
    "\n",
    "\n",
    "qc = qc.compose(QFT(QuantumCircuit(precision, name= 'QFT')).to_gate().inverse() , qm  )\n",
    "\n",
    "qc.x(ancilla)\n",
    "qc.z(ancilla)\n",
    "qc.rx(pi/2, ancilla)\n",
    "\n",
    "\n",
    "qc.barrier()\n",
    "# qc.draw()\n",
    "\n",
    "\n"
   ]
  },
  {
   "cell_type": "code",
   "execution_count": 10,
   "metadata": {},
   "outputs": [
    {
     "data": {
      "text/plain": [
       "<qiskit.circuit.instructionset.InstructionSet at 0x7f17c9b2b840>"
      ]
     },
     "execution_count": 10,
     "metadata": {},
     "output_type": "execute_result"
    }
   ],
   "source": [
    "qc.measure(qreg, creg_q )\n",
    "qc.measure(qm, creg_qm)\n",
    "# qc.draw()"
   ]
  },
  {
   "cell_type": "code",
   "execution_count": 11,
   "metadata": {},
   "outputs": [
    {
     "data": {
      "image/png": "[encoded data removed]",
      "text/plain": [
       "<Figure size 504x360 with 1 Axes>"
      ]
     },
     "execution_count": 11,
     "metadata": {},
     "output_type": "execute_result"
    }
   ],
   "source": [
    "counts = execute(qc, backend= aer, shots= 10024).result().get_counts()\n",
    "plot_histogram(counts)\n",
    "# counts"
   ]
  },
  {
   "cell_type": "code",
   "execution_count": 12,
   "metadata": {},
   "outputs": [
    {
     "data": {
      "image/png": "[encoded data removed]",
      "text/plain": [
       "<Figure size 504x360 with 1 Axes>"
      ]
     },
     "execution_count": 12,
     "metadata": {},
     "output_type": "execute_result"
    }
   ],
   "source": [
    "counts = execute(qc, backend= aer, shots= 10024).result().get_counts()\n",
    "plot_histogram(counts)\n",
    "# counts"
   ]
  },
  {
   "cell_type": "markdown",
   "metadata": {},
   "source": [
    "#### Example 3 :"
   ]
  },
  {
   "cell_type": "markdown",
   "metadata": {},
   "source": [
    "Follows from the last exmaple, we use a post processing layer of grover operators to amplify the states with negative 'values' of f(x) i.e the oracle would amplify states like $\\ket{f(x)}$ where $f(x) \\leq 0$."
   ]
  },
  {
   "cell_type": "code",
   "execution_count": 13,
   "metadata": {},
   "outputs": [],
   "source": [
    "## grover operator for conditioning amplification of negative values of the function evaluation\n",
    "def grover(function_dictionary,val_q, precision  ,steps ):\n",
    "    \"\"\" Return the grover operator that amplifies 'flag_state' amplitudes \n",
    "        ARGS:\n",
    "            function_dictionary= QuantumCircuit to prepare the quantum dictionary whihc takes argument \n",
    "                                 val_q, precision, i.e function_dictionary(val_q, precision)                       \n",
    "            steps= no. of grover steps\n",
    "        RETURNS:\n",
    "            QuantumCircuit\n",
    "    \"\"\"\n",
    "    ## initialisation\n",
    "    qreg = QuantumRegister(val_q, name= 'f_reg')\n",
    "    qm = QuantumRegister(precision, name= 'precision')\n",
    "    ancilla = QuantumRegister(1, name= 'ancilla')\n",
    "    creg_qreg = ClassicalRegister(val_q, name='f_reg_c')\n",
    "    creg_qm = ClassicalRegister(precision, name= 'precision_c')\n",
    "    qc = QuantumCircuit(qreg, qm, ancilla, creg_qm, creg_qreg)\n",
    "    f_eval = function_dictionary(val_q, precision)\n",
    "\n",
    "    ## oracle sub rouitne\n",
    "    qc.x(ancilla)\n",
    "    qc.h(ancilla)\n",
    "    qc.cx(qm[-1] , ancilla)\n",
    "    qc.h(ancilla)\n",
    "    qc.x(ancilla)\n",
    "\n",
    "    ## diffuser sub routine \n",
    "    qc = qc.compose(function_dictionary(val_q, precision).to_gate().inverse())\n",
    "    qc.x(ancilla)\n",
    "    qc.h(ancilla)    \n",
    "    qc.x(qreg)\n",
    "    qc.x(qm)\n",
    "    qc.mcx(qc._qubits[:-1], ancilla) \n",
    "    qc.x(qm)\n",
    "    qc.x(qreg)\n",
    "    qc.h(ancilla)\n",
    "    qc.x(ancilla)\n",
    "    qc = qc.compose(function_dictionary(val_q, precision).to_gate())\n",
    "\n",
    "    return qc\n",
    "\n",
    "\n",
    "    "
   ]
  },
  {
   "cell_type": "code",
   "execution_count": 14,
   "metadata": {},
   "outputs": [],
   "source": [
    "def create_function_dictionary(val_q, precision, ):\n",
    "    ## todo: add generalizability for arbitrary polynomial\n",
    "    \"\"\" Returns a circuit implementing quantum-dictionary for a certain function\n",
    "        ARGS:\n",
    "            val_q= no. of qubits for thhhe function 'key'\n",
    "            precision= no. of qubits required for the function 'value'\n",
    "        RETURNS: \n",
    "            QuantumCircuit\n",
    "    \"\"\"\n",
    "    precision = 3\n",
    "    qreg = QuantumRegister(3, name= 'qreg')\n",
    "    qm = QuantumRegister(precision, name= 'precision')\n",
    "    ancilla = QuantumRegister(1, name= 'ancilla')\n",
    "    # creg_q = ClassicalRegister(3, name='creg')\n",
    "    # creg_qm = ClassicalRegister(precision, name= 'precision_c')\n",
    "\n",
    "    qc = QuantumCircuit(qreg, qm, ancilla, name= 'qdic_f')\n",
    "\n",
    "    qc.h(qreg)\n",
    "    qc.h(qm)\n",
    "\n",
    "    qc.rx(pi/2, ancilla)\n",
    "    qc.z(ancilla)\n",
    "    qc.x(ancilla)\n",
    "\n",
    "    # qc.barrier()\n",
    "\n",
    "    qc.mcry(-2*(2*pi/2**precision)*2, [qreg[0], qreg[1], qm[0]], ancilla)\n",
    "    qc.mcry(-2*(2*pi/2**precision)*4, [qreg[0], qreg[1], qm[1]], ancilla)\n",
    "    qc.mcry(-2*(2*pi/2**precision)*8, [qreg[0], qreg[1], qm[2]], ancilla)\n",
    "\n",
    "    qc.mcry(-1*(2*pi/2**precision)*2, [qreg[0],  qm[0]], ancilla)\n",
    "    qc.mcry(-1*(2*pi/2**precision)*4, [qreg[0],  qm[1]], ancilla)\n",
    "    qc.mcry(-1*(2*pi/2**precision)*8, [qreg[0],  qm[2]], ancilla)\n",
    "\n",
    "    qc.mcry(3*(2*pi/2**precision)*2, [qreg[0], qreg[2], qm[0]], ancilla)\n",
    "    qc.mcry(3*(2*pi/2**precision)*4, [qreg[0], qreg[2], qm[1]], ancilla)\n",
    "    qc.mcry(3*(2*pi/2**precision)*8, [qreg[0], qreg[2], qm[2]], ancilla)\n",
    "\n",
    "    # qc.barrier()\n",
    "\n",
    "    qc.x(ancilla)\n",
    "    qc.z(ancilla)\n",
    "    qc.rx(-pi/2, ancilla)\n",
    "\n",
    "\n",
    "    qc = qc.compose(QFT(QuantumCircuit(precision, name= 'QFT')).to_gate().inverse() , qm  )\n",
    "    \n",
    "    return qc\n",
    "\n"
   ]
  },
  {
   "cell_type": "code",
   "execution_count": 15,
   "metadata": {},
   "outputs": [],
   "source": [
    "precision = 3\n",
    "val_q =3\n",
    "qreg = QuantumRegister(val_q, name= 'f_reg')\n",
    "qm = QuantumRegister(precision, name= 'precision')\n",
    "ancilla = QuantumRegister(1, name= 'ancilla')\n",
    "creg_qreg = ClassicalRegister(val_q, name='f_reg_c')\n",
    "creg_qm = ClassicalRegister(precision, name= 'precision_c')\n",
    "qc = QuantumCircuit(qreg, qm, ancilla, creg_qm, creg_qreg)\n",
    "qc = qc.compose(create_function_dictionary(val_q, precision).to_gate() )\n",
    "\n",
    "# qc.draw()"
   ]
  },
  {
   "cell_type": "markdown",
   "metadata": {},
   "source": [
    "measurement without amplification"
   ]
  },
  {
   "cell_type": "code",
   "execution_count": 16,
   "metadata": {},
   "outputs": [
    {
     "data": {
      "image/png": "[encoded data removed]",
      "text/plain": [
       "<Figure size 504x360 with 1 Axes>"
      ]
     },
     "execution_count": 16,
     "metadata": {},
     "output_type": "execute_result"
    }
   ],
   "source": [
    "## measurement without amplification\n",
    "qc.measure(qm, creg_qm)\n",
    "counts = execute(qc, backend= aer, shots= 10024).result().get_counts()\n",
    "plot_histogram(counts)"
   ]
  },
  {
   "cell_type": "code",
   "execution_count": 17,
   "metadata": {},
   "outputs": [
    {
     "ename": "TypeError",
     "evalue": "'QuantumCircuit' object is not callable",
     "output_type": "error",
     "traceback": [
      "\u001b[0;31m---------------------------------------------------------------------------\u001b[0m",
      "\u001b[0;31mTypeError\u001b[0m                                 Traceback (most recent call last)",
      "\u001b[1;32m/home/rajarsi/Documents/GitHub/QulabsWorkspace/QuantumDictionary.ipynb Cell 23'\u001b[0m in \u001b[0;36m<cell line: 2>\u001b[0;34m()\u001b[0m\n\u001b[1;32m      <a href='vscode-notebook-cell:/home/rajarsi/Documents/GitHub/QulabsWorkspace/QuantumDictionary.ipynb#ch0000022?line=0'>1</a>\u001b[0m f_dic \u001b[39m=\u001b[39m create_function_dictionary(val_q, precision)\n\u001b[0;32m----> <a href='vscode-notebook-cell:/home/rajarsi/Documents/GitHub/QulabsWorkspace/QuantumDictionary.ipynb#ch0000022?line=1'>2</a>\u001b[0m qc\u001b[39m.\u001b[39mcompose(grover(f_dic,val_q, precision,\u001b[39m1\u001b[39;49m))\n\u001b[1;32m      <a href='vscode-notebook-cell:/home/rajarsi/Documents/GitHub/QulabsWorkspace/QuantumDictionary.ipynb#ch0000022?line=2'>3</a>\u001b[0m \u001b[39m# ## oracle sub rouitne\u001b[39;00m\n\u001b[1;32m      <a href='vscode-notebook-cell:/home/rajarsi/Documents/GitHub/QulabsWorkspace/QuantumDictionary.ipynb#ch0000022?line=3'>4</a>\u001b[0m \u001b[39m# qc.x(ancilla)\u001b[39;00m\n\u001b[1;32m      <a href='vscode-notebook-cell:/home/rajarsi/Documents/GitHub/QulabsWorkspace/QuantumDictionary.ipynb#ch0000022?line=4'>5</a>\u001b[0m \u001b[39m# qc.h(ancilla)\u001b[39;00m\n\u001b[0;32m   (...)\u001b[0m\n\u001b[1;32m     <a href='vscode-notebook-cell:/home/rajarsi/Documents/GitHub/QulabsWorkspace/QuantumDictionary.ipynb#ch0000022?line=19'>20</a>\u001b[0m \u001b[39m# qc.x(ancilla)\u001b[39;00m\n\u001b[1;32m     <a href='vscode-notebook-cell:/home/rajarsi/Documents/GitHub/QulabsWorkspace/QuantumDictionary.ipynb#ch0000022?line=20'>21</a>\u001b[0m \u001b[39m# qc = qc.compose(function_dictionary(val_q, precision).to_gate())\u001b[39;00m\n\u001b[1;32m     <a href='vscode-notebook-cell:/home/rajarsi/Documents/GitHub/QulabsWorkspace/QuantumDictionary.ipynb#ch0000022?line=22'>23</a>\u001b[0m qc\u001b[39m.\u001b[39mdraw()\n",
      "\u001b[1;32m/home/rajarsi/Documents/GitHub/QulabsWorkspace/QuantumDictionary.ipynb Cell 18'\u001b[0m in \u001b[0;36mgrover\u001b[0;34m(function_dictionary, val_q, precision, steps)\u001b[0m\n\u001b[1;32m     <a href='vscode-notebook-cell:/home/rajarsi/Documents/GitHub/QulabsWorkspace/QuantumDictionary.ipynb#ch0000017?line=15'>16</a>\u001b[0m creg_qm \u001b[39m=\u001b[39m ClassicalRegister(precision, name\u001b[39m=\u001b[39m \u001b[39m'\u001b[39m\u001b[39mprecision_c\u001b[39m\u001b[39m'\u001b[39m)\n\u001b[1;32m     <a href='vscode-notebook-cell:/home/rajarsi/Documents/GitHub/QulabsWorkspace/QuantumDictionary.ipynb#ch0000017?line=16'>17</a>\u001b[0m qc \u001b[39m=\u001b[39m QuantumCircuit(qreg, qm, ancilla, creg_qm, creg_qreg)\n\u001b[0;32m---> <a href='vscode-notebook-cell:/home/rajarsi/Documents/GitHub/QulabsWorkspace/QuantumDictionary.ipynb#ch0000017?line=17'>18</a>\u001b[0m f_eval \u001b[39m=\u001b[39m function_dictionary(val_q, precision)\n\u001b[1;32m     <a href='vscode-notebook-cell:/home/rajarsi/Documents/GitHub/QulabsWorkspace/QuantumDictionary.ipynb#ch0000017?line=19'>20</a>\u001b[0m \u001b[39m## oracle sub rouitne\u001b[39;00m\n\u001b[1;32m     <a href='vscode-notebook-cell:/home/rajarsi/Documents/GitHub/QulabsWorkspace/QuantumDictionary.ipynb#ch0000017?line=20'>21</a>\u001b[0m qc\u001b[39m.\u001b[39mx(ancilla)\n",
      "\u001b[0;31mTypeError\u001b[0m: 'QuantumCircuit' object is not callable"
     ]
    }
   ],
   "source": [
    "f_dic = create_function_dictionary(val_q, precision)\n",
    "qc.compose(grover(f_dic,val_q, precision,1))\n",
    "# ## oracle sub rouitne\n",
    "# qc.x(ancilla)\n",
    "# qc.h(ancilla)\n",
    "# qc.cx(qm[-1] , ancilla)\n",
    "# qc.h(ancilla)\n",
    "# qc.x(ancilla)\n",
    "\n",
    "# ## diffuser sub routine \n",
    "# qc = qc.compose(function_dictionary(val_q, precision).to_gate().inverse())\n",
    "# qc.x(ancilla)\n",
    "# qc.h(ancilla)    \n",
    "# qc.x(qreg)\n",
    "# qc.x(qm)\n",
    "# qc.mcx(qc._qubits[:-1], ancilla) \n",
    "# qc.x(qm)\n",
    "# qc.x(qreg)\n",
    "# qc.h(ancilla)\n",
    "# qc.x(ancilla)\n",
    "# qc = qc.compose(function_dictionary(val_q, precision).to_gate())\n",
    "\n",
    "qc.draw()"
   ]
  },
  {
   "cell_type": "markdown",
   "metadata": {},
   "source": [
    " measurment with amplification of state with f(x) < 0 "
   ]
  },
  {
   "cell_type": "code",
   "execution_count": 18,
   "metadata": {},
   "outputs": [
    {
     "data": {
      "image/png": "[encoded data removed]",
      "text/plain": [
       "<Figure size 504x360 with 1 Axes>"
      ]
     },
     "execution_count": 18,
     "metadata": {},
     "output_type": "execute_result"
    }
   ],
   "source": [
    "# qc.measure(qreg, creg_qreg)\n",
    "qc.measure(qm, creg_qm)\n",
    "counts = execute(qc, backend= aer, shots= 10024).result().get_counts()\n",
    "plot_histogram(counts)\n",
    "# counts"
   ]
  },
  {
   "cell_type": "markdown",
   "metadata": {},
   "source": [
    "Since the key-value pairs are entanngled we can easily recognise the keys 'x' corresponding to values of 'f(x)' with f(x) < 0."
   ]
  },
  {
   "cell_type": "markdown",
   "metadata": {},
   "source": [
    "### QUBO using quantum dictionary"
   ]
  },
  {
   "cell_type": "markdown",
   "metadata": {},
   "source": [
    "#### 1. Max-cut problem with fully-connected three nodes."
   ]
  },
  {
   "cell_type": "code",
   "execution_count": 19,
   "metadata": {},
   "outputs": [
    {
     "data": {
      "image/png": "[encoded data removed]",
      "text/plain": [
       "<Figure size 432x288 with 1 Axes>"
      ]
     },
     "metadata": {},
     "output_type": "display_data"
    }
   ],
   "source": [
    "graph = nx.Graph()\n",
    "graph.add_nodes_from([0,1,2])\n",
    "graph.add_edges_from([(0,1),(0,2),(2,1)])\n",
    "\n",
    "nx.draw(graph, with_labels= True, alpha= 0.8, node_size= 500)"
   ]
  },
  {
   "cell_type": "markdown",
   "metadata": {},
   "source": [
    "The corresponding QUBO objective function is \n",
    "$$  f(x_0, x_1, x_2) = -( x_0 + x_1 + x_2 - x_0 x_1 - x_1 x_2 - x_2 x_0 )\n",
    "$$"
   ]
  },
  {
   "cell_type": "code",
   "execution_count": 20,
   "metadata": {},
   "outputs": [],
   "source": [
    "def create_function_dictionary_maxcut(val_q, precision, ):\n",
    "    ## todo: add generalizability for arbitrary polynomial\n",
    "    \"\"\" Returns a circuit implementing quantum-dictionary for a certain function\n",
    "        ARGS:\n",
    "            val_q= no. of qubits for thhhe function 'key'\n",
    "            precision= no. of qubits required for the function 'value'\n",
    "        RETURNS: \n",
    "            QuantumCircuit\n",
    "    \"\"\"\n",
    "    precision = 2\n",
    "    qreg = QuantumRegister(3, name= 'qreg')\n",
    "    qm = QuantumRegister(precision, name= 'precision')\n",
    "    ancilla = QuantumRegister(1, name= 'ancilla')\n",
    "    # creg_q = ClassicalRegister(3, name='creg')\n",
    "    # creg_qm = ClassicalRegister(precision, name= 'precision_c')\n",
    "\n",
    "    qc = QuantumCircuit(qreg, qm, ancilla, name= 'qdic_f')\n",
    "\n",
    "    qc.h(qreg)\n",
    "    qc.h(qm)\n",
    "\n",
    "    qc.rx(pi/2, ancilla)\n",
    "    qc.z(ancilla)\n",
    "    qc.x(ancilla)\n",
    "\n",
    "    # qc.barrier()\n",
    "\n",
    "\n",
    "    qc.mcry(-1*(2*pi/2**precision)*2, [qreg[0],  qm[0]], ancilla)\n",
    "    qc.mcry(-1*(2*pi/2**precision)*4, [qreg[0],  qm[1]], ancilla)\n",
    "    # qc.mcry(-1*(2*pi/2**precision)*8, [qreg[0],  qm[2]], ancilla)\n",
    "\n",
    "    qc.mcry(-1*(2*pi/2**precision)*2, [qreg[1],  qm[0]], ancilla)\n",
    "    qc.mcry(-1*(2*pi/2**precision)*4, [qreg[1],  qm[1]], ancilla)\n",
    "    # qc.mcry(-1*(2*pi/2**precision)*8, [qreg[1],  qm[2]], ancilla)\n",
    "\n",
    "    qc.mcry(-1*(2*pi/2**precision)*2, [qreg[2],  qm[0]], ancilla)\n",
    "    qc.mcry(-1*(2*pi/2**precision)*4, [qreg[2],  qm[1]], ancilla)\n",
    "    # qc.mcry(-1*(2*pi/2**precision)*8, [qreg[2],  qm[2]], ancilla)\n",
    "\n",
    "    qc.mcry(+1*(2*pi/2**precision)*2, [qreg[0], qreg[1], qm[0]], ancilla)\n",
    "    qc.mcry(+1*(2*pi/2**precision)*4, [qreg[0], qreg[1], qm[1]], ancilla)\n",
    "    # qc.mcry(+1*(2*pi/2**precision)*8, [qreg[0], qreg[1], qm[2]], ancilla)\n",
    "\n",
    "    qc.mcry(+1*(2*pi/2**precision)*2, [qreg[2], qreg[1], qm[0]], ancilla)\n",
    "    qc.mcry(+1*(2*pi/2**precision)*4, [qreg[2], qreg[1], qm[1]], ancilla)\n",
    "    # qc.mcry(+1*(2*pi/2**precision)*8, [qreg[2], qreg[1], qm[2]], ancilla)\n",
    "\n",
    "    qc.mcry(+1*(2*pi/2**precision)*2, [qreg[0], qreg[2], qm[0]], ancilla)\n",
    "    qc.mcry(+1*(2*pi/2**precision)*4, [qreg[0], qreg[2], qm[1]], ancilla)\n",
    "    # qc.mcry(+1*(2*pi/2**precision)*8, [qreg[0], qreg[2], qm[2]], ancilla)\n",
    "\n",
    "    # qc.barrier()\n",
    "\n",
    "    qc.x(ancilla)\n",
    "    qc.z(ancilla)\n",
    "    qc.rx(-pi/2, ancilla)\n",
    "\n",
    "\n",
    "    qc = qc.compose(QFT(QuantumCircuit(precision, name= 'QFT')).to_gate().inverse() , qm  )\n",
    "    \n",
    "    return qc\n",
    "\n"
   ]
  },
  {
   "cell_type": "code",
   "execution_count": 21,
   "metadata": {},
   "outputs": [
    {
     "data": {
      "text/html": [
       "<pre style=\"word-wrap: normal;white-space: pre;background: #fff0;line-height: 1.1;font-family: &quot;Courier New&quot;,Courier,monospace\">               ┌─────────┐ ░ \n",
       "      f_reg_0: ┤0        ├─░─\n",
       "               │         │ ░ \n",
       "      f_reg_1: ┤1        ├─░─\n",
       "               │         │ ░ \n",
       "      f_reg_2: ┤2        ├─░─\n",
       "               │  qdic_f │ ░ \n",
       "  precision_0: ┤3        ├─░─\n",
       "               │         │ ░ \n",
       "  precision_1: ┤4        ├─░─\n",
       "               │         │ ░ \n",
       "      ancilla: ┤5        ├─░─\n",
       "               └─────────┘ ░ \n",
       "precision_c: 2/══════════════\n",
       "                             \n",
       "    f_reg_c: 3/══════════════\n",
       "                             </pre>"
      ],
      "text/plain": [
       "               ┌─────────┐ ░ \n",
       "      f_reg_0: ┤0        ├─░─\n",
       "               │         │ ░ \n",
       "      f_reg_1: ┤1        ├─░─\n",
       "               │         │ ░ \n",
       "      f_reg_2: ┤2        ├─░─\n",
       "               │  qdic_f │ ░ \n",
       "  precision_0: ┤3        ├─░─\n",
       "               │         │ ░ \n",
       "  precision_1: ┤4        ├─░─\n",
       "               │         │ ░ \n",
       "      ancilla: ┤5        ├─░─\n",
       "               └─────────┘ ░ \n",
       "precision_c: 2/══════════════\n",
       "                             \n",
       "    f_reg_c: 3/══════════════\n",
       "                             "
      ]
     },
     "execution_count": 21,
     "metadata": {},
     "output_type": "execute_result"
    }
   ],
   "source": [
    "precision = 2\n",
    "val_q =3\n",
    "qreg = QuantumRegister(val_q, name= 'f_reg')\n",
    "qm = QuantumRegister(precision, name= 'precision')\n",
    "ancilla = QuantumRegister(1, name= 'ancilla')\n",
    "creg_qreg = ClassicalRegister(val_q, name='f_reg_c')\n",
    "creg_qm = ClassicalRegister(precision, name= 'precision_c')\n",
    "qc = QuantumCircuit(qreg, qm, ancilla, creg_qm, creg_qreg)\n",
    "qc = qc.compose(create_function_dictionary_maxcut(val_q, precision).to_gate() )\n",
    "qc.barrier()\n",
    "qc.draw()"
   ]
  },
  {
   "cell_type": "code",
   "execution_count": 22,
   "metadata": {},
   "outputs": [
    {
     "data": {
      "image/png": "[encoded data removed]",
      "text/plain": [
       "<Figure size 504x360 with 1 Axes>"
      ]
     },
     "execution_count": 22,
     "metadata": {},
     "output_type": "execute_result"
    }
   ],
   "source": [
    "# qc.measure(qreg, creg_qreg)\n",
    "qc.measure(qm, creg_qm)\n",
    "counts = execute(qc, backend= aer, shots= 10024).result().get_counts()\n",
    "plot_histogram(counts)"
   ]
  },
  {
   "cell_type": "code",
   "execution_count": 23,
   "metadata": {},
   "outputs": [
    {
     "data": {
      "image/png": "[encoded data removed]",
      "text/plain": [
       "<Figure size 504x360 with 1 Axes>"
      ]
     },
     "execution_count": 23,
     "metadata": {},
     "output_type": "execute_result"
    }
   ],
   "source": [
    "qc.measure(qreg, creg_qreg)\n",
    "# qc.measure(qm, creg_qm)\n",
    "counts = execute(qc, backend= aer, shots= 10024).result().get_counts()\n",
    "plot_histogram(counts)"
   ]
  },
  {
   "cell_type": "code",
   "execution_count": 24,
   "metadata": {},
   "outputs": [
    {
     "data": {
      "text/html": [
       "<pre style=\"word-wrap: normal;white-space: pre;background: #fff0;line-height: 1.1;font-family: &quot;Courier New&quot;,Courier,monospace\">               ┌─────────┐ ░       ┌─┐                               »\n",
       "      f_reg_0: ┤0        ├─░───────┤M├───────────────────────────────»\n",
       "               │         │ ░       └╥┘┌─┐                            »\n",
       "      f_reg_1: ┤1        ├─░────────╫─┤M├────────────────────────────»\n",
       "               │         │ ░        ║ └╥┘┌─┐                         »\n",
       "      f_reg_2: ┤2        ├─░────────╫──╫─┤M├─────────────────────────»\n",
       "               │  qdic_f │ ░ ┌─┐    ║  ║ └╥┘                         »\n",
       "  precision_0: ┤3        ├─░─┤M├────╫──╫──╫──────────────────────────»\n",
       "               │         │ ░ └╥┘┌─┐ ║  ║  ║                          »\n",
       "  precision_1: ┤4        ├─░──╫─┤M├─╫──╫──╫─────────────■────────────»\n",
       "               │         │ ░  ║ └╥┘ ║  ║  ║ ┌───┐┌───┐┌─┴─┐┌───┐┌───┐»\n",
       "      ancilla: ┤5        ├─░──╫──╫──╫──╫──╫─┤ X ├┤ H ├┤ X ├┤ H ├┤ X ├»\n",
       "               └─────────┘ ░  ║  ║  ║  ║  ║ └───┘└───┘└───┘└───┘└───┘»\n",
       "precision_c: 2/═══════════════╩══╩══╬══╬══╬══════════════════════════»\n",
       "                              0  1  ║  ║  ║                          »\n",
       "    f_reg_c: 3/═════════════════════╩══╩══╩══════════════════════════»\n",
       "                                    0  1  2                          »\n",
       "«               ┌────────────┐┌───┐          ┌───┐     ┌─────────┐\n",
       "«      f_reg_0: ┤0           ├┤ X ├───────■──┤ X ├─────┤0        ├\n",
       "«               │            │├───┤       │  ├───┤     │         │\n",
       "«      f_reg_1: ┤1           ├┤ X ├───────■──┤ X ├─────┤1        ├\n",
       "«               │            │├───┤       │  ├───┤     │         │\n",
       "«      f_reg_2: ┤2           ├┤ X ├───────■──┤ X ├─────┤2        ├\n",
       "«               │  qdic_f_dg │├───┤       │  ├───┤     │  qdic_f │\n",
       "«  precision_0: ┤3           ├┤ X ├───────■──┤ X ├─────┤3        ├\n",
       "«               │            │├───┤       │  ├───┤     │         │\n",
       "«  precision_1: ┤4           ├┤ X ├───────■──┤ X ├─────┤4        ├\n",
       "«               │            │├───┤┌───┐┌─┴─┐├───┤┌───┐│         │\n",
       "«      ancilla: ┤5           ├┤ X ├┤ H ├┤ X ├┤ H ├┤ X ├┤5        ├\n",
       "«               └────────────┘└───┘└───┘└───┘└───┘└───┘└─────────┘\n",
       "«precision_c: 2/══════════════════════════════════════════════════\n",
       "«                                                                 \n",
       "«    f_reg_c: 3/══════════════════════════════════════════════════\n",
       "«                                                                 </pre>"
      ],
      "text/plain": [
       "               ┌─────────┐ ░       ┌─┐                               »\n",
       "      f_reg_0: ┤0        ├─░───────┤M├───────────────────────────────»\n",
       "               │         │ ░       └╥┘┌─┐                            »\n",
       "      f_reg_1: ┤1        ├─░────────╫─┤M├────────────────────────────»\n",
       "               │         │ ░        ║ └╥┘┌─┐                         »\n",
       "      f_reg_2: ┤2        ├─░────────╫──╫─┤M├─────────────────────────»\n",
       "               │  qdic_f │ ░ ┌─┐    ║  ║ └╥┘                         »\n",
       "  precision_0: ┤3        ├─░─┤M├────╫──╫──╫──────────────────────────»\n",
       "               │         │ ░ └╥┘┌─┐ ║  ║  ║                          »\n",
       "  precision_1: ┤4        ├─░──╫─┤M├─╫──╫──╫─────────────■────────────»\n",
       "               │         │ ░  ║ └╥┘ ║  ║  ║ ┌───┐┌───┐┌─┴─┐┌───┐┌───┐»\n",
       "      ancilla: ┤5        ├─░──╫──╫──╫──╫──╫─┤ X ├┤ H ├┤ X ├┤ H ├┤ X ├»\n",
       "               └─────────┘ ░  ║  ║  ║  ║  ║ └───┘└───┘└───┘└───┘└───┘»\n",
       "precision_c: 2/═══════════════╩══╩══╬══╬══╬══════════════════════════»\n",
       "                              0  1  ║  ║  ║                          »\n",
       "    f_reg_c: 3/═════════════════════╩══╩══╩══════════════════════════»\n",
       "                                    0  1  2                          »\n",
       "«               ┌────────────┐┌───┐          ┌───┐     ┌─────────┐\n",
       "«      f_reg_0: ┤0           ├┤ X ├───────■──┤ X ├─────┤0        ├\n",
       "«               │            │├───┤       │  ├───┤     │         │\n",
       "«      f_reg_1: ┤1           ├┤ X ├───────■──┤ X ├─────┤1        ├\n",
       "«               │            │├───┤       │  ├───┤     │         │\n",
       "«      f_reg_2: ┤2           ├┤ X ├───────■──┤ X ├─────┤2        ├\n",
       "«               │  qdic_f_dg │├───┤       │  ├───┤     │  qdic_f │\n",
       "«  precision_0: ┤3           ├┤ X ├───────■──┤ X ├─────┤3        ├\n",
       "«               │            │├───┤       │  ├───┤     │         │\n",
       "«  precision_1: ┤4           ├┤ X ├───────■──┤ X ├─────┤4        ├\n",
       "«               │            │├───┤┌───┐┌─┴─┐├───┤┌───┐│         │\n",
       "«      ancilla: ┤5           ├┤ X ├┤ H ├┤ X ├┤ H ├┤ X ├┤5        ├\n",
       "«               └────────────┘└───┘└───┘└───┘└───┘└───┘└─────────┘\n",
       "«precision_c: 2/══════════════════════════════════════════════════\n",
       "«                                                                 \n",
       "«    f_reg_c: 3/══════════════════════════════════════════════════\n",
       "«                                                                 "
      ]
     },
     "execution_count": 24,
     "metadata": {},
     "output_type": "execute_result"
    }
   ],
   "source": [
    "steps = 1\n",
    "for step in range(steps):\n",
    "    ## oracle sub rouitne\n",
    "    qc.x(ancilla)\n",
    "    qc.h(ancilla)\n",
    "    qc.cx(qm[-1] , ancilla)\n",
    "    qc.h(ancilla)\n",
    "    qc.x(ancilla)\n",
    "\n",
    "    ## diffuser sub routine \n",
    "    qc = qc.compose(create_function_dictionary_maxcut(val_q, precision).to_gate().inverse())\n",
    "    qc.x(ancilla)\n",
    "    qc.h(ancilla)    \n",
    "    qc.x(qreg)\n",
    "    qc.x(qm)\n",
    "    qc.mcx(qc._qubits[:-1], ancilla) \n",
    "    qc.x(qm)\n",
    "    qc.x(qreg)\n",
    "    qc.h(ancilla)\n",
    "    qc.x(ancilla)\n",
    "    qc = qc.compose(create_function_dictionary_maxcut(val_q, precision).to_gate())\n",
    "\n",
    "qc.draw()"
   ]
  },
  {
   "cell_type": "code",
   "execution_count": 25,
   "metadata": {},
   "outputs": [
    {
     "data": {
      "image/png": "[encoded data removed]",
      "text/plain": [
       "<Figure size 504x360 with 1 Axes>"
      ]
     },
     "execution_count": 25,
     "metadata": {},
     "output_type": "execute_result"
    }
   ],
   "source": [
    "# qc.measure(qreg, creg_qreg)\n",
    "qc.measure(qm, creg_qm)\n",
    "counts = execute(qc, backend= aer, shots= 10024).result().get_counts()\n",
    "plot_histogram(counts)\n",
    "# counts"
   ]
  },
  {
   "cell_type": "markdown",
   "metadata": {},
   "source": [
    "#### 2. Max-Cut problem with partially-connected 3 nodes"
   ]
  },
  {
   "cell_type": "code",
   "execution_count": 26,
   "metadata": {},
   "outputs": [
    {
     "data": {
      "image/png": "[encoded data removed]",
      "text/plain": [
       "<Figure size 432x288 with 1 Axes>"
      ]
     },
     "metadata": {},
     "output_type": "display_data"
    }
   ],
   "source": [
    "graph2 = nx.Graph()\n",
    "graph2.add_nodes_from([0,1,2])\n",
    "graph2.add_edges_from([(0,1),(0,2)])\n",
    "\n",
    "nx.draw(graph2, with_labels= True, alpha= 0.8, node_size= 500)"
   ]
  },
  {
   "cell_type": "code",
   "execution_count": 30,
   "metadata": {},
   "outputs": [
    {
     "data": {
      "text/plain": [
       "1"
      ]
     },
     "execution_count": 30,
     "metadata": {},
     "output_type": "execute_result"
    }
   ],
   "source": [
    "# list(graph2.adjacency())[0]\n",
    "list(graph2.edges())[0][1]"
   ]
  },
  {
   "cell_type": "markdown",
   "metadata": {},
   "source": [
    "The QUBO objective function ofr the following problem\n",
    "$$  f(x_1, x_2, x_3) = -( 2 x_0 + x_1 + x_2 - 2 x_0 x_1 - 2 x_0 x_2)\n",
    "$$"
   ]
  },
  {
   "cell_type": "code",
   "execution_count": 41,
   "metadata": {},
   "outputs": [],
   "source": [
    "def create_function_dictionary_maxcut_g(graph , precision, ):\n",
    "    ## todo: add generalizability for arbitrary polynomial\n",
    "    \"\"\" Returns a circuit implementing quantum-dictionary for a certain function\n",
    "        ARGS:\n",
    "            graph= networkx.Graph object for the max-cur problem\n",
    "            precision= no. of qubits required for the function 'value'\n",
    "        RETURNS: \n",
    "            QuantumCircuit\n",
    "    \"\"\"\n",
    "    num_qbit = graph.number_of_nodes()\n",
    "    # precision = 2\n",
    "    qreg = QuantumRegister(num_qbit, name= 'qreg')\n",
    "    qm = QuantumRegister(precision, name= 'precision')\n",
    "    ancilla = QuantumRegister(1, name= 'ancilla')\n",
    "    # creg_q = ClassicalRegister(3, name='creg')\n",
    "    # creg_qm = ClassicalRegister(precision, name= 'precision_c')\n",
    "\n",
    "    qc = QuantumCircuit(qreg, qm, ancilla, name= 'qdic_f')\n",
    "\n",
    "    qc.h(qreg)\n",
    "    qc.h(qm)\n",
    "\n",
    "    qc.rx(pi/2, ancilla)\n",
    "    qc.z(ancilla)\n",
    "    qc.x(ancilla)\n",
    "\n",
    "    # qc.barrier()\n",
    "\n",
    "    for edge in list(graph.edges) :\n",
    "        node0, node1 = edge[0], edge[1]\n",
    "        for index in range(precision) :\n",
    "            qc.mcry(-1*(2*pi/2**precision)*2*(2**index), [qreg[node0],  qm[index]], ancilla)\n",
    "        for index in range(precision) :\n",
    "            qc.mcry(-1*(2*pi/2**precision)*2*(2**index), [qreg[node1],  qm[index]], ancilla) \n",
    "        for index in range(precision) :\n",
    "            qc.mcry(+2*(2*pi/2**precision)*2*(2**index), [qreg[node0], qreg[node1], qm[index]], ancilla)                   \n",
    "\n",
    "    # qc.barrier()\n",
    "\n",
    "    qc.x(ancilla)\n",
    "    qc.z(ancilla)\n",
    "    qc.rx(-pi/2, ancilla)\n",
    "\n",
    "\n",
    "    qc = qc.compose(QFT(QuantumCircuit(precision, name= 'QFT')).to_gate().inverse() , qm  )\n",
    "    \n",
    "    return qc\n",
    "\n"
   ]
  },
  {
   "cell_type": "code",
   "execution_count": 51,
   "metadata": {},
   "outputs": [
    {
     "data": {
      "text/plain": [
       "<qiskit.circuit.instructionset.InstructionSet at 0x7f17bee8ac00>"
      ]
     },
     "execution_count": 51,
     "metadata": {},
     "output_type": "execute_result"
    }
   ],
   "source": [
    "precision = 2\n",
    "val_q = 3\n",
    "qreg = QuantumRegister(val_q, name= 'f_reg')\n",
    "qm = QuantumRegister(precision, name= 'precision')\n",
    "ancilla = QuantumRegister(1, name= 'ancilla')\n",
    "creg_qreg = ClassicalRegister(val_q, name='f_reg_c')\n",
    "creg_qm = ClassicalRegister(precision, name= 'precision_c')\n",
    "qc = QuantumCircuit(qreg, qm, ancilla, creg_qm, creg_qreg)\n",
    "qc = qc.compose(create_function_dictionary_maxcut_g(graph2, precision).to_gate() )\n",
    "qc.barrier()\n",
    "\n",
    "# qc.draw()"
   ]
  },
  {
   "cell_type": "code",
   "execution_count": 52,
   "metadata": {},
   "outputs": [
    {
     "data": {
      "image/png": "[encoded data removed]",
      "text/plain": [
       "<Figure size 504x360 with 1 Axes>"
      ]
     },
     "execution_count": 52,
     "metadata": {},
     "output_type": "execute_result"
    }
   ],
   "source": [
    "qc.measure(qreg, creg_qreg)\n",
    "qc.measure(qm, creg_qm)\n",
    "counts = execute(qc, backend= aer, shots= 10024).result().get_counts()\n",
    "plot_histogram(counts)\n"
   ]
  },
  {
   "cell_type": "code",
   "execution_count": 35,
   "metadata": {},
   "outputs": [],
   "source": [
    "def create_function_dictionary_maxcut_o(val_q, precision, ):\n",
    "    ## todo: add generalizability for arbitrary polynomial\n",
    "    \"\"\" Returns a circuit implementing quantum-dictionary for a certain function\n",
    "        ARGS:\n",
    "            val_q= no. of qubits for thhhe function 'key'\n",
    "            precision= no. of qubits required for the function 'value'\n",
    "        RETURNS: \n",
    "            QuantumCircuit\n",
    "    \"\"\"\n",
    "    # precision = 2\n",
    "    qreg = QuantumRegister(3, name= 'qreg')\n",
    "    qm = QuantumRegister(precision, name= 'precision')\n",
    "    ancilla = QuantumRegister(1, name= 'ancilla')\n",
    "    # creg_q = ClassicalRegister(3, name='creg')\n",
    "    # creg_qm = ClassicalRegister(precision, name= 'precision_c')\n",
    "\n",
    "    qc = QuantumCircuit(qreg, qm, ancilla, name= 'qdic_f')\n",
    "\n",
    "    qc.h(qreg)\n",
    "    qc.h(qm)\n",
    "\n",
    "    qc.rx(pi/2, ancilla)\n",
    "    qc.z(ancilla)\n",
    "    qc.x(ancilla)\n",
    "\n",
    "    # qc.barrier()\n",
    "\n",
    "\n",
    "    qc.mcry(-2*(2*pi/2**precision)*2, [qreg[0],  qm[0]], ancilla)\n",
    "    qc.mcry(-2*(2*pi/2**precision)*4, [qreg[0],  qm[1]], ancilla)\n",
    "    qc.mcry(-2*(2*pi/2**precision)*8, [qreg[0],  qm[2]], ancilla)\n",
    "\n",
    "    qc.mcry(-1*(2*pi/2**precision)*2, [qreg[1],  qm[0]], ancilla)\n",
    "    qc.mcry(-1*(2*pi/2**precision)*4, [qreg[1],  qm[1]], ancilla)\n",
    "    qc.mcry(-1*(2*pi/2**precision)*8, [qreg[1],  qm[2]], ancilla)\n",
    "\n",
    "    qc.mcry(-1*(2*pi/2**precision)*2, [qreg[2],  qm[0]], ancilla)\n",
    "    qc.mcry(-1*(2*pi/2**precision)*4, [qreg[2],  qm[1]], ancilla)\n",
    "    qc.mcry(-1*(2*pi/2**precision)*8, [qreg[2],  qm[2]], ancilla)\n",
    "\n",
    "    qc.mcry(+2*(2*pi/2**precision)*2, [qreg[0], qreg[1], qm[0]], ancilla)\n",
    "    qc.mcry(+2*(2*pi/2**precision)*4, [qreg[0], qreg[1], qm[1]], ancilla)\n",
    "    qc.mcry(+2*(2*pi/2**precision)*8, [qreg[0], qreg[1], qm[2]], ancilla)\n",
    "\n",
    "    # qc.mcry(+1*(2*pi/2**precision)*2, [qreg[2], qreg[1], qm[0]], ancilla)\n",
    "    # qc.mcry(+1*(2*pi/2**precision)*4, [qreg[2], qreg[1], qm[1]], ancilla)\n",
    "    # qc.mcry(+1*(2*pi/2**precision)*8, [qreg[2], qreg[1], qm[2]], ancilla)\n",
    "\n",
    "    qc.mcry(+2*(2*pi/2**precision)*2, [qreg[0], qreg[2], qm[0]], ancilla)\n",
    "    qc.mcry(+2*(2*pi/2**precision)*4, [qreg[0], qreg[2], qm[1]], ancilla)\n",
    "    qc.mcry(+2*(2*pi/2**precision)*8, [qreg[0], qreg[2], qm[2]], ancilla)\n",
    "\n",
    "    # qc.barrier()\n",
    "\n",
    "    qc.x(ancilla)\n",
    "    qc.z(ancilla)\n",
    "    qc.rx(-pi/2, ancilla)\n",
    "\n",
    "\n",
    "    qc = qc.compose(QFT(QuantumCircuit(precision, name= 'QFT')).to_gate().inverse() , qm  )\n",
    "    \n",
    "    return qc\n",
    "\n"
   ]
  },
  {
   "cell_type": "code",
   "execution_count": null,
   "metadata": {},
   "outputs": [],
   "source": [
    "precision = 3\n",
    "val_q = 3\n",
    "qreg = QuantumRegister(val_q, name= 'f_reg')\n",
    "qm = QuantumRegister(precision, name= 'precision')\n",
    "ancilla = QuantumRegister(1, name= 'ancilla')\n",
    "creg_qreg = ClassicalRegister(val_q, name='f_reg_c')\n",
    "creg_qm = ClassicalRegister(precision, name= 'precision_c')\n",
    "qc = QuantumCircuit(qreg, qm, ancilla, creg_qm, creg_qreg)\n",
    "qc = qc.compose(create_function_dictionary_maxcut_o(val_q, precision).to_gate() )\n",
    "qc.barrier()\n",
    "\n",
    "qc.draw()"
   ]
  },
  {
   "cell_type": "code",
   "execution_count": 49,
   "metadata": {},
   "outputs": [
    {
     "data": {
      "image/png": "[encoded data removed]",
      "text/plain": [
       "<Figure size 504x360 with 1 Axes>"
      ]
     },
     "execution_count": 49,
     "metadata": {},
     "output_type": "execute_result"
    }
   ],
   "source": [
    "qc.measure(qreg, creg_qreg)\n",
    "qc.measure(qm, creg_qm)\n",
    "counts = execute(qc, backend= aer, shots= 10024).result().get_counts()\n",
    "plot_histogram(counts)\n"
   ]
  },
  {
   "cell_type": "code",
   "execution_count": 39,
   "metadata": {},
   "outputs": [],
   "source": [
    "precision = 3\n",
    "val_q =3\n",
    "qreg = QuantumRegister(val_q, name= 'f_reg')\n",
    "qm = QuantumRegister(precision, name= 'precision')\n",
    "ancilla = QuantumRegister(1, name= 'ancilla')\n",
    "creg_qreg = ClassicalRegister(val_q, name='f_reg_c')\n",
    "creg_qm = ClassicalRegister(precision, name= 'precision_c')\n",
    "qc = QuantumCircuit(qreg, qm, ancilla, creg_qm, creg_qreg)\n",
    "qc = qc.compose(create_function_dictionary_maxcut_o(val_q, precision).to_gate() )\n",
    "qc.barrier()\n",
    "\n",
    "qc.draw()\n",
    "\n",
    "steps = 3\n",
    "for step in range(steps):\n",
    "    ## oracle sub rouitne\n",
    "    qc.x(ancilla)\n",
    "    qc.h(ancilla)\n",
    "    qc.cx(qm[-1] , ancilla)\n",
    "    qc.h(ancilla)\n",
    "    qc.x(ancilla)\n",
    "\n",
    "    ## diffuser sub routine \n",
    "    qc = qc.compose(create_function_dictionary_maxcut(val_q, precision).to_gate().inverse())\n",
    "    qc.x(ancilla)\n",
    "    qc.h(ancilla)    \n",
    "    qc.x(qreg)\n",
    "    qc.x(qm)\n",
    "    qc.mcx(qc._qubits[:-1], ancilla) \n",
    "    qc.x(qm)\n",
    "    qc.x(qreg)\n",
    "    qc.h(ancilla)\n",
    "    qc.x(ancilla)\n",
    "    qc = qc.compose(create_function_dictionary_maxcut(val_q, precision).to_gate())\n",
    "\n",
    "# qc.draw()"
   ]
  },
  {
   "cell_type": "code",
   "execution_count": 40,
   "metadata": {},
   "outputs": [
    {
     "data": {
      "image/png": "[encoded data removed]",
      "text/plain": [
       "<Figure size 504x360 with 1 Axes>"
      ]
     },
     "execution_count": 40,
     "metadata": {},
     "output_type": "execute_result"
    }
   ],
   "source": [
    "qc.measure(qreg, creg_qreg)\n",
    "qc.measure(qm, creg_qm)\n",
    "counts = execute(qc, backend= aer, shots= 10024).result().get_counts()\n",
    "plot_histogram(counts)\n"
   ]
  },
  {
   "cell_type": "code",
   "execution_count": null,
   "metadata": {},
   "outputs": [],
   "source": []
  },
  {
   "cell_type": "code",
   "execution_count": null,
   "metadata": {},
   "outputs": [],
   "source": []
  }
 ],
 "metadata": {
  "kernelspec": {
   "display_name": "Python 3.10.4 64-bit",
   "language": "python",
   "name": "python3"
  },
  "language_info": {
   "codemirror_mode": {
    "name": "ipython",
    "version": 3
   },
   "file_extension": ".py",
   "mimetype": "text/x-python",
   "name": "python",
   "nbconvert_exporter": "python",
   "pygments_lexer": "ipython3",
   "version": "3.10.4"
  },
  "orig_nbformat": 4,
  "vscode": {
   "interpreter": {
    "hash": "31f2aee4e71d21fbe5cf8b01ff0e069b9275f58929596ceb00d14d90e3e16cd6"
   }
  }
 },
 "nbformat": 4,
 "nbformat_minor": 2
}
