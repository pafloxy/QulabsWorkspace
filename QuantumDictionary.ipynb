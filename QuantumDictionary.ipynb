{
 "cells": [
  {
   "cell_type": "code",
   "execution_count": 2,
   "metadata": {},
   "outputs": [],
   "source": [
    "## imports\n",
    "from qiskit import *\n",
    "from qiskit.algorithms import *\n",
    "from qiskit import QuantumRegister, ClassicalRegister, QuantumCircuit\n",
    "from qiskit import quantum_info, IBMQ, Aer\n",
    "from qiskit import BasicAer\n",
    "from qiskit.utils import QuantumInstance\n",
    "from qiskit.extensions import HamiltonianGate\n",
    "# backend = BasicAer.get_backend(\"statevector_simulator\")\n",
    "# quantum_instance = QuantumInstance(backend)\n",
    "from qiskit.algorithms import AmplitudeEstimation\n",
    "from qiskit.quantum_info import Statevector, Operator\n",
    "from qiskit.opflow import CircuitStateFn\n",
    "#from qiskit.ignis.verification.tomography import state_tomography_circuits, StateTomographyFitter\n",
    "from qiskit.visualization import plot_histogram, plot_state_qsphere, plot_bloch_multivector, plot_bloch_vector\n",
    "import numpy as np\n",
    "import scipy \n",
    "from numpy import pi\n",
    "import seaborn as sns\n",
    "from IPython.display import Image\n",
    "import matplotlib.pyplot as plt"
   ]
  },
  {
   "cell_type": "code",
   "execution_count": 3,
   "metadata": {},
   "outputs": [],
   "source": [
    "## import optimisers\n",
    "from qiskit.algorithms.optimizers import COBYLA\n",
    "from scipy.optimize import minimize"
   ]
  },
  {
   "cell_type": "code",
   "execution_count": 4,
   "metadata": {},
   "outputs": [],
   "source": [
    "# setup simulator using IBM_id\n",
    "# IBMQ.save_account(\"1c62e8a0d2b058d0e797db9c811bc34582df5553e25812301cd1518662c0ab68d2378ac6c197b65f8be944d04b7e7439f034e3926a44fa8088538b3d13782c1a\", overwrite= True)\n",
    "provider = IBMQ.load_account()\n",
    "IBMQ.get_provider(hub='ibm-q-education', group='iit-madras-1', project='quantum-computin')\n",
    "# setup required backends \n",
    "lima = provider.get_backend('ibmq_lima')\n",
    "manila = provider.get_backend('ibmq_manila')\n",
    "qsm = Aer.get_backend('qasm_simulator')\n",
    "stv = Aer.get_backend('statevector_simulator')\n",
    "aer = Aer.get_backend('aer_simulator')"
   ]
  },
  {
   "cell_type": "code",
   "execution_count": 5,
   "metadata": {},
   "outputs": [],
   "source": [
    "## sub-routines for QFT  ~\n",
    "def crot(qc, l):\n",
    "    \"\"\" Function to generate Controlled Rotation Ooeration  \"\"\"\n",
    "    if l == 0:\n",
    "        return qc\n",
    "    l = l-1\n",
    "    qc.h(l)\n",
    "    for q in range(l):\n",
    "        qc.cp(pi/2**(l-q), q, l)\n",
    "    #qc.barrier()\n",
    "    # qc.draw()\n",
    "    \n",
    "def QFT(qc):\n",
    "   \"\"\"function to generate QFT circuit \"\"\"\n",
    "   dim = qc.num_qubits\n",
    "   for q in range(dim):\n",
    "      crot(qc, dim-q)\n",
    "   for q in range(int(dim/2)):\n",
    "      qc.swap(q, dim-q-1)\n",
    "\n",
    "   #qc.draw()\n",
    "   return qc\n",
    "   "
   ]
  },
  {
   "cell_type": "markdown",
   "metadata": {},
   "source": [
    "## Quantum Dictionary\n",
    "Implement a quantum algorithm to store (key, value) pairs in the same form a regular hash-based dictionary works. \n",
    "\n",
    "Given the keys $\\{k_i\\}$ and values $\\{v_i\\}$ the quantum dictionary implements a circuit to prepare the state\n",
    "$$  \\ket{\\psi(k,v)} = \\sum_{k_i} \\ket{k_i}\\ket{v_i}  $$\n"
   ]
  },
  {
   "cell_type": "markdown",
   "metadata": {},
   "source": [
    "Our purpose here is to use the quantum dictionary format to store the function evaluations of the an function 'f(k)' on the keys 'k',\n",
    "$$  \\ket{\\psi(f)} = \\sum_{k_i} \\ket{k_i}\\ket{f(k_i)} $$"
   ]
  },
  {
   "cell_type": "markdown",
   "metadata": {},
   "source": [
    "### Example 1: \n",
    "There's a function \n",
    "'f(x)'such that\n",
    "$$ f(0) = 5, f(3) = 7\n",
    "$$"
   ]
  },
  {
   "cell_type": "code",
   "execution_count": 6,
   "metadata": {},
   "outputs": [
    {
     "data": {
      "text/plain": [
       "<qiskit.circuit.instructionset.InstructionSet at 0x7f4d717d1ec0>"
      ]
     },
     "execution_count": 6,
     "metadata": {},
     "output_type": "execute_result"
    }
   ],
   "source": [
    "precision = 3\n",
    "qreg = QuantumRegister(2, name= 'qreg')\n",
    "qm = QuantumRegister(precision, name= 'precision')\n",
    "ancilla = QuantumRegister(1, name= 'ancilla')\n",
    "creg_q = ClassicalRegister(2, name='creg')\n",
    "creg_qm = ClassicalRegister(precision, name= 'precision_c')\n",
    "\n",
    "qc = QuantumCircuit(qreg, qm, ancilla, creg_qm, creg_q)\n",
    "\n",
    "qc.h(qreg)\n",
    "qc.h(qm)\n",
    "qc.rx(pi/2, ancilla)\n",
    "qc.z(ancilla)\n",
    "qc.x(ancilla)\n",
    "qc.barrier()\n",
    "\n",
    "# qc.x(qreg[0])\n",
    "# qc.mcry(  4*(2*pi/2**4)*2, [qreg[0],qm[0]],ancilla)\n",
    "# qc.mcry(  4*(2*pi/2**4)*2, [qreg[0],qreg[1],qm[0]],ancilla)\n",
    "# qc.mcry(  1*(2*pi/2**4)*2, [qreg[1],qm[0]],ancilla)\n",
    "qc.x(qreg)\n",
    "qc.mcry(5*(2*pi/2**precision)*2, [qreg[0], qreg[1], qm[0]], ancilla)\n",
    "qc.mcry(5*(2*pi/2**precision)*4, [qreg[0], qreg[1], qm[1]], ancilla)\n",
    "qc.mcry(5*(2*pi/2**precision)*8, [qreg[0], qreg[1], qm[2]], ancilla)\n",
    "qc.x(qreg)\n",
    "\n",
    "# qc.x(qreg)\n",
    "qc.mcry(7*(2*pi/2**precision)*2, [qreg[0], qreg[1], qm[0]], ancilla)\n",
    "qc.mcry(7*(2*pi/2**precision)*4, [qreg[0], qreg[1], qm[1]], ancilla)\n",
    "qc.mcry(7*(2*pi/2**precision)*8, [qreg[0], qreg[1], qm[2]], ancilla)\n",
    "# qc.x(qreg)\n",
    "\n",
    "\n",
    "qc = qc.append(QFT(QuantumCircuit(precision, name= 'QFT')).to_gate().inverse() , [2,3,4]  )\n",
    "qc.barrier()\n",
    "# qc.draw()\n",
    "\n",
    "\n"
   ]
  },
  {
   "cell_type": "code",
   "execution_count": 7,
   "metadata": {},
   "outputs": [
    {
     "data": {
      "text/plain": [
       "<qiskit.circuit.instructionset.InstructionSet at 0x7f4d717c6bc0>"
      ]
     },
     "execution_count": 7,
     "metadata": {},
     "output_type": "execute_result"
    }
   ],
   "source": [
    "qc.measure(qreg, creg_q )\n",
    "qc.measure(qm, creg_qm)\n",
    "# qc.draw()\n"
   ]
  },
  {
   "cell_type": "code",
   "execution_count": 8,
   "metadata": {},
   "outputs": [
    {
     "data": {
      "image/png": "[encoded data removed]",
      "text/plain": [
       "<Figure size 504x360 with 1 Axes>"
      ]
     },
     "execution_count": 8,
     "metadata": {},
     "output_type": "execute_result"
    }
   ],
   "source": [
    "counts = execute(qc, backend= aer, shots= 10024).result().get_counts()\n",
    "plot_histogram(counts)"
   ]
  },
  {
   "cell_type": "code",
   "execution_count": null,
   "metadata": {},
   "outputs": [],
   "source": []
  },
  {
   "cell_type": "code",
   "execution_count": 1,
   "metadata": {},
   "outputs": [],
   "source": [
    "def conditional( ):\n",
    "    pass"
   ]
  },
  {
   "cell_type": "markdown",
   "metadata": {},
   "source": [
    "#### Example 2:\n",
    "Function 'f(x)' defined on 3 variables as :\n",
    "\n",
    "$$  f(x_1, x_2, x_3) = -2 x_1 x_2 + 3 x_1 x_3 - x_1   $$"
   ]
  },
  {
   "cell_type": "code",
   "execution_count": 49,
   "metadata": {},
   "outputs": [
    {
     "data": {
      "text/plain": [
       "<qiskit.circuit.instructionset.InstructionSet at 0x7f4d6163c0c0>"
      ]
     },
     "execution_count": 49,
     "metadata": {},
     "output_type": "execute_result"
    }
   ],
   "source": [
    "precision = 3\n",
    "qreg = QuantumRegister(3, name= 'qreg')\n",
    "qm = QuantumRegister(precision, name= 'precision')\n",
    "ancilla = QuantumRegister(1, name= 'ancilla')\n",
    "creg_q = ClassicalRegister(3, name='creg')\n",
    "creg_qm = ClassicalRegister(precision, name= 'precision_c')\n",
    "\n",
    "qc = QuantumCircuit(qreg, qm, ancilla, creg_qm, creg_q)\n",
    "\n",
    "qc.h(qreg)\n",
    "qc.h(qm)\n",
    "qc.rx(pi/2, ancilla)\n",
    "qc.z(ancilla)\n",
    "qc.x(ancilla)\n",
    "qc.barrier()\n",
    "\n",
    "\n",
    "\n",
    "qc.mcry(-2*(2*pi/2**precision)*2, [qreg[0], qreg[1], qm[0]], ancilla)\n",
    "qc.mcry(-2*(2*pi/2**precision)*4, [qreg[0], qreg[1], qm[1]], ancilla)\n",
    "qc.mcry(-2*(2*pi/2**precision)*8, [qreg[0], qreg[1], qm[2]], ancilla)\n",
    "\n",
    "qc.mcry(-1*(2*pi/2**precision)*2, [qreg[0],  qm[0]], ancilla)\n",
    "qc.mcry(-1*(2*pi/2**precision)*4, [qreg[0],  qm[1]], ancilla)\n",
    "qc.mcry(-1*(2*pi/2**precision)*8, [qreg[0],  qm[2]], ancilla)\n",
    "\n",
    "qc.mcry(3*(2*pi/2**precision)*2, [qreg[0], qreg[2], qm[0]], ancilla)\n",
    "qc.mcry(3*(2*pi/2**precision)*4, [qreg[0], qreg[2], qm[1]], ancilla)\n",
    "qc.mcry(3*(2*pi/2**precision)*8, [qreg[0], qreg[2], qm[2]], ancilla)\n",
    "\n",
    "\n",
    "\n",
    "qc = qc.compose(QFT(QuantumCircuit(precision, name= 'QFT')).to_gate().inverse() , qm  )\n",
    "\n",
    "qc.x(ancilla)\n",
    "qc.z(ancilla)\n",
    "qc.rx(pi/2, ancilla)\n",
    "\n",
    "\n",
    "qc.barrier()\n",
    "# qc.draw()\n",
    "\n",
    "\n"
   ]
  },
  {
   "cell_type": "code",
   "execution_count": 44,
   "metadata": {},
   "outputs": [
    {
     "data": {
      "text/plain": [
       "<qiskit.circuit.instructionset.InstructionSet at 0x7f4d617ee7c0>"
      ]
     },
     "execution_count": 44,
     "metadata": {},
     "output_type": "execute_result"
    }
   ],
   "source": [
    "qc.measure(qreg, creg_q )\n",
    "qc.measure(qm, creg_qm)\n",
    "# qc.draw()"
   ]
  },
  {
   "cell_type": "code",
   "execution_count": 46,
   "metadata": {},
   "outputs": [
    {
     "data": {
      "text/plain": [
       "{'000 000': 1307,\n",
       " '001 111': 1209,\n",
       " '101 010': 1262,\n",
       " '100 000': 1271,\n",
       " '111 000': 1244,\n",
       " '010 000': 1251,\n",
       " '110 000': 1220,\n",
       " '011 101': 1260}"
      ]
     },
     "execution_count": 46,
     "metadata": {},
     "output_type": "execute_result"
    }
   ],
   "source": [
    "counts = execute(qc, backend= aer, shots= 10024).result().get_counts()\n",
    "# plot_histogram(counts)\n",
    "counts"
   ]
  },
  {
   "cell_type": "markdown",
   "metadata": {},
   "source": [
    "#### Example 3 :"
   ]
  },
  {
   "cell_type": "markdown",
   "metadata": {},
   "source": [
    "Follows from the last exmaple, we use a post processing layer of grover operators to amplify the states with negative 'values'."
   ]
  },
  {
   "cell_type": "code",
   "execution_count": 95,
   "metadata": {},
   "outputs": [],
   "source": [
    "## grover operator for conditioning amplification\n",
    "def grover(precision, steps):\n",
    "    qreg = QuantumRegister(precision)\n",
    "    ancilla = QuantumRegister(1)\n",
    "    qc = QuantumCircuit(qreg, ancilla, name= 'Grover')\n",
    "\n",
    "    for q in range(steps):\n",
    "        qc.x(ancilla)\n",
    "        qc.h(ancilla)\n",
    "        qc.cx(qreg[0], ancilla)\n",
    "        qc.h(ancilla)\n",
    "        qc.x(ancilla)\n",
    "\n",
    "       \n",
    "        qc.h(qreg)\n",
    "        qc.x(qreg)\n",
    "        qc.x(ancilla)\n",
    "        qc.h(ancilla)\n",
    "        qc.mcx(qreg ,ancilla)\n",
    "        qc.h(ancilla)\n",
    "        qc.x(ancilla)\n",
    "        qc.x(qreg)\n",
    "        qc.h(qreg)\n",
    "        \n",
    "\n",
    "        \n",
    "    return qc.to_gate()\n",
    "\n",
    "\n",
    "    "
   ]
  },
  {
   "cell_type": "code",
   "execution_count": 100,
   "metadata": {},
   "outputs": [
    {
     "data": {
      "text/plain": [
       "<qiskit.circuit.instructionset.InstructionSet at 0x7f4d594dcd00>"
      ]
     },
     "execution_count": 100,
     "metadata": {},
     "output_type": "execute_result"
    }
   ],
   "source": [
    "precision = 3\n",
    "qreg = QuantumRegister(3, name= 'qreg')\n",
    "qm = QuantumRegister(precision, name= 'precision')\n",
    "ancilla = QuantumRegister(1, name= 'ancilla')\n",
    "creg_q = ClassicalRegister(3, name='creg')\n",
    "creg_qm = ClassicalRegister(precision, name= 'precision_c')\n",
    "\n",
    "qc = QuantumCircuit(qreg, qm, ancilla, creg_qm, creg_q)\n",
    "\n",
    "qc.h(qreg)\n",
    "qc.h(qm)\n",
    "\n",
    "qc.rx(pi/2, ancilla)\n",
    "qc.z(ancilla)\n",
    "qc.x(ancilla)\n",
    "qc.barrier()\n",
    "\n",
    "\n",
    "\n",
    "qc.mcry(-2*(2*pi/2**precision)*2, [qreg[0], qreg[1], qm[0]], ancilla)\n",
    "qc.mcry(-2*(2*pi/2**precision)*4, [qreg[0], qreg[1], qm[1]], ancilla)\n",
    "qc.mcry(-2*(2*pi/2**precision)*8, [qreg[0], qreg[1], qm[2]], ancilla)\n",
    "\n",
    "qc.mcry(-1*(2*pi/2**precision)*2, [qreg[0],  qm[0]], ancilla)\n",
    "qc.mcry(-1*(2*pi/2**precision)*4, [qreg[0],  qm[1]], ancilla)\n",
    "qc.mcry(-1*(2*pi/2**precision)*8, [qreg[0],  qm[2]], ancilla)\n",
    "\n",
    "qc.mcry(3*(2*pi/2**precision)*2, [qreg[0], qreg[2], qm[0]], ancilla)\n",
    "qc.mcry(3*(2*pi/2**precision)*4, [qreg[0], qreg[2], qm[1]], ancilla)\n",
    "qc.mcry(3*(2*pi/2**precision)*8, [qreg[0], qreg[2], qm[2]], ancilla)\n",
    "\n",
    "qc.x(ancilla)\n",
    "qc.z(ancilla)\n",
    "qc.rx(-pi/2, ancilla)\n",
    "\n",
    "\n",
    "qc = qc.compose(QFT(QuantumCircuit(precision, name= 'QFT')).to_gate().inverse() , qm  )\n",
    "qc.barrier()\n",
    "# qc.draw()\n",
    "\n",
    "\n"
   ]
  },
  {
   "cell_type": "code",
   "execution_count": 101,
   "metadata": {},
   "outputs": [],
   "source": [
    "# qc.draw()\n",
    "qc = qc.compose(grover(precision,1), [qm[0], qm[1], qm[2], ancilla] )\n",
    "# qc.decompose().draw()"
   ]
  },
  {
   "cell_type": "code",
   "execution_count": 102,
   "metadata": {},
   "outputs": [
    {
     "data": {
      "text/plain": [
       "<qiskit.circuit.instructionset.InstructionSet at 0x7f4d594c9200>"
      ]
     },
     "execution_count": 102,
     "metadata": {},
     "output_type": "execute_result"
    }
   ],
   "source": [
    "qc.measure(qm, creg_qm)"
   ]
  },
  {
   "cell_type": "code",
   "execution_count": 103,
   "metadata": {},
   "outputs": [
    {
     "data": {
      "image/png": "[encoded data removed]",
      "text/plain": [
       "<Figure size 504x360 with 1 Axes>"
      ]
     },
     "execution_count": 103,
     "metadata": {},
     "output_type": "execute_result"
    }
   ],
   "source": [
    "counts = execute(qc, backend= aer, shots= 10024).result().get_counts()\n",
    "plot_histogram(counts)\n",
    "# counts"
   ]
  },
  {
   "cell_type": "markdown",
   "metadata": {},
   "source": [
    "#### QUBO using quantum dictionary"
   ]
  },
  {
   "cell_type": "code",
   "execution_count": 74,
   "metadata": {},
   "outputs": [
    {
     "ename": "TypeError",
     "evalue": "QuantumCircuit.append() missing 1 required positional argument: 'instruction'",
     "output_type": "error",
     "traceback": [
      "\u001b[0;31m---------------------------------------------------------------------------\u001b[0m",
      "\u001b[0;31mTypeError\u001b[0m                                 Traceback (most recent call last)",
      "\u001b[1;32m/home/rajarsi/Documents/GitHub/QulabsWorkspace/QuantumDictionary.ipynb Cell 26'\u001b[0m in \u001b[0;36m<cell line: 1>\u001b[0;34m()\u001b[0m\n\u001b[0;32m----> <a href='vscode-notebook-cell:/home/rajarsi/Documents/GitHub/QulabsWorkspace/QuantumDictionary.ipynb#ch0000015?line=0'>1</a>\u001b[0m qc\u001b[39m.\u001b[39;49mappend()\n",
      "\u001b[0;31mTypeError\u001b[0m: QuantumCircuit.append() missing 1 required positional argument: 'instruction'"
     ]
    }
   ],
   "source": [
    "qc.append()"
   ]
  },
  {
   "cell_type": "markdown",
   "metadata": {},
   "source": [
    "Say the QUBO objective function for two variables $x_1, x_2$ is \n",
    "$$  f(x_1, x_2) = \n",
    "$$"
   ]
  }
 ],
 "metadata": {
  "kernelspec": {
   "display_name": "Python 3.10.4 64-bit",
   "language": "python",
   "name": "python3"
  },
  "language_info": {
   "codemirror_mode": {
    "name": "ipython",
    "version": 3
   },
   "file_extension": ".py",
   "mimetype": "text/x-python",
   "name": "python",
   "nbconvert_exporter": "python",
   "pygments_lexer": "ipython3",
   "version": "3.10.4"
  },
  "orig_nbformat": 4,
  "vscode": {
   "interpreter": {
    "hash": "31f2aee4e71d21fbe5cf8b01ff0e069b9275f58929596ceb00d14d90e3e16cd6"
   }
  }
 },
 "nbformat": 4,
 "nbformat_minor": 2
}
