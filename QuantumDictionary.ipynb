{
 "cells": [
  {
   "cell_type": "code",
   "execution_count": 1,
   "metadata": {},
   "outputs": [],
   "source": [
    "## imports\n",
    "from qiskit import *\n",
    "from qiskit.algorithms import *\n",
    "from qiskit import QuantumRegister, ClassicalRegister, QuantumCircuit\n",
    "from qiskit import quantum_info, IBMQ, Aer\n",
    "from qiskit import BasicAer\n",
    "from qiskit.utils import QuantumInstance\n",
    "from qiskit.extensions import HamiltonianGate\n",
    "# backend = BasicAer.get_backend(\"statevector_simulator\")\n",
    "# quantum_instance = QuantumInstance(backend)\n",
    "from qiskit.algorithms import AmplitudeEstimation\n",
    "from qiskit.quantum_info import Statevector, Operator\n",
    "from qiskit.opflow import CircuitStateFn\n",
    "#from qiskit.ignis.verification.tomography import state_tomography_circuits, StateTomographyFitter\n",
    "from qiskit.visualization import plot_histogram, plot_state_qsphere, plot_bloch_multivector, plot_bloch_vector\n",
    "import numpy as np\n",
    "import scipy \n",
    "from numpy import pi\n",
    "import seaborn as sns\n",
    "from IPython.display import Image\n",
    "import matplotlib.pyplot as plt"
   ]
  },
  {
   "cell_type": "code",
   "execution_count": 2,
   "metadata": {},
   "outputs": [],
   "source": [
    "## import optimisers\n",
    "from qiskit.algorithms.optimizers import COBYLA\n",
    "from scipy.optimize import minimize"
   ]
  },
  {
   "cell_type": "code",
   "execution_count": 3,
   "metadata": {},
   "outputs": [],
   "source": [
    "# setup simulator using IBM_id\n",
    "# IBMQ.save_account(\"1c62e8a0d2b058d0e797db9c811bc34582df5553e25812301cd1518662c0ab68d2378ac6c197b65f8be944d04b7e7439f034e3926a44fa8088538b3d13782c1a\", overwrite= True)\n",
    "provider = IBMQ.load_account()\n",
    "IBMQ.get_provider(hub='ibm-q-education', group='iit-madras-1', project='quantum-computin')\n",
    "# setup required backends \n",
    "lima = provider.get_backend('ibmq_lima')\n",
    "manila = provider.get_backend('ibmq_manila')\n",
    "qsm = Aer.get_backend('qasm_simulator')\n",
    "stv = Aer.get_backend('statevector_simulator')\n",
    "aer = Aer.get_backend('aer_simulator')"
   ]
  },
  {
   "cell_type": "code",
   "execution_count": 19,
   "metadata": {},
   "outputs": [],
   "source": [
    "## sub-routines for QFT  ~\n",
    "def crot(qc, l):\n",
    "    \"\"\" Function to generate Controlled Rotation Ooeration  \"\"\"\n",
    "    if l == 0:\n",
    "        return qc\n",
    "    l = l-1\n",
    "    qc.h(l)\n",
    "    for q in range(l):\n",
    "        qc.cp(pi/2**(l-q), q, l)\n",
    "    #qc.barrier()\n",
    "    # qc.draw()\n",
    "    \n",
    "def QFT(qc):\n",
    "   \"\"\"function to generate QFT circuit \"\"\"\n",
    "   dim = qc.num_qubits\n",
    "   for q in range(dim):\n",
    "      crot(qc, dim-q)\n",
    "   for q in range(int(dim/2)):\n",
    "      qc.swap(q, dim-q-1)\n",
    "\n",
    "   #qc.draw()\n",
    "   return qc\n",
    "   "
   ]
  },
  {
   "cell_type": "markdown",
   "metadata": {},
   "source": [
    "### Quantum Dictionary\n",
    "Implement a quantum algorithm to store (key, value) pairs in the same form a regular hash-based dictionary works. \n",
    "\n",
    "Given the keys $\\{k_i\\}$ and values $\\{v_i\\}$ the quantum dictionary implements a circuit to prepare the state\n",
    "$$  \\ket{\\psi(k,v)} = \\sum_{k_i} \\ket{k_i}\\ket{v_i}  $$\n"
   ]
  },
  {
   "cell_type": "markdown",
   "metadata": {},
   "source": [
    "Our purpose here is to use the quantum dictionary format to store the function evaluations of the an function 'f(k)' on the keys 'k',\n",
    "$$  \\ket{\\psi(f)} = \\sum_{k_i} \\ket{k_i}\\ket{f(k_i)} $$"
   ]
  },
  {
   "cell_type": "markdown",
   "metadata": {},
   "source": [
    "Example: \n",
    "There's a function \n",
    "'f(x)'such that\n",
    "$$ f(0) = 5, f(3) = 7\n",
    "$$"
   ]
  },
  {
   "cell_type": "code",
   "execution_count": 79,
   "metadata": {},
   "outputs": [
    {
     "data": {
      "text/plain": [
       "<qiskit.circuit.instructionset.InstructionSet at 0x7f04e23b27c0>"
      ]
     },
     "execution_count": 79,
     "metadata": {},
     "output_type": "execute_result"
    }
   ],
   "source": [
    "precision = 3\n",
    "qreg = QuantumRegister(2, name= 'qreg')\n",
    "qm = QuantumRegister(precision, name= 'precision')\n",
    "ancilla = QuantumRegister(1, name= 'ancilla')\n",
    "creg_q = ClassicalRegister(2, name='creg')\n",
    "creg_qm = ClassicalRegister(precision, name= 'precision_c')\n",
    "\n",
    "qc = QuantumCircuit(qreg, qm, ancilla, creg_qm, creg_q)\n",
    "\n",
    "qc.h(qreg)\n",
    "qc.h(qm)\n",
    "qc.rx(pi/2, ancilla)\n",
    "qc.z(ancilla)\n",
    "qc.x(ancilla)\n",
    "qc.barrier()\n",
    "\n",
    "# qc.x(qreg[0])\n",
    "# qc.mcry(  4*(2*pi/2**4)*2, [qreg[0],qm[0]],ancilla)\n",
    "# qc.mcry(  4*(2*pi/2**4)*2, [qreg[0],qreg[1],qm[0]],ancilla)\n",
    "# qc.mcry(  1*(2*pi/2**4)*2, [qreg[1],qm[0]],ancilla)\n",
    "qc.x(qreg)\n",
    "qc.mcry(5*(2*pi/2**precision)*2, [qreg[0], qreg[1], qm[0]], ancilla)\n",
    "qc.mcry(5*(2*pi/2**precision)*4, [qreg[0], qreg[1], qm[1]], ancilla)\n",
    "qc.mcry(5*(2*pi/2**precision)*8, [qreg[0], qreg[1], qm[2]], ancilla)\n",
    "qc.x(qreg)\n",
    "\n",
    "# qc.x(qreg)\n",
    "qc.mcry(7*(2*pi/2**precision)*2, [qreg[0], qreg[1], qm[0]], ancilla)\n",
    "qc.mcry(7*(2*pi/2**precision)*4, [qreg[0], qreg[1], qm[1]], ancilla)\n",
    "qc.mcry(7*(2*pi/2**precision)*8, [qreg[0], qreg[1], qm[2]], ancilla)\n",
    "# qc.x(qreg)\n",
    "\n",
    "\n",
    "qc.append(QFT(QuantumCircuit(precision, name= 'QFT')).to_gate().inverse() , [2,3,4]  )\n",
    "qc.barrier()\n",
    "# qc.draw()\n",
    "\n",
    "\n"
   ]
  },
  {
   "cell_type": "code",
   "execution_count": 80,
   "metadata": {},
   "outputs": [
    {
     "data": {
      "text/plain": [
       "<qiskit.circuit.instructionset.InstructionSet at 0x7f04dc5810c0>"
      ]
     },
     "execution_count": 80,
     "metadata": {},
     "output_type": "execute_result"
    }
   ],
   "source": [
    "qc.measure(qreg, creg_q )\n",
    "qc.measure(qm, creg_qm)\n",
    "# qc.draw()\n"
   ]
  },
  {
   "cell_type": "code",
   "execution_count": 81,
   "metadata": {},
   "outputs": [
    {
     "data": {
      "image/png": "[encoded data removed]",
      "text/plain": [
       "<Figure size 504x360 with 1 Axes>"
      ]
     },
     "execution_count": 81,
     "metadata": {},
     "output_type": "execute_result"
    }
   ],
   "source": [
    "counts = execute(qc, backend= aer, shots= 10024).result().get_counts()\n",
    "plot_histogram(counts)"
   ]
  },
  {
   "cell_type": "code",
   "execution_count": 75,
   "metadata": {},
   "outputs": [
    {
     "data": {
      "text/plain": [
       "{'11 000': 2482, '00 101': 2471, '01 000': 2542, '10 000': 2529}"
      ]
     },
     "execution_count": 75,
     "metadata": {},
     "output_type": "execute_result"
    }
   ],
   "source": []
  },
  {
   "cell_type": "markdown",
   "metadata": {},
   "source": [
    "## QUBO us"
   ]
  }
 ],
 "metadata": {
  "kernelspec": {
   "display_name": "Python 3.10.4 64-bit",
   "language": "python",
   "name": "python3"
  },
  "language_info": {
   "codemirror_mode": {
    "name": "ipython",
    "version": 3
   },
   "file_extension": ".py",
   "mimetype": "text/x-python",
   "name": "python",
   "nbconvert_exporter": "python",
   "pygments_lexer": "ipython3",
   "version": "3.10.4"
  },
  "orig_nbformat": 4,
  "vscode": {
   "interpreter": {
    "hash": "31f2aee4e71d21fbe5cf8b01ff0e069b9275f58929596ceb00d14d90e3e16cd6"
   }
  }
 },
 "nbformat": 4,
 "nbformat_minor": 2
}
