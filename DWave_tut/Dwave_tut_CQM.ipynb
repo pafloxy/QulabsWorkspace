{
 "cells": [
  {
   "cell_type": "code",
   "execution_count": 32,
   "metadata": {},
   "outputs": [],
   "source": [
    "import numpy as np\n",
    "import matplotlib.pyplot as plt\n",
    "import pandas as pd\n",
    "import pandas_datareader as pdr\n",
    "import datetime\n",
    "import seaborn as sns\n",
    "\n"
   ]
  },
  {
   "cell_type": "code",
   "execution_count": 33,
   "metadata": {},
   "outputs": [],
   "source": [
    "import dwave\n",
    "from dwave.cloud import Client\n",
    "client = Client.from_config(config_file= '/home/rajarsi/.config/dwave/dwave.conf' )\n",
    "dwave.cloud.config.load_config(['/home/rajarsi/.config/dwave/dwave.conf'])\n",
    "import dimod\n",
    "from dwave.system import LeapHybridCQMSampler\n",
    "from dimod import BinaryQuadraticModel as BQM\n",
    "from dimod import ConstrainedQuadraticModel as CQM\n"
   ]
  },
  {
   "cell_type": "code",
   "execution_count": 25,
   "metadata": {},
   "outputs": [
    {
     "data": {
      "text/plain": [
       "BinaryQuadraticModel({'x': 2.0, 'y': -1.0, 'z': 1.0}, {('y', 'x'): -1.0, ('z', 'x'): -2.0, ('z', 'y'): 1.0}, 0.0, 'SPIN')"
      ]
     },
     "execution_count": 25,
     "metadata": {},
     "output_type": "execute_result"
    }
   ],
   "source": [
    "## define bqm ~\n",
    "bqm = BQM({'x':2, 'y':-1,'z':1},{ ('x','y'):-1, ('x','z'): -2, ('y','z'): 1}, 0 , 'SPIN')\n",
    "bqm\n"
   ]
  },
  {
   "cell_type": "code",
   "execution_count": 31,
   "metadata": {},
   "outputs": [
    {
     "data": {
      "text/plain": [
       "QuadraticModel({'x': 2.0, 'y': -1.0, 'z': 1.0}, {('y', 'x'): -1.0, ('z', 'x'): -2.0, ('z', 'y'): 1.0}, 0.0, {'x': 'SPIN', 'y': 'SPIN', 'z': 'SPIN'}, dtype='float64')"
      ]
     },
     "execution_count": 31,
     "metadata": {},
     "output_type": "execute_result"
    }
   ],
   "source": [
    "## convert to CQM and add constraints ~\n",
    "cqm = CQM.from_bqm(bqm)\n",
    "cqm.add_constraint_from_iterable([('x','z',2), ('x',1), ('y', -1), ('y','z', 1) ], '<=', rhs= 3 , label= 'c1')\n",
    "cqm.constraints['c1'].to_polystring()\n",
    "cqm.objective"
   ]
  },
  {
   "cell_type": "code",
   "execution_count": 27,
   "metadata": {},
   "outputs": [],
   "source": [
    "sampler = LeapHybridCQMSampler()"
   ]
  },
  {
   "cell_type": "code",
   "execution_count": 28,
   "metadata": {},
   "outputs": [],
   "source": [
    "sample_set = sampler.sample_cqm(cqm)"
   ]
  },
  {
   "cell_type": "code",
   "execution_count": 30,
   "metadata": {},
   "outputs": [
    {
     "data": {
      "text/plain": [
       "'DEV-fd78ff4f32e65052173b24a9c589ef23f0c3ef9b'"
      ]
     },
     "execution_count": 30,
     "metadata": {},
     "output_type": "execute_result"
    }
   ],
   "source": [
    "client.token"
   ]
  },
  {
   "cell_type": "markdown",
   "metadata": {},
   "source": [
    "### Example: Portfolio Optmisation"
   ]
  },
  {
   "cell_type": "code",
   "execution_count": 41,
   "metadata": {},
   "outputs": [],
   "source": [
    "def get_stock_data(stocks, start= datetime.datetime(2000,1,1) , end= datetime.datetime(2022,1,1) ) :\n",
    "    \"\"\" Return stock data and covariace matrix corresponding to it \"\"\"\n",
    "    data = pd.DataFrame()\n",
    "    for stock in stocks:\n",
    "         data[stock] = pdr.DataReader(stock,data_source='yahoo', start= start, end= end)['Adj Close']\n",
    "\n",
    "    rtrn_data = data/data.shift(1)\n",
    "    rtrn_data =  np.log(rtrn_data[1:])\n",
    "    cov_matrix = rtrn_data.cov()\n",
    "    return rtrn_data, cov_matrix"
   ]
  },
  {
   "cell_type": "code",
   "execution_count": 96,
   "metadata": {},
   "outputs": [],
   "source": [
    "stocks= ['FB', 'MSFT', 'AAPL', 'IBM', 'GOOGL', 'TSLA', 'AMZN', 'JPC']\n",
    "data = get_stock_data(stocks)\n"
   ]
  },
  {
   "cell_type": "code",
   "execution_count": 107,
   "metadata": {},
   "outputs": [],
   "source": [
    "cov_matrix = data[1]\n",
    "mean_rtrn = data[0].mean()\n",
    "for stock in stocks : cov_matrix[stock][stock] = 0"
   ]
  },
  {
   "cell_type": "code",
   "execution_count": 108,
   "metadata": {},
   "outputs": [
    {
     "data": {
      "text/plain": [
       "<AxesSubplot:>"
      ]
     },
     "execution_count": 108,
     "metadata": {},
     "output_type": "execute_result"
    },
    {
     "data": {
      "image/png": "[encoded data removed]",
      "text/plain": [
       "<Figure size 432x288 with 2 Axes>"
      ]
     },
     "metadata": {
      "needs_background": "light"
     },
     "output_type": "display_data"
    }
   ],
   "source": [
    "sns.heatmap(cov_matrix)"
   ]
  },
  {
   "cell_type": "code",
   "execution_count": 123,
   "metadata": {},
   "outputs": [
    {
     "data": {
      "text/plain": [
       "BinaryQuadraticModel({'FB': -0.0029954910451557323, 'MSFT': 0.001719171496094148, 'AAPL': 0.0020518090970164738, 'IBM': -0.0001770631482118617, 'GOOGL': 0.001335610520782981, 'TSLA': 0.003447893073304704, 'AMZN': -0.00024408770473346333, 'JPC': 7.843049184898439e-05}, {('MSFT', 'FB'): 0.0001994706525248358, ('AAPL', 'FB'): 0.00019033685672190987, ('AAPL', 'MSFT'): 0.00022135498613413843, ('IBM', 'FB'): 4.1837907154129646e-05, ('IBM', 'MSFT'): -2.1466874849729516e-06, ('IBM', 'AAPL'): 3.959752222432272e-05, ('GOOGL', 'FB'): 0.00024993190391848667, ('GOOGL', 'MSFT'): 0.00025730615761147883, ('GOOGL', 'AAPL'): 0.00020048003670505854, ('GOOGL', 'IBM'): 2.2710877276271583e-05, ('TSLA', 'FB'): 0.00022518633497902902, ('TSLA', 'MSFT'): 0.00019702645618484716, ('TSLA', 'AAPL'): 0.00022521635004316896, ('TSLA', 'IBM'): 1.6614124318029612e-05, ('TSLA', 'GOOGL'): 0.00012840917819114043, ('AMZN', 'FB'): 0.00021599180892110164, ('AMZN', 'MSFT'): 0.00017817140115657982, ('AMZN', 'AAPL'): 0.00022698147985305867, ('AMZN', 'IBM'): 5.5433784401591e-06, ('AMZN', 'GOOGL'): 0.00023784901731240888, ('AMZN', 'TSLA'): 0.0001085435815369166, ('JPC', 'FB'): 5.132537891085281e-05, ('JPC', 'MSFT'): 5.2522723035142686e-05, ('JPC', 'AAPL'): 4.1681902827610784e-05, ('JPC', 'IBM'): 2.1529617482543585e-05, ('JPC', 'GOOGL'): 4.716793356531587e-05, ('JPC', 'TSLA'): 8.396886526235603e-05, ('JPC', 'AMZN'): 2.9034045167243687e-05}, 0.0, 'BINARY')"
      ]
     },
     "execution_count": 123,
     "metadata": {},
     "output_type": "execute_result"
    }
   ],
   "source": [
    "bqm = BQM('BINARY')\n",
    "for stock in stocks : bqm.add_variable(stock)\n",
    "\n",
    "## prepare quadratic model corresponding to portfolio \n",
    "for stock in stocks: bqm.add_linear_from({stock: mean_rtrn[stock]})\n",
    "for stock_i in stocks :\n",
    "    for stock_j in stocks : \n",
    "        if stock_i != stock_j: bqm.add_quadratic_from({(stock_i, stock_j): cov_matrix[stock_i][stock_j] })\n",
    "        \n",
    "bqm"
   ]
  },
  {
   "cell_type": "code",
   "execution_count": 124,
   "metadata": {},
   "outputs": [
    {
     "data": {
      "text/plain": [
       "['FB', 'MSFT', 'AAPL', 'IBM', 'GOOGL', 'TSLA', 'AMZN', 'JPC']"
      ]
     },
     "execution_count": 124,
     "metadata": {},
     "output_type": "execute_result"
    }
   ],
   "source": [
    "cqm = CQM.from_bqm(bqm)\n",
    "list(cqm.variables)"
   ]
  },
  {
   "cell_type": "code",
   "execution_count": 70,
   "metadata": {},
   "outputs": [
    {
     "ename": "TypeError",
     "evalue": "cannot unpack non-iterable int object",
     "output_type": "error",
     "traceback": [
      "\u001b[0;31m---------------------------------------------------------------------------\u001b[0m",
      "\u001b[0;31mTypeError\u001b[0m                                 Traceback (most recent call last)",
      "\u001b[1;32m/home/rajarsi/Documents/GitHub/QulabsWorkspace/DWave_tut/Dwave_tut_CQM.ipynb Cell 14'\u001b[0m in \u001b[0;36m<cell line: 1>\u001b[0;34m()\u001b[0m\n\u001b[0;32m----> <a href='vscode-notebook-cell:/home/rajarsi/Documents/GitHub/QulabsWorkspace/DWave_tut/Dwave_tut_CQM.ipynb#ch0000023?line=0'>1</a>\u001b[0m cqm\u001b[39m.\u001b[39;49madd_constraint_from_iterable(cqm\u001b[39m.\u001b[39;49mvariables, \u001b[39m'\u001b[39;49m\u001b[39m<=\u001b[39;49m\u001b[39m'\u001b[39;49m,  rhs\u001b[39m=\u001b[39;49m \u001b[39mlen\u001b[39;49m(cov_matrix))\n",
      "File \u001b[0;32m~/.local/lib/python3.10/site-packages/dimod/constrained.py:403\u001b[0m, in \u001b[0;36mConstrainedQuadraticModel.add_constraint_from_iterable\u001b[0;34m(self, iterable, sense, rhs, label)\u001b[0m\n\u001b[1;32m    365\u001b[0m \u001b[39mdef\u001b[39;00m \u001b[39madd_constraint_from_iterable\u001b[39m(\u001b[39mself\u001b[39m, iterable: Iterable,\n\u001b[1;32m    366\u001b[0m                                  sense: Union[Sense, \u001b[39mstr\u001b[39m],\n\u001b[1;32m    367\u001b[0m                                  rhs: Bias \u001b[39m=\u001b[39m \u001b[39m0\u001b[39m,\n\u001b[1;32m    368\u001b[0m                                  label: Optional[Hashable] \u001b[39m=\u001b[39m \u001b[39mNone\u001b[39;00m,\n\u001b[1;32m    369\u001b[0m                                  ) \u001b[39m-\u001b[39m\u001b[39m>\u001b[39m Hashable:\n\u001b[1;32m    370\u001b[0m     \u001b[39m\"\"\"Add a constraint from an iterable of tuples.\u001b[39;00m\n\u001b[1;32m    371\u001b[0m \n\u001b[1;32m    372\u001b[0m \u001b[39m    Args:\u001b[39;00m\n\u001b[0;32m   (...)\u001b[0m\n\u001b[1;32m    401\u001b[0m \n\u001b[1;32m    402\u001b[0m \u001b[39m    \"\"\"\u001b[39;00m\n\u001b[0;32m--> 403\u001b[0m     qm \u001b[39m=\u001b[39m \u001b[39mself\u001b[39;49m\u001b[39m.\u001b[39;49m_iterable_to_qm(iterable)\n\u001b[1;32m    405\u001b[0m     \u001b[39m# use quadratic model in the future\u001b[39;00m\n\u001b[1;32m    406\u001b[0m     \u001b[39mreturn\u001b[39;00m \u001b[39mself\u001b[39m\u001b[39m.\u001b[39madd_constraint_from_model(\n\u001b[1;32m    407\u001b[0m         qm, sense, rhs\u001b[39m=\u001b[39mrhs, label\u001b[39m=\u001b[39mlabel, copy\u001b[39m=\u001b[39m\u001b[39mFalse\u001b[39;00m)\n",
      "File \u001b[0;32m~/.local/lib/python3.10/site-packages/dimod/constrained.py:1631\u001b[0m, in \u001b[0;36mConstrainedQuadraticModel._iterable_to_qm\u001b[0;34m(self, iterable)\u001b[0m\n\u001b[1;32m   1628\u001b[0m     \u001b[39melse\u001b[39;00m:\n\u001b[1;32m   1629\u001b[0m         qm\u001b[39m.\u001b[39madd_variable(vartype, v)\n\u001b[0;32m-> 1631\u001b[0m \u001b[39mfor\u001b[39;00m \u001b[39m*\u001b[39mvariables, bias \u001b[39min\u001b[39;00m iterable:\n\u001b[1;32m   1632\u001b[0m     \u001b[39mif\u001b[39;00m \u001b[39mlen\u001b[39m(variables) \u001b[39m==\u001b[39m \u001b[39m0\u001b[39m:\n\u001b[1;32m   1633\u001b[0m         qm\u001b[39m.\u001b[39moffset \u001b[39m+\u001b[39m\u001b[39m=\u001b[39m bias\n",
      "\u001b[0;31mTypeError\u001b[0m: cannot unpack non-iterable int object"
     ]
    }
   ],
   "source": [
    "cqm.add_constraint_from_iterable(cqm.variables, '<=',  rhs= len(cov_matrix))"
   ]
  },
  {
   "cell_type": "code",
   "execution_count": null,
   "metadata": {},
   "outputs": [],
   "source": []
  }
 ],
 "metadata": {
  "kernelspec": {
   "display_name": "Python 3.10.4 64-bit",
   "language": "python",
   "name": "python3"
  },
  "language_info": {
   "codemirror_mode": {
    "name": "ipython",
    "version": 3
   },
   "file_extension": ".py",
   "mimetype": "text/x-python",
   "name": "python",
   "nbconvert_exporter": "python",
   "pygments_lexer": "ipython3",
   "version": "3.10.4"
  },
  "orig_nbformat": 4,
  "vscode": {
   "interpreter": {
    "hash": "31f2aee4e71d21fbe5cf8b01ff0e069b9275f58929596ceb00d14d90e3e16cd6"
   }
  }
 },
 "nbformat": 4,
 "nbformat_minor": 2
}
