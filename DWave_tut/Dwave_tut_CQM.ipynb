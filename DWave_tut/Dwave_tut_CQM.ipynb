{
 "cells": [
  {
   "cell_type": "code",
   "execution_count": 1,
   "metadata": {},
   "outputs": [],
   "source": [
    "import numpy as np\n",
    "import matplotlib.pyplot as plt\n",
    "import pandas as pd\n",
    "import pandas_datareader as pdr\n",
    "import datetime\n",
    "import seaborn as sns"
   ]
  },
  {
   "cell_type": "code",
   "execution_count": 9,
   "metadata": {},
   "outputs": [],
   "source": [
    "import dwave\n",
    "from dwave.cloud import Client\n",
    "client = Client.from_config(config_file= '/home/rajarsi/.config/dwave/dwave.conf' )\n",
    "dwave.cloud.config.load_config(['/home/rajarsi/.config/dwave/dwave.conf'])\n",
    "import dimod\n",
    "import neal\n",
    "from dwave.system import LeapHybridCQMSampler, DWaveSampler , LeapHybridSampler\n",
    "from dimod import BinaryQuadraticModel as BQM\n",
    "from dimod import ConstrainedQuadraticModel as CQM\n"
   ]
  },
  {
   "cell_type": "markdown",
   "metadata": {},
   "source": [
    "#### Scratch "
   ]
  },
  {
   "cell_type": "code",
   "execution_count": 3,
   "metadata": {},
   "outputs": [
    {
     "data": {
      "text/plain": [
       "BinaryQuadraticModel({'x': 2.0, 'y': -1.0, 'z': 1.0}, {('y', 'x'): -1.0, ('z', 'x'): -2.0, ('z', 'y'): 1.0}, 0.0, 'SPIN')"
      ]
     },
     "execution_count": 3,
     "metadata": {},
     "output_type": "execute_result"
    }
   ],
   "source": [
    "## define bqm ~\n",
    "bqm = BQM({'x':2, 'y':-1,'z':1},{ ('x','y'):-1, ('x','z'): -2, ('y','z'): 1}, 0 , 'SPIN')\n",
    "bqm\n"
   ]
  },
  {
   "cell_type": "code",
   "execution_count": 5,
   "metadata": {},
   "outputs": [
    {
     "data": {
      "text/plain": [
       "'x - y + 2*x*z + z*y <= 3'"
      ]
     },
     "execution_count": 5,
     "metadata": {},
     "output_type": "execute_result"
    }
   ],
   "source": [
    "## convert to CQM and add constraints ~\n",
    "cqm = CQM.from_bqm(bqm)\n",
    "cqm.add_constraint_from_iterable([('x','z',2), ('x',1), ('y', -1), ('y','z', 1) ], '<=', rhs= 3 , label= 'c1')\n",
    "cqm.constraints['c1'].to_polystring()\n",
    "# cqm.objective"
   ]
  },
  {
   "cell_type": "code",
   "execution_count": 18,
   "metadata": {},
   "outputs": [],
   "source": [
    "## setup sampler \n",
    "sampler = LeapHybridSampler()\n",
    "smpl_set = sampler.sample(bqm)"
   ]
  },
  {
   "cell_type": "code",
   "execution_count": 20,
   "metadata": {},
   "outputs": [
    {
     "name": "stdout",
     "output_type": "stream",
     "text": [
      "  AAPL AMZN FB GOOGL IBM JPC MSFT TSLA    energy num_oc.\n",
      "0    1    0  0     1   0   0    1    1 -0.007342       1\n",
      "['BINARY', 1 rows, 1 samples, 8 variables]\n"
     ]
    }
   ],
   "source": [
    "print(smpl_set)"
   ]
  },
  {
   "cell_type": "markdown",
   "metadata": {},
   "source": [
    "### Example: Portfolio Optmisation"
   ]
  },
  {
   "cell_type": "markdown",
   "metadata": {},
   "source": [
    "##### Getting Stock Data"
   ]
  },
  {
   "cell_type": "code",
   "execution_count": 12,
   "metadata": {},
   "outputs": [],
   "source": [
    "def get_stock_data(stocks, start= datetime.datetime(2000,1,1) , end= datetime.datetime(2022,1,1) ) :\n",
    "    \"\"\" Return stock data and covariace matrix corresponding to it \"\"\"\n",
    "    data = pd.DataFrame()\n",
    "    for stock in stocks:\n",
    "         data[stock] = pdr.DataReader(stock,data_source='yahoo', start= start, end= end)['Adj Close']\n",
    "\n",
    "    rtrn_data = data/data.shift(1)\n",
    "    rtrn_data =  np.log(rtrn_data[1:])\n",
    "    cov_matrix = rtrn_data.cov()\n",
    "    return rtrn_data, cov_matrix"
   ]
  },
  {
   "cell_type": "code",
   "execution_count": 13,
   "metadata": {},
   "outputs": [],
   "source": [
    "stocks= ['FB', 'MSFT', 'AAPL', 'IBM', 'GOOGL', 'TSLA', 'AMZN', 'JPC']\n",
    "data = get_stock_data(stocks)\n"
   ]
  },
  {
   "cell_type": "code",
   "execution_count": 14,
   "metadata": {},
   "outputs": [],
   "source": [
    "cov_matrix = data[1]\n",
    "mean_rtrn = data[0].mean()\n",
    "for stock in stocks : cov_matrix[stock][stock] = 0"
   ]
  },
  {
   "cell_type": "code",
   "execution_count": 15,
   "metadata": {},
   "outputs": [
    {
     "data": {
      "text/plain": [
       "<AxesSubplot:>"
      ]
     },
     "execution_count": 15,
     "metadata": {},
     "output_type": "execute_result"
    },
    {
     "data": {
      "image/png": "[encoded data removed]",
      "text/plain": [
       "<Figure size 432x288 with 2 Axes>"
      ]
     },
     "metadata": {
      "needs_background": "light"
     },
     "output_type": "display_data"
    }
   ],
   "source": [
    "sns.heatmap(cov_matrix)"
   ]
  },
  {
   "cell_type": "markdown",
   "metadata": {},
   "source": [
    "##### Setting up BQM"
   ]
  },
  {
   "cell_type": "code",
   "execution_count": 21,
   "metadata": {},
   "outputs": [],
   "source": [
    "bqm = BQM('BINARY')\n",
    "for stock in stocks : bqm.add_variable(stock)\n",
    "\n",
    "## prepare quadratic model corresponding to portfolio \n",
    "for stock in stocks: bqm.add_linear_from({stock: -1*mean_rtrn[stock]})\n",
    "for stock_i in stocks :\n",
    "    for stock_j in stocks : \n",
    "        if stock_i != stock_j: bqm.add_quadratic_from({(stock_i, stock_j): +1*cov_matrix[stock_i][stock_j] })\n",
    "        \n",
    "# bqm"
   ]
  },
  {
   "cell_type": "markdown",
   "metadata": {},
   "source": [
    "##### Simulated Annealing solver"
   ]
  },
  {
   "cell_type": "code",
   "execution_count": 22,
   "metadata": {},
   "outputs": [
    {
     "data": {
      "text/plain": [
       "({'beta_schedule_options': ('linear', 'geometric')},\n",
       " {'beta_range': [],\n",
       "  'num_reads': [],\n",
       "  'num_sweeps': [],\n",
       "  'beta_schedule_type': ['beta_schedule_options'],\n",
       "  'seed': [],\n",
       "  'interrupt_function': [],\n",
       "  'initial_states': [],\n",
       "  'initial_states_generator': []})"
      ]
     },
     "execution_count": 22,
     "metadata": {},
     "output_type": "execute_result"
    }
   ],
   "source": [
    "sampler = neal.SimulatedAnnealingSampler()\n",
    "sampler.properties, sampler.parameters"
   ]
  },
  {
   "cell_type": "code",
   "execution_count": 23,
   "metadata": {},
   "outputs": [],
   "source": [
    "pf_op = sampler.sample(bqm, num_sweeps= 100, num_sweeps_per_beta= 50, num_reads= 10 ,beta_schedule= 'geometric' ,seed= 1234)"
   ]
  },
  {
   "cell_type": "code",
   "execution_count": 24,
   "metadata": {},
   "outputs": [
    {
     "data": {
      "text/plain": [
       "Sample(sample={'AAPL': 1, 'AMZN': 0, 'FB': 0, 'GOOGL': 1, 'IBM': 0, 'JPC': 0, 'MSFT': 1, 'TSLA': 1}, energy=-0.007341724543759465, num_occurrences=1)"
      ]
     },
     "execution_count": 24,
     "metadata": {},
     "output_type": "execute_result"
    }
   ],
   "source": [
    "## most optimal solution \n",
    "pf_op.first\n"
   ]
  },
  {
   "cell_type": "markdown",
   "metadata": {},
   "source": [
    "##### Setting up CQM"
   ]
  },
  {
   "cell_type": "code",
   "execution_count": 29,
   "metadata": {},
   "outputs": [],
   "source": [
    "weights = [.9, .7, .2, .1]\n",
    "y = [dimod.Binary(f'y_{j}') for j in range(len(weights))]\n",
    "x = [[dimod.Binary(f'x_{i}_{j}') for j in range(len(weights))]\n",
    "     for i in range(len(weights))]\n",
    "cqm = dimod.ConstrainedQuadraticModel()\n",
    "cqm.set_objective(sum(y))"
   ]
  },
  {
   "cell_type": "code",
   "execution_count": 30,
   "metadata": {},
   "outputs": [
    {
     "data": {
      "text/plain": [
       "[[BinaryQuadraticModel({'x_0_0': 1.0}, {}, 0.0, 'BINARY'),\n",
       "  BinaryQuadraticModel({'x_0_1': 1.0}, {}, 0.0, 'BINARY'),\n",
       "  BinaryQuadraticModel({'x_0_2': 1.0}, {}, 0.0, 'BINARY'),\n",
       "  BinaryQuadraticModel({'x_0_3': 1.0}, {}, 0.0, 'BINARY')],\n",
       " [BinaryQuadraticModel({'x_1_0': 1.0}, {}, 0.0, 'BINARY'),\n",
       "  BinaryQuadraticModel({'x_1_1': 1.0}, {}, 0.0, 'BINARY'),\n",
       "  BinaryQuadraticModel({'x_1_2': 1.0}, {}, 0.0, 'BINARY'),\n",
       "  BinaryQuadraticModel({'x_1_3': 1.0}, {}, 0.0, 'BINARY')],\n",
       " [BinaryQuadraticModel({'x_2_0': 1.0}, {}, 0.0, 'BINARY'),\n",
       "  BinaryQuadraticModel({'x_2_1': 1.0}, {}, 0.0, 'BINARY'),\n",
       "  BinaryQuadraticModel({'x_2_2': 1.0}, {}, 0.0, 'BINARY'),\n",
       "  BinaryQuadraticModel({'x_2_3': 1.0}, {}, 0.0, 'BINARY')],\n",
       " [BinaryQuadraticModel({'x_3_0': 1.0}, {}, 0.0, 'BINARY'),\n",
       "  BinaryQuadraticModel({'x_3_1': 1.0}, {}, 0.0, 'BINARY'),\n",
       "  BinaryQuadraticModel({'x_3_2': 1.0}, {}, 0.0, 'BINARY'),\n",
       "  BinaryQuadraticModel({'x_3_3': 1.0}, {}, 0.0, 'BINARY')]]"
      ]
     },
     "execution_count": 30,
     "metadata": {},
     "output_type": "execute_result"
    }
   ],
   "source": [
    "x"
   ]
  },
  {
   "cell_type": "code",
   "execution_count": 44,
   "metadata": {},
   "outputs": [],
   "source": [
    "cqm = CQM.from_bqm(bqm)\n",
    "# cqm.objective"
   ]
  },
  {
   "cell_type": "code",
   "execution_count": 45,
   "metadata": {},
   "outputs": [
    {
     "data": {
      "text/plain": [
       "[BinaryQuadraticModel({'FB': 1.0}, {}, 0.0, 'BINARY'),\n",
       " BinaryQuadraticModel({'MSFT': 1.0}, {}, 0.0, 'BINARY'),\n",
       " BinaryQuadraticModel({'AAPL': 1.0}, {}, 0.0, 'BINARY'),\n",
       " BinaryQuadraticModel({'IBM': 1.0}, {}, 0.0, 'BINARY'),\n",
       " BinaryQuadraticModel({'GOOGL': 1.0}, {}, 0.0, 'BINARY'),\n",
       " BinaryQuadraticModel({'TSLA': 1.0}, {}, 0.0, 'BINARY'),\n",
       " BinaryQuadraticModel({'AMZN': 1.0}, {}, 0.0, 'BINARY'),\n",
       " BinaryQuadraticModel({'JPC': 1.0}, {}, 0.0, 'BINARY')]"
      ]
     },
     "execution_count": 45,
     "metadata": {},
     "output_type": "execute_result"
    }
   ],
   "source": [
    "vars = cqm.variables\n",
    "vars =  [dimod.Binary(var) for var in vars ]\n",
    "vars"
   ]
  },
  {
   "cell_type": "code",
   "execution_count": 46,
   "metadata": {},
   "outputs": [
    {
     "data": {
      "text/plain": [
       "'stock constraint'"
      ]
     },
     "execution_count": 46,
     "metadata": {},
     "output_type": "execute_result"
    }
   ],
   "source": [
    "cqm.add_constraint(sum(vars) <= len(vars), label= 'stock constraint')"
   ]
  },
  {
   "cell_type": "code",
   "execution_count": 48,
   "metadata": {},
   "outputs": [
    {
     "data": {
      "text/plain": [
       "{'stock constraint': Le(BinaryQuadraticModel({'FB': 1.0, 'MSFT': 1.0, 'AAPL': 1.0, 'IBM': 1.0, 'GOOGL': 1.0, 'TSLA': 1.0, 'AMZN': 1.0, 'JPC': 1.0}, {}, 0.0, 'BINARY'), 8)}"
      ]
     },
     "execution_count": 48,
     "metadata": {},
     "output_type": "execute_result"
    }
   ],
   "source": [
    "cqm.constraints"
   ]
  },
  {
   "cell_type": "code",
   "execution_count": 50,
   "metadata": {},
   "outputs": [],
   "source": [
    "from dimod import ExactCQMSolver\n",
    "sample_set = ExactCQMSolver().sample_cqm(cqm)"
   ]
  },
  {
   "cell_type": "code",
   "execution_count": 55,
   "metadata": {},
   "outputs": [
    {
     "data": {
      "text/plain": [
       "Sample(sample={'AAPL': 1, 'AMZN': 0, 'FB': 0, 'GOOGL': 1, 'IBM': 0, 'JPC': 0, 'MSFT': 1, 'TSLA': 1}, energy=-0.007341724543759468, num_occurrences=1, is_satisfied=array([ True]), is_feasible=True)"
      ]
     },
     "execution_count": 55,
     "metadata": {},
     "output_type": "execute_result"
    }
   ],
   "source": [
    "sample_set.first"
   ]
  },
  {
   "cell_type": "code",
   "execution_count": 49,
   "metadata": {},
   "outputs": [
    {
     "ename": "AttributeError",
     "evalue": "'LeapHybridCQMSampler' object has no attribute 'sample'",
     "output_type": "error",
     "traceback": [
      "\u001b[0;31m---------------------------------------------------------------------------\u001b[0m",
      "\u001b[0;31mAttributeError\u001b[0m                            Traceback (most recent call last)",
      "\u001b[1;32m/home/rajarsi/Documents/GitHub/QulabsWorkspace/DWave_tut/Dwave_tut_CQM.ipynb Cell 27'\u001b[0m in \u001b[0;36m<cell line: 2>\u001b[0;34m()\u001b[0m\n\u001b[1;32m      <a href='vscode-notebook-cell:/home/rajarsi/Documents/GitHub/QulabsWorkspace/DWave_tut/Dwave_tut_CQM.ipynb#ch0000024?line=0'>1</a>\u001b[0m sampler_cqm \u001b[39m=\u001b[39m LeapHybridCQMSampler()\n\u001b[0;32m----> <a href='vscode-notebook-cell:/home/rajarsi/Documents/GitHub/QulabsWorkspace/DWave_tut/Dwave_tut_CQM.ipynb#ch0000024?line=1'>2</a>\u001b[0m sample_set \u001b[39m=\u001b[39m sampler_cqm\u001b[39m.\u001b[39;49msample(cqm)\n",
      "\u001b[0;31mAttributeError\u001b[0m: 'LeapHybridCQMSampler' object has no attribute 'sample'"
     ]
    }
   ],
   "source": [
    "sampler_cqm = LeapHybridCQMSampler()\n",
    "sample_set = sampler_cqm.sample(cqm)"
   ]
  },
  {
   "cell_type": "code",
   "execution_count": null,
   "metadata": {},
   "outputs": [],
   "source": []
  }
 ],
 "metadata": {
  "kernelspec": {
   "display_name": "Python 3.10.4 64-bit",
   "language": "python",
   "name": "python3"
  },
  "language_info": {
   "codemirror_mode": {
    "name": "ipython",
    "version": 3
   },
   "file_extension": ".py",
   "mimetype": "text/x-python",
   "name": "python",
   "nbconvert_exporter": "python",
   "pygments_lexer": "ipython3",
   "version": "3.10.4"
  },
  "orig_nbformat": 4,
  "vscode": {
   "interpreter": {
    "hash": "31f2aee4e71d21fbe5cf8b01ff0e069b9275f58929596ceb00d14d90e3e16cd6"
   }
  }
 },
 "nbformat": 4,
 "nbformat_minor": 2
}
