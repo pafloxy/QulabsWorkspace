{
 "cells": [
  {
   "cell_type": "markdown",
   "metadata": {},
   "source": [
    "## Grover Search and Quantum Amplitude Estimation \n",
    "Brassard et al ('96)"
   ]
  },
  {
   "cell_type": "markdown",
   "metadata": {},
   "source": [
    "## GroverSearch Implementation"
   ]
  },
  {
   "cell_type": "code",
   "execution_count": null,
   "metadata": {},
   "outputs": [
    {
     "ename": "",
     "evalue": "",
     "output_type": "error",
     "traceback": [
      "\u001b[1;31mFailed to start the Kernel. \n",
      "Kernel Python 3.8.10 64-bit is not usable. Check the Jupyter output tab for more information. \n",
      "View Jupyter <a href='command:jupyter.viewOutput'>log</a> for further details."
     ]
    }
   ],
   "source": [
    "## imports\n",
    "from qiskit import *\n",
    "from qiskit.algorithms import *\n",
    "from qiskit import QuantumRegister, ClassicalRegister, QuantumCircuit\n",
    "from qiskit import quantum_info, IBMQ, Aer\n",
    "from qiskit import BasicAer\n",
    "from qiskit.utils import QuantumInstance\n",
    "# backend = BasicAer.get_backend(\"statevector_simulator\")\n",
    "# quantum_instance = QuantumInstance(backend)\n",
    "from qiskit.algorithms import AmplitudeEstimation\n",
    "#from qiskit.ignis.verification.tomography import state_tomography_circuits, StateTomographyFitter\n",
    "from qiskit.visualization import plot_histogram, plot_state_qsphere, plot_bloch_multivector, plot_bloch_vector\n",
    "import numpy as np\n",
    "from numpy import pi\n",
    "import seaborn as sns\n",
    "from IPython.display import Image\n",
    "import matplotlib.pyplot as plt\n"
   ]
  },
  {
   "cell_type": "code",
   "execution_count": null,
   "metadata": {},
   "outputs": [
    {
     "ename": "",
     "evalue": "",
     "output_type": "error",
     "traceback": [
      "\u001b[1;31mFailed to start the Kernel. \n",
      "Cannot read properties of null (reading 'statusChanged'). \n",
      "View Jupyter <a href='command:jupyter.viewOutput'>log</a> for further details."
     ]
    },
    {
     "ename": "",
     "evalue": "",
     "output_type": "error",
     "traceback": [
      "\u001b[1;31mFailed to start the Kernel. \n",
      "Kernel Python 3.8.10 64-bit is not usable. Check the Jupyter output tab for more information. \n",
      "View Jupyter <a href='command:jupyter.viewOutput'>log</a> for further details."
     ]
    },
    {
     "ename": "",
     "evalue": "",
     "output_type": "error",
     "traceback": [
      "\u001b[1;31mFailed to start the Kernel. \n",
      "Kernel Python 3.8.10 64-bit is not usable. Check the Jupyter output tab for more information. \n",
      "View Jupyter <a href='command:jupyter.viewOutput'>log</a> for further details."
     ]
    }
   ],
   "source": [
    "# setup simulator using IBM_id\n",
    "# IBMQ.save_account(\"1c62e8a0d2b058d0e797db9c811bc34582df5553e25812301cd1518662c0ab68d2378ac6c197b65f8be944d04b7e7439f034e3926a44fa8088538b3d13782c1a\", overwrite= True)\n",
    "provider = IBMQ.load_account()\n",
    "IBMQ.get_provider(hub='ibm-q-education', group='iit-madras-1', project='quantum-computin')\n",
    "# setup required backends \n",
    "lima = provider.get_backend('ibmq_lima')\n",
    "manila = provider.get_backend('ibmq_manila')\n",
    "qsm_simulator = Aer.get_backend('qasm_simulator')\n",
    "stv_simulator = Aer.get_backend('statevector_simulator')\n",
    "aer = Aer.get_backend('aer_simulator')\n"
   ]
  },
  {
   "cell_type": "code",
   "execution_count": null,
   "metadata": {},
   "outputs": [
    {
     "ename": "",
     "evalue": "",
     "output_type": "error",
     "traceback": [
      "\u001b[1;31mFailed to start the Kernel. \n",
      "Cannot read properties of null (reading 'statusChanged'). \n",
      "View Jupyter <a href='command:jupyter.viewOutput'>log</a> for further details."
     ]
    },
    {
     "ename": "",
     "evalue": "",
     "output_type": "error",
     "traceback": [
      "\u001b[1;31mFailed to start the Kernel. \n",
      "Kernel Python 3.8.10 64-bit is not usable. Check the Jupyter output tab for more information. \n",
      "View Jupyter <a href='command:jupyter.viewOutput'>log</a> for further details."
     ]
    },
    {
     "ename": "",
     "evalue": "",
     "output_type": "error",
     "traceback": [
      "\u001b[1;31mFailed to start the Kernel. \n",
      "Kernel Python 3.8.10 64-bit is not usable. Check the Jupyter output tab for more information. \n",
      "View Jupyter <a href='command:jupyter.viewOutput'>log</a> for further details."
     ]
    }
   ],
   "source": [
    "## sub-routines for Grover Search ~\n",
    "def to_oracle(pattern, name= 'oracle'):\n",
    "    \"\"\" convert a given pattern to an oracle\n",
    "    pattern~ a numpy vector with binarry entries \"\"\"\n",
    "    l = len(pattern)\n",
    "    qr = QuantumRegister(l, name='reg')\n",
    "    a = AncillaRegister(1, name='ancilla')\n",
    "    qc = QuantumCircuit(qr, a, name= name+str(pattern))\n",
    "    for q in range(l):\n",
    "        if(pattern[q]==0): qc.x(qr[q])\n",
    "    qc.x(a)\n",
    "    qc.h(a)\n",
    "    qc.mcx(qr, a)\n",
    "    qc.h(a)\n",
    "    qc.x(a)\n",
    "    for q in range(l):\n",
    "        if(pattern[q]==0): qc.x(qr[q])\n",
    "    #qc.barrier()\n",
    "    return qc.to_gate()\n",
    "\n",
    "def diffuser(l):\n",
    "    qr = QuantumRegister(l, name='reg')\n",
    "    a = AncillaRegister(1, name='ancilla')\n",
    "    circuit = QuantumCircuit(qr, a, name= 'Diff.')\n",
    "    \n",
    "    circuit.h(qr)\n",
    "    circuit.x(qr)\n",
    "    \n",
    "    circuit.x(a)\n",
    "    circuit.h(a)\n",
    "    circuit.mcx(qr ,a)\n",
    "    circuit.h(a)\n",
    "    circuit.x(a)\n",
    "\n",
    "    circuit.x(qr)\n",
    "    circuit.h(qr)\n",
    "          \n",
    "    return circuit.to_gate()\n",
    "\n",
    "def grover_iterate(qc, oracles, diffuser, qreg_u, ancilla, steps):\n",
    "    for step in range(steps):\n",
    "        for oracle in oracles:\n",
    "            qc.append(oracle, list(range(qc.num_qubits)) )\n",
    "        qc.append(diffuser, list([q for q in qreg_u])+ list(ancilla) )\n",
    "        # qc.barrier()\n",
    "    return qc\n"
   ]
  },
  {
   "cell_type": "code",
   "execution_count": null,
   "metadata": {},
   "outputs": [
    {
     "ename": "",
     "evalue": "",
     "output_type": "error",
     "traceback": [
      "\u001b[1;31mFailed to start the Kernel. \n",
      "Cannot read properties of null (reading 'statusChanged'). \n",
      "View Jupyter <a href='command:jupyter.viewOutput'>log</a> for further details."
     ]
    },
    {
     "ename": "",
     "evalue": "",
     "output_type": "error",
     "traceback": [
      "\u001b[1;31mFailed to start the Kernel. \n",
      "Kernel Python 3.8.10 64-bit is not usable. Check the Jupyter output tab for more information. \n",
      "View Jupyter <a href='command:jupyter.viewOutput'>log</a> for further details."
     ]
    },
    {
     "ename": "",
     "evalue": "",
     "output_type": "error",
     "traceback": [
      "\u001b[1;31mFailed to start the Kernel. \n",
      "Kernel Python 3.8.10 64-bit is not usable. Check the Jupyter output tab for more information. \n",
      "View Jupyter <a href='command:jupyter.viewOutput'>log</a> for further details."
     ]
    }
   ],
   "source": [
    "def run(patterns, grover_steps ):\n",
    "    \n",
    "    dim = len(patterns[0])\n",
    "    # create oracles ~\\\n",
    "    oracles = []\n",
    "    for pattern in patterns : oracles.append( to_oracle(pattern)) \n",
    "    \n",
    "    # create diffuser ~\\\n",
    "    diff = diffuser(dim)\n",
    "    # create circuit ~\\\n",
    "    \n",
    "    qreg = QuantumRegister(dim, name= 'init')\n",
    "    ancilla = AncillaRegister(1, name='ancilla')\n",
    "    creg = ClassicalRegister(dim)\n",
    "    qc = QuantumCircuit(qreg, creg, ancilla)\n",
    "    qc.h(qreg)\n",
    "    # run grover update steps ~\\\n",
    "    grover_iterate(qc, oracles, diff, qreg, ancilla,grover_steps)\n",
    "    qc.measure(qreg, creg)\n",
    "    \n",
    "    job = execute(qc, backend= aer, shots= 1024)\n",
    "    plot_histogram(job.result().get_counts())\n",
    "    \n",
    "    return qc, job\n"
   ]
  },
  {
   "cell_type": "code",
   "execution_count": null,
   "metadata": {},
   "outputs": [
    {
     "ename": "",
     "evalue": "",
     "output_type": "error",
     "traceback": [
      "\u001b[1;31mFailed to start the Kernel. \n",
      "Cannot read properties of null (reading 'statusChanged'). \n",
      "View Jupyter <a href='command:jupyter.viewOutput'>log</a> for further details."
     ]
    },
    {
     "ename": "",
     "evalue": "",
     "output_type": "error",
     "traceback": [
      "\u001b[1;31mFailed to start the Kernel. \n",
      "Kernel Python 3.8.10 64-bit is not usable. Check the Jupyter output tab for more information. \n",
      "View Jupyter <a href='command:jupyter.viewOutput'>log</a> for further details."
     ]
    },
    {
     "ename": "",
     "evalue": "",
     "output_type": "error",
     "traceback": [
      "\u001b[1;31mFailed to start the Kernel. \n",
      "Kernel Python 3.8.10 64-bit is not usable. Check the Jupyter output tab for more information. \n",
      "View Jupyter <a href='command:jupyter.viewOutput'>log</a> for further details."
     ]
    }
   ],
   "source": [
    "patterns = [[0,1,1],[0,1,0],[0,0,0]]"
   ]
  },
  {
   "cell_type": "code",
   "execution_count": null,
   "metadata": {},
   "outputs": [
    {
     "data": {
      "text/html": [
       "<pre style=\"word-wrap: normal;white-space: pre;background: #fff0;line-height: 1.1;font-family: &quot;Courier New&quot;,Courier,monospace\">         ┌───┐┌──────────────────┐┌──────────────────┐┌──────────────────┐»\n",
       " init_0: ┤ H ├┤0                 ├┤0                 ├┤0                 ├»\n",
       "         ├───┤│                  ││                  ││                  │»\n",
       " init_1: ┤ H ├┤1                 ├┤1                 ├┤1                 ├»\n",
       "         ├───┤│  oracle[0, 1, 1] ││  oracle[0, 1, 0] ││  oracle[0, 0, 0] │»\n",
       " init_2: ┤ H ├┤2                 ├┤2                 ├┤2                 ├»\n",
       "         └───┘│                  ││                  ││                  │»\n",
       "ancilla: ─────┤3                 ├┤3                 ├┤3                 ├»\n",
       "              └──────────────────┘└──────────────────┘└──────────────────┘»\n",
       "   c0: 3/═════════════════════════════════════════════════════════════════»\n",
       "                                                                          »\n",
       "«         ┌────────┐┌─┐      \n",
       "« init_0: ┤0       ├┤M├──────\n",
       "«         │        │└╥┘┌─┐   \n",
       "« init_1: ┤1       ├─╫─┤M├───\n",
       "«         │  Diff. │ ║ └╥┘┌─┐\n",
       "« init_2: ┤2       ├─╫──╫─┤M├\n",
       "«         │        │ ║  ║ └╥┘\n",
       "«ancilla: ┤3       ├─╫──╫──╫─\n",
       "«         └────────┘ ║  ║  ║ \n",
       "«   c0: 3/═══════════╩══╩══╩═\n",
       "«                    0  1  2 </pre>"
      ],
      "text/plain": [
       "         ┌───┐┌──────────────────┐┌──────────────────┐┌──────────────────┐»\n",
       " init_0: ┤ H ├┤0                 ├┤0                 ├┤0                 ├»\n",
       "         ├───┤│                  ││                  ││                  │»\n",
       " init_1: ┤ H ├┤1                 ├┤1                 ├┤1                 ├»\n",
       "         ├───┤│  oracle[0, 1, 1] ││  oracle[0, 1, 0] ││  oracle[0, 0, 0] │»\n",
       " init_2: ┤ H ├┤2                 ├┤2                 ├┤2                 ├»\n",
       "         └───┘│                  ││                  ││                  │»\n",
       "ancilla: ─────┤3                 ├┤3                 ├┤3                 ├»\n",
       "              └──────────────────┘└──────────────────┘└──────────────────┘»\n",
       "   c0: 3/═════════════════════════════════════════════════════════════════»\n",
       "                                                                          »\n",
       "«         ┌────────┐┌─┐      \n",
       "« init_0: ┤0       ├┤M├──────\n",
       "«         │        │└╥┘┌─┐   \n",
       "« init_1: ┤1       ├─╫─┤M├───\n",
       "«         │  Diff. │ ║ └╥┘┌─┐\n",
       "« init_2: ┤2       ├─╫──╫─┤M├\n",
       "«         │        │ ║  ║ └╥┘\n",
       "«ancilla: ┤3       ├─╫──╫──╫─\n",
       "«         └────────┘ ║  ║  ║ \n",
       "«   c0: 3/═══════════╩══╩══╩═\n",
       "«                    0  1  2 "
      ]
     },
     "execution_count": 6,
     "metadata": {},
     "output_type": "execute_result"
    },
    {
     "ename": "",
     "evalue": "",
     "output_type": "error",
     "traceback": [
      "\u001b[1;31mFailed to start the Kernel. \n",
      "Cannot read properties of null (reading 'statusChanged'). \n",
      "View Jupyter <a href='command:jupyter.viewOutput'>log</a> for further details."
     ]
    },
    {
     "ename": "",
     "evalue": "",
     "output_type": "error",
     "traceback": [
      "\u001b[1;31mFailed to start the Kernel. \n",
      "Kernel Python 3.8.10 64-bit is not usable. Check the Jupyter output tab for more information. \n",
      "View Jupyter <a href='command:jupyter.viewOutput'>log</a> for further details."
     ]
    },
    {
     "ename": "",
     "evalue": "",
     "output_type": "error",
     "traceback": [
      "\u001b[1;31mFailed to start the Kernel. \n",
      "Kernel Python 3.8.10 64-bit is not usable. Check the Jupyter output tab for more information. \n",
      "View Jupyter <a href='command:jupyter.viewOutput'>log</a> for further details."
     ]
    }
   ],
   "source": [
    "circuit, job = run(patterns,1)\n",
    "circuit.draw()"
   ]
  },
  {
   "cell_type": "code",
   "execution_count": null,
   "metadata": {},
   "outputs": [
    {
     "data": {
      "image/png": "[encoded data removed]",
      "text/plain": [
       "<Figure size 504x360 with 1 Axes>"
      ]
     },
     "execution_count": 7,
     "metadata": {},
     "output_type": "execute_result"
    },
    {
     "ename": "",
     "evalue": "",
     "output_type": "error",
     "traceback": [
      "\u001b[1;31mFailed to start the Kernel. \n",
      "Cannot read properties of null (reading 'statusChanged'). \n",
      "View Jupyter <a href='command:jupyter.viewOutput'>log</a> for further details."
     ]
    },
    {
     "ename": "",
     "evalue": "",
     "output_type": "error",
     "traceback": [
      "\u001b[1;31mFailed to start the Kernel. \n",
      "Kernel Python 3.8.10 64-bit is not usable. Check the Jupyter output tab for more information. \n",
      "View Jupyter <a href='command:jupyter.viewOutput'>log</a> for further details."
     ]
    },
    {
     "ename": "",
     "evalue": "",
     "output_type": "error",
     "traceback": [
      "\u001b[1;31mFailed to start the Kernel. \n",
      "Kernel Python 3.8.10 64-bit is not usable. Check the Jupyter output tab for more information. \n",
      "View Jupyter <a href='command:jupyter.viewOutput'>log</a> for further details."
     ]
    }
   ],
   "source": [
    "plot_histogram(job.result().get_counts())    "
   ]
  },
  {
   "cell_type": "markdown",
   "metadata": {},
   "source": [
    "## QAE based on Quantum Phase Estimation"
   ]
  },
  {
   "cell_type": "code",
   "execution_count": null,
   "metadata": {},
   "outputs": [
    {
     "ename": "",
     "evalue": "",
     "output_type": "error",
     "traceback": [
      "\u001b[1;31mFailed to start the Kernel. \n",
      "Cannot read properties of null (reading 'statusChanged'). \n",
      "View Jupyter <a href='command:jupyter.viewOutput'>log</a> for further details."
     ]
    },
    {
     "ename": "",
     "evalue": "",
     "output_type": "error",
     "traceback": [
      "\u001b[1;31mFailed to start the Kernel. \n",
      "Kernel Python 3.8.10 64-bit is not usable. Check the Jupyter output tab for more information. \n",
      "View Jupyter <a href='command:jupyter.viewOutput'>log</a> for further details."
     ]
    },
    {
     "ename": "",
     "evalue": "",
     "output_type": "error",
     "traceback": [
      "\u001b[1;31mFailed to start the Kernel. \n",
      "Kernel Python 3.8.10 64-bit is not usable. Check the Jupyter output tab for more information. \n",
      "View Jupyter <a href='command:jupyter.viewOutput'>log</a> for further details."
     ]
    }
   ],
   "source": [
    "## sub-routines for QPE ~\n",
    "def crot(qc, l):\n",
    "    if l == 0:\n",
    "        return qc\n",
    "    l = l-1\n",
    "    qc.h(l)\n",
    "    for q in range(l):\n",
    "        qc.cp(pi/2**(l-q), q, l)\n",
    "    #qc.barrier()\n",
    "    # qc.draw()\n",
    "    \n",
    "def QFT(qc):\n",
    "   \"\"\"function to generate QFT circuit \"\"\"\n",
    "   dim = qc.num_qubits\n",
    "   for q in range(dim):\n",
    "      crot(qc, dim-q)\n",
    "   for q in range(int(dim/2)):\n",
    "      qc.swap(q, dim-q-1)\n",
    "\n",
    "   #qc.draw()\n",
    "   return qc\n",
    "   "
   ]
  },
  {
   "cell_type": "code",
   "execution_count": null,
   "metadata": {},
   "outputs": [
    {
     "ename": "",
     "evalue": "",
     "output_type": "error",
     "traceback": [
      "\u001b[1;31mFailed to start the Kernel. \n",
      "Cannot read properties of null (reading 'statusChanged'). \n",
      "View Jupyter <a href='command:jupyter.viewOutput'>log</a> for further details."
     ]
    },
    {
     "ename": "",
     "evalue": "",
     "output_type": "error",
     "traceback": [
      "\u001b[1;31mFailed to start the Kernel. \n",
      "Kernel Python 3.8.10 64-bit is not usable. Check the Jupyter output tab for more information. \n",
      "View Jupyter <a href='command:jupyter.viewOutput'>log</a> for further details."
     ]
    },
    {
     "ename": "",
     "evalue": "",
     "output_type": "error",
     "traceback": [
      "\u001b[1;31mFailed to start the Kernel. \n",
      "Kernel Python 3.8.10 64-bit is not usable. Check the Jupyter output tab for more information. \n",
      "View Jupyter <a href='command:jupyter.viewOutput'>log</a> for further details."
     ]
    }
   ],
   "source": [
    "## sub-routine for grover ~\n",
    "def grover(patterns, grover_steps):\n",
    "    \n",
    "    dim = len(patterns[0])\n",
    "    \n",
    "    # create oracles ~\\\n",
    "    oracles = []\n",
    "    for pattern in patterns : oracles.append( to_oracle(pattern)) \n",
    "    \n",
    "    # create diffuser ~\\\n",
    "    diff = diffuser(dim)\n",
    "\n",
    "    # create circuit ~\\\n",
    "    qreg = QuantumRegister(dim, name= 'init')\n",
    "    ancilla = AncillaRegister(1, name='ancilla')\n",
    "    qc = QuantumCircuit(qreg, ancilla, name='grover'+'^'+str(grover_steps))\n",
    "    qc = grover_iterate(qc, oracles, diff, qreg, ancilla,grover_steps)\n",
    "  \n",
    "    return qc"
   ]
  },
  {
   "cell_type": "markdown",
   "metadata": {},
   "source": [
    "## 1 qubit example : \n",
    "from https://github.com/Qiskit/qiskit-finance/blob/stable/0.3/docs/tutorials/00_amplitude_estimation.ipynb"
   ]
  },
  {
   "cell_type": "markdown",
   "metadata": {},
   "source": [
    "Given the initial state is of form~\n",
    "                    $\\begin{equation} \n",
    "                    \\ket{\\psi_0} = \\sqrt{1-p}\\ket{0} + \\sqrt{p}\\ket{1}\n",
    "                    \\end{equation}$,\n",
    "say, $\\sqrt{p} = sin(\\frac{\\theta}{2})$ and $\\sqrt{1-p} = cos(\\frac{\\theta}{2})\\\\$ \n",
    "Then the amplitude amplification process requires operator\n",
    "$\\begin{equation}\n",
    "    \\mathcal{Q} = -\\mathcal{S}_{\\ket{\\psi_0}} \\mathcal{S}_{\\ket{1}}\n",
    "\\end{equation}$\n",
    "where, $\\mathcal{S}_{\\ket{\\psi_0}} and \\mathcal{S}_{\\ket{1}}$ are reflection operators about $\\ket{\\psi_0}$ and $\\ket{1}$ respectively $\\\\$\n",
    "Now $\\mathcal{S}_{\\ket{\\psi_0}} = R_y(\\theta)$, then \n",
    " $\\mathcal{Q} = cos(\\theta) (\\ket{0}\\bra{0} + \\ket{1}\\bra{1}) + sin(\\theta) (\\ket{0}\\bra{1} - \\ket{1}\\bra{0}) = R_{y}(2\\theta) \\\\ $\n",
    " \n"
   ]
  },
  {
   "cell_type": "code",
   "execution_count": null,
   "metadata": {},
   "outputs": [
    {
     "ename": "",
     "evalue": "",
     "output_type": "error",
     "traceback": [
      "\u001b[1;31mFailed to start the Kernel. \n",
      "Cannot read properties of null (reading 'statusChanged'). \n",
      "View Jupyter <a href='command:jupyter.viewOutput'>log</a> for further details."
     ]
    },
    {
     "ename": "",
     "evalue": "",
     "output_type": "error",
     "traceback": [
      "\u001b[1;31mFailed to start the Kernel. \n",
      "Kernel Python 3.8.10 64-bit is not usable. Check the Jupyter output tab for more information. \n",
      "View Jupyter <a href='command:jupyter.viewOutput'>log</a> for further details."
     ]
    },
    {
     "ename": "",
     "evalue": "",
     "output_type": "error",
     "traceback": [
      "\u001b[1;31mFailed to start the Kernel. \n",
      "Kernel Python 3.8.10 64-bit is not usable. Check the Jupyter output tab for more information. \n",
      "View Jupyter <a href='command:jupyter.viewOutput'>log</a> for further details."
     ]
    }
   ],
   "source": [
    "## set p ~\n",
    "p = 0.8\n",
    "\n",
    "## operator preparation ~\n",
    "def s_psi0(p):\n",
    "    qc = QuantumCircuit(1, name= \" S_psi0 \")\n",
    "    theta = 2*np.arcsin(np.sqrt(p))\n",
    "    qc.ry(theta, 0)\n",
    "\n",
    "    return qc.to_gate()\n",
    "def Q(p, power):\n",
    "    theta = 2*np.arcsin(np.sqrt(p))\n",
    "    qc = QuantumCircuit(1, name= ' Q'+ '^'+ str(power) )\n",
    "    qc.ry(2*theta*power, 0)\n",
    "\n",
    "    return qc.to_gate()\n",
    "    "
   ]
  },
  {
   "cell_type": "code",
   "execution_count": null,
   "metadata": {},
   "outputs": [
    {
     "data": {
      "text/html": [
       "<pre style=\"word-wrap: normal;white-space: pre;background: #fff0;line-height: 1.1;font-family: &quot;Courier New&quot;,Courier,monospace\">                  ┌───┐     ░                                  ░ ┌─────────┐\n",
       " precisio_q_0: ───┤ H ├─────░────■─────────────────────────────░─┤0        ├\n",
       "                  ├───┤     ░    │                             ░ │         │\n",
       " precisio_q_1: ───┤ H ├─────░────┼───────■─────────────────────░─┤1        ├\n",
       "                  ├───┤     ░    │       │                     ░ │  QFT_dg │\n",
       " precisio_q_2: ───┤ H ├─────░────┼───────┼───────■─────────────░─┤2        ├\n",
       "                  ├───┤     ░    │       │       │             ░ │         │\n",
       " precisio_q_3: ───┤ H ├─────░────┼───────┼───────┼───────■─────░─┤3        ├\n",
       "               ┌──┴───┴───┐ ░ ┌──┴───┐┌──┴───┐┌──┴───┐┌──┴───┐ ░ └─────────┘\n",
       "         qreg: ┤  S_psi0  ├─░─┤  Q^1 ├┤  Q^2 ├┤  Q^4 ├┤  Q^8 ├─░────────────\n",
       "               └──────────┘ ░ └──────┘└──────┘└──────┘└──────┘ ░            \n",
       "precision_c: 4/═════════════════════════════════════════════════════════════\n",
       "                                                                            </pre>"
      ],
      "text/plain": [
       "                  ┌───┐     ░                                  ░ ┌─────────┐\n",
       " precisio_q_0: ───┤ H ├─────░────■─────────────────────────────░─┤0        ├\n",
       "                  ├───┤     ░    │                             ░ │         │\n",
       " precisio_q_1: ───┤ H ├─────░────┼───────■─────────────────────░─┤1        ├\n",
       "                  ├───┤     ░    │       │                     ░ │  QFT_dg │\n",
       " precisio_q_2: ───┤ H ├─────░────┼───────┼───────■─────────────░─┤2        ├\n",
       "                  ├───┤     ░    │       │       │             ░ │         │\n",
       " precisio_q_3: ───┤ H ├─────░────┼───────┼───────┼───────■─────░─┤3        ├\n",
       "               ┌──┴───┴───┐ ░ ┌──┴───┐┌──┴───┐┌──┴───┐┌──┴───┐ ░ └─────────┘\n",
       "         qreg: ┤  S_psi0  ├─░─┤  Q^1 ├┤  Q^2 ├┤  Q^4 ├┤  Q^8 ├─░────────────\n",
       "               └──────────┘ ░ └──────┘└──────┘└──────┘└──────┘ ░            \n",
       "precision_c: 4/═════════════════════════════════════════════════════════════\n",
       "                                                                            "
      ]
     },
     "execution_count": 11,
     "metadata": {},
     "output_type": "execute_result"
    },
    {
     "ename": "",
     "evalue": "",
     "output_type": "error",
     "traceback": [
      "\u001b[1;31mFailed to start the Kernel. \n",
      "Cannot read properties of null (reading 'statusChanged'). \n",
      "View Jupyter <a href='command:jupyter.viewOutput'>log</a> for further details."
     ]
    },
    {
     "ename": "",
     "evalue": "",
     "output_type": "error",
     "traceback": [
      "\u001b[1;31mFailed to start the Kernel. \n",
      "Kernel Python 3.8.10 64-bit is not usable. Check the Jupyter output tab for more information. \n",
      "View Jupyter <a href='command:jupyter.viewOutput'>log</a> for further details."
     ]
    },
    {
     "ename": "",
     "evalue": "",
     "output_type": "error",
     "traceback": [
      "\u001b[1;31mFailed to start the Kernel. \n",
      "Kernel Python 3.8.10 64-bit is not usable. Check the Jupyter output tab for more information. \n",
      "View Jupyter <a href='command:jupyter.viewOutput'>log</a> for further details."
     ]
    }
   ],
   "source": [
    "precision = 4\n",
    "preg = QuantumRegister(precision, name= 'precisio_q')\n",
    "qreg = QuantumRegister(1, name='qreg')\n",
    "creg = ClassicalRegister(precision, name='precision_c')\n",
    "qc = QuantumCircuit(preg,qreg, creg)\n",
    "\n",
    "qc.h(preg)\n",
    "qc.append(s_psi0(p), [precision] )\n",
    "qc.barrier()\n",
    "for q in range(precision):\n",
    "    qc.append(Q(p,2**q).control(1), [q]+list(range(precision,precision+1)) )\n",
    "\n",
    "qftgate_inv = QFT(QuantumCircuit(precision, name='QFT')).to_gate().inverse()\n",
    "qc.barrier()\n",
    "qc.append(qftgate_inv, list(range(precision)))\n",
    "\n",
    "\n",
    "qc.draw()"
   ]
  },
  {
   "cell_type": "code",
   "execution_count": null,
   "metadata": {},
   "outputs": [
    {
     "data": {
      "text/plain": [
       "{'0001': 6,\n",
       " '1110': 8,\n",
       " '1101': 13,\n",
       " '1000': 34,\n",
       " '1001': 43,\n",
       " '0010': 12,\n",
       " '1011': 208,\n",
       " '0110': 646,\n",
       " '0100': 41,\n",
       " '1100': 35,\n",
       " '0101': 222,\n",
       " '0011': 15,\n",
       " '0000': 7,\n",
       " '0111': 45,\n",
       " '1111': 9,\n",
       " '1010': 656}"
      ]
     },
     "execution_count": 12,
     "metadata": {},
     "output_type": "execute_result"
    },
    {
     "ename": "",
     "evalue": "",
     "output_type": "error",
     "traceback": [
      "\u001b[1;31mFailed to start the Kernel. \n",
      "Cannot read properties of null (reading 'statusChanged'). \n",
      "View Jupyter <a href='command:jupyter.viewOutput'>log</a> for further details."
     ]
    },
    {
     "ename": "",
     "evalue": "",
     "output_type": "error",
     "traceback": [
      "\u001b[1;31mFailed to start the Kernel. \n",
      "Kernel Python 3.8.10 64-bit is not usable. Check the Jupyter output tab for more information. \n",
      "View Jupyter <a href='command:jupyter.viewOutput'>log</a> for further details."
     ]
    },
    {
     "ename": "",
     "evalue": "",
     "output_type": "error",
     "traceback": [
      "\u001b[1;31mFailed to start the Kernel. \n",
      "Kernel Python 3.8.10 64-bit is not usable. Check the Jupyter output tab for more information. \n",
      "View Jupyter <a href='command:jupyter.viewOutput'>log</a> for further details."
     ]
    }
   ],
   "source": [
    "qc.measure(preg, creg)\n",
    "job = execute(qc, backend= aer, shots= 2000)\n",
    "counts = job.result().get_counts()\n",
    "counts"
   ]
  },
  {
   "cell_type": "code",
   "execution_count": null,
   "metadata": {},
   "outputs": [
    {
     "data": {
      "image/png": "[encoded data removed]",
      "text/plain": [
       "<Figure size 504x360 with 1 Axes>"
      ]
     },
     "execution_count": 13,
     "metadata": {},
     "output_type": "execute_result"
    },
    {
     "ename": "",
     "evalue": "",
     "output_type": "error",
     "traceback": [
      "\u001b[1;31mFailed to start the Kernel. \n",
      "Cannot read properties of null (reading 'statusChanged'). \n",
      "View Jupyter <a href='command:jupyter.viewOutput'>log</a> for further details."
     ]
    },
    {
     "ename": "",
     "evalue": "",
     "output_type": "error",
     "traceback": [
      "\u001b[1;31mFailed to start the Kernel. \n",
      "Kernel Python 3.8.10 64-bit is not usable. Check the Jupyter output tab for more information. \n",
      "View Jupyter <a href='command:jupyter.viewOutput'>log</a> for further details."
     ]
    },
    {
     "ename": "",
     "evalue": "",
     "output_type": "error",
     "traceback": [
      "\u001b[1;31mFailed to start the Kernel. \n",
      "Kernel Python 3.8.10 64-bit is not usable. Check the Jupyter output tab for more information. \n",
      "View Jupyter <a href='command:jupyter.viewOutput'>log</a> for further details."
     ]
    }
   ],
   "source": [
    "plot_histogram(counts)"
   ]
  },
  {
   "cell_type": "code",
   "execution_count": null,
   "metadata": {},
   "outputs": [
    {
     "name": "stdout",
     "output_type": "stream",
     "text": [
      "p =  0.8535533905932737\n",
      "p =  0.8535533905932737\n"
     ]
    },
    {
     "ename": "",
     "evalue": "",
     "output_type": "error",
     "traceback": [
      "\u001b[1;31mFailed to start the Kernel. \n",
      "Cannot read properties of null (reading 'statusChanged'). \n",
      "View Jupyter <a href='command:jupyter.viewOutput'>log</a> for further details."
     ]
    },
    {
     "ename": "",
     "evalue": "",
     "output_type": "error",
     "traceback": [
      "\u001b[1;31mFailed to start the Kernel. \n",
      "Kernel Python 3.8.10 64-bit is not usable. Check the Jupyter output tab for more information. \n",
      "View Jupyter <a href='command:jupyter.viewOutput'>log</a> for further details."
     ]
    },
    {
     "ename": "",
     "evalue": "",
     "output_type": "error",
     "traceback": [
      "\u001b[1;31mFailed to start the Kernel. \n",
      "Kernel Python 3.8.10 64-bit is not usable. Check the Jupyter output tab for more information. \n",
      "View Jupyter <a href='command:jupyter.viewOutput'>log</a> for further details."
     ]
    }
   ],
   "source": [
    "estimate = sorted(zip(counts.values(), counts.keys()), reverse= True)\n",
    "for p in range(2): print('p = ',(np.sin(int(estimate[p][1], 2)*pi/(2**precision)))**2 )"
   ]
  },
  {
   "cell_type": "code",
   "execution_count": null,
   "metadata": {},
   "outputs": [
    {
     "ename": "",
     "evalue": "",
     "output_type": "error",
     "traceback": [
      "\u001b[1;31mFailed to start the Kernel. \n",
      "Cannot read properties of null (reading 'statusChanged'). \n",
      "View Jupyter <a href='command:jupyter.viewOutput'>log</a> for further details."
     ]
    },
    {
     "ename": "",
     "evalue": "",
     "output_type": "error",
     "traceback": [
      "\u001b[1;31mFailed to start the Kernel. \n",
      "Kernel Python 3.8.10 64-bit is not usable. Check the Jupyter output tab for more information. \n",
      "View Jupyter <a href='command:jupyter.viewOutput'>log</a> for further details."
     ]
    },
    {
     "ename": "",
     "evalue": "",
     "output_type": "error",
     "traceback": [
      "\u001b[1;31mFailed to start the Kernel. \n",
      "Kernel Python 3.8.10 64-bit is not usable. Check the Jupyter output tab for more information. \n",
      "View Jupyter <a href='command:jupyter.viewOutput'>log</a> for further details."
     ]
    }
   ],
   "source": [
    "# (np.sin(int('1011',2)*pi/(2**precision)))**2"
   ]
  },
  {
   "cell_type": "markdown",
   "metadata": {},
   "source": [
    "## Generalised multi-qubit QAE"
   ]
  },
  {
   "cell_type": "markdown",
   "metadata": {},
   "source": [
    "For the multi qubit case consider a n-qubit system, such that some of its computational basis state are marked 'good' while others are marked 'bad' states. Then the initial state can be expressed as a superpotion of $\\ket{good}$ and $\\ket{bad}$ states as \n",
    "$\\begin{equation}\n",
    "    \\ket{\\psi_0} = \\sqrt{\\frac{N-M}{N}}\\ket{bad} + \\sqrt{\\frac{M}{N}}\\ket{good}\n",
    "\\end{equation}$\n",
    "where $N = 2^n$ and $M$ is the no. of 'good' states.$\\\\$\n",
    "Our aim here is to estimate the number of 'good' states $M$ using QPE as proposed by Brassard et al ('96) $\\\\$\n",
    "As before we assume,\n",
    "$\\begin{align}\n",
    "    \\sqrt{\\frac{N-M}{N}} = cos(\\frac{\\theta}{2}) \\\\\n",
    "    \\sqrt{\\frac{M}{N}} = sin(\\frac{\\theta}{2})\n",
    "\\end{align}$ \n",
    "\n"
   ]
  },
  {
   "cell_type": "code",
   "execution_count": null,
   "metadata": {},
   "outputs": [
    {
     "ename": "",
     "evalue": "",
     "output_type": "error",
     "traceback": [
      "\u001b[1;31mFailed to start the Kernel. \n",
      "Cannot read properties of null (reading 'statusChanged'). \n",
      "View Jupyter <a href='command:jupyter.viewOutput'>log</a> for further details."
     ]
    },
    {
     "ename": "",
     "evalue": "",
     "output_type": "error",
     "traceback": [
      "\u001b[1;31mFailed to start the Kernel. \n",
      "Kernel Python 3.8.10 64-bit is not usable. Check the Jupyter output tab for more information. \n",
      "View Jupyter <a href='command:jupyter.viewOutput'>log</a> for further details."
     ]
    },
    {
     "ename": "",
     "evalue": "",
     "output_type": "error",
     "traceback": [
      "\u001b[1;31mFailed to start the Kernel. \n",
      "Kernel Python 3.8.10 64-bit is not usable. Check the Jupyter output tab for more information. \n",
      "View Jupyter <a href='command:jupyter.viewOutput'>log</a> for further details."
     ]
    }
   ],
   "source": [
    "# patterns = [[0,1,1],[0,1,0],[1,1,1],[1,0,1],[1,1,0],[0,0,0],[0,0,1]]\n",
    "patterns = [[0,1,1,1],[0,0,1,0],[1,0,1,1]]\n",
    "good_states = [ ''.join([str(elem) for elem in pattern]) for pattern in patterns              ]"
   ]
  },
  {
   "cell_type": "code",
   "execution_count": null,
   "metadata": {},
   "outputs": [
    {
     "ename": "KeyboardInterrupt",
     "evalue": "",
     "output_type": "error",
     "traceback": [
      "\u001b[0;31m---------------------------------------------------------------------------\u001b[0m",
      "\u001b[0;31mKeyboardInterrupt\u001b[0m                         Traceback (most recent call last)",
      "\u001b[1;32m/home/rajarsi/Documents/Qulabs.inc/QAE.ipynb Cell 24'\u001b[0m in \u001b[0;36m<cell line: 10>\u001b[0;34m()\u001b[0m\n\u001b[1;32m      <a href='vscode-notebook-cell:/home/rajarsi/Documents/Qulabs.inc/QAE.ipynb#ch0000023?line=4'>5</a>\u001b[0m precision \u001b[39m=\u001b[39m \u001b[39m5\u001b[39m\n\u001b[1;32m      <a href='vscode-notebook-cell:/home/rajarsi/Documents/Qulabs.inc/QAE.ipynb#ch0000023?line=5'>6</a>\u001b[0m ae \u001b[39m=\u001b[39m AmplitudeEstimation(\n\u001b[1;32m      <a href='vscode-notebook-cell:/home/rajarsi/Documents/Qulabs.inc/QAE.ipynb#ch0000023?line=6'>7</a>\u001b[0m     num_eval_qubits\u001b[39m=\u001b[39mprecision,  \u001b[39m# the number of evaluation qubits specifies circuit width and accuracy\u001b[39;00m\n\u001b[1;32m      <a href='vscode-notebook-cell:/home/rajarsi/Documents/Qulabs.inc/QAE.ipynb#ch0000023?line=7'>8</a>\u001b[0m     quantum_instance\u001b[39m=\u001b[39m QuantumInstance(stv_simulator) ,\n\u001b[1;32m      <a href='vscode-notebook-cell:/home/rajarsi/Documents/Qulabs.inc/QAE.ipynb#ch0000023?line=8'>9</a>\u001b[0m )\n\u001b[0;32m---> <a href='vscode-notebook-cell:/home/rajarsi/Documents/Qulabs.inc/QAE.ipynb#ch0000023?line=9'>10</a>\u001b[0m rslt \u001b[39m=\u001b[39m ae\u001b[39m.\u001b[39;49mestimate(estimation)\n",
      "File \u001b[0;32m~/.local/lib/python3.8/site-packages/qiskit/algorithms/amplitude_estimators/ae.py:305\u001b[0m, in \u001b[0;36mAmplitudeEstimation.estimate\u001b[0;34m(self, estimation_problem)\u001b[0m\n\u001b[1;32m    <a href='file:///home/rajarsi/.local/lib/python3.8/site-packages/qiskit/algorithms/amplitude_estimators/ae.py?line=302'>303</a>\u001b[0m circuit \u001b[39m=\u001b[39m \u001b[39mself\u001b[39m\u001b[39m.\u001b[39mconstruct_circuit(estimation_problem, measurement\u001b[39m=\u001b[39m\u001b[39mFalse\u001b[39;00m)\n\u001b[1;32m    <a href='file:///home/rajarsi/.local/lib/python3.8/site-packages/qiskit/algorithms/amplitude_estimators/ae.py?line=303'>304</a>\u001b[0m \u001b[39m# run circuit on statevector simulator\u001b[39;00m\n\u001b[0;32m--> <a href='file:///home/rajarsi/.local/lib/python3.8/site-packages/qiskit/algorithms/amplitude_estimators/ae.py?line=304'>305</a>\u001b[0m statevector \u001b[39m=\u001b[39m \u001b[39mself\u001b[39;49m\u001b[39m.\u001b[39;49m_quantum_instance\u001b[39m.\u001b[39;49mexecute(circuit)\u001b[39m.\u001b[39mget_statevector()\n\u001b[1;32m    <a href='file:///home/rajarsi/.local/lib/python3.8/site-packages/qiskit/algorithms/amplitude_estimators/ae.py?line=305'>306</a>\u001b[0m result\u001b[39m.\u001b[39mcircuit_results \u001b[39m=\u001b[39m statevector\n\u001b[1;32m    <a href='file:///home/rajarsi/.local/lib/python3.8/site-packages/qiskit/algorithms/amplitude_estimators/ae.py?line=307'>308</a>\u001b[0m \u001b[39m# store number of shots: convention is 1 shot for statevector,\u001b[39;00m\n\u001b[1;32m    <a href='file:///home/rajarsi/.local/lib/python3.8/site-packages/qiskit/algorithms/amplitude_estimators/ae.py?line=308'>309</a>\u001b[0m \u001b[39m# needed so that MLE works!\u001b[39;00m\n",
      "File \u001b[0;32m~/.local/lib/python3.8/site-packages/qiskit/utils/quantum_instance.py:501\u001b[0m, in \u001b[0;36mQuantumInstance.execute\u001b[0;34m(self, circuits, had_transpiled)\u001b[0m\n\u001b[1;32m    <a href='file:///home/rajarsi/.local/lib/python3.8/site-packages/qiskit/utils/quantum_instance.py?line=497'>498</a>\u001b[0m         circuits \u001b[39m=\u001b[39m [circuits]\n\u001b[1;32m    <a href='file:///home/rajarsi/.local/lib/python3.8/site-packages/qiskit/utils/quantum_instance.py?line=498'>499</a>\u001b[0m \u001b[39melse\u001b[39;00m:\n\u001b[1;32m    <a href='file:///home/rajarsi/.local/lib/python3.8/site-packages/qiskit/utils/quantum_instance.py?line=499'>500</a>\u001b[0m     \u001b[39m# transpile here, the method always returns a copied list\u001b[39;00m\n\u001b[0;32m--> <a href='file:///home/rajarsi/.local/lib/python3.8/site-packages/qiskit/utils/quantum_instance.py?line=500'>501</a>\u001b[0m     circuits \u001b[39m=\u001b[39m \u001b[39mself\u001b[39;49m\u001b[39m.\u001b[39;49mtranspile(circuits)\n\u001b[1;32m    <a href='file:///home/rajarsi/.local/lib/python3.8/site-packages/qiskit/utils/quantum_instance.py?line=502'>503</a>\u001b[0m \u001b[39mfrom\u001b[39;00m \u001b[39mqiskit\u001b[39;00m\u001b[39m.\u001b[39;00m\u001b[39mproviders\u001b[39;00m \u001b[39mimport\u001b[39;00m Backend\n\u001b[1;32m    <a href='file:///home/rajarsi/.local/lib/python3.8/site-packages/qiskit/utils/quantum_instance.py?line=504'>505</a>\u001b[0m circuit_job \u001b[39m=\u001b[39m \u001b[39misinstance\u001b[39m(\u001b[39mself\u001b[39m\u001b[39m.\u001b[39m_backend, Backend)\n",
      "File \u001b[0;32m~/.local/lib/python3.8/site-packages/qiskit/utils/quantum_instance.py:425\u001b[0m, in \u001b[0;36mQuantumInstance.transpile\u001b[0;34m(self, circuits, pass_manager)\u001b[0m\n\u001b[1;32m    <a href='file:///home/rajarsi/.local/lib/python3.8/site-packages/qiskit/utils/quantum_instance.py?line=421'>422</a>\u001b[0m \u001b[39mif\u001b[39;00m pass_manager \u001b[39mis\u001b[39;00m \u001b[39mNone\u001b[39;00m:\n\u001b[1;32m    <a href='file:///home/rajarsi/.local/lib/python3.8/site-packages/qiskit/utils/quantum_instance.py?line=422'>423</a>\u001b[0m     \u001b[39m# if they haven't been set in the init, use the transpile args from the init\u001b[39;00m\n\u001b[1;32m    <a href='file:///home/rajarsi/.local/lib/python3.8/site-packages/qiskit/utils/quantum_instance.py?line=423'>424</a>\u001b[0m     \u001b[39mif\u001b[39;00m \u001b[39mself\u001b[39m\u001b[39m.\u001b[39m_pass_manager \u001b[39mis\u001b[39;00m \u001b[39mNone\u001b[39;00m \u001b[39mand\u001b[39;00m \u001b[39mself\u001b[39m\u001b[39m.\u001b[39m_bound_pass_manager \u001b[39mis\u001b[39;00m \u001b[39mNone\u001b[39;00m:\n\u001b[0;32m--> <a href='file:///home/rajarsi/.local/lib/python3.8/site-packages/qiskit/utils/quantum_instance.py?line=424'>425</a>\u001b[0m         transpiled_circuits \u001b[39m=\u001b[39m compiler\u001b[39m.\u001b[39;49mtranspile(\n\u001b[1;32m    <a href='file:///home/rajarsi/.local/lib/python3.8/site-packages/qiskit/utils/quantum_instance.py?line=425'>426</a>\u001b[0m             circuits, \u001b[39mself\u001b[39;49m\u001b[39m.\u001b[39;49m_backend, \u001b[39m*\u001b[39;49m\u001b[39m*\u001b[39;49m\u001b[39mself\u001b[39;49m\u001b[39m.\u001b[39;49m_backend_config, \u001b[39m*\u001b[39;49m\u001b[39m*\u001b[39;49m\u001b[39mself\u001b[39;49m\u001b[39m.\u001b[39;49m_compile_config\n\u001b[1;32m    <a href='file:///home/rajarsi/.local/lib/python3.8/site-packages/qiskit/utils/quantum_instance.py?line=426'>427</a>\u001b[0m         )\n\u001b[1;32m    <a href='file:///home/rajarsi/.local/lib/python3.8/site-packages/qiskit/utils/quantum_instance.py?line=427'>428</a>\u001b[0m     \u001b[39m# it they have been set, run them\u001b[39;00m\n\u001b[1;32m    <a href='file:///home/rajarsi/.local/lib/python3.8/site-packages/qiskit/utils/quantum_instance.py?line=428'>429</a>\u001b[0m     \u001b[39melse\u001b[39;00m:\n\u001b[1;32m    <a href='file:///home/rajarsi/.local/lib/python3.8/site-packages/qiskit/utils/quantum_instance.py?line=429'>430</a>\u001b[0m         pass_manager \u001b[39m=\u001b[39m PassManager()\n",
      "File \u001b[0;32m~/.local/lib/python3.8/site-packages/qiskit/compiler/transpiler.py:335\u001b[0m, in \u001b[0;36mtranspile\u001b[0;34m(circuits, backend, basis_gates, inst_map, coupling_map, backend_properties, initial_layout, layout_method, routing_method, translation_method, scheduling_method, instruction_durations, dt, approximation_degree, timing_constraints, seed_transpiler, optimization_level, pass_manager, callback, output_name, unitary_synthesis_method, unitary_synthesis_plugin_config, target)\u001b[0m\n\u001b[1;32m    <a href='file:///home/rajarsi/.local/lib/python3.8/site-packages/qiskit/compiler/transpiler.py?line=331'>332</a>\u001b[0m _check_circuits_coupling_map(circuits, transpile_args, backend)\n\u001b[1;32m    <a href='file:///home/rajarsi/.local/lib/python3.8/site-packages/qiskit/compiler/transpiler.py?line=333'>334</a>\u001b[0m \u001b[39m# Transpile circuits in parallel\u001b[39;00m\n\u001b[0;32m--> <a href='file:///home/rajarsi/.local/lib/python3.8/site-packages/qiskit/compiler/transpiler.py?line=334'>335</a>\u001b[0m circuits \u001b[39m=\u001b[39m parallel_map(_transpile_circuit, \u001b[39mlist\u001b[39;49m(\u001b[39mzip\u001b[39;49m(circuits, transpile_args)))\n\u001b[1;32m    <a href='file:///home/rajarsi/.local/lib/python3.8/site-packages/qiskit/compiler/transpiler.py?line=336'>337</a>\u001b[0m end_time \u001b[39m=\u001b[39m time()\n\u001b[1;32m    <a href='file:///home/rajarsi/.local/lib/python3.8/site-packages/qiskit/compiler/transpiler.py?line=337'>338</a>\u001b[0m _log_transpile_time(start_time, end_time)\n",
      "File \u001b[0;32m~/.local/lib/python3.8/site-packages/qiskit/tools/parallel.py:132\u001b[0m, in \u001b[0;36mparallel_map\u001b[0;34m(task, values, task_args, task_kwargs, num_processes)\u001b[0m\n\u001b[1;32m    <a href='file:///home/rajarsi/.local/lib/python3.8/site-packages/qiskit/tools/parallel.py?line=129'>130</a>\u001b[0m     \u001b[39mreturn\u001b[39;00m []\n\u001b[1;32m    <a href='file:///home/rajarsi/.local/lib/python3.8/site-packages/qiskit/tools/parallel.py?line=130'>131</a>\u001b[0m \u001b[39mif\u001b[39;00m \u001b[39mlen\u001b[39m(values) \u001b[39m==\u001b[39m \u001b[39m1\u001b[39m:\n\u001b[0;32m--> <a href='file:///home/rajarsi/.local/lib/python3.8/site-packages/qiskit/tools/parallel.py?line=131'>132</a>\u001b[0m     \u001b[39mreturn\u001b[39;00m [task(values[\u001b[39m0\u001b[39;49m], \u001b[39m*\u001b[39;49mtask_args, \u001b[39m*\u001b[39;49m\u001b[39m*\u001b[39;49mtask_kwargs)]\n\u001b[1;32m    <a href='file:///home/rajarsi/.local/lib/python3.8/site-packages/qiskit/tools/parallel.py?line=133'>134</a>\u001b[0m Publisher()\u001b[39m.\u001b[39mpublish(\u001b[39m\"\u001b[39m\u001b[39mterra.parallel.start\u001b[39m\u001b[39m\"\u001b[39m, \u001b[39mlen\u001b[39m(values))\n\u001b[1;32m    <a href='file:///home/rajarsi/.local/lib/python3.8/site-packages/qiskit/tools/parallel.py?line=134'>135</a>\u001b[0m nfinished \u001b[39m=\u001b[39m [\u001b[39m0\u001b[39m]\n",
      "File \u001b[0;32m~/.local/lib/python3.8/site-packages/qiskit/compiler/transpiler.py:429\u001b[0m, in \u001b[0;36m_transpile_circuit\u001b[0;34m(circuit_config_tuple)\u001b[0m\n\u001b[1;32m    <a href='file:///home/rajarsi/.local/lib/python3.8/site-packages/qiskit/compiler/transpiler.py?line=425'>426</a>\u001b[0m \u001b[39melse\u001b[39;00m:\n\u001b[1;32m    <a href='file:///home/rajarsi/.local/lib/python3.8/site-packages/qiskit/compiler/transpiler.py?line=426'>427</a>\u001b[0m     \u001b[39mraise\u001b[39;00m TranspilerError(\u001b[39m\"\u001b[39m\u001b[39moptimization_level can range from 0 to 3.\u001b[39m\u001b[39m\"\u001b[39m)\n\u001b[0;32m--> <a href='file:///home/rajarsi/.local/lib/python3.8/site-packages/qiskit/compiler/transpiler.py?line=428'>429</a>\u001b[0m result \u001b[39m=\u001b[39m pass_manager\u001b[39m.\u001b[39;49mrun(\n\u001b[1;32m    <a href='file:///home/rajarsi/.local/lib/python3.8/site-packages/qiskit/compiler/transpiler.py?line=429'>430</a>\u001b[0m     circuit, callback\u001b[39m=\u001b[39;49mtranspile_config[\u001b[39m\"\u001b[39;49m\u001b[39mcallback\u001b[39;49m\u001b[39m\"\u001b[39;49m], output_name\u001b[39m=\u001b[39;49mtranspile_config[\u001b[39m\"\u001b[39;49m\u001b[39moutput_name\u001b[39;49m\u001b[39m\"\u001b[39;49m]\n\u001b[1;32m    <a href='file:///home/rajarsi/.local/lib/python3.8/site-packages/qiskit/compiler/transpiler.py?line=430'>431</a>\u001b[0m )\n\u001b[1;32m    <a href='file:///home/rajarsi/.local/lib/python3.8/site-packages/qiskit/compiler/transpiler.py?line=432'>433</a>\u001b[0m \u001b[39mif\u001b[39;00m transpile_config[\u001b[39m\"\u001b[39m\u001b[39mfaulty_qubits_map\u001b[39m\u001b[39m\"\u001b[39m]:\n\u001b[1;32m    <a href='file:///home/rajarsi/.local/lib/python3.8/site-packages/qiskit/compiler/transpiler.py?line=433'>434</a>\u001b[0m     \u001b[39mreturn\u001b[39;00m _remap_circuit_faulty_backend(\n\u001b[1;32m    <a href='file:///home/rajarsi/.local/lib/python3.8/site-packages/qiskit/compiler/transpiler.py?line=434'>435</a>\u001b[0m         result,\n\u001b[1;32m    <a href='file:///home/rajarsi/.local/lib/python3.8/site-packages/qiskit/compiler/transpiler.py?line=435'>436</a>\u001b[0m         transpile_config[\u001b[39m\"\u001b[39m\u001b[39mbackend_num_qubits\u001b[39m\u001b[39m\"\u001b[39m],\n\u001b[1;32m    <a href='file:///home/rajarsi/.local/lib/python3.8/site-packages/qiskit/compiler/transpiler.py?line=436'>437</a>\u001b[0m         pass_manager_config\u001b[39m.\u001b[39mbackend_properties,\n\u001b[1;32m    <a href='file:///home/rajarsi/.local/lib/python3.8/site-packages/qiskit/compiler/transpiler.py?line=437'>438</a>\u001b[0m         transpile_config[\u001b[39m\"\u001b[39m\u001b[39mfaulty_qubits_map\u001b[39m\u001b[39m\"\u001b[39m],\n\u001b[1;32m    <a href='file:///home/rajarsi/.local/lib/python3.8/site-packages/qiskit/compiler/transpiler.py?line=438'>439</a>\u001b[0m     )\n",
      "File \u001b[0;32m~/.local/lib/python3.8/site-packages/qiskit/transpiler/passmanager.py:218\u001b[0m, in \u001b[0;36mPassManager.run\u001b[0;34m(self, circuits, output_name, callback)\u001b[0m\n\u001b[1;32m    <a href='file:///home/rajarsi/.local/lib/python3.8/site-packages/qiskit/transpiler/passmanager.py?line=215'>216</a>\u001b[0m     \u001b[39mreturn\u001b[39;00m circuits\n\u001b[1;32m    <a href='file:///home/rajarsi/.local/lib/python3.8/site-packages/qiskit/transpiler/passmanager.py?line=216'>217</a>\u001b[0m \u001b[39mif\u001b[39;00m \u001b[39misinstance\u001b[39m(circuits, QuantumCircuit):\n\u001b[0;32m--> <a href='file:///home/rajarsi/.local/lib/python3.8/site-packages/qiskit/transpiler/passmanager.py?line=217'>218</a>\u001b[0m     \u001b[39mreturn\u001b[39;00m \u001b[39mself\u001b[39;49m\u001b[39m.\u001b[39;49m_run_single_circuit(circuits, output_name, callback)\n\u001b[1;32m    <a href='file:///home/rajarsi/.local/lib/python3.8/site-packages/qiskit/transpiler/passmanager.py?line=218'>219</a>\u001b[0m \u001b[39mif\u001b[39;00m \u001b[39mlen\u001b[39m(circuits) \u001b[39m==\u001b[39m \u001b[39m1\u001b[39m:\n\u001b[1;32m    <a href='file:///home/rajarsi/.local/lib/python3.8/site-packages/qiskit/transpiler/passmanager.py?line=219'>220</a>\u001b[0m     \u001b[39mreturn\u001b[39;00m \u001b[39mself\u001b[39m\u001b[39m.\u001b[39m_run_single_circuit(circuits[\u001b[39m0\u001b[39m], output_name, callback)\n",
      "File \u001b[0;32m~/.local/lib/python3.8/site-packages/qiskit/transpiler/passmanager.py:273\u001b[0m, in \u001b[0;36mPassManager._run_single_circuit\u001b[0;34m(self, circuit, output_name, callback)\u001b[0m\n\u001b[1;32m    <a href='file:///home/rajarsi/.local/lib/python3.8/site-packages/qiskit/transpiler/passmanager.py?line=260'>261</a>\u001b[0m \u001b[39m\"\"\"Run all the passes on a ``circuit``.\u001b[39;00m\n\u001b[1;32m    <a href='file:///home/rajarsi/.local/lib/python3.8/site-packages/qiskit/transpiler/passmanager.py?line=261'>262</a>\u001b[0m \n\u001b[1;32m    <a href='file:///home/rajarsi/.local/lib/python3.8/site-packages/qiskit/transpiler/passmanager.py?line=262'>263</a>\u001b[0m \u001b[39mArgs:\u001b[39;00m\n\u001b[0;32m   (...)\u001b[0m\n\u001b[1;32m    <a href='file:///home/rajarsi/.local/lib/python3.8/site-packages/qiskit/transpiler/passmanager.py?line=269'>270</a>\u001b[0m \u001b[39m    The transformed circuit.\u001b[39;00m\n\u001b[1;32m    <a href='file:///home/rajarsi/.local/lib/python3.8/site-packages/qiskit/transpiler/passmanager.py?line=270'>271</a>\u001b[0m \u001b[39m\"\"\"\u001b[39;00m\n\u001b[1;32m    <a href='file:///home/rajarsi/.local/lib/python3.8/site-packages/qiskit/transpiler/passmanager.py?line=271'>272</a>\u001b[0m running_passmanager \u001b[39m=\u001b[39m \u001b[39mself\u001b[39m\u001b[39m.\u001b[39m_create_running_passmanager()\n\u001b[0;32m--> <a href='file:///home/rajarsi/.local/lib/python3.8/site-packages/qiskit/transpiler/passmanager.py?line=272'>273</a>\u001b[0m result \u001b[39m=\u001b[39m running_passmanager\u001b[39m.\u001b[39;49mrun(circuit, output_name\u001b[39m=\u001b[39;49moutput_name, callback\u001b[39m=\u001b[39;49mcallback)\n\u001b[1;32m    <a href='file:///home/rajarsi/.local/lib/python3.8/site-packages/qiskit/transpiler/passmanager.py?line=273'>274</a>\u001b[0m \u001b[39mself\u001b[39m\u001b[39m.\u001b[39mproperty_set \u001b[39m=\u001b[39m running_passmanager\u001b[39m.\u001b[39mproperty_set\n\u001b[1;32m    <a href='file:///home/rajarsi/.local/lib/python3.8/site-packages/qiskit/transpiler/passmanager.py?line=274'>275</a>\u001b[0m \u001b[39mreturn\u001b[39;00m result\n",
      "File \u001b[0;32m~/.local/lib/python3.8/site-packages/qiskit/transpiler/runningpassmanager.py:123\u001b[0m, in \u001b[0;36mRunningPassManager.run\u001b[0;34m(***failed resolving arguments***)\u001b[0m\n\u001b[1;32m    <a href='file:///home/rajarsi/.local/lib/python3.8/site-packages/qiskit/transpiler/runningpassmanager.py?line=120'>121</a>\u001b[0m \u001b[39mfor\u001b[39;00m passset \u001b[39min\u001b[39;00m \u001b[39mself\u001b[39m\u001b[39m.\u001b[39mworking_list:\n\u001b[1;32m    <a href='file:///home/rajarsi/.local/lib/python3.8/site-packages/qiskit/transpiler/runningpassmanager.py?line=121'>122</a>\u001b[0m     \u001b[39mfor\u001b[39;00m pass_ \u001b[39min\u001b[39;00m passset:\n\u001b[0;32m--> <a href='file:///home/rajarsi/.local/lib/python3.8/site-packages/qiskit/transpiler/runningpassmanager.py?line=122'>123</a>\u001b[0m         dag \u001b[39m=\u001b[39m \u001b[39mself\u001b[39;49m\u001b[39m.\u001b[39;49m_do_pass(pass_, dag, passset\u001b[39m.\u001b[39;49moptions)\n\u001b[1;32m    <a href='file:///home/rajarsi/.local/lib/python3.8/site-packages/qiskit/transpiler/runningpassmanager.py?line=124'>125</a>\u001b[0m circuit \u001b[39m=\u001b[39m dag_to_circuit(dag)\n\u001b[1;32m    <a href='file:///home/rajarsi/.local/lib/python3.8/site-packages/qiskit/transpiler/runningpassmanager.py?line=125'>126</a>\u001b[0m \u001b[39mif\u001b[39;00m output_name:\n",
      "File \u001b[0;32m~/.local/lib/python3.8/site-packages/qiskit/transpiler/runningpassmanager.py:154\u001b[0m, in \u001b[0;36mRunningPassManager._do_pass\u001b[0;34m(self, pass_, dag, options)\u001b[0m\n\u001b[1;32m    <a href='file:///home/rajarsi/.local/lib/python3.8/site-packages/qiskit/transpiler/runningpassmanager.py?line=151'>152</a>\u001b[0m \u001b[39m# Run the pass itself, if not already run\u001b[39;00m\n\u001b[1;32m    <a href='file:///home/rajarsi/.local/lib/python3.8/site-packages/qiskit/transpiler/runningpassmanager.py?line=152'>153</a>\u001b[0m \u001b[39mif\u001b[39;00m pass_ \u001b[39mnot\u001b[39;00m \u001b[39min\u001b[39;00m \u001b[39mself\u001b[39m\u001b[39m.\u001b[39mvalid_passes:\n\u001b[0;32m--> <a href='file:///home/rajarsi/.local/lib/python3.8/site-packages/qiskit/transpiler/runningpassmanager.py?line=153'>154</a>\u001b[0m     dag \u001b[39m=\u001b[39m \u001b[39mself\u001b[39;49m\u001b[39m.\u001b[39;49m_run_this_pass(pass_, dag)\n\u001b[1;32m    <a href='file:///home/rajarsi/.local/lib/python3.8/site-packages/qiskit/transpiler/runningpassmanager.py?line=155'>156</a>\u001b[0m     \u001b[39m# update the valid_passes property\u001b[39;00m\n\u001b[1;32m    <a href='file:///home/rajarsi/.local/lib/python3.8/site-packages/qiskit/transpiler/runningpassmanager.py?line=156'>157</a>\u001b[0m     \u001b[39mself\u001b[39m\u001b[39m.\u001b[39m_update_valid_passes(pass_)\n",
      "File \u001b[0;32m~/.local/lib/python3.8/site-packages/qiskit/transpiler/runningpassmanager.py:166\u001b[0m, in \u001b[0;36mRunningPassManager._run_this_pass\u001b[0;34m(self, pass_, dag)\u001b[0m\n\u001b[1;32m    <a href='file:///home/rajarsi/.local/lib/python3.8/site-packages/qiskit/transpiler/runningpassmanager.py?line=162'>163</a>\u001b[0m \u001b[39mif\u001b[39;00m pass_\u001b[39m.\u001b[39mis_transformation_pass:\n\u001b[1;32m    <a href='file:///home/rajarsi/.local/lib/python3.8/site-packages/qiskit/transpiler/runningpassmanager.py?line=163'>164</a>\u001b[0m     \u001b[39m# Measure time if we have a callback or logging set\u001b[39;00m\n\u001b[1;32m    <a href='file:///home/rajarsi/.local/lib/python3.8/site-packages/qiskit/transpiler/runningpassmanager.py?line=164'>165</a>\u001b[0m     start_time \u001b[39m=\u001b[39m time()\n\u001b[0;32m--> <a href='file:///home/rajarsi/.local/lib/python3.8/site-packages/qiskit/transpiler/runningpassmanager.py?line=165'>166</a>\u001b[0m     new_dag \u001b[39m=\u001b[39m pass_\u001b[39m.\u001b[39;49mrun(dag)\n\u001b[1;32m    <a href='file:///home/rajarsi/.local/lib/python3.8/site-packages/qiskit/transpiler/runningpassmanager.py?line=166'>167</a>\u001b[0m     end_time \u001b[39m=\u001b[39m time()\n\u001b[1;32m    <a href='file:///home/rajarsi/.local/lib/python3.8/site-packages/qiskit/transpiler/runningpassmanager.py?line=167'>168</a>\u001b[0m     run_time \u001b[39m=\u001b[39m end_time \u001b[39m-\u001b[39m start_time\n",
      "File \u001b[0;32m~/.local/lib/python3.8/site-packages/qiskit/transpiler/passes/basis/unroll_custom_definitions.py:92\u001b[0m, in \u001b[0;36mUnrollCustomDefinitions.run\u001b[0;34m(self, dag)\u001b[0m\n\u001b[1;32m     <a href='file:///home/rajarsi/.local/lib/python3.8/site-packages/qiskit/transpiler/passes/basis/unroll_custom_definitions.py?line=85'>86</a>\u001b[0m         \u001b[39mraise\u001b[39;00m QiskitError(\n\u001b[1;32m     <a href='file:///home/rajarsi/.local/lib/python3.8/site-packages/qiskit/transpiler/passes/basis/unroll_custom_definitions.py?line=86'>87</a>\u001b[0m             \u001b[39m\"\u001b[39m\u001b[39mCannot unroll the circuit to the given basis, \u001b[39m\u001b[39m%s\u001b[39;00m\u001b[39m. \u001b[39m\u001b[39m\"\u001b[39m\n\u001b[1;32m     <a href='file:///home/rajarsi/.local/lib/python3.8/site-packages/qiskit/transpiler/passes/basis/unroll_custom_definitions.py?line=87'>88</a>\u001b[0m             \u001b[39m\"\u001b[39m\u001b[39mInstruction \u001b[39m\u001b[39m%s\u001b[39;00m\u001b[39m not found in equivalence library \u001b[39m\u001b[39m\"\u001b[39m\n\u001b[1;32m     <a href='file:///home/rajarsi/.local/lib/python3.8/site-packages/qiskit/transpiler/passes/basis/unroll_custom_definitions.py?line=88'>89</a>\u001b[0m             \u001b[39m\"\u001b[39m\u001b[39mand no rule found to expand.\u001b[39m\u001b[39m\"\u001b[39m \u001b[39m%\u001b[39m (\u001b[39mstr\u001b[39m(\u001b[39mself\u001b[39m\u001b[39m.\u001b[39m_basis_gates), node\u001b[39m.\u001b[39mop\u001b[39m.\u001b[39mname)\n\u001b[1;32m     <a href='file:///home/rajarsi/.local/lib/python3.8/site-packages/qiskit/transpiler/passes/basis/unroll_custom_definitions.py?line=89'>90</a>\u001b[0m         )\n\u001b[1;32m     <a href='file:///home/rajarsi/.local/lib/python3.8/site-packages/qiskit/transpiler/passes/basis/unroll_custom_definitions.py?line=90'>91</a>\u001b[0m     decomposition \u001b[39m=\u001b[39m circuit_to_dag(node\u001b[39m.\u001b[39mop\u001b[39m.\u001b[39mdefinition)\n\u001b[0;32m---> <a href='file:///home/rajarsi/.local/lib/python3.8/site-packages/qiskit/transpiler/passes/basis/unroll_custom_definitions.py?line=91'>92</a>\u001b[0m     unrolled_dag \u001b[39m=\u001b[39m UnrollCustomDefinitions(\u001b[39mself\u001b[39;49m\u001b[39m.\u001b[39;49m_equiv_lib, \u001b[39mself\u001b[39;49m\u001b[39m.\u001b[39;49m_basis_gates)\u001b[39m.\u001b[39;49mrun(\n\u001b[1;32m     <a href='file:///home/rajarsi/.local/lib/python3.8/site-packages/qiskit/transpiler/passes/basis/unroll_custom_definitions.py?line=92'>93</a>\u001b[0m         decomposition\n\u001b[1;32m     <a href='file:///home/rajarsi/.local/lib/python3.8/site-packages/qiskit/transpiler/passes/basis/unroll_custom_definitions.py?line=93'>94</a>\u001b[0m     )\n\u001b[1;32m     <a href='file:///home/rajarsi/.local/lib/python3.8/site-packages/qiskit/transpiler/passes/basis/unroll_custom_definitions.py?line=94'>95</a>\u001b[0m     dag\u001b[39m.\u001b[39msubstitute_node_with_dag(node, unrolled_dag)\n\u001b[1;32m     <a href='file:///home/rajarsi/.local/lib/python3.8/site-packages/qiskit/transpiler/passes/basis/unroll_custom_definitions.py?line=96'>97</a>\u001b[0m \u001b[39mreturn\u001b[39;00m dag\n",
      "File \u001b[0;32m~/.local/lib/python3.8/site-packages/qiskit/transpiler/passes/basis/unroll_custom_definitions.py:95\u001b[0m, in \u001b[0;36mUnrollCustomDefinitions.run\u001b[0;34m(self, dag)\u001b[0m\n\u001b[1;32m     <a href='file:///home/rajarsi/.local/lib/python3.8/site-packages/qiskit/transpiler/passes/basis/unroll_custom_definitions.py?line=90'>91</a>\u001b[0m     decomposition \u001b[39m=\u001b[39m circuit_to_dag(node\u001b[39m.\u001b[39mop\u001b[39m.\u001b[39mdefinition)\n\u001b[1;32m     <a href='file:///home/rajarsi/.local/lib/python3.8/site-packages/qiskit/transpiler/passes/basis/unroll_custom_definitions.py?line=91'>92</a>\u001b[0m     unrolled_dag \u001b[39m=\u001b[39m UnrollCustomDefinitions(\u001b[39mself\u001b[39m\u001b[39m.\u001b[39m_equiv_lib, \u001b[39mself\u001b[39m\u001b[39m.\u001b[39m_basis_gates)\u001b[39m.\u001b[39mrun(\n\u001b[1;32m     <a href='file:///home/rajarsi/.local/lib/python3.8/site-packages/qiskit/transpiler/passes/basis/unroll_custom_definitions.py?line=92'>93</a>\u001b[0m         decomposition\n\u001b[1;32m     <a href='file:///home/rajarsi/.local/lib/python3.8/site-packages/qiskit/transpiler/passes/basis/unroll_custom_definitions.py?line=93'>94</a>\u001b[0m     )\n\u001b[0;32m---> <a href='file:///home/rajarsi/.local/lib/python3.8/site-packages/qiskit/transpiler/passes/basis/unroll_custom_definitions.py?line=94'>95</a>\u001b[0m     dag\u001b[39m.\u001b[39;49msubstitute_node_with_dag(node, unrolled_dag)\n\u001b[1;32m     <a href='file:///home/rajarsi/.local/lib/python3.8/site-packages/qiskit/transpiler/passes/basis/unroll_custom_definitions.py?line=96'>97</a>\u001b[0m \u001b[39mreturn\u001b[39;00m dag\n",
      "File \u001b[0;32m~/.local/lib/python3.8/site-packages/qiskit/dagcircuit/dagcircuit.py:1268\u001b[0m, in \u001b[0;36mDAGCircuit.substitute_node_with_dag\u001b[0;34m(self, node, input_dag, wires)\u001b[0m\n\u001b[1;32m   <a href='file:///home/rajarsi/.local/lib/python3.8/site-packages/qiskit/dagcircuit/dagcircuit.py?line=1265'>1266</a>\u001b[0m     new_node\u001b[39m.\u001b[39m_node_id \u001b[39m=\u001b[39m new_node_index\n\u001b[1;32m   <a href='file:///home/rajarsi/.local/lib/python3.8/site-packages/qiskit/dagcircuit/dagcircuit.py?line=1266'>1267</a>\u001b[0m     new_node\u001b[39m.\u001b[39mop\u001b[39m.\u001b[39mcondition \u001b[39m=\u001b[39m condition\n\u001b[0;32m-> <a href='file:///home/rajarsi/.local/lib/python3.8/site-packages/qiskit/dagcircuit/dagcircuit.py?line=1267'>1268</a>\u001b[0m     \u001b[39mself\u001b[39m\u001b[39m.\u001b[39m_multi_graph[new_node_index] \u001b[39m=\u001b[39m new_node\n\u001b[1;32m   <a href='file:///home/rajarsi/.local/lib/python3.8/site-packages/qiskit/dagcircuit/dagcircuit.py?line=1268'>1269</a>\u001b[0m     \u001b[39mself\u001b[39m\u001b[39m.\u001b[39m_increment_op(new_node\u001b[39m.\u001b[39mop)\n\u001b[1;32m   <a href='file:///home/rajarsi/.local/lib/python3.8/site-packages/qiskit/dagcircuit/dagcircuit.py?line=1270'>1271</a>\u001b[0m \u001b[39mreturn\u001b[39;00m {k: \u001b[39mself\u001b[39m\u001b[39m.\u001b[39m_multi_graph[v] \u001b[39mfor\u001b[39;00m k, v \u001b[39min\u001b[39;00m node_map\u001b[39m.\u001b[39mitems()}\n",
      "\u001b[0;31mKeyboardInterrupt\u001b[0m: "
     ]
    },
    {
     "ename": "",
     "evalue": "",
     "output_type": "error",
     "traceback": [
      "\u001b[1;31mFailed to interrupt the Kernel. \n",
      "Cannot read properties of null (reading 'statusChanged'). \n",
      "View Jupyter <a href='command:jupyter.viewOutput'>log</a> for further details."
     ]
    },
    {
     "ename": "",
     "evalue": "",
     "output_type": "error",
     "traceback": [
      "\u001b[1;31mFailed to start the Kernel. \n",
      "Cannot read properties of null (reading 'statusChanged'). \n",
      "View Jupyter <a href='command:jupyter.viewOutput'>log</a> for further details."
     ]
    },
    {
     "ename": "",
     "evalue": "",
     "output_type": "error",
     "traceback": [
      "\u001b[1;31mFailed to start the Kernel. \n",
      "Kernel Python 3.8.10 64-bit is not usable. Check the Jupyter output tab for more information. \n",
      "View Jupyter <a href='command:jupyter.viewOutput'>log</a> for further details."
     ]
    },
    {
     "ename": "",
     "evalue": "",
     "output_type": "error",
     "traceback": [
      "\u001b[1;31mFailed to start the Kernel. \n",
      "Kernel Python 3.8.10 64-bit is not usable. Check the Jupyter output tab for more information. \n",
      "View Jupyter <a href='command:jupyter.viewOutput'>log</a> for further details."
     ]
    }
   ],
   "source": [
    "## using qiksit Estimation problem module\n",
    "stateprep = QuantumCircuit(5)\n",
    "stateprep.h([0,1,2,3])\n",
    "estimation = EstimationProblem(stateprep, [0,1,2,4], grover_operator= grover(patterns,1), is_good_state= good_states)\n",
    "precision = 5\n",
    "ae = AmplitudeEstimation(\n",
    "    num_eval_qubits=precision,  # the number of evaluation qubits specifies circuit width and accuracy\n",
    "    quantum_instance= QuantumInstance(stv_simulator) ,\n",
    ")\n",
    "rslt = ae.estimate(estimation)\n",
    "# rslt.estimaation, rslt.mle , 7/8"
   ]
  },
  {
   "cell_type": "code",
   "execution_count": null,
   "metadata": {},
   "outputs": [
    {
     "data": {
      "text/plain": [
       "(0.4024548, 0.37499998883960317, 0.375)"
      ]
     },
     "execution_count": 18,
     "metadata": {},
     "output_type": "execute_result"
    },
    {
     "ename": "",
     "evalue": "",
     "output_type": "error",
     "traceback": [
      "\u001b[1;31mFailed to start the Kernel. \n",
      "Cannot read properties of null (reading 'statusChanged'). \n",
      "View Jupyter <a href='command:jupyter.viewOutput'>log</a> for further details."
     ]
    },
    {
     "ename": "",
     "evalue": "",
     "output_type": "error",
     "traceback": [
      "\u001b[1;31mFailed to start the Kernel. \n",
      "Kernel Python 3.8.10 64-bit is not usable. Check the Jupyter output tab for more information. \n",
      "View Jupyter <a href='command:jupyter.viewOutput'>log</a> for further details."
     ]
    },
    {
     "ename": "",
     "evalue": "",
     "output_type": "error",
     "traceback": [
      "\u001b[1;31mFailed to start the Kernel. \n",
      "Kernel Python 3.8.10 64-bit is not usable. Check the Jupyter output tab for more information. \n",
      "View Jupyter <a href='command:jupyter.viewOutput'>log</a> for further details."
     ]
    }
   ],
   "source": [
    "1-rslt.estimation, 1-rslt.mle , len(patterns)/8"
   ]
  },
  {
   "cell_type": "code",
   "execution_count": null,
   "metadata": {},
   "outputs": [
    {
     "data": {
      "text/html": [
       "<pre style=\"word-wrap: normal;white-space: pre;background: #fff0;line-height: 1.1;font-family: &quot;Courier New&quot;,Courier,monospace\">               ┌───┐                                        ░ ┌─────────┐\n",
       "precision_q_0: ┤ H ├──────■─────────────────────────────────░─┤0        ├\n",
       "               ├───┤      │                                 ░ │         │\n",
       "precision_q_1: ┤ H ├──────┼────────────■────────────────────░─┤1 QFT_dg ├\n",
       "               ├───┤      │            │                    ░ │         │\n",
       "precision_q_2: ┤ H ├──────┼────────────┼────────────■───────░─┤2        ├\n",
       "               ├───┤┌─────┴─────┐┌─────┴─────┐┌─────┴─────┐ ░ └─────────┘\n",
       "       qreg_0: ┤ H ├┤0          ├┤0          ├┤0          ├─░────────────\n",
       "               ├───┤│           ││           ││           │ ░            \n",
       "       qreg_1: ┤ H ├┤1          ├┤1          ├┤1          ├─░────────────\n",
       "               ├───┤│  grover^1 ││  grover^2 ││  grover^4 │ ░            \n",
       "       qreg_2: ┤ H ├┤2          ├┤2          ├┤2          ├─░────────────\n",
       "               └───┘│           ││           ││           │ ░            \n",
       "      ancilla: ─────┤3          ├┤3          ├┤3          ├─░────────────\n",
       "                    └───────────┘└───────────┘└───────────┘ ░            \n",
       " precison_c: 3/══════════════════════════════════════════════════════════\n",
       "                                                                         </pre>"
      ],
      "text/plain": [
       "               ┌───┐                                        ░ ┌─────────┐\n",
       "precision_q_0: ┤ H ├──────■─────────────────────────────────░─┤0        ├\n",
       "               ├───┤      │                                 ░ │         │\n",
       "precision_q_1: ┤ H ├──────┼────────────■────────────────────░─┤1 QFT_dg ├\n",
       "               ├───┤      │            │                    ░ │         │\n",
       "precision_q_2: ┤ H ├──────┼────────────┼────────────■───────░─┤2        ├\n",
       "               ├───┤┌─────┴─────┐┌─────┴─────┐┌─────┴─────┐ ░ └─────────┘\n",
       "       qreg_0: ┤ H ├┤0          ├┤0          ├┤0          ├─░────────────\n",
       "               ├───┤│           ││           ││           │ ░            \n",
       "       qreg_1: ┤ H ├┤1          ├┤1          ├┤1          ├─░────────────\n",
       "               ├───┤│  grover^1 ││  grover^2 ││  grover^4 │ ░            \n",
       "       qreg_2: ┤ H ├┤2          ├┤2          ├┤2          ├─░────────────\n",
       "               └───┘│           ││           ││           │ ░            \n",
       "      ancilla: ─────┤3          ├┤3          ├┤3          ├─░────────────\n",
       "                    └───────────┘└───────────┘└───────────┘ ░            \n",
       " precison_c: 3/══════════════════════════════════════════════════════════\n",
       "                                                                         "
      ]
     },
     "execution_count": 19,
     "metadata": {},
     "output_type": "execute_result"
    },
    {
     "ename": "",
     "evalue": "",
     "output_type": "error",
     "traceback": [
      "\u001b[1;31mFailed to start the Kernel. \n",
      "Cannot read properties of null (reading 'statusChanged'). \n",
      "View Jupyter <a href='command:jupyter.viewOutput'>log</a> for further details."
     ]
    },
    {
     "ename": "",
     "evalue": "",
     "output_type": "error",
     "traceback": [
      "\u001b[1;31mFailed to start the Kernel. \n",
      "Kernel Python 3.8.10 64-bit is not usable. Check the Jupyter output tab for more information. \n",
      "View Jupyter <a href='command:jupyter.viewOutput'>log</a> for further details."
     ]
    },
    {
     "ename": "",
     "evalue": "",
     "output_type": "error",
     "traceback": [
      "\u001b[1;31mFailed to start the Kernel. \n",
      "Kernel Python 3.8.10 64-bit is not usable. Check the Jupyter output tab for more information. \n",
      "View Jupyter <a href='command:jupyter.viewOutput'>log</a> for further details."
     ]
    }
   ],
   "source": [
    "## implementation from scratch ~\n",
    "precision = 3 \n",
    "preg = QuantumRegister(precision, name='precision_q')\n",
    "qreg = QuantumRegister(4,name='qreg')\n",
    "ancilla = AncillaRegister(1, name='ancilla')\n",
    "creg = ClassicalRegister(precision, name='precison_c')\n",
    "\n",
    "qc = QuantumCircuit(preg, qreg, ancilla, creg)\n",
    "\n",
    "qc.h(preg)\n",
    "qc.h(qreg)\n",
    "for q in range(precision):\n",
    "    qc.append(grover(patterns,2**q).to_gate().control(1), [q]+list(range(precision,precision+4)) )\n",
    "\n",
    "qftgate_inv = QFT(QuantumCircuit(precision, name='QFT')).to_gate().inverse()\n",
    "qc.barrier()\n",
    "qc.append(qftgate_inv, list(range(precision)))\n",
    "\n",
    "qc.decompose(gates_to_decompose= ['grover^1']).draw()\n"
   ]
  },
  {
   "cell_type": "code",
   "execution_count": null,
   "metadata": {},
   "outputs": [
    {
     "ename": "",
     "evalue": "",
     "output_type": "error",
     "traceback": [
      "\u001b[1;31mFailed to start the Kernel. \n",
      "Cannot read properties of null (reading 'statusChanged'). \n",
      "View Jupyter <a href='command:jupyter.viewOutput'>log</a> for further details."
     ]
    },
    {
     "ename": "",
     "evalue": "",
     "output_type": "error",
     "traceback": [
      "\u001b[1;31mFailed to start the Kernel. \n",
      "Kernel Python 3.8.10 64-bit is not usable. Check the Jupyter output tab for more information. \n",
      "View Jupyter <a href='command:jupyter.viewOutput'>log</a> for further details."
     ]
    },
    {
     "ename": "",
     "evalue": "",
     "output_type": "error",
     "traceback": [
      "\u001b[1;31mFailed to start the Kernel. \n",
      "Kernel Python 3.8.10 64-bit is not usable. Check the Jupyter output tab for more information. \n",
      "View Jupyter <a href='command:jupyter.viewOutput'>log</a> for further details."
     ]
    }
   ],
   "source": [
    "# basis_gates = [\"h\", \"ry\", \"cry\", \"cx\", \"ccx\", \"p\", \"cp\", \"x\", \"s\", \"sdg\", \"y\", \"t\", \"cz\"]\n",
    "# transpile(qc, basis_gates=basis_gates, optimization_level=2).draw(\"mpl\", style=\"iqx\")"
   ]
  },
  {
   "cell_type": "code",
   "execution_count": null,
   "metadata": {},
   "outputs": [
    {
     "data": {
      "text/plain": [
       "{'010': 708,\n",
       " '101': 172,\n",
       " '001': 55,\n",
       " '110': 722,\n",
       " '100': 76,\n",
       " '111': 52,\n",
       " '000': 36,\n",
       " '011': 179}"
      ]
     },
     "execution_count": 21,
     "metadata": {},
     "output_type": "execute_result"
    },
    {
     "ename": "",
     "evalue": "",
     "output_type": "error",
     "traceback": [
      "\u001b[1;31mFailed to start the Kernel. \n",
      "Cannot read properties of null (reading 'statusChanged'). \n",
      "View Jupyter <a href='command:jupyter.viewOutput'>log</a> for further details."
     ]
    },
    {
     "ename": "",
     "evalue": "",
     "output_type": "error",
     "traceback": [
      "\u001b[1;31mFailed to start the Kernel. \n",
      "Kernel Python 3.8.10 64-bit is not usable. Check the Jupyter output tab for more information. \n",
      "View Jupyter <a href='command:jupyter.viewOutput'>log</a> for further details."
     ]
    },
    {
     "ename": "",
     "evalue": "",
     "output_type": "error",
     "traceback": [
      "\u001b[1;31mFailed to start the Kernel. \n",
      "Kernel Python 3.8.10 64-bit is not usable. Check the Jupyter output tab for more information. \n",
      "View Jupyter <a href='command:jupyter.viewOutput'>log</a> for further details."
     ]
    }
   ],
   "source": [
    "qc.measure(preg, creg)\n",
    "job = execute(qc, backend= aer, shots= 2000)\n",
    "counts = job.result().get_counts()\n",
    "counts"
   ]
  },
  {
   "cell_type": "code",
   "execution_count": null,
   "metadata": {},
   "outputs": [
    {
     "data": {
      "image/png": "[encoded data removed]",
      "text/plain": [
       "<Figure size 504x360 with 1 Axes>"
      ]
     },
     "execution_count": 22,
     "metadata": {},
     "output_type": "execute_result"
    },
    {
     "ename": "",
     "evalue": "",
     "output_type": "error",
     "traceback": [
      "\u001b[1;31mFailed to start the Kernel. \n",
      "Cannot read properties of null (reading 'statusChanged'). \n",
      "View Jupyter <a href='command:jupyter.viewOutput'>log</a> for further details."
     ]
    },
    {
     "ename": "",
     "evalue": "",
     "output_type": "error",
     "traceback": [
      "\u001b[1;31mFailed to start the Kernel. \n",
      "Kernel Python 3.8.10 64-bit is not usable. Check the Jupyter output tab for more information. \n",
      "View Jupyter <a href='command:jupyter.viewOutput'>log</a> for further details."
     ]
    },
    {
     "ename": "",
     "evalue": "",
     "output_type": "error",
     "traceback": [
      "\u001b[1;31mFailed to start the Kernel. \n",
      "Kernel Python 3.8.10 64-bit is not usable. Check the Jupyter output tab for more information. \n",
      "View Jupyter <a href='command:jupyter.viewOutput'>log</a> for further details."
     ]
    }
   ],
   "source": [
    "plot_histogram(counts)"
   ]
  },
  {
   "cell_type": "code",
   "execution_count": null,
   "metadata": {},
   "outputs": [
    {
     "name": "stdout",
     "output_type": "stream",
     "text": [
      "p =  0.5000000000000001\n",
      "p =  0.4999999999999999\n"
     ]
    },
    {
     "ename": "",
     "evalue": "",
     "output_type": "error",
     "traceback": [
      "\u001b[1;31mFailed to start the Kernel. \n",
      "Cannot read properties of null (reading 'statusChanged'). \n",
      "View Jupyter <a href='command:jupyter.viewOutput'>log</a> for further details."
     ]
    },
    {
     "ename": "",
     "evalue": "",
     "output_type": "error",
     "traceback": [
      "\u001b[1;31mFailed to start the Kernel. \n",
      "Kernel Python 3.8.10 64-bit is not usable. Check the Jupyter output tab for more information. \n",
      "View Jupyter <a href='command:jupyter.viewOutput'>log</a> for further details."
     ]
    },
    {
     "ename": "",
     "evalue": "",
     "output_type": "error",
     "traceback": [
      "\u001b[1;31mFailed to start the Kernel. \n",
      "Kernel Python 3.8.10 64-bit is not usable. Check the Jupyter output tab for more information. \n",
      "View Jupyter <a href='command:jupyter.viewOutput'>log</a> for further details."
     ]
    }
   ],
   "source": [
    "estimate = sorted(zip(counts.values(), counts.keys()), reverse= True)\n",
    "for p in range(2): print('p = ',(np.sin(int(estimate[p][1], 2)*pi/(2**precision)))**2 )"
   ]
  },
  {
   "cell_type": "code",
   "execution_count": null,
   "metadata": {},
   "outputs": [
    {
     "data": {
      "text/plain": [
       "0.25"
      ]
     },
     "execution_count": 24,
     "metadata": {},
     "output_type": "execute_result"
    },
    {
     "ename": "",
     "evalue": "",
     "output_type": "error",
     "traceback": [
      "\u001b[1;31mFailed to start the Kernel. \n",
      "Cannot read properties of null (reading 'statusChanged'). \n",
      "View Jupyter <a href='command:jupyter.viewOutput'>log</a> for further details."
     ]
    },
    {
     "ename": "",
     "evalue": "",
     "output_type": "error",
     "traceback": [
      "\u001b[1;31mFailed to start the Kernel. \n",
      "Kernel Python 3.8.10 64-bit is not usable. Check the Jupyter output tab for more information. \n",
      "View Jupyter <a href='command:jupyter.viewOutput'>log</a> for further details."
     ]
    },
    {
     "ename": "",
     "evalue": "",
     "output_type": "error",
     "traceback": [
      "\u001b[1;31mFailed to start the Kernel. \n",
      "Kernel Python 3.8.10 64-bit is not usable. Check the Jupyter output tab for more information. \n",
      "View Jupyter <a href='command:jupyter.viewOutput'>log</a> for further details."
     ]
    }
   ],
   "source": [
    "2/8"
   ]
  },
  {
   "cell_type": "code",
   "execution_count": null,
   "metadata": {},
   "outputs": [
    {
     "ename": "",
     "evalue": "",
     "output_type": "error",
     "traceback": [
      "\u001b[1;31mFailed to start the Kernel. \n",
      "Cannot read properties of null (reading 'statusChanged'). \n",
      "View Jupyter <a href='command:jupyter.viewOutput'>log</a> for further details."
     ]
    },
    {
     "ename": "",
     "evalue": "",
     "output_type": "error",
     "traceback": [
      "\u001b[1;31mFailed to start the Kernel. \n",
      "Kernel Python 3.8.10 64-bit is not usable. Check the Jupyter output tab for more information. \n",
      "View Jupyter <a href='command:jupyter.viewOutput'>log</a> for further details."
     ]
    },
    {
     "ename": "",
     "evalue": "",
     "output_type": "error",
     "traceback": [
      "\u001b[1;31mFailed to start the Kernel. \n",
      "Kernel Python 3.8.10 64-bit is not usable. Check the Jupyter output tab for more information. \n",
      "View Jupyter <a href='command:jupyter.viewOutput'>log</a> for further details."
     ]
    }
   ],
   "source": []
  }
 ],
 "metadata": {
  "interpreter": {
   "hash": "31f2aee4e71d21fbe5cf8b01ff0e069b9275f58929596ceb00d14d90e3e16cd6"
  },
  "kernelspec": {
   "display_name": "Python 3.8.10 64-bit",
   "language": "python",
   "name": "python3"
  },
  "language_info": {
   "codemirror_mode": {
    "name": "ipython",
    "version": 3
   },
   "file_extension": ".py",
   "mimetype": "text/x-python",
   "name": "python",
   "nbconvert_exporter": "python",
   "pygments_lexer": "ipython3",
   "version": "3.8.10"
  },
  "orig_nbformat": 4
 },
 "nbformat": 4,
 "nbformat_minor": 2
}
