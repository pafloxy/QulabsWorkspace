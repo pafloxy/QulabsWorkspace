{
 "cells": [
  {
   "cell_type": "code",
   "execution_count": 1,
   "metadata": {},
   "outputs": [],
   "source": [
    "## imports\n",
    "from qiskit import *\n",
    "from qiskit.algorithms import *\n",
    "from qiskit import QuantumRegister, ClassicalRegister, QuantumCircuit\n",
    "from qiskit import quantum_info, IBMQ, Aer\n",
    "from qiskit import BasicAer\n",
    "from qiskit.utils import QuantumInstance\n",
    "# backend = BasicAer.get_backend(\"statevector_simulator\")\n",
    "# quantum_instance = QuantumInstance(backend)\n",
    "from qiskit.algorithms import AmplitudeEstimation\n",
    "#from qiskit.ignis.verification.tomography import state_tomography_circuits, StateTomographyFitter\n",
    "from qiskit.visualization import plot_histogram, plot_state_qsphere, plot_bloch_multivector, plot_bloch_vector\n",
    "import numpy as np\n",
    "from numpy import pi\n",
    "import seaborn as sns\n",
    "from IPython.display import Image\n",
    "import matplotlib.pyplot as plt\n"
   ]
  },
  {
   "cell_type": "code",
   "execution_count": 2,
   "metadata": {},
   "outputs": [],
   "source": [
    "# setup simulator using IBM_id\n",
    "# IBMQ.save_account(\"1c62e8a0d2b058d0e797db9c811bc34582df5553e25812301cd1518662c0ab68d2378ac6c197b65f8be944d04b7e7439f034e3926a44fa8088538b3d13782c1a\", overwrite= True)\n",
    "provider = IBMQ.load_account()\n",
    "IBMQ.get_provider(hub='ibm-q-education', group='iit-madras-1', project='quantum-computin')\n",
    "# setup required backends \n",
    "lima = provider.get_backend('ibmq_lima')\n",
    "manila = provider.get_backend('ibmq_manila')\n",
    "qsm_simulator = Aer.get_backend('qasm_simulator')\n",
    "stv_simulator = Aer.get_backend('statevector_simulator')\n",
    "aer = Aer.get_backend('aer_simulator')\n"
   ]
  },
  {
   "cell_type": "markdown",
   "metadata": {},
   "source": [
    "## Grover Search and Quantum Amplitude Estimation \n",
    "\n",
    "Here we will illustrate some of the nice application of Grover's search algorithm into pattern matching and Quantum Amplitude Estimation. We assume that the reader is familiar with some basic understanding of Grover's algorithm, a nice and detailed introduction can be found here https://qiskit.org/textbook/ch-algorithms/grover.html. "
   ]
  },
  {
   "cell_type": "markdown",
   "metadata": {},
   "source": [
    "## GroverSearch \n",
    "\n",
    "\n",
    "\n",
    "The basic idea of Grover's search is to find a particular element (** a ket), say $\\ket{s}$, among all possible states $\\{\\ket{b}\\}$, usually we choose $\\{\\ket{b}\\}$ to be the computational basis states and so is $\\ket{s}$.\n",
    "This is accomplished using an Oracle operator $\\textbf{O}$ and a Diffuser operator $\\textbf{D}$ such that repeated application of both of them amplifies the probability of the state $\\ket{s}$, which then could be retrieved by simply measuring the qubits in computational basis state.\n",
    "\n",
    "Simply put, \n",
    "$\\begin{equation}\n",
    "\\mathbf{G}\\mathbf{G}\\mathbf{G}..\\mathbf{G} \\ket{\\psi_{0}} \\approx \\ket{s}\n",
    "\\end{equation}$ where $\\mathbf{G}$ is the Grover operator defined as $\\mathbf{G} = \\mathbf{DO}$ and $\\ket{\\psi_0}$ is initialized at the equal superpostion state."
   ]
  },
  {
   "cell_type": "markdown",
   "metadata": {},
   "source": [
    "The action of the oracle operator $\\textbf{O}$ is to reflect a state $\\ket{\\psi}$ about the good states ( here $\\ket{s}$) : $ \\mathbf{O} = \\mathbb{I} - \\ket{s}\\bra{s} $ and the action of the diffuser operator is to reflect a state about the initial state : $ \\mathbf{D} = \\mathbb{I} - \\ket{\\psi_0}\\bra{\\psi_0} $"
   ]
  },
  {
   "cell_type": "code",
   "execution_count": 3,
   "metadata": {},
   "outputs": [],
   "source": [
    "## sub-routines for Grover Search ~\n",
    "def to_oracle(pattern, name= 'oracle'):\n",
    "    \"\"\" Convert a given pattern to an oracle\n",
    "        input: pattern= a numpy vector with binarry entries \n",
    "        output: oracle.Gate    \"\"\"\n",
    "\n",
    "    l = len(pattern)\n",
    "    qr = QuantumRegister(l, name='reg')\n",
    "    a = AncillaRegister(1, name='ancilla')\n",
    "    qc = QuantumCircuit(qr, a, name= name+str(pattern))\n",
    "    for q in range(l):\n",
    "        if(pattern[q]==0): qc.x(qr[q])\n",
    "    qc.x(a)\n",
    "    qc.h(a)\n",
    "    qc.mcx(qr, a)\n",
    "    qc.h(a)\n",
    "    qc.x(a)\n",
    "    for q in range(l):\n",
    "        if(pattern[q]==0): qc.x(qr[q])\n",
    "    #qc.barrier()\n",
    "    return qc.to_gate()\n",
    "\n",
    "def diffuser(l):\n",
    "    \"\"\" Gnerate the Diffuser operator for the case where the initial state  is \n",
    "        the equal superposition state of all basis vectors \n",
    "        input: l= no. of qubits\n",
    "        output: diffuser.Gate    \"\"\"\n",
    "    qr = QuantumRegister(l, name='reg')\n",
    "    a = AncillaRegister(1, name='ancilla')\n",
    "    circuit = QuantumCircuit(qr, a, name= 'Diff.')\n",
    "    \n",
    "    circuit.h(qr)\n",
    "    circuit.x(qr)\n",
    "    \n",
    "    circuit.x(a)\n",
    "    circuit.h(a)\n",
    "    circuit.mcx(qr ,a)\n",
    "    circuit.h(a)\n",
    "    circuit.x(a)\n",
    "\n",
    "    circuit.x(qr)\n",
    "    circuit.h(qr)\n",
    "          \n",
    "    return circuit.to_gate()\n",
    "\n",
    "def grover_iterate(qc, oracles, diffuser, qreg_u, ancilla, steps):\n",
    "    \"\"\" Run full Grover iteration for given number of steps.\n",
    "        input:\n",
    "        qc: QuantumCiruit to append to \n",
    "        oracles: a list of oracles generated from 'to_oracle()' function \n",
    "        diffuser: a diffuser from 'diffuser()' function \n",
    "        steps: no. of grover iterates\"\"\"\n",
    "    for step in range(steps):\n",
    "        for oracle in oracles:\n",
    "            qc.append(oracle, list(range(qc.num_qubits)) )\n",
    "        qc.append(diffuser, list([q for q in qreg_u])+ list(ancilla) )\n",
    "        # qc.barrier()\n",
    "    return qc\n"
   ]
  },
  {
   "cell_type": "code",
   "execution_count": 4,
   "metadata": {},
   "outputs": [],
   "source": [
    "def run(patterns, grover_steps ):\n",
    "    \n",
    "    dim = len(patterns[0])\n",
    "    # create oracles ~\\\n",
    "    oracles = []\n",
    "    for pattern in patterns : oracles.append( to_oracle(pattern)) \n",
    "    \n",
    "    # create diffuser ~\\\n",
    "    diff = diffuser(dim)\n",
    "    # create circuit ~\\\n",
    "    \n",
    "    qreg = QuantumRegister(dim, name= 'init')\n",
    "    ancilla = AncillaRegister(1, name='ancilla')\n",
    "    creg = ClassicalRegister(dim)\n",
    "    qc = QuantumCircuit(qreg, creg, ancilla)\n",
    "    qc.h(qreg)\n",
    "    # run grover update steps ~\\\n",
    "    grover_iterate(qc, oracles, diff, qreg, ancilla,grover_steps)\n",
    "    qc.measure(qreg, creg)\n",
    "    \n",
    "    job = execute(qc, backend= aer, shots= 1024)\n",
    "    plot_histogram(job.result().get_counts())\n",
    "    \n",
    "    return qc, job\n"
   ]
  },
  {
   "cell_type": "markdown",
   "metadata": {},
   "source": [
    "Here is an simple example of using Grover' algorithm to retrieve a given set of 3-bit patterns from an equal superposition of the basis states. \n",
    "\n",
    "The 'patterns' to be stored are stored below, you can change them to any other possible binary string of your choice ; )"
   ]
  },
  {
   "cell_type": "code",
   "execution_count": 6,
   "metadata": {},
   "outputs": [],
   "source": [
    "patterns = [[0,1,1],[0,1,0],[0,0,0]]"
   ]
  },
  {
   "cell_type": "markdown",
   "metadata": {},
   "source": [
    "Run a single iteration of the Grover search algorithm, you can change the number by tweaking the 'steps' in the argument of the function ; )"
   ]
  },
  {
   "cell_type": "code",
   "execution_count": 7,
   "metadata": {},
   "outputs": [
    {
     "data": {
      "text/html": [
       "<pre style=\"word-wrap: normal;white-space: pre;background: #fff0;line-height: 1.1;font-family: &quot;Courier New&quot;,Courier,monospace\">         ┌───┐┌──────────────────┐┌──────────────────┐┌──────────────────┐»\n",
       " init_0: ┤ H ├┤0                 ├┤0                 ├┤0                 ├»\n",
       "         ├───┤│                  ││                  ││                  │»\n",
       " init_1: ┤ H ├┤1                 ├┤1                 ├┤1                 ├»\n",
       "         ├───┤│  oracle[0, 1, 1] ││  oracle[0, 1, 0] ││  oracle[0, 0, 0] │»\n",
       " init_2: ┤ H ├┤2                 ├┤2                 ├┤2                 ├»\n",
       "         └───┘│                  ││                  ││                  │»\n",
       "ancilla: ─────┤3                 ├┤3                 ├┤3                 ├»\n",
       "              └──────────────────┘└──────────────────┘└──────────────────┘»\n",
       "   c0: 3/═════════════════════════════════════════════════════════════════»\n",
       "                                                                          »\n",
       "«         ┌────────┐┌─┐      \n",
       "« init_0: ┤0       ├┤M├──────\n",
       "«         │        │└╥┘┌─┐   \n",
       "« init_1: ┤1       ├─╫─┤M├───\n",
       "«         │  Diff. │ ║ └╥┘┌─┐\n",
       "« init_2: ┤2       ├─╫──╫─┤M├\n",
       "«         │        │ ║  ║ └╥┘\n",
       "«ancilla: ┤3       ├─╫──╫──╫─\n",
       "«         └────────┘ ║  ║  ║ \n",
       "«   c0: 3/═══════════╩══╩══╩═\n",
       "«                    0  1  2 </pre>"
      ],
      "text/plain": [
       "         ┌───┐┌──────────────────┐┌──────────────────┐┌──────────────────┐»\n",
       " init_0: ┤ H ├┤0                 ├┤0                 ├┤0                 ├»\n",
       "         ├───┤│                  ││                  ││                  │»\n",
       " init_1: ┤ H ├┤1                 ├┤1                 ├┤1                 ├»\n",
       "         ├───┤│  oracle[0, 1, 1] ││  oracle[0, 1, 0] ││  oracle[0, 0, 0] │»\n",
       " init_2: ┤ H ├┤2                 ├┤2                 ├┤2                 ├»\n",
       "         └───┘│                  ││                  ││                  │»\n",
       "ancilla: ─────┤3                 ├┤3                 ├┤3                 ├»\n",
       "              └──────────────────┘└──────────────────┘└──────────────────┘»\n",
       "   c0: 3/═════════════════════════════════════════════════════════════════»\n",
       "                                                                          »\n",
       "«         ┌────────┐┌─┐      \n",
       "« init_0: ┤0       ├┤M├──────\n",
       "«         │        │└╥┘┌─┐   \n",
       "« init_1: ┤1       ├─╫─┤M├───\n",
       "«         │  Diff. │ ║ └╥┘┌─┐\n",
       "« init_2: ┤2       ├─╫──╫─┤M├\n",
       "«         │        │ ║  ║ └╥┘\n",
       "«ancilla: ┤3       ├─╫──╫──╫─\n",
       "«         └────────┘ ║  ║  ║ \n",
       "«   c0: 3/═══════════╩══╩══╩═\n",
       "«                    0  1  2 "
      ]
     },
     "execution_count": 7,
     "metadata": {},
     "output_type": "execute_result"
    }
   ],
   "source": [
    "steps= 1\n",
    "circuit, job = run(patterns,steps)\n",
    "circuit.draw()"
   ]
  },
  {
   "cell_type": "markdown",
   "metadata": {},
   "source": [
    "NB: Note that the oracle for each pattern is independent of each other and the particular order in which they are appended to the circuit is irrelevant for our purpose!"
   ]
  },
  {
   "cell_type": "markdown",
   "metadata": {},
   "source": [
    "Let's plot the result of the measurements !"
   ]
  },
  {
   "cell_type": "code",
   "execution_count": 8,
   "metadata": {},
   "outputs": [
    {
     "data": {
      "image/png": "[encoded data removed]",
      "text/plain": [
       "<Figure size 504x360 with 1 Axes>"
      ]
     },
     "execution_count": 8,
     "metadata": {},
     "output_type": "execute_result"
    }
   ],
   "source": [
    "plot_histogram(job.result().get_counts())    "
   ]
  },
  {
   "cell_type": "markdown",
   "metadata": {},
   "source": [
    "And Et Voila! we can see that the strings corresponding to our patterns occur with higher probability !"
   ]
  },
  {
   "cell_type": "markdown",
   "metadata": {},
   "source": [
    "## QAE based on Quantum Phase Estimation"
   ]
  },
  {
   "cell_type": "markdown",
   "metadata": {},
   "source": [
    "Now we move on to do Quantum Amplitude Estimation using QPE, an introduction to QPE can be found here https://learn.qiskit.org/course/ch-algorithms/quantum-phase-estimation."
   ]
  },
  {
   "cell_type": "markdown",
   "metadata": {},
   "source": [
    "As we saw in the previous section on grover's algorithm there are some 'good' states we seek (like $\\ket{s}$) and others 'bad' states that we don't, and usually any arbitrary state is a n weighted mixture of both kind of this states, as such\n",
    "$$\n",
    "    \\ket{\\psi_0} = \\sqrt{a}\\ket{good} + \\sqrt{1-a}\\ket{bad}\n",
    "$$\n",
    "\n",
    " The objective of QAE is to provide a numerical estimate of the coeffcient 'a', this is usually done in two steps, the first step involves amplifying the amplitude corresponding to the $\\ket{good}$ states by using the Grover operators described in the last section and in the second step we estimate the amplitude by using the Quantum Phase Estimation algorithm. \n"
   ]
  },
  {
   "cell_type": "code",
   "execution_count": 10,
   "metadata": {},
   "outputs": [],
   "source": [
    "## sub-routines for QPE ~\n",
    "def crot(qc, l):\n",
    "    \"\"\" Function to generate Controlled Rotation Ooeration  \"\"\"\n",
    "    if l == 0:\n",
    "        return qc\n",
    "    l = l-1\n",
    "    qc.h(l)\n",
    "    for q in range(l):\n",
    "        qc.cp(pi/2**(l-q), q, l)\n",
    "    #qc.barrier()\n",
    "    # qc.draw()\n",
    "    \n",
    "def QFT(qc):\n",
    "   \"\"\"function to generate QFT circuit \"\"\"\n",
    "   dim = qc.num_qubits\n",
    "   for q in range(dim):\n",
    "      crot(qc, dim-q)\n",
    "   for q in range(int(dim/2)):\n",
    "      qc.swap(q, dim-q-1)\n",
    "\n",
    "   #qc.draw()\n",
    "   return qc\n",
    "   "
   ]
  },
  {
   "cell_type": "code",
   "execution_count": 9,
   "metadata": {},
   "outputs": [],
   "source": [
    "## modified sub-routine for grover ~\n",
    "## Based on the 'grover_iterate()' function defined earlier\n",
    "def grover(patterns, grover_steps):\n",
    "    \n",
    "    dim = len(patterns[0])\n",
    "    \n",
    "    # create oracles ~\\\n",
    "    oracles = []\n",
    "    for pattern in patterns : oracles.append( to_oracle(pattern)) \n",
    "    \n",
    "    # create diffuser ~\\\n",
    "    diff = diffuser(dim)\n",
    "\n",
    "    # create circuit ~\\\n",
    "    qreg = QuantumRegister(dim, name= 'init')\n",
    "    ancilla = AncillaRegister(1, name='ancilla')\n",
    "    qc = QuantumCircuit(qreg, ancilla, name='grover'+'^'+str(grover_steps))\n",
    "    qc = grover_iterate(qc, oracles, diff, qreg, ancilla,grover_steps)\n",
    "  \n",
    "    return qc"
   ]
  },
  {
   "cell_type": "markdown",
   "metadata": {},
   "source": [
    "## 1 Qubit Example  :\n"
   ]
  },
  {
   "cell_type": "markdown",
   "metadata": {},
   "source": [
    "Say we have a single qubit state $ \\ket{\\psi_{0}} = \\sqrt{p} \\ket{1} + \\sqrt{1-p} \\ket{0} $ and we are interested in nuemrically estimating the amplitude of $\\ket{1}$ i.e 'a'.\n",
    "We can have, $\\sqrt{p} = sin(\\frac{\\theta}{2})$ and $\\sqrt{1-p} = cos(\\frac{\\theta}{2})\\\\$ \n",
    "Then the amplitude amplification process requires operator\n",
    "$\\begin{equation}\n",
    "    \\mathcal{Q} = -\\mathcal{S}_{\\ket{\\psi_0}} \\mathcal{S}_{\\ket{1}}\n",
    "\\end{equation}$\n",
    "where, $\\mathcal{S}_{\\ket{\\psi_0}} and \\mathcal{S}_{\\ket{1}}$ are reflection operators about $\\ket{\\psi_0}$ and $\\ket{1}$ respectively $\\\\$\n",
    "As, \n",
    "$\\mathcal{S}_{\\ket{\\psi_0}} = R_y(\\theta)$, and $\\mathcal{S}_{\\ket{\\psi_0}} = \\mathbb{I} - \\ket{1}\\bra{1}$, a simple algebra leads us to \n",
    "$\\mathcal{Q} = cos(\\theta) (\\ket{0}\\bra{0} + \\ket{1}\\bra{1}) + sin(\\theta) (\\ket{0}\\bra{1} - \\ket{1}\\bra{0}) = R_{y}(2\\theta) \\\\ $\n",
    " \n"
   ]
  },
  {
   "cell_type": "markdown",
   "metadata": {},
   "source": [
    "Here we define some functions that would implement the state preparation $\\ket{\\psi_0}$ and grover operator $\\textbf{G}$"
   ]
  },
  {
   "cell_type": "code",
   "execution_count": 11,
   "metadata": {},
   "outputs": [],
   "source": [
    "## operator preparation ~\n",
    "def s_psi0(p):\n",
    "    \"\"\" Prepare a QuantumCircuit that intiates a state required\n",
    "        input:\n",
    "            p= amplitude \n",
    "        output:\n",
    "            s_psi0 gate                                            \"\"\"\n",
    "    qc = QuantumCircuit(1, name= \" S_psi0 \")\n",
    "    theta = 2*np.arcsin(np.sqrt(p))\n",
    "    qc.ry(theta, 0)\n",
    "\n",
    "    return qc.to_gate()\n",
    "\n",
    "def Q(p, power):\n",
    "    \"\"\" Prepare an Gate to implement 'Q^power' operator\n",
    "        input:\n",
    "            p= amplitude\n",
    "            power= no.of times 'Q' is imposed\n",
    "        output:\n",
    "            Q gate\"\"\"\n",
    "    theta = 2*np.arcsin(np.sqrt(p))\n",
    "    qc = QuantumCircuit(1, name= ' Q'+ '^'+ str(power) )\n",
    "    qc.ry(2*theta*power, 0)\n",
    "\n",
    "    return qc.to_gate()\n",
    "    "
   ]
  },
  {
   "cell_type": "markdown",
   "metadata": {},
   "source": [
    "Next let's set the 'p' value of your choice for the state preparation, and also choose the 'precision' of the QPE algorithm to generate the full implementation of the QAE algorithm."
   ]
  },
  {
   "cell_type": "code",
   "execution_count": 20,
   "metadata": {},
   "outputs": [
    {
     "data": {
      "text/html": [
       "<pre style=\"word-wrap: normal;white-space: pre;background: #fff0;line-height: 1.1;font-family: &quot;Courier New&quot;,Courier,monospace\">                  ┌───┐     ░                                  ░ ┌─────────┐\n",
       "precision_q_0: ───┤ H ├─────░────■─────────────────────────────░─┤0        ├\n",
       "                  ├───┤     ░    │                             ░ │         │\n",
       "precision_q_1: ───┤ H ├─────░────┼───────■─────────────────────░─┤1        ├\n",
       "                  ├───┤     ░    │       │                     ░ │  QFT_dg │\n",
       "precision_q_2: ───┤ H ├─────░────┼───────┼───────■─────────────░─┤2        ├\n",
       "                  ├───┤     ░    │       │       │             ░ │         │\n",
       "precision_q_3: ───┤ H ├─────░────┼───────┼───────┼───────■─────░─┤3        ├\n",
       "               ┌──┴───┴───┐ ░ ┌──┴───┐┌──┴───┐┌──┴───┐┌──┴───┐ ░ └─────────┘\n",
       "         qreg: ┤  S_psi0  ├─░─┤  Q^1 ├┤  Q^2 ├┤  Q^4 ├┤  Q^8 ├─░────────────\n",
       "               └──────────┘ ░ └──────┘└──────┘└──────┘└──────┘ ░            \n",
       "precision_c: 4/═════════════════════════════════════════════════════════════\n",
       "                                                                            </pre>"
      ],
      "text/plain": [
       "                  ┌───┐     ░                                  ░ ┌─────────┐\n",
       "precision_q_0: ───┤ H ├─────░────■─────────────────────────────░─┤0        ├\n",
       "                  ├───┤     ░    │                             ░ │         │\n",
       "precision_q_1: ───┤ H ├─────░────┼───────■─────────────────────░─┤1        ├\n",
       "                  ├───┤     ░    │       │                     ░ │  QFT_dg │\n",
       "precision_q_2: ───┤ H ├─────░────┼───────┼───────■─────────────░─┤2        ├\n",
       "                  ├───┤     ░    │       │       │             ░ │         │\n",
       "precision_q_3: ───┤ H ├─────░────┼───────┼───────┼───────■─────░─┤3        ├\n",
       "               ┌──┴───┴───┐ ░ ┌──┴───┐┌──┴───┐┌──┴───┐┌──┴───┐ ░ └─────────┘\n",
       "         qreg: ┤  S_psi0  ├─░─┤  Q^1 ├┤  Q^2 ├┤  Q^4 ├┤  Q^8 ├─░────────────\n",
       "               └──────────┘ ░ └──────┘└──────┘└──────┘└──────┘ ░            \n",
       "precision_c: 4/═════════════════════════════════════════════════════════════\n",
       "                                                                            "
      ]
     },
     "execution_count": 20,
     "metadata": {},
     "output_type": "execute_result"
    }
   ],
   "source": [
    "## set p ~\n",
    "p = 0.85\n",
    "\n",
    "## set precision ~\n",
    "precision = 4\n",
    "\n",
    "## generate the Quantum Circuit ~\n",
    "preg = QuantumRegister(precision, name= 'precision_q')\n",
    "qreg = QuantumRegister(1, name='qreg')\n",
    "creg = ClassicalRegister(precision, name='precision_c')\n",
    "qc = QuantumCircuit(preg,qreg, creg)\n",
    "\n",
    "qc.h(preg)\n",
    "qc.append(s_psi0(p), [precision] )\n",
    "qc.barrier()\n",
    "for q in range(precision):\n",
    "    qc.append(Q(p,2**q).control(1), [q]+list(range(precision,precision+1)) )\n",
    "\n",
    "qftgate_inv = QFT(QuantumCircuit(precision, name='QFT')).to_gate().inverse()\n",
    "qc.barrier()\n",
    "qc.append(qftgate_inv, list(range(precision)))\n",
    "\n",
    "\n",
    "qc.draw()"
   ]
  },
  {
   "cell_type": "markdown",
   "metadata": {},
   "source": [
    "All that is left now is to measure the precision qubits!"
   ]
  },
  {
   "cell_type": "code",
   "execution_count": 21,
   "metadata": {},
   "outputs": [],
   "source": [
    "qc.measure(preg, creg)\n",
    "job = execute(qc, backend= aer, shots= 2000)\n",
    "counts = job.result().get_counts()\n",
    "# counts"
   ]
  },
  {
   "cell_type": "markdown",
   "metadata": {},
   "source": [
    "and plot em'"
   ]
  },
  {
   "cell_type": "code",
   "execution_count": 22,
   "metadata": {},
   "outputs": [
    {
     "data": {
      "image/png": "[encoded data removed]",
      "text/plain": [
       "<Figure size 504x360 with 1 Axes>"
      ]
     },
     "execution_count": 22,
     "metadata": {},
     "output_type": "execute_result"
    }
   ],
   "source": [
    "plot_histogram(counts)"
   ]
  },
  {
   "cell_type": "markdown",
   "metadata": {},
   "source": [
    "We can see that the distributions is symmetric about the $\\ket{0001}$ state, this follows from the periodicity of the sine function. Next we calculate 'p' from the best estimates from our measurements\n"
   ]
  },
  {
   "cell_type": "code",
   "execution_count": 23,
   "metadata": {},
   "outputs": [
    {
     "name": "stdout",
     "output_type": "stream",
     "text": [
      "p =  0.8535533905932737\n",
      "p =  0.8535533905932737\n"
     ]
    }
   ],
   "source": [
    "no_estimates= 2\n",
    "estimate = sorted(zip(counts.values(), counts.keys()), reverse= True)\n",
    "for p in range(no_estimates): print('p = ',(np.sin(int(estimate[p][1], 2)*pi/(2**precision)))**2 )"
   ]
  },
  {
   "cell_type": "markdown",
   "metadata": {},
   "source": [
    "We obtain a pretty close approximation of 'p' = 0.853 from the two sgnificant peaks in the histogram. You can try setting up a different 'no_estimates' or 'precision' for a better result !"
   ]
  },
  {
   "cell_type": "markdown",
   "metadata": {},
   "source": [
    "Next we extend our implementation to multi-qubit case !"
   ]
  },
  {
   "cell_type": "markdown",
   "metadata": {},
   "source": [
    "## Generalised Multi-Qubit QAE"
   ]
  },
  {
   "cell_type": "markdown",
   "metadata": {},
   "source": [
    "For the multi qubit case consider a n-qubit system, such that some of its computational basis state are marked 'good' while others are marked 'bad' states as mentioned in the descussion above. \n",
    "Then if we start with an equal superposition state, then the initial state can be expressed as \n",
    "$\\begin{equation}\n",
    "    \\ket{\\psi_0} = \\sqrt{\\frac{M}{N}}\\ket{bad} + \\sqrt{\\frac{N-M}{N}}\\ket{good}\n",
    "\\end{equation}$\n",
    "where $N = 2^n$ is the no. of computational basis states and $M$ is the no. of 'good' states.$\\\\$\n",
    "Our aim here is to estimate the number of 'good' states $\\frac{M}{N}$ using QPE as proposed by Brassard et al ('96) $\\\\$\n",
    "As before we assume,\n",
    "$\\begin{align}\n",
    "    \\sqrt{\\frac{M}{N}} = cos(\\frac{\\theta}{2}) \\\\\n",
    "    \\sqrt{\\frac{N-M}{N}} = sin(\\frac{\\theta}{2})\n",
    "\\end{align}$ \n",
    "and then QPE to estimate the coeffcient of $\\ket{good}$ states.\n",
    "\n"
   ]
  },
  {
   "cell_type": "markdown",
   "metadata": {},
   "source": [
    "As before we chose set of binary strings as our pattern "
   ]
  },
  {
   "cell_type": "code",
   "execution_count": 44,
   "metadata": {},
   "outputs": [],
   "source": [
    "# patterns = [[0,1,1],[0,1,0],[1,1,1],[1,0,1],[1,1,0],[0,0,0],[0,0,1]]\n",
    "patterns = [[0,1,1,1],[0,0,1,0],[1,0,1,1], [0,0,0,0]]\n",
    "good_states = [ ''.join([str(elem) for elem in pattern]) for pattern in patterns ]"
   ]
  },
  {
   "cell_type": "markdown",
   "metadata": {},
   "source": [
    "Since, we are using M= 4 $\\ket{good}$ states out of N= 16 possible states, so ideally we should obtain $\\frac{3}{16}$ value of 0.25"
   ]
  },
  {
   "cell_type": "markdown",
   "metadata": {},
   "source": [
    "Here we illustrate how we can use qiskit's 'EstimationProblem' and 'AmplitudeEstimation' module to estimate the amplitude !\n"
   ]
  },
  {
   "cell_type": "code",
   "execution_count": 45,
   "metadata": {},
   "outputs": [],
   "source": [
    "## using qiksit Estimation problem module\n",
    "d = len(patterns[0])\n",
    "qreg = QuantumRegister(d)\n",
    "ancilla = AncillaRegister(1)\n",
    "stateprep = QuantumCircuit(qreg, ancilla)\n",
    "stateprep.h(qreg)\n",
    "\n",
    "estimation = EstimationProblem(stateprep, [0,1,2,3], grover_operator= grover(patterns,1), is_good_state= good_states)\n",
    "precision = 5\n",
    "ae = AmplitudeEstimation(\n",
    "    num_eval_qubits=precision,  # the number of evaluation qubits specifies circuit width and accuracy\n",
    "    quantum_instance= QuantumInstance(stv_simulator) \n",
    ")\n",
    "rslt = ae.estimate(estimation)\n",
    "# rslt.estimaation, rslt.mle , 7/8"
   ]
  },
  {
   "cell_type": "code",
   "execution_count": 46,
   "metadata": {},
   "outputs": [
    {
     "data": {
      "text/plain": [
       "(0.2222149, 0.2500000093022525, 0.25)"
      ]
     },
     "execution_count": 46,
     "metadata": {},
     "output_type": "execute_result"
    }
   ],
   "source": [
    "1-rslt.estimation, 1-rslt.mle , len(patterns)/2**(len(patterns[0])) "
   ]
  },
  {
   "cell_type": "markdown",
   "metadata": {},
   "source": [
    "Next we provide implementation of the above from scratch, the basic steps are the same as before! We set the 'precsion' to our required level, prepare the intial state $\\psi_0$ by applying 'H' gates to all qubits and then simply append our QPE steps to it."
   ]
  },
  {
   "cell_type": "code",
   "execution_count": 47,
   "metadata": {},
   "outputs": [
    {
     "data": {
      "text/html": [
       "<pre style=\"word-wrap: normal;white-space: pre;background: #fff0;line-height: 1.1;font-family: &quot;Courier New&quot;,Courier,monospace\">               ┌───┐                                                    »\n",
       "precision_q_0: ┤ H ├──────■─────────────────────────────────────────────»\n",
       "               ├───┤      │                                             »\n",
       "precision_q_1: ┤ H ├──────┼────────────■────────────────────────────────»\n",
       "               ├───┤      │            │                                »\n",
       "precision_q_2: ┤ H ├──────┼────────────┼────────────■───────────────────»\n",
       "               ├───┤      │            │            │                   »\n",
       "precision_q_3: ┤ H ├──────┼────────────┼────────────┼────────────■──────»\n",
       "               ├───┤      │            │            │            │      »\n",
       "precision_q_4: ┤ H ├──────┼────────────┼────────────┼────────────┼──────»\n",
       "               ├───┤┌─────┴─────┐┌─────┴─────┐┌─────┴─────┐┌─────┴─────┐»\n",
       "       qreg_0: ┤ H ├┤0          ├┤0          ├┤0          ├┤0          ├»\n",
       "               ├───┤│           ││           ││           ││           │»\n",
       "       qreg_1: ┤ H ├┤1          ├┤1          ├┤1          ├┤1          ├»\n",
       "               ├───┤│           ││           ││           ││           │»\n",
       "       qreg_2: ┤ H ├┤2 grover^1 ├┤2 grover^2 ├┤2 grover^4 ├┤2 grover^8 ├»\n",
       "               ├───┤│           ││           ││           ││           │»\n",
       "       qreg_3: ┤ H ├┤3          ├┤3          ├┤3          ├┤3          ├»\n",
       "               └───┘│           ││           ││           ││           │»\n",
       "      ancilla: ─────┤4          ├┤4          ├┤4          ├┤4          ├»\n",
       "                    └───────────┘└───────────┘└───────────┘└───────────┘»\n",
       " precison_c: 5/═════════════════════════════════════════════════════════»\n",
       "                                                                        »\n",
       "«                              ░ ┌─────────┐\n",
       "«precision_q_0: ───────────────░─┤0        ├\n",
       "«                              ░ │         │\n",
       "«precision_q_1: ───────────────░─┤1        ├\n",
       "«                              ░ │         │\n",
       "«precision_q_2: ───────────────░─┤2 QFT_dg ├\n",
       "«                              ░ │         │\n",
       "«precision_q_3: ───────────────░─┤3        ├\n",
       "«                              ░ │         │\n",
       "«precision_q_4: ──────■────────░─┤4        ├\n",
       "«               ┌─────┴──────┐ ░ └─────────┘\n",
       "«       qreg_0: ┤0           ├─░────────────\n",
       "«               │            │ ░            \n",
       "«       qreg_1: ┤1           ├─░────────────\n",
       "«               │            │ ░            \n",
       "«       qreg_2: ┤2 grover^16 ├─░────────────\n",
       "«               │            │ ░            \n",
       "«       qreg_3: ┤3           ├─░────────────\n",
       "«               │            │ ░            \n",
       "«      ancilla: ┤4           ├─░────────────\n",
       "«               └────────────┘ ░            \n",
       "« precison_c: 5/════════════════════════════\n",
       "«                                           </pre>"
      ],
      "text/plain": [
       "               ┌───┐                                                    »\n",
       "precision_q_0: ┤ H ├──────■─────────────────────────────────────────────»\n",
       "               ├───┤      │                                             »\n",
       "precision_q_1: ┤ H ├──────┼────────────■────────────────────────────────»\n",
       "               ├───┤      │            │                                »\n",
       "precision_q_2: ┤ H ├──────┼────────────┼────────────■───────────────────»\n",
       "               ├───┤      │            │            │                   »\n",
       "precision_q_3: ┤ H ├──────┼────────────┼────────────┼────────────■──────»\n",
       "               ├───┤      │            │            │            │      »\n",
       "precision_q_4: ┤ H ├──────┼────────────┼────────────┼────────────┼──────»\n",
       "               ├───┤┌─────┴─────┐┌─────┴─────┐┌─────┴─────┐┌─────┴─────┐»\n",
       "       qreg_0: ┤ H ├┤0          ├┤0          ├┤0          ├┤0          ├»\n",
       "               ├───┤│           ││           ││           ││           │»\n",
       "       qreg_1: ┤ H ├┤1          ├┤1          ├┤1          ├┤1          ├»\n",
       "               ├───┤│           ││           ││           ││           │»\n",
       "       qreg_2: ┤ H ├┤2 grover^1 ├┤2 grover^2 ├┤2 grover^4 ├┤2 grover^8 ├»\n",
       "               ├───┤│           ││           ││           ││           │»\n",
       "       qreg_3: ┤ H ├┤3          ├┤3          ├┤3          ├┤3          ├»\n",
       "               └───┘│           ││           ││           ││           │»\n",
       "      ancilla: ─────┤4          ├┤4          ├┤4          ├┤4          ├»\n",
       "                    └───────────┘└───────────┘└───────────┘└───────────┘»\n",
       " precison_c: 5/═════════════════════════════════════════════════════════»\n",
       "                                                                        »\n",
       "«                              ░ ┌─────────┐\n",
       "«precision_q_0: ───────────────░─┤0        ├\n",
       "«                              ░ │         │\n",
       "«precision_q_1: ───────────────░─┤1        ├\n",
       "«                              ░ │         │\n",
       "«precision_q_2: ───────────────░─┤2 QFT_dg ├\n",
       "«                              ░ │         │\n",
       "«precision_q_3: ───────────────░─┤3        ├\n",
       "«                              ░ │         │\n",
       "«precision_q_4: ──────■────────░─┤4        ├\n",
       "«               ┌─────┴──────┐ ░ └─────────┘\n",
       "«       qreg_0: ┤0           ├─░────────────\n",
       "«               │            │ ░            \n",
       "«       qreg_1: ┤1           ├─░────────────\n",
       "«               │            │ ░            \n",
       "«       qreg_2: ┤2 grover^16 ├─░────────────\n",
       "«               │            │ ░            \n",
       "«       qreg_3: ┤3           ├─░────────────\n",
       "«               │            │ ░            \n",
       "«      ancilla: ┤4           ├─░────────────\n",
       "«               └────────────┘ ░            \n",
       "« precison_c: 5/════════════════════════════\n",
       "«                                           "
      ]
     },
     "execution_count": 47,
     "metadata": {},
     "output_type": "execute_result"
    }
   ],
   "source": [
    "## implementation from scratch ~\n",
    "precision = 5 \n",
    "preg = QuantumRegister(precision, name='precision_q')\n",
    "qreg = QuantumRegister(4,name='qreg')\n",
    "ancilla = AncillaRegister(1, name='ancilla')\n",
    "creg = ClassicalRegister(precision, name='precison_c')\n",
    "\n",
    "qc = QuantumCircuit(preg, qreg, ancilla, creg)\n",
    "\n",
    "qc.h(preg)\n",
    "qc.h(qreg)\n",
    "for q in range(precision):\n",
    "    qc.append(grover(patterns,2**q).to_gate().control(1), [q]+list(range(precision,precision+5)) )\n",
    "\n",
    "qftgate_inv = QFT(QuantumCircuit(precision, name='QFT')).to_gate().inverse()\n",
    "qc.barrier()\n",
    "qc.append(qftgate_inv, list(range(precision)))\n",
    "\n",
    "qc.decompose(gates_to_decompose= ['grover^1']).draw()\n"
   ]
  },
  {
   "cell_type": "markdown",
   "metadata": {},
   "source": [
    "And measure and plot the outcomes...."
   ]
  },
  {
   "cell_type": "code",
   "execution_count": 48,
   "metadata": {},
   "outputs": [],
   "source": [
    "qc.measure(preg, creg)\n",
    "job = execute(qc, backend= aer, shots= 2000)\n",
    "counts = job.result().get_counts()\n",
    "# counts"
   ]
  },
  {
   "cell_type": "code",
   "execution_count": 49,
   "metadata": {},
   "outputs": [
    {
     "data": {
      "image/png": "[encoded data removed]",
      "text/plain": [
       "<Figure size 504x360 with 1 Axes>"
      ]
     },
     "execution_count": 49,
     "metadata": {},
     "output_type": "execute_result"
    }
   ],
   "source": [
    "plot_histogram(counts)"
   ]
  },
  {
   "cell_type": "markdown",
   "metadata": {},
   "source": [
    ".. and estimate the value $\\frac{M}{N}$.."
   ]
  },
  {
   "cell_type": "code",
   "execution_count": 50,
   "metadata": {},
   "outputs": [
    {
     "name": "stdout",
     "output_type": "stream",
     "text": [
      "M/N =  0.2222148834901988\n",
      "M/N =  0.22221488349019902\n",
      "M/N =  0.30865828381745475\n",
      "M/N =  0.3086582838174551\n"
     ]
    }
   ],
   "source": [
    "estimate = sorted(zip(counts.values(), counts.keys()), reverse= True)\n",
    "for p in range(4): print('M/N = ',1-(np.sin(int(estimate[p][1], 2)*pi/(2**precision)))**2 )"
   ]
  },
  {
   "cell_type": "markdown",
   "metadata": {},
   "source": [
    "The best estimate is around $M/N \\approx 0.22 $ giving $ M \\approx 3.5 $, which is pretty close to the actual value of $ M = 4 $! Try tweaking the 'precsion' levels to get a better estimate ."
   ]
  },
  {
   "cell_type": "code",
   "execution_count": null,
   "metadata": {},
   "outputs": [],
   "source": []
  }
 ],
 "metadata": {
  "interpreter": {
   "hash": "31f2aee4e71d21fbe5cf8b01ff0e069b9275f58929596ceb00d14d90e3e16cd6"
  },
  "kernelspec": {
   "display_name": "Python 3.8.10 64-bit",
   "language": "python",
   "name": "python3"
  },
  "language_info": {
   "codemirror_mode": {
    "name": "ipython",
    "version": 3
   },
   "file_extension": ".py",
   "mimetype": "text/x-python",
   "name": "python",
   "nbconvert_exporter": "python",
   "pygments_lexer": "ipython3",
   "version": "3.10.4"
  },
  "orig_nbformat": 4
 },
 "nbformat": 4,
 "nbformat_minor": 2
}
