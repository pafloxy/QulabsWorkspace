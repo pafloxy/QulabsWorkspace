{
 "cells": [
  {
   "cell_type": "markdown",
   "metadata": {},
   "source": [
    "## Grover Search and Quantum Amplitude Estimation \n",
    "Brassard et al ('96)"
   ]
  },
  {
   "cell_type": "markdown",
   "metadata": {},
   "source": [
    "## GroverSearch Implementation"
   ]
  },
  {
   "cell_type": "code",
   "execution_count": 1,
   "metadata": {},
   "outputs": [],
   "source": [
    "## imports\n",
    "from qiskit import *\n",
    "from qiskit.algorithms import *\n",
    "from qiskit import QuantumRegister, ClassicalRegister, QuantumCircuit\n",
    "from qiskit import quantum_info, IBMQ, Aer\n",
    "from qiskit import BasicAer\n",
    "from qiskit.utils import QuantumInstance\n",
    "# backend = BasicAer.get_backend(\"statevector_simulator\")\n",
    "# quantum_instance = QuantumInstance(backend)\n",
    "from qiskit.algorithms import AmplitudeEstimation\n",
    "#from qiskit.ignis.verification.tomography import state_tomography_circuits, StateTomographyFitter\n",
    "from qiskit.visualization import plot_histogram, plot_state_qsphere, plot_bloch_multivector, plot_bloch_vector\n",
    "import numpy as np\n",
    "from numpy import pi\n",
    "import seaborn as sns\n",
    "from IPython.display import Image\n",
    "import matplotlib.pyplot as plt\n"
   ]
  },
  {
   "cell_type": "code",
   "execution_count": 2,
   "metadata": {},
   "outputs": [],
   "source": [
    "# setup simulator using IBM_id\n",
    "# IBMQ.save_account(\"1c62e8a0d2b058d0e797db9c811bc34582df5553e25812301cd1518662c0ab68d2378ac6c197b65f8be944d04b7e7439f034e3926a44fa8088538b3d13782c1a\", overwrite= True)\n",
    "provider = IBMQ.load_account()\n",
    "IBMQ.get_provider(hub='ibm-q-education', group='iit-madras-1', project='quantum-computin')\n",
    "# setup required backends \n",
    "lima = provider.get_backend('ibmq_lima')\n",
    "manila = provider.get_backend('ibmq_manila')\n",
    "qsm_simulator = Aer.get_backend('qasm_simulator')\n",
    "stv_simulator = Aer.get_backend('statevector_simulator')\n",
    "aer = Aer.get_backend('aer_simulator')\n"
   ]
  },
  {
   "cell_type": "code",
   "execution_count": 3,
   "metadata": {},
   "outputs": [],
   "source": [
    "## sub-routines for Grover Search ~\n",
    "def to_oracle(pattern, name= 'oracle'):\n",
    "    \"\"\" convert a given pattern to an oracle\n",
    "    pattern~ a numpy vector with binarry entries \"\"\"\n",
    "    l = len(pattern)\n",
    "    qr = QuantumRegister(l, name='reg')\n",
    "    a = AncillaRegister(1, name='ancilla')\n",
    "    qc = QuantumCircuit(qr, a, name= name+str(pattern))\n",
    "    for q in range(l):\n",
    "        if(pattern[q]==0): qc.x(qr[q])\n",
    "    qc.x(a)\n",
    "    qc.h(a)\n",
    "    qc.mcx(qr, a)\n",
    "    qc.h(a)\n",
    "    qc.x(a)\n",
    "    for q in range(l):\n",
    "        if(pattern[q]==0): qc.x(qr[q])\n",
    "    #qc.barrier()\n",
    "    return qc.to_gate()\n",
    "\n",
    "def diffuser(l):\n",
    "    qr = QuantumRegister(l, name='reg')\n",
    "    a = AncillaRegister(1, name='ancilla')\n",
    "    circuit = QuantumCircuit(qr, a, name= 'Diff.')\n",
    "    \n",
    "    circuit.h(qr)\n",
    "    circuit.x(qr)\n",
    "    \n",
    "    circuit.x(a)\n",
    "    circuit.h(a)\n",
    "    circuit.mcx(qr ,a)\n",
    "    circuit.h(a)\n",
    "    circuit.x(a)\n",
    "\n",
    "    circuit.x(qr)\n",
    "    circuit.h(qr)\n",
    "          \n",
    "    return circuit.to_gate()\n",
    "\n",
    "def grover_iterate(qc, oracles, diffuser, qreg_u, ancilla, steps):\n",
    "    for step in range(steps):\n",
    "        for oracle in oracles:\n",
    "            qc.append(oracle, list(range(qc.num_qubits)) )\n",
    "        qc.append(diffuser, list([q for q in qreg_u])+ list(ancilla) )\n",
    "        # qc.barrier()\n",
    "    return qc\n"
   ]
  },
  {
   "cell_type": "code",
   "execution_count": 4,
   "metadata": {},
   "outputs": [],
   "source": [
    "def run(patterns, grover_steps ):\n",
    "    \n",
    "    dim = len(patterns[0])\n",
    "    # create oracles ~\\\n",
    "    oracles = []\n",
    "    for pattern in patterns : oracles.append( to_oracle(pattern)) \n",
    "    \n",
    "    # create diffuser ~\\\n",
    "    diff = diffuser(dim)\n",
    "    # create circuit ~\\\n",
    "    \n",
    "    qreg = QuantumRegister(dim, name= 'init')\n",
    "    ancilla = AncillaRegister(1, name='ancilla')\n",
    "    creg = ClassicalRegister(dim)\n",
    "    qc = QuantumCircuit(qreg, creg, ancilla)\n",
    "    qc.h(qreg)\n",
    "    # run grover update steps ~\\\n",
    "    grover_iterate(qc, oracles, diff, qreg, ancilla,grover_steps)\n",
    "    qc.measure(qreg, creg)\n",
    "    \n",
    "    job = execute(qc, backend= aer, shots= 1024)\n",
    "    plot_histogram(job.result().get_counts())\n",
    "    \n",
    "    return qc, job\n"
   ]
  },
  {
   "cell_type": "code",
   "execution_count": 5,
   "metadata": {},
   "outputs": [],
   "source": [
    "patterns = [[0,1,1],[0,1,0],[0,0,0]]"
   ]
  },
  {
   "cell_type": "code",
   "execution_count": 6,
   "metadata": {},
   "outputs": [
    {
     "data": {
      "text/html": [
       "<pre style=\"word-wrap: normal;white-space: pre;background: #fff0;line-height: 1.1;font-family: &quot;Courier New&quot;,Courier,monospace\">         ┌───┐┌──────────────────┐┌──────────────────┐┌──────────────────┐»\n",
       " init_0: ┤ H ├┤0                 ├┤0                 ├┤0                 ├»\n",
       "         ├───┤│                  ││                  ││                  │»\n",
       " init_1: ┤ H ├┤1                 ├┤1                 ├┤1                 ├»\n",
       "         ├───┤│  oracle[0, 1, 1] ││  oracle[0, 1, 0] ││  oracle[0, 0, 0] │»\n",
       " init_2: ┤ H ├┤2                 ├┤2                 ├┤2                 ├»\n",
       "         └───┘│                  ││                  ││                  │»\n",
       "ancilla: ─────┤3                 ├┤3                 ├┤3                 ├»\n",
       "              └──────────────────┘└──────────────────┘└──────────────────┘»\n",
       "   c0: 3/═════════════════════════════════════════════════════════════════»\n",
       "                                                                          »\n",
       "«         ┌────────┐┌─┐      \n",
       "« init_0: ┤0       ├┤M├──────\n",
       "«         │        │└╥┘┌─┐   \n",
       "« init_1: ┤1       ├─╫─┤M├───\n",
       "«         │  Diff. │ ║ └╥┘┌─┐\n",
       "« init_2: ┤2       ├─╫──╫─┤M├\n",
       "«         │        │ ║  ║ └╥┘\n",
       "«ancilla: ┤3       ├─╫──╫──╫─\n",
       "«         └────────┘ ║  ║  ║ \n",
       "«   c0: 3/═══════════╩══╩══╩═\n",
       "«                    0  1  2 </pre>"
      ],
      "text/plain": [
       "         ┌───┐┌──────────────────┐┌──────────────────┐┌──────────────────┐»\n",
       " init_0: ┤ H ├┤0                 ├┤0                 ├┤0                 ├»\n",
       "         ├───┤│                  ││                  ││                  │»\n",
       " init_1: ┤ H ├┤1                 ├┤1                 ├┤1                 ├»\n",
       "         ├───┤│  oracle[0, 1, 1] ││  oracle[0, 1, 0] ││  oracle[0, 0, 0] │»\n",
       " init_2: ┤ H ├┤2                 ├┤2                 ├┤2                 ├»\n",
       "         └───┘│                  ││                  ││                  │»\n",
       "ancilla: ─────┤3                 ├┤3                 ├┤3                 ├»\n",
       "              └──────────────────┘└──────────────────┘└──────────────────┘»\n",
       "   c0: 3/═════════════════════════════════════════════════════════════════»\n",
       "                                                                          »\n",
       "«         ┌────────┐┌─┐      \n",
       "« init_0: ┤0       ├┤M├──────\n",
       "«         │        │└╥┘┌─┐   \n",
       "« init_1: ┤1       ├─╫─┤M├───\n",
       "«         │  Diff. │ ║ └╥┘┌─┐\n",
       "« init_2: ┤2       ├─╫──╫─┤M├\n",
       "«         │        │ ║  ║ └╥┘\n",
       "«ancilla: ┤3       ├─╫──╫──╫─\n",
       "«         └────────┘ ║  ║  ║ \n",
       "«   c0: 3/═══════════╩══╩══╩═\n",
       "«                    0  1  2 "
      ]
     },
     "execution_count": 6,
     "metadata": {},
     "output_type": "execute_result"
    }
   ],
   "source": [
    "circuit, job = run(patterns,1)\n",
    "circuit.draw()"
   ]
  },
  {
   "cell_type": "code",
   "execution_count": 7,
   "metadata": {},
   "outputs": [
    {
     "data": {
      "image/png": "[encoded data removed]",
      "text/plain": [
       "<Figure size 504x360 with 1 Axes>"
      ]
     },
     "execution_count": 7,
     "metadata": {},
     "output_type": "execute_result"
    }
   ],
   "source": [
    "plot_histogram(job.result().get_counts())    "
   ]
  },
  {
   "cell_type": "markdown",
   "metadata": {},
   "source": [
    "## QAE based on Quantum Phase Estimation"
   ]
  },
  {
   "cell_type": "code",
   "execution_count": 8,
   "metadata": {},
   "outputs": [],
   "source": [
    "## sub-routines for QPE ~\n",
    "def crot(qc, l):\n",
    "    if l == 0:\n",
    "        return qc\n",
    "    l = l-1\n",
    "    qc.h(l)\n",
    "    for q in range(l):\n",
    "        qc.cp(pi/2**(l-q), q, l)\n",
    "    #qc.barrier()\n",
    "    # qc.draw()\n",
    "    \n",
    "def QFT(qc):\n",
    "   \"\"\"function to generate QFT circuit \"\"\"\n",
    "   dim = qc.num_qubits\n",
    "   for q in range(dim):\n",
    "      crot(qc, dim-q)\n",
    "   for q in range(int(dim/2)):\n",
    "      qc.swap(q, dim-q-1)\n",
    "\n",
    "   #qc.draw()\n",
    "   return qc\n",
    "   "
   ]
  },
  {
   "cell_type": "code",
   "execution_count": 9,
   "metadata": {},
   "outputs": [],
   "source": [
    "## sub-routine for grover ~\n",
    "def grover(patterns, grover_steps):\n",
    "    \n",
    "    dim = len(patterns[0])\n",
    "    \n",
    "    # create oracles ~\\\n",
    "    oracles = []\n",
    "    for pattern in patterns : oracles.append( to_oracle(pattern)) \n",
    "    \n",
    "    # create diffuser ~\\\n",
    "    diff = diffuser(dim)\n",
    "\n",
    "    # create circuit ~\\\n",
    "    qreg = QuantumRegister(dim, name= 'init')\n",
    "    ancilla = AncillaRegister(1, name='ancilla')\n",
    "    qc = QuantumCircuit(qreg, ancilla, name='grover'+'^'+str(grover_steps))\n",
    "    qc = grover_iterate(qc, oracles, diff, qreg, ancilla,grover_steps)\n",
    "  \n",
    "    return qc"
   ]
  },
  {
   "cell_type": "markdown",
   "metadata": {},
   "source": [
    "## 1 qubit example : \n",
    "from https://github.com/Qiskit/qiskit-finance/blob/stable/0.3/docs/tutorials/00_amplitude_estimation.ipynb"
   ]
  },
  {
   "cell_type": "markdown",
   "metadata": {},
   "source": [
    "Given the initial state is of form~\n",
    "                    $\\begin{equation} \n",
    "                    \\ket{\\psi_0} = \\sqrt{1-p}\\ket{0} + \\sqrt{p}\\ket{1}\n",
    "                    \\end{equation}$,\n",
    "say, $\\sqrt{p} = sin(\\frac{\\theta}{2})$ and $\\sqrt{1-p} = cos(\\frac{\\theta}{2})\\\\$ \n",
    "Then the amplitude amplification process requires operator\n",
    "$\\begin{equation}\n",
    "    \\mathcal{Q} = -\\mathcal{S}_{\\ket{\\psi_0}} \\mathcal{S}_{\\ket{1}}\n",
    "\\end{equation}$\n",
    "where, $\\mathcal{S}_{\\ket{\\psi_0}} and \\mathcal{S}_{\\ket{1}}$ are reflection operators about $\\ket{\\psi_0}$ and $\\ket{1}$ respectively $\\\\$\n",
    "Now $\\mathcal{S}_{\\ket{\\psi_0}} = R_y(\\theta)$, then \n",
    " $\\mathcal{Q} = cos(\\theta) (\\ket{0}\\bra{0} + \\ket{1}\\bra{1}) + sin(\\theta) (\\ket{0}\\bra{1} - \\ket{1}\\bra{0}) = R_{y}(2\\theta) \\\\ $\n",
    " \n"
   ]
  },
  {
   "cell_type": "code",
   "execution_count": 10,
   "metadata": {},
   "outputs": [],
   "source": [
    "## set p ~\n",
    "p = 0.8\n",
    "\n",
    "## operator preparation ~\n",
    "def s_psi0(p):\n",
    "    qc = QuantumCircuit(1, name= \" S_psi0 \")\n",
    "    theta = 2*np.arcsin(np.sqrt(p))\n",
    "    qc.ry(theta, 0)\n",
    "\n",
    "    return qc.to_gate()\n",
    "def Q(p, power):\n",
    "    theta = 2*np.arcsin(np.sqrt(p))\n",
    "    qc = QuantumCircuit(1, name= ' Q'+ '^'+ str(power) )\n",
    "    qc.ry(2*theta*power, 0)\n",
    "\n",
    "    return qc.to_gate()\n",
    "    "
   ]
  },
  {
   "cell_type": "code",
   "execution_count": 11,
   "metadata": {},
   "outputs": [
    {
     "data": {
      "text/html": [
       "<pre style=\"word-wrap: normal;white-space: pre;background: #fff0;line-height: 1.1;font-family: &quot;Courier New&quot;,Courier,monospace\">                  ┌───┐     ░                                  ░ ┌─────────┐\n",
       " precisio_q_0: ───┤ H ├─────░────■─────────────────────────────░─┤0        ├\n",
       "                  ├───┤     ░    │                             ░ │         │\n",
       " precisio_q_1: ───┤ H ├─────░────┼───────■─────────────────────░─┤1        ├\n",
       "                  ├───┤     ░    │       │                     ░ │  QFT_dg │\n",
       " precisio_q_2: ───┤ H ├─────░────┼───────┼───────■─────────────░─┤2        ├\n",
       "                  ├───┤     ░    │       │       │             ░ │         │\n",
       " precisio_q_3: ───┤ H ├─────░────┼───────┼───────┼───────■─────░─┤3        ├\n",
       "               ┌──┴───┴───┐ ░ ┌──┴───┐┌──┴───┐┌──┴───┐┌──┴───┐ ░ └─────────┘\n",
       "         qreg: ┤  S_psi0  ├─░─┤  Q^1 ├┤  Q^2 ├┤  Q^4 ├┤  Q^8 ├─░────────────\n",
       "               └──────────┘ ░ └──────┘└──────┘└──────┘└──────┘ ░            \n",
       "precision_c: 4/═════════════════════════════════════════════════════════════\n",
       "                                                                            </pre>"
      ],
      "text/plain": [
       "                  ┌───┐     ░                                  ░ ┌─────────┐\n",
       " precisio_q_0: ───┤ H ├─────░────■─────────────────────────────░─┤0        ├\n",
       "                  ├───┤     ░    │                             ░ │         │\n",
       " precisio_q_1: ───┤ H ├─────░────┼───────■─────────────────────░─┤1        ├\n",
       "                  ├───┤     ░    │       │                     ░ │  QFT_dg │\n",
       " precisio_q_2: ───┤ H ├─────░────┼───────┼───────■─────────────░─┤2        ├\n",
       "                  ├───┤     ░    │       │       │             ░ │         │\n",
       " precisio_q_3: ───┤ H ├─────░────┼───────┼───────┼───────■─────░─┤3        ├\n",
       "               ┌──┴───┴───┐ ░ ┌──┴───┐┌──┴───┐┌──┴───┐┌──┴───┐ ░ └─────────┘\n",
       "         qreg: ┤  S_psi0  ├─░─┤  Q^1 ├┤  Q^2 ├┤  Q^4 ├┤  Q^8 ├─░────────────\n",
       "               └──────────┘ ░ └──────┘└──────┘└──────┘└──────┘ ░            \n",
       "precision_c: 4/═════════════════════════════════════════════════════════════\n",
       "                                                                            "
      ]
     },
     "execution_count": 11,
     "metadata": {},
     "output_type": "execute_result"
    }
   ],
   "source": [
    "precision = 4\n",
    "preg = QuantumRegister(precision, name= 'precisio_q')\n",
    "qreg = QuantumRegister(1, name='qreg')\n",
    "creg = ClassicalRegister(precision, name='precision_c')\n",
    "qc = QuantumCircuit(preg,qreg, creg)\n",
    "\n",
    "qc.h(preg)\n",
    "qc.append(s_psi0(p), [precision] )\n",
    "qc.barrier()\n",
    "for q in range(precision):\n",
    "    qc.append(Q(p,2**q).control(1), [q]+list(range(precision,precision+1)) )\n",
    "\n",
    "qftgate_inv = QFT(QuantumCircuit(precision, name='QFT')).to_gate().inverse()\n",
    "qc.barrier()\n",
    "qc.append(qftgate_inv, list(range(precision)))\n",
    "\n",
    "\n",
    "qc.draw()"
   ]
  },
  {
   "cell_type": "code",
   "execution_count": 12,
   "metadata": {},
   "outputs": [
    {
     "data": {
      "text/plain": [
       "{'1110': 7,\n",
       " '0001': 4,\n",
       " '1100': 41,\n",
       " '1011': 214,\n",
       " '0011': 19,\n",
       " '0111': 62,\n",
       " '1010': 608,\n",
       " '1101': 11,\n",
       " '0110': 652,\n",
       " '1000': 45,\n",
       " '0101': 216,\n",
       " '1001': 49,\n",
       " '0010': 14,\n",
       " '0000': 9,\n",
       " '0100': 39,\n",
       " '1111': 10}"
      ]
     },
     "execution_count": 12,
     "metadata": {},
     "output_type": "execute_result"
    }
   ],
   "source": [
    "qc.measure(preg, creg)\n",
    "job = execute(qc, backend= aer, shots= 2000)\n",
    "counts = job.result().get_counts()\n",
    "counts"
   ]
  },
  {
   "cell_type": "code",
   "execution_count": 13,
   "metadata": {},
   "outputs": [
    {
     "data": {
      "image/png": "[encoded data removed]",
      "text/plain": [
       "<Figure size 504x360 with 1 Axes>"
      ]
     },
     "execution_count": 13,
     "metadata": {},
     "output_type": "execute_result"
    }
   ],
   "source": [
    "plot_histogram(counts)"
   ]
  },
  {
   "cell_type": "code",
   "execution_count": 14,
   "metadata": {},
   "outputs": [
    {
     "name": "stdout",
     "output_type": "stream",
     "text": [
      "p =  0.8535533905932737\n",
      "p =  0.8535533905932737\n"
     ]
    }
   ],
   "source": [
    "estimate = sorted(zip(counts.values(), counts.keys()), reverse= True)\n",
    "for p in range(2): print('p = ',(np.sin(int(estimate[p][1], 2)*pi/(2**precision)))**2 )"
   ]
  },
  {
   "cell_type": "code",
   "execution_count": 15,
   "metadata": {},
   "outputs": [],
   "source": [
    "# (np.sin(int('1011',2)*pi/(2**precision)))**2"
   ]
  },
  {
   "cell_type": "markdown",
   "metadata": {},
   "source": [
    "## Generalised multi-qubit QAE"
   ]
  },
  {
   "cell_type": "markdown",
   "metadata": {},
   "source": [
    "For the multi qubit case consider a n-qubit system, such that some of its computational basis state are marked 'good' while others are marked 'bad' states. Then the initial state can be expressed as a superpotion of $\\ket{good}$ and $\\ket{bad}$ states as \n",
    "$\\begin{equation}\n",
    "    \\ket{\\psi_0} = \\sqrt{\\frac{N-M}{N}}\\ket{bad} + \\sqrt{\\frac{M}{N}}\\ket{good}\n",
    "\\end{equation}$\n",
    "where $N = 2^n$ and $M$ is the no. of 'good' states.$\\\\$\n",
    "Our aim here is to estimate the number of 'good' states $M$ using QPE as proposed by Brassard et al ('96) $\\\\$\n",
    "As before we assume,\n",
    "$\\begin{align}\n",
    "    \\sqrt{\\frac{N-M}{N}} = cos(\\frac{\\theta}{2}) \\\\\n",
    "    \\sqrt{\\frac{M}{N}} = sin(\\frac{\\theta}{2})\n",
    "\\end{align}$ \n",
    "\n"
   ]
  },
  {
   "cell_type": "code",
   "execution_count": 24,
   "metadata": {},
   "outputs": [],
   "source": [
    "# patterns = [[0,1,1],[0,1,0],[1,1,1],[1,0,1],[1,1,0],[0,0,0],[0,0,1]]\n",
    "patterns = [[0,1,1,1],[0,0,1,0],[1,0,1,1]]\n",
    "good_states = [ ''.join([str(elem) for elem in pattern]) for pattern in patterns ]"
   ]
  },
  {
   "cell_type": "code",
   "execution_count": 32,
   "metadata": {},
   "outputs": [],
   "source": [
    "## using qiksit Estimation problem module\n",
    "d = len(patterns[0])\n",
    "qreg = QuantumRegister(d)\n",
    "ancilla = AncillaRegister(1)\n",
    "stateprep = QuantumCircuit(qreg, ancilla)\n",
    "stateprep.h(qreg)\n",
    "\n",
    "estimation = EstimationProblem(stateprep, [0,1,2,3], grover_operator= grover(patterns,1), is_good_state= good_states)\n",
    "precision = 5\n",
    "ae = AmplitudeEstimation(\n",
    "    num_eval_qubits=precision,  # the number of evaluation qubits specifies circuit width and accuracy\n",
    "    quantum_instance= QuantumInstance(stv_simulator) \n",
    ")\n",
    "rslt = ae.estimate(estimation)\n",
    "# rslt.estimaation, rslt.mle , 7/8"
   ]
  },
  {
   "cell_type": "code",
   "execution_count": 34,
   "metadata": {},
   "outputs": [
    {
     "data": {
      "text/plain": [
       "(0.7777851, 0.812499996325365, 0.8125)"
      ]
     },
     "execution_count": 34,
     "metadata": {},
     "output_type": "execute_result"
    }
   ],
   "source": [
    "rslt.estimation, rslt.mle , 1-len(patterns)/2**(len(patterns[0]))"
   ]
  },
  {
   "cell_type": "code",
   "execution_count": 41,
   "metadata": {},
   "outputs": [
    {
     "data": {
      "text/html": [
       "<pre style=\"word-wrap: normal;white-space: pre;background: #fff0;line-height: 1.1;font-family: &quot;Courier New&quot;,Courier,monospace\">               ┌───┐                                                    »\n",
       "precision_q_0: ┤ H ├──────■─────────────────────────────────────────────»\n",
       "               ├───┤      │                                             »\n",
       "precision_q_1: ┤ H ├──────┼────────────■────────────────────────────────»\n",
       "               ├───┤      │            │                                »\n",
       "precision_q_2: ┤ H ├──────┼────────────┼────────────■───────────────────»\n",
       "               ├───┤      │            │            │                   »\n",
       "precision_q_3: ┤ H ├──────┼────────────┼────────────┼────────────■──────»\n",
       "               ├───┤      │            │            │            │      »\n",
       "precision_q_4: ┤ H ├──────┼────────────┼────────────┼────────────┼──────»\n",
       "               ├───┤┌─────┴─────┐┌─────┴─────┐┌─────┴─────┐┌─────┴─────┐»\n",
       "       qreg_0: ┤ H ├┤0          ├┤0          ├┤0          ├┤0          ├»\n",
       "               ├───┤│           ││           ││           ││           │»\n",
       "       qreg_1: ┤ H ├┤1          ├┤1          ├┤1          ├┤1          ├»\n",
       "               ├───┤│           ││           ││           ││           │»\n",
       "       qreg_2: ┤ H ├┤2 grover^1 ├┤2 grover^2 ├┤2 grover^4 ├┤2 grover^8 ├»\n",
       "               ├───┤│           ││           ││           ││           │»\n",
       "       qreg_3: ┤ H ├┤3          ├┤3          ├┤3          ├┤3          ├»\n",
       "               └───┘│           ││           ││           ││           │»\n",
       "      ancilla: ─────┤4          ├┤4          ├┤4          ├┤4          ├»\n",
       "                    └───────────┘└───────────┘└───────────┘└───────────┘»\n",
       " precison_c: 5/═════════════════════════════════════════════════════════»\n",
       "                                                                        »\n",
       "«                              ░ ┌─────────┐\n",
       "«precision_q_0: ───────────────░─┤0        ├\n",
       "«                              ░ │         │\n",
       "«precision_q_1: ───────────────░─┤1        ├\n",
       "«                              ░ │         │\n",
       "«precision_q_2: ───────────────░─┤2 QFT_dg ├\n",
       "«                              ░ │         │\n",
       "«precision_q_3: ───────────────░─┤3        ├\n",
       "«                              ░ │         │\n",
       "«precision_q_4: ──────■────────░─┤4        ├\n",
       "«               ┌─────┴──────┐ ░ └─────────┘\n",
       "«       qreg_0: ┤0           ├─░────────────\n",
       "«               │            │ ░            \n",
       "«       qreg_1: ┤1           ├─░────────────\n",
       "«               │            │ ░            \n",
       "«       qreg_2: ┤2 grover^16 ├─░────────────\n",
       "«               │            │ ░            \n",
       "«       qreg_3: ┤3           ├─░────────────\n",
       "«               │            │ ░            \n",
       "«      ancilla: ┤4           ├─░────────────\n",
       "«               └────────────┘ ░            \n",
       "« precison_c: 5/════════════════════════════\n",
       "«                                           </pre>"
      ],
      "text/plain": [
       "               ┌───┐                                                    »\n",
       "precision_q_0: ┤ H ├──────■─────────────────────────────────────────────»\n",
       "               ├───┤      │                                             »\n",
       "precision_q_1: ┤ H ├──────┼────────────■────────────────────────────────»\n",
       "               ├───┤      │            │                                »\n",
       "precision_q_2: ┤ H ├──────┼────────────┼────────────■───────────────────»\n",
       "               ├───┤      │            │            │                   »\n",
       "precision_q_3: ┤ H ├──────┼────────────┼────────────┼────────────■──────»\n",
       "               ├───┤      │            │            │            │      »\n",
       "precision_q_4: ┤ H ├──────┼────────────┼────────────┼────────────┼──────»\n",
       "               ├───┤┌─────┴─────┐┌─────┴─────┐┌─────┴─────┐┌─────┴─────┐»\n",
       "       qreg_0: ┤ H ├┤0          ├┤0          ├┤0          ├┤0          ├»\n",
       "               ├───┤│           ││           ││           ││           │»\n",
       "       qreg_1: ┤ H ├┤1          ├┤1          ├┤1          ├┤1          ├»\n",
       "               ├───┤│           ││           ││           ││           │»\n",
       "       qreg_2: ┤ H ├┤2 grover^1 ├┤2 grover^2 ├┤2 grover^4 ├┤2 grover^8 ├»\n",
       "               ├───┤│           ││           ││           ││           │»\n",
       "       qreg_3: ┤ H ├┤3          ├┤3          ├┤3          ├┤3          ├»\n",
       "               └───┘│           ││           ││           ││           │»\n",
       "      ancilla: ─────┤4          ├┤4          ├┤4          ├┤4          ├»\n",
       "                    └───────────┘└───────────┘└───────────┘└───────────┘»\n",
       " precison_c: 5/═════════════════════════════════════════════════════════»\n",
       "                                                                        »\n",
       "«                              ░ ┌─────────┐\n",
       "«precision_q_0: ───────────────░─┤0        ├\n",
       "«                              ░ │         │\n",
       "«precision_q_1: ───────────────░─┤1        ├\n",
       "«                              ░ │         │\n",
       "«precision_q_2: ───────────────░─┤2 QFT_dg ├\n",
       "«                              ░ │         │\n",
       "«precision_q_3: ───────────────░─┤3        ├\n",
       "«                              ░ │         │\n",
       "«precision_q_4: ──────■────────░─┤4        ├\n",
       "«               ┌─────┴──────┐ ░ └─────────┘\n",
       "«       qreg_0: ┤0           ├─░────────────\n",
       "«               │            │ ░            \n",
       "«       qreg_1: ┤1           ├─░────────────\n",
       "«               │            │ ░            \n",
       "«       qreg_2: ┤2 grover^16 ├─░────────────\n",
       "«               │            │ ░            \n",
       "«       qreg_3: ┤3           ├─░────────────\n",
       "«               │            │ ░            \n",
       "«      ancilla: ┤4           ├─░────────────\n",
       "«               └────────────┘ ░            \n",
       "« precison_c: 5/════════════════════════════\n",
       "«                                           "
      ]
     },
     "execution_count": 41,
     "metadata": {},
     "output_type": "execute_result"
    }
   ],
   "source": [
    "## implementation from scratch ~\n",
    "precision = 5 \n",
    "preg = QuantumRegister(precision, name='precision_q')\n",
    "qreg = QuantumRegister(4,name='qreg')\n",
    "ancilla = AncillaRegister(1, name='ancilla')\n",
    "creg = ClassicalRegister(precision, name='precison_c')\n",
    "\n",
    "qc = QuantumCircuit(preg, qreg, ancilla, creg)\n",
    "\n",
    "qc.h(preg)\n",
    "qc.h(qreg)\n",
    "for q in range(precision):\n",
    "    qc.append(grover(patterns,2**q).to_gate().control(1), [q]+list(range(precision,precision+5)) )\n",
    "\n",
    "qftgate_inv = QFT(QuantumCircuit(precision, name='QFT')).to_gate().inverse()\n",
    "qc.barrier()\n",
    "qc.append(qftgate_inv, list(range(precision)))\n",
    "\n",
    "qc.decompose(gates_to_decompose= ['grover^1']).draw()\n"
   ]
  },
  {
   "cell_type": "code",
   "execution_count": 42,
   "metadata": {},
   "outputs": [],
   "source": [
    "# basis_gates = [\"h\", \"ry\", \"cry\", \"cx\", \"ccx\", \"p\", \"cp\", \"x\", \"s\", \"sdg\", \"y\", \"t\", \"cz\"]\n",
    "# transpile(qc, basis_gates=basis_gates, optimization_level=2).draw(\"mpl\", style=\"iqx\")"
   ]
  },
  {
   "cell_type": "code",
   "execution_count": 43,
   "metadata": {},
   "outputs": [
    {
     "data": {
      "text/plain": [
       "{'11110': 3,\n",
       " '00100': 3,\n",
       " '10101': 505,\n",
       " '10010': 19,\n",
       " '11100': 4,\n",
       " '01010': 45,\n",
       " '01101': 43,\n",
       " '00001': 4,\n",
       " '00110': 6,\n",
       " '01000': 9,\n",
       " '01100': 283,\n",
       " '10110': 48,\n",
       " '00101': 3,\n",
       " '11010': 7,\n",
       " '01001': 20,\n",
       " '10001': 15,\n",
       " '10011': 50,\n",
       " '00111': 7,\n",
       " '00011': 3,\n",
       " '10111': 25,\n",
       " '10100': 309,\n",
       " '01011': 522,\n",
       " '01110': 18,\n",
       " '10000': 9,\n",
       " '11000': 11,\n",
       " '11011': 4,\n",
       " '11111': 2,\n",
       " '01111': 12,\n",
       " '00000': 2,\n",
       " '11001': 5,\n",
       " '11101': 4}"
      ]
     },
     "execution_count": 43,
     "metadata": {},
     "output_type": "execute_result"
    }
   ],
   "source": [
    "qc.measure(preg, creg)\n",
    "job = execute(qc, backend= aer, shots= 2000)\n",
    "counts = job.result().get_counts()\n",
    "counts"
   ]
  },
  {
   "cell_type": "code",
   "execution_count": 44,
   "metadata": {},
   "outputs": [
    {
     "data": {
      "image/png": "[encoded data removed]",
      "text/plain": [
       "<Figure size 504x360 with 1 Axes>"
      ]
     },
     "execution_count": 44,
     "metadata": {},
     "output_type": "execute_result"
    }
   ],
   "source": [
    "plot_histogram(counts)"
   ]
  },
  {
   "cell_type": "code",
   "execution_count": 45,
   "metadata": {},
   "outputs": [
    {
     "name": "stdout",
     "output_type": "stream",
     "text": [
      "p =  0.777785116509801\n",
      "p =  0.7777851165098012\n",
      "p =  0.8535533905932737\n",
      "p =  0.8535533905932737\n"
     ]
    }
   ],
   "source": [
    "estimate = sorted(zip(counts.values(), counts.keys()), reverse= True)\n",
    "for p in range(4): print('p = ',(np.sin(int(estimate[p][1], 2)*pi/(2**precision)))**2 )"
   ]
  },
  {
   "cell_type": "code",
   "execution_count": null,
   "metadata": {},
   "outputs": [],
   "source": []
  },
  {
   "cell_type": "code",
   "execution_count": null,
   "metadata": {},
   "outputs": [],
   "source": []
  },
  {
   "cell_type": "code",
   "execution_count": null,
   "metadata": {},
   "outputs": [],
   "source": []
  }
 ],
 "metadata": {
  "interpreter": {
   "hash": "31f2aee4e71d21fbe5cf8b01ff0e069b9275f58929596ceb00d14d90e3e16cd6"
  },
  "kernelspec": {
   "display_name": "Python 3.8.10 64-bit",
   "language": "python",
   "name": "python3"
  },
  "language_info": {
   "codemirror_mode": {
    "name": "ipython",
    "version": 3
   },
   "file_extension": ".py",
   "mimetype": "text/x-python",
   "name": "python",
   "nbconvert_exporter": "python",
   "pygments_lexer": "ipython3",
   "version": "3.10.4"
  },
  "orig_nbformat": 4
 },
 "nbformat": 4,
 "nbformat_minor": 2
}
