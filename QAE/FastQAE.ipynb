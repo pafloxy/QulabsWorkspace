{
 "cells": [
  {
   "cell_type": "code",
   "execution_count": 1,
   "metadata": {},
   "outputs": [],
   "source": [
    "## imports\n",
    "from qiskit import *\n",
    "from qiskit.algorithms import *\n",
    "from qiskit import QuantumRegister, ClassicalRegister, QuantumCircuit\n",
    "from qiskit import quantum_info, IBMQ, Aer\n",
    "from qiskit import BasicAer\n",
    "from qiskit.utils import QuantumInstance\n",
    "# backend = BasicAer.get_backend(\"statevector_simulator\")\n",
    "# quantum_instance = QuantumInstance(backend)\n",
    "from qiskit.algorithms import AmplitudeEstimation\n",
    "#from qiskit.ignis.verification.tomography import state_tomography_circuits, StateTomographyFitter\n",
    "from qiskit.visualization import plot_histogram, plot_state_qsphere, plot_bloch_multivector, plot_bloch_vector\n",
    "import numpy as np\n",
    "from numpy import pi\n",
    "import seaborn as sns\n",
    "from IPython.display import Image\n",
    "import matplotlib.pyplot as plt\n",
    "import math\n",
    "import itertools\n"
   ]
  },
  {
   "cell_type": "code",
   "execution_count": null,
   "metadata": {},
   "outputs": [
    {
     "ename": "",
     "evalue": "",
     "output_type": "error",
     "traceback": [
      "\u001b[1;31mFailed to start the Kernel. \n",
      "The Jupyter notebook server failed to launch in time\n",
      "/home/rajarsi/.local/lib/python3.10/site-packages/traitlets/traitlets.py:2392: FutureWarning: Supporting extra quotes around strings is deprecated in traitlets 5.0. You can use '/home/rajarsi/Documents/GitHub/QulabsWorkspace' instead of '\"/home/rajarsi/Documents/GitHub/QulabsWorkspace\"' if you require traitlets >=5.\n",
      "  warn(. \n",
      "View Jupyter <a href='command:jupyter.viewOutput'>log</a> for further details."
     ]
    }
   ],
   "source": [
    "# setup simulator using IBM_id\n",
    "# IBMQ.save_account(\"1c62e8a0d2b058d0e797db9c811bc34582df5553e25812301cd1518662c0ab68d2378ac6c197b65f8be944d04b7e7439f034e3926a44fa8088538b3d13782c1a\", overwrite= True)\n",
    "provider = IBMQ.load_account()\n",
    "IBMQ.get_provider(hub='ibm-q-education', group='iit-madras-1', project='quantum-computin')\n",
    "# setup required backends \n",
    "lima = provider.get_backend('ibmq_lima')\n",
    "manila = provider.get_backend('ibmq_manila')\n",
    "qsm = Aer.get_backend('qasm_simulator')\n",
    "stv = Aer.get_backend('statevector_simulator')\n",
    "aer = Aer.get_backend('aer_simulator')\n"
   ]
  },
  {
   "cell_type": "markdown",
   "metadata": {},
   "source": [
    "##### Grover Operator Setup"
   ]
  },
  {
   "cell_type": "code",
   "execution_count": null,
   "metadata": {},
   "outputs": [
    {
     "ename": "",
     "evalue": "",
     "output_type": "error",
     "traceback": [
      "\u001b[1;31mFailed to start the Kernel. \n",
      "The Jupyter notebook server failed to launch in time\n",
      "/home/rajarsi/.local/lib/python3.10/site-packages/traitlets/traitlets.py:2392: FutureWarning: Supporting extra quotes around strings is deprecated in traitlets 5.0. You can use '/home/rajarsi/Documents/GitHub/QulabsWorkspace' instead of '\"/home/rajarsi/Documents/GitHub/QulabsWorkspace\"' if you require traitlets >=5.\n",
      "  warn(. \n",
      "View Jupyter <a href='command:jupyter.viewOutput'>log</a> for further details."
     ]
    }
   ],
   "source": [
    "## sub-routines for Grover Search ~\n",
    "def to_oracle(pattern, name= 'oracle'):\n",
    "    \"\"\" Convert a given pattern to an oracle\n",
    "        input: pattern= a numpy vector with binarry entries \n",
    "        output: oracle.Gate    \"\"\"\n",
    "\n",
    "    l = len(pattern)\n",
    "    qr = QuantumRegister(l, name='reg')\n",
    "    a = AncillaRegister(1, name='ancilla')\n",
    "    qc = QuantumCircuit(qr, a, name= name+str(pattern))\n",
    "    for q in range(l):\n",
    "        if(pattern[q]==0): qc.x(qr[q])\n",
    "    qc.x(a)\n",
    "    qc.h(a)\n",
    "    qc.mcx(qr, a)\n",
    "    qc.h(a)\n",
    "    qc.x(a)\n",
    "    for q in range(l):\n",
    "        if(pattern[q]==0): qc.x(qr[q])\n",
    "    #qc.barrier()\n",
    "    return qc.to_gate()\n",
    "\n",
    "def diffuser(l):\n",
    "    \"\"\" Gnerate the Diffuser operator for the case where the initial state  is \n",
    "        the equal superposition state of all basis vectors \n",
    "        input: l= no. of qubits\n",
    "        output: diffuser.Gate    \"\"\"\n",
    "    qr = QuantumRegister(l, name='reg')\n",
    "    a = AncillaRegister(1, name='ancilla')\n",
    "    circuit = QuantumCircuit(qr, a, name= 'Diff.')\n",
    "    \n",
    "    circuit.h(qr)\n",
    "    circuit.x(qr)\n",
    "    \n",
    "    circuit.x(a)\n",
    "    circuit.h(a)\n",
    "    circuit.mcx(qr ,a)\n",
    "    circuit.h(a)\n",
    "    circuit.x(a)\n",
    "\n",
    "    circuit.x(qr)\n",
    "    circuit.h(qr)\n",
    "          \n",
    "    return circuit.to_gate()\n",
    "\n",
    "def grover_iterate(qc, oracles, diffuser, qreg_u, ancilla, steps):\n",
    "    \"\"\" Run full Grover iteration for given number of steps.\n",
    "        input:\n",
    "        qc: QuantumCiruit to append to \n",
    "        oracles: a list of oracles generated from 'to_oracle()' function \n",
    "        diffuser: a diffuser from 'diffuser()' function \n",
    "        steps: no. of grover iterates\"\"\"\n",
    "    for step in range(steps):\n",
    "        for oracle in oracles:\n",
    "            qc.append(oracle, list(range(qc.num_qubits)) )\n",
    "        qc.append(diffuser, list([q for q in qreg_u])+ list(ancilla) )\n",
    "        # qc.barrier()\n",
    "    return qc\n",
    "\n",
    "## modified sub-routine for grover ~\n",
    "## Based on the 'grover_iterate()' function defined earlier\n",
    "def grover(patterns, grover_steps):\n",
    "    \n",
    "    dim = len(patterns[0])\n",
    "    \n",
    "    # create oracles ~\\\n",
    "    oracles = []\n",
    "    for pattern in patterns : oracles.append( to_oracle(pattern)) \n",
    "    \n",
    "    # create diffuser ~\\\n",
    "    diff = diffuser(dim)\n",
    "\n",
    "    # create circuit ~\\\n",
    "    qreg = QuantumRegister(dim, name= 'init')\n",
    "    ancilla = AncillaRegister(1, name='ancilla')\n",
    "    qc = QuantumCircuit(qreg, ancilla, name='grover'+'^'+str(grover_steps))\n",
    "    qc = grover_iterate(qc, oracles, diff, qreg, ancilla,grover_steps)\n",
    "  \n",
    "    return qc"
   ]
  },
  {
   "cell_type": "markdown",
   "metadata": {},
   "source": [
    "### Fast Quantum Amplitude Estimation \n",
    "Here we will implement the Fast Quantum Amplitude Estimaation algorithm as described in the paper https://arxiv.org/abs/2003.02417."
   ]
  },
  {
   "cell_type": "markdown",
   "metadata": {},
   "source": []
  },
  {
   "cell_type": "code",
   "execution_count": null,
   "metadata": {},
   "outputs": [
    {
     "ename": "",
     "evalue": "",
     "output_type": "error",
     "traceback": [
      "\u001b[1;31mFailed to start the Kernel. \n",
      "The Jupyter notebook server failed to launch in time\n",
      "/home/rajarsi/.local/lib/python3.10/site-packages/traitlets/traitlets.py:2392: FutureWarning: Supporting extra quotes around strings is deprecated in traitlets 5.0. You can use '/home/rajarsi/Documents/GitHub/QulabsWorkspace' instead of '\"/home/rajarsi/Documents/GitHub/QulabsWorkspace\"' if you require traitlets >=5.\n",
      "  warn(. \n",
      "View Jupyter <a href='command:jupyter.viewOutput'>log</a> for further details."
     ]
    }
   ],
   "source": [
    "def chrnff(cm, Nshots, delta_c):\n",
    "    diff = np.sqrt(np.log(2.0 / delta_c) * 12.0 / Nshots)\n",
    "    c_min = max(-1, cm - diff)\n",
    "    c_max = min(1, cm + diff)\n",
    "    return c_min, c_max    \n",
    "\n",
    "def atan(s,c):\n",
    "    if c>0: return np.arctan(s/c)\n",
    "    if c==0 :\n",
    "        if  s>0: return pi/2\n",
    "        elif s==0: return 0\n",
    "        else : return -pi/2 \n",
    "    if c<0:\n",
    "        if s>=0: return pi + np.arctan(s/c)\n",
    "        else: return -pi + np.arctan(s/c)"
   ]
  },
  {
   "cell_type": "markdown",
   "metadata": {},
   "source": [
    "#### Single qubit FQAE"
   ]
  },
  {
   "cell_type": "code",
   "execution_count": null,
   "metadata": {},
   "outputs": [
    {
     "ename": "",
     "evalue": "",
     "output_type": "error",
     "traceback": [
      "\u001b[1;31mFailed to start the Kernel. \n",
      "The Jupyter notebook server failed to launch in time\n",
      "/home/rajarsi/.local/lib/python3.10/site-packages/traitlets/traitlets.py:2392: FutureWarning: Supporting extra quotes around strings is deprecated in traitlets 5.0. You can use '/home/rajarsi/Documents/GitHub/QulabsWorkspace' instead of '\"/home/rajarsi/Documents/GitHub/QulabsWorkspace\"' if you require traitlets >=5.\n",
      "  warn(. \n",
      "View Jupyter <a href='command:jupyter.viewOutput'>log</a> for further details."
     ]
    }
   ],
   "source": [
    "## operator preparation ~\n",
    "def s_psi0(p):\n",
    "    \"\"\" Prepare a QuantumCircuit that intiates a state required\n",
    "        input:\n",
    "            p= amplitude \n",
    "        output:\n",
    "            s_psi0 gate                                            \"\"\"\n",
    " \n",
    "    qc = QuantumCircuit(1, name= \" S_psi0 \")\n",
    "    theta = 2*np.arcsin(np.sqrt(p))\n",
    "    qc.ry(theta, 0)\n",
    "\n",
    "    return qc\n",
    "\n",
    "def Q(p, power):\n",
    "    \"\"\" Prepare an Gate to implement 'Q^power' operator\n",
    "        input:\n",
    "            p= amplitude\n",
    "            power= no.of times 'Q' is imposed\n",
    "        output:\n",
    "            Q gate\"\"\"\n",
    "    theta = 2*np.arcsin(np.sqrt(p))\n",
    "    qc = QuantumCircuit(1, name= ' Q'+ '^'+ str(power) )\n",
    "    qc.ry(2*theta*power, 0)\n",
    "\n",
    "    return qc\n",
    "\n",
    "def cos_val_measure_single_qubit(p, m, Nshots=1024):\n",
    "    # p = 0.23\n",
    "    qreg = QuantumRegister(1, name='qreg')\n",
    "    creg = ClassicalRegister(1, name= 'creg')\n",
    "    qc = QuantumCircuit(qreg, creg)\n",
    "\n",
    "    qc.compose(s_psi0(p).to_gate(), inplace= True)\n",
    "    qc.compose(Q(p, m).to_gate(), inplace= True)\n",
    "\n",
    "    qc.measure(qreg, creg)\n",
    "    \n",
    "    counts =  execute(qc, backend= qsm, shots= Nshots).result().get_counts()\n",
    "    \n",
    "    return (1 - 2*(counts['1']/Nshots))\n",
    "     "
   ]
  },
  {
   "cell_type": "code",
   "execution_count": null,
   "metadata": {},
   "outputs": [
    {
     "ename": "",
     "evalue": "",
     "output_type": "error",
     "traceback": [
      "\u001b[1;31mFailed to start the Kernel. \n",
      "The Jupyter notebook server failed to launch in time\n",
      "/home/rajarsi/.local/lib/python3.10/site-packages/traitlets/traitlets.py:2392: FutureWarning: Supporting extra quotes around strings is deprecated in traitlets 5.0. You can use '/home/rajarsi/Documents/GitHub/QulabsWorkspace' instead of '\"/home/rajarsi/Documents/GitHub/QulabsWorkspace\"' if you require traitlets >=5.\n",
      "  warn(. \n",
      "View Jupyter <a href='command:jupyter.viewOutput'>log</a> for further details."
     ]
    }
   ],
   "source": [
    "def FAE_single_qubit(p, l = 100 , delta_c = 0.01): \n",
    "    ## FAE subroutine\n",
    "    #specs\n",
    "    # p = 0.04\n",
    "\n",
    "    #initialisations\n",
    "    theta_val_min, theta_val_max = np.zeros(l), np.zeros(l)\n",
    "    Nshot_1 = 1944*np.log(2/delta_c)\n",
    "    Nshot_2 = 972*np.log(2/delta_c)\n",
    "\n",
    "    stage = 0\n",
    "    j0 = l\n",
    "\n",
    "    cos_val = np.zeros(l)\n",
    "    cos_val_max, cos_val_min = np.zeros(l), np.zeros(l)\n",
    "    ## estimation \n",
    "\n",
    "    for j in range(1, l):\n",
    "        if stage== 0 :\n",
    "            cos_val[j-1] = cos_val_measure_single_qubit(p,2**(j-1), Nshots= Nshot_1)\n",
    "            cos_val_min[j-1], cos_val_max[j-1] = chrnff(cos_val[j-1], Nshot_1, delta_c)\n",
    "            theta_val_max[j] = np.arccos(cos_val_min[j-1])/(2**(j+1)+2)\n",
    "            theta_val_min[j] = np.arccos(cos_val_max[j-1])/(2**(j+1)+2)\n",
    "            if (2**(j+1)*theta_val_max[j] >= 3*pi/8 and j<l):\n",
    "                j0 = j\n",
    "                nu = 2**j0 * (theta_val_max[j0]+theta_val_min[j0])\n",
    "                stage= 1\n",
    "        else :\n",
    "            cos_val[j-1] = cos_val_measure_single_qubit(p, 2**(j-1),Nshots= Nshot_2)\n",
    "            sj = (cos_val[j-1]*np.cos(nu) - cos_val_measure_single_qubit(p, 2**(j-1) + 2**(j0-1), Nshots= Nshot_2)) / np.sin(nu)\n",
    "            rho_j = atan(sj, cos_val[j-1] )\n",
    "            nj = math.floor( 1/(2*pi) *( (2**(j+1)+2)*theta_val_max[j-1] - rho_j + pi/3 ))\n",
    "            theta_val_min[j] = (2*pi*nj + rho_j - pi/3 )/(2**(j+1) + 2)\n",
    "            theta_val_max[j] = (2*pi*nj + rho_j + pi/3 )/(2**(j+1) + 2)\n",
    "\n",
    "    \n",
    "    return np.sin(0.5*(theta_val_min[-1] + theta_val_max[-1]))"
   ]
  },
  {
   "cell_type": "code",
   "execution_count": null,
   "metadata": {},
   "outputs": [
    {
     "data": {
      "text/plain": [
       "(0.20000000000000007, 0.2)"
      ]
     },
     "execution_count": 7,
     "metadata": {},
     "output_type": "execute_result"
    }
   ],
   "source": [
    "p = 0.04\n",
    "FAE_single_qubit(p), np.sqrt(p)"
   ]
  },
  {
   "cell_type": "code",
   "execution_count": null,
   "metadata": {},
   "outputs": [],
   "source": []
  },
  {
   "cell_type": "markdown",
   "metadata": {},
   "source": [
    "##### Multi-Qubit FQAE"
   ]
  },
  {
   "cell_type": "code",
   "execution_count": null,
   "metadata": {},
   "outputs": [],
   "source": [
    "def cos_val_measure_multi_qubit(patterns, m, Nshots= 1024):\n",
    "\n",
    "    num_qubit = len(patterns[0])\n",
    "    good_states = [ ''.join([str(elem) for elem in pattern]) for pattern in patterns ]\n",
    "\n",
    "    qreg = QuantumRegister(num_qubit ,name='qreg')\n",
    "    ancilla = AncillaRegister(1, name='ancilla')\n",
    "    creg = ClassicalRegister(num_qubit , name='precison_c')\n",
    "\n",
    "    qc = QuantumCircuit( qreg, ancilla,  creg)\n",
    "    qc.h(qreg)\n",
    "    \n",
    "    qc.compose(grover(patterns, m).to_gate(), inplace= True)\n",
    "\n",
    "    qc.measure(qreg, creg)\n",
    "    counts = execute(qc, backend= qsm, shots= Nshots).result().get_counts()\n",
    "\n",
    "    l = list(itertools.product([0,1], repeat= num_qubit))\n",
    "    for item in range(len(l)) :  l[item] = list(l[item])\n",
    "    states = [ ''.join([str(elem) for elem in pattern]) for pattern in l ]\n",
    "    for state in states: \n",
    "        if state not in counts.keys(): counts[state] = 0 \n",
    "\n",
    "\n",
    "    good_counts =  sum([ counts[state] for state in good_states])\n",
    "\n",
    "    return (1 - 2*(good_counts/Nshots))"
   ]
  },
  {
   "cell_type": "code",
   "execution_count": null,
   "metadata": {},
   "outputs": [],
   "source": [
    "def FAE_multi_qubit(patterns, l = 100, delta_c = 0.01): \n",
    "    ## FAE subroutine\n",
    "    #specs\n",
    "    \n",
    "\n",
    "    #initialisations\n",
    "    theta_val_min, theta_val_max = np.zeros(l), np.zeros(l)\n",
    "    Nshot_1 = 1944*np.log(2/delta_c)\n",
    "    Nshot_2 = 972*np.log(2/delta_c)\n",
    "\n",
    "    stage = 0\n",
    "    j0 = l\n",
    "\n",
    "    cos_val = np.zeros(l)\n",
    "    cos_val_max, cos_val_min = np.zeros(l), np.zeros(l)\n",
    "    ## estimation \n",
    "\n",
    "    for j in range(1, l):\n",
    "        if stage== 0 :\n",
    "            cos_val[j-1] = cos_val_measure_multi_qubit(patterns,2**(j-1), Nshots= Nshot_1)\n",
    "            cos_val_min[j-1], cos_val_max[j-1] = chrnff(cos_val[j-1], Nshot_1, delta_c)\n",
    "            theta_val_max[j] = np.arccos(cos_val_min[j-1])/(2**(j+1)+2)\n",
    "            theta_val_min[j] = np.arccos(cos_val_max[j-1])/(2**(j+1)+2)\n",
    "            if (2**(j+1)*theta_val_max[j] >= 3*pi/8 and j<l):\n",
    "                j0 = j\n",
    "                nu = 2**j0 * (theta_val_max[j0]+theta_val_min[j0])\n",
    "                stage= 1\n",
    "        else :\n",
    "            cos_val[j-1] = cos_val_measure_multi_qubit(patterns, 2**(j-1),Nshots= Nshot_2)\n",
    "            sj = (cos_val[j-1]*np.cos(nu) - cos_val_measure_multi_qubit(patterns, 2**(j-1) + 2**(j0-1), Nshots= Nshot_2)) / np.sin(nu)\n",
    "            rho_j = atan(sj, cos_val[j-1] )\n",
    "            nj = math.floor( 1/(2*pi) *( (2**(j+1)+2)*theta_val_max[j-1] - rho_j + pi/3 ))\n",
    "            theta_val_min[j] = (2*pi*nj + rho_j - pi/3 )/(2**(j+1) + 2)\n",
    "            theta_val_max[j] = (2*pi*nj + rho_j + pi/3 )/(2**(j+1) + 2)\n",
    "\n",
    "    \n",
    "    return np.sin(0.5*(theta_val_min[-1] + theta_val_max[-1]))"
   ]
  },
  {
   "cell_type": "code",
   "execution_count": null,
   "metadata": {},
   "outputs": [],
   "source": [
    "# patterns = [[0,1,1],[0,1,0],[1,1,1],[1,0,1],[1,1,0],[0,0,0],[0,0,1]]\n",
    "patterns = [[0,0,0,1,0,0,1], [0,0,1,0,0,1,1]]\n",
    "good_states = [ ''.join([str(elem) for elem in pattern]) for pattern in patterns ]"
   ]
  },
  {
   "cell_type": "code",
   "execution_count": null,
   "metadata": {},
   "outputs": [
    {
     "data": {
      "text/plain": [
       "0.966796875"
      ]
     },
     "execution_count": 32,
     "metadata": {},
     "output_type": "execute_result"
    }
   ],
   "source": [
    "num_qubit = len(patterns[0])\n",
    "Nshots= 1024\n",
    "m= 1\n",
    "# good_states = [ ''.join([str(elem) for elem in pattern]) for pattern in patterns ]\n",
    "\n",
    "qreg = QuantumRegister(num_qubit ,name='qreg')\n",
    "ancilla = QuantumRegister(1, name= 'ancilla')\n",
    "creg = ClassicalRegister(num_qubit , name='precison_c')\n",
    "\n",
    "qc = QuantumCircuit( qreg, ancilla, creg)\n",
    "qc.h(qreg)\n",
    "\n",
    "qc.compose(grover(patterns, m).to_gate(), inplace= True)\n",
    "\n",
    "qc.measure(qreg, creg)\n",
    "counts = execute(qc, backend= qsm, shots= Nshots).result().get_counts()\n",
    "\n",
    "good_counts =  sum([ counts[state] for state in good_states])\n",
    "\n",
    "(1 - 2*(good_counts/Nshots))"
   ]
  },
  {
   "cell_type": "code",
   "execution_count": null,
   "metadata": {},
   "outputs": [],
   "source": [
    "ampl = FAE_multi_qubit(patterns, l= 50 )\n"
   ]
  },
  {
   "cell_type": "code",
   "execution_count": null,
   "metadata": {},
   "outputs": [
    {
     "data": {
      "text/plain": [
       "(0.08838834764831845, 0.0001954381276213331)"
      ]
     },
     "execution_count": 73,
     "metadata": {},
     "output_type": "execute_result"
    }
   ],
   "source": [
    "np.sqrt(good_counts/Nshots), ampl"
   ]
  },
  {
   "cell_type": "code",
   "execution_count": null,
   "metadata": {},
   "outputs": [
    {
     "data": {
      "image/png": "[encoded data removed]",
      "text/plain": [
       "<Figure size 504x360 with 1 Axes>"
      ]
     },
     "execution_count": 13,
     "metadata": {},
     "output_type": "execute_result"
    }
   ],
   "source": [
    "plot_histogram(counts)"
   ]
  },
  {
   "cell_type": "markdown",
   "metadata": {},
   "source": []
  }
 ],
 "metadata": {
  "kernelspec": {
   "display_name": "Python 3.10.4 64-bit",
   "language": "python",
   "name": "python3"
  },
  "language_info": {
   "codemirror_mode": {
    "name": "ipython",
    "version": 3
   },
   "file_extension": ".py",
   "mimetype": "text/x-python",
   "name": "python",
   "nbconvert_exporter": "python",
   "pygments_lexer": "ipython3",
   "version": "3.10.4"
  },
  "orig_nbformat": 4,
  "vscode": {
   "interpreter": {
    "hash": "31f2aee4e71d21fbe5cf8b01ff0e069b9275f58929596ceb00d14d90e3e16cd6"
   }
  }
 },
 "nbformat": 4,
 "nbformat_minor": 2
}
