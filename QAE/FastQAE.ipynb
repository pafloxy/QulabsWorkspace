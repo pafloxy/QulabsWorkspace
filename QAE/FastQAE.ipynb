{
 "cells": [
  {
   "cell_type": "code",
   "execution_count": 26,
   "metadata": {},
   "outputs": [],
   "source": [
    "## imports\n",
    "from qiskit import *\n",
    "from qiskit.algorithms import *\n",
    "from qiskit import QuantumRegister, ClassicalRegister, QuantumCircuit\n",
    "from qiskit import quantum_info, IBMQ, Aer\n",
    "from qiskit import BasicAer\n",
    "from qiskit.utils import QuantumInstance\n",
    "# backend = BasicAer.get_backend(\"statevector_simulator\")\n",
    "# quantum_instance = QuantumInstance(backend)\n",
    "from qiskit.algorithms import AmplitudeEstimation\n",
    "#from qiskit.ignis.verification.tomography import state_tomography_circuits, StateTomographyFitter\n",
    "from qiskit.visualization import plot_histogram, plot_state_qsphere, plot_bloch_multivector, plot_bloch_vector\n",
    "import numpy as np\n",
    "from numpy import pi\n",
    "import seaborn as sns\n",
    "from IPython.display import Image\n",
    "import matplotlib.pyplot as plt\n",
    "import math\n"
   ]
  },
  {
   "cell_type": "code",
   "execution_count": 10,
   "metadata": {},
   "outputs": [
    {
     "name": "stderr",
     "output_type": "stream",
     "text": [
      "ibmqfactory.load_account:WARNING:2022-07-03 19:06:12,024: Credentials are already in use. The existing account in the session will be replaced.\n"
     ]
    }
   ],
   "source": [
    "# setup simulator using IBM_id\n",
    "# IBMQ.save_account(\"1c62e8a0d2b058d0e797db9c811bc34582df5553e25812301cd1518662c0ab68d2378ac6c197b65f8be944d04b7e7439f034e3926a44fa8088538b3d13782c1a\", overwrite= True)\n",
    "provider = IBMQ.load_account()\n",
    "IBMQ.get_provider(hub='ibm-q-education', group='iit-madras-1', project='quantum-computin')\n",
    "# setup required backends \n",
    "lima = provider.get_backend('ibmq_lima')\n",
    "manila = provider.get_backend('ibmq_manila')\n",
    "qsm = Aer.get_backend('qasm_simulator')\n",
    "stv = Aer.get_backend('statevector_simulator')\n",
    "aer = Aer.get_backend('aer_simulator')\n"
   ]
  },
  {
   "cell_type": "markdown",
   "metadata": {},
   "source": [
    "##### Grover Operator Setup"
   ]
  },
  {
   "cell_type": "code",
   "execution_count": 3,
   "metadata": {},
   "outputs": [],
   "source": [
    "## sub-routines for Grover Search ~\n",
    "def to_oracle(pattern, name= 'oracle'):\n",
    "    \"\"\" Convert a given pattern to an oracle\n",
    "        input: pattern= a numpy vector with binarry entries \n",
    "        output: oracle.Gate    \"\"\"\n",
    "\n",
    "    l = len(pattern)\n",
    "    qr = QuantumRegister(l, name='reg')\n",
    "    a = AncillaRegister(1, name='ancilla')\n",
    "    qc = QuantumCircuit(qr, a, name= name+str(pattern))\n",
    "    for q in range(l):\n",
    "        if(pattern[q]==0): qc.x(qr[q])\n",
    "    qc.x(a)\n",
    "    qc.h(a)\n",
    "    qc.mcx(qr, a)\n",
    "    qc.h(a)\n",
    "    qc.x(a)\n",
    "    for q in range(l):\n",
    "        if(pattern[q]==0): qc.x(qr[q])\n",
    "    #qc.barrier()\n",
    "    return qc.to_gate()\n",
    "\n",
    "def diffuser(l):\n",
    "    \"\"\" Gnerate the Diffuser operator for the case where the initial state  is \n",
    "        the equal superposition state of all basis vectors \n",
    "        input: l= no. of qubits\n",
    "        output: diffuser.Gate    \"\"\"\n",
    "    qr = QuantumRegister(l, name='reg')\n",
    "    a = AncillaRegister(1, name='ancilla')\n",
    "    circuit = QuantumCircuit(qr, a, name= 'Diff.')\n",
    "    \n",
    "    circuit.h(qr)\n",
    "    circuit.x(qr)\n",
    "    \n",
    "    circuit.x(a)\n",
    "    circuit.h(a)\n",
    "    circuit.mcx(qr ,a)\n",
    "    circuit.h(a)\n",
    "    circuit.x(a)\n",
    "\n",
    "    circuit.x(qr)\n",
    "    circuit.h(qr)\n",
    "          \n",
    "    return circuit.to_gate()\n",
    "\n",
    "def grover_iterate(qc, oracles, diffuser, qreg_u, ancilla, steps):\n",
    "    \"\"\" Run full Grover iteration for given number of steps.\n",
    "        input:\n",
    "        qc: QuantumCiruit to append to \n",
    "        oracles: a list of oracles generated from 'to_oracle()' function \n",
    "        diffuser: a diffuser from 'diffuser()' function \n",
    "        steps: no. of grover iterates\"\"\"\n",
    "    for step in range(steps):\n",
    "        for oracle in oracles:\n",
    "            qc.append(oracle, list(range(qc.num_qubits)) )\n",
    "        qc.append(diffuser, list([q for q in qreg_u])+ list(ancilla) )\n",
    "        # qc.barrier()\n",
    "    return qc\n",
    "\n",
    "## modified sub-routine for grover ~\n",
    "## Based on the 'grover_iterate()' function defined earlier\n",
    "def grover(patterns, grover_steps):\n",
    "    \n",
    "    dim = len(patterns[0])\n",
    "    \n",
    "    # create oracles ~\\\n",
    "    oracles = []\n",
    "    for pattern in patterns : oracles.append( to_oracle(pattern)) \n",
    "    \n",
    "    # create diffuser ~\\\n",
    "    diff = diffuser(dim)\n",
    "\n",
    "    # create circuit ~\\\n",
    "    qreg = QuantumRegister(dim, name= 'init')\n",
    "    ancilla = AncillaRegister(1, name='ancilla')\n",
    "    qc = QuantumCircuit(qreg, ancilla, name='grover'+'^'+str(grover_steps))\n",
    "    qc = grover_iterate(qc, oracles, diff, qreg, ancilla,grover_steps)\n",
    "  \n",
    "    return qc"
   ]
  },
  {
   "cell_type": "code",
   "execution_count": 4,
   "metadata": {},
   "outputs": [],
   "source": []
  },
  {
   "cell_type": "markdown",
   "metadata": {},
   "source": [
    "#### Single qubit experiment"
   ]
  },
  {
   "cell_type": "code",
   "execution_count": 15,
   "metadata": {},
   "outputs": [],
   "source": [
    "## operator preparation ~\n",
    "def s_psi0(p):\n",
    "    \"\"\" Prepare a QuantumCircuit that intiates a state required\n",
    "        input:\n",
    "            p= amplitude \n",
    "        output:\n",
    "            s_psi0 gate                                            \"\"\"\n",
    "    qc = QuantumCircuit(1, name= \" S_psi0 \")\n",
    "    theta = 2*np.arcsin(np.sqrt(p))\n",
    "    qc.ry(theta, 0)\n",
    "\n",
    "    return qc\n",
    "\n",
    "def Q(p, power):\n",
    "    \"\"\" Prepare an Gate to implement 'Q^power' operator\n",
    "        input:\n",
    "            p= amplitude\n",
    "            power= no.of times 'Q' is imposed\n",
    "        output:\n",
    "            Q gate\"\"\"\n",
    "    theta = 2*np.arcsin(np.sqrt(p))\n",
    "    qc = QuantumCircuit(1, name= ' Q'+ '^'+ str(power) )\n",
    "    qc.ry(2*theta*power, 0)\n",
    "\n",
    "    return qc\n",
    "\n"
   ]
  },
  {
   "cell_type": "code",
   "execution_count": 7,
   "metadata": {},
   "outputs": [
    {
     "data": {
      "text/html": [
       "<pre style=\"word-wrap: normal;white-space: pre;background: #fff0;line-height: 1.1;font-family: &quot;Courier New&quot;,Courier,monospace\">        ┌──────────┐ ░ \n",
       "  qreg: ┤  S_psi0  ├─░─\n",
       "        └──────────┘ ░ \n",
       "creg: 1/═══════════════\n",
       "                       </pre>"
      ],
      "text/plain": [
       "        ┌──────────┐ ░ \n",
       "  qreg: ┤  S_psi0  ├─░─\n",
       "        └──────────┘ ░ \n",
       "creg: 1/═══════════════\n",
       "                       "
      ]
     },
     "execution_count": 7,
     "metadata": {},
     "output_type": "execute_result"
    }
   ],
   "source": [
    "p = 0.23\n",
    "qreg = QuantumRegister(1, name='qreg')\n",
    "creg = ClassicalRegister(1, name= 'creg')\n",
    "qc = QuantumCircuit(qreg, creg)\n",
    "\n",
    "\n",
    "qc.compose(s_psi0(p), inplace= True)\n",
    "qc.barrier()\n",
    "\n",
    "qc.draw()"
   ]
  },
  {
   "cell_type": "code",
   "execution_count": 25,
   "metadata": {},
   "outputs": [],
   "source": [
    "def cos_val_measure(p, m, Nshots=1024):\n",
    "    # p = 0.23\n",
    "    qreg = QuantumRegister(1, name='qreg')\n",
    "    creg = ClassicalRegister(1, name= 'creg')\n",
    "    qc = QuantumCircuit(qreg, creg)\n",
    "\n",
    "    qc.compose(s_psi0(p).to_gate(), inplace= True)\n",
    "    qc.compose(Q(p, m).to_gate(), inplace= True)\n",
    "\n",
    "    qc.measure(qreg, creg)\n",
    "    \n",
    "    counts =  execute(qc, backend= qsm, shots= Nshots).result().get_counts()\n",
    "    \n",
    "    return (1 - 2*(counts['1']/Nshots))\n",
    "    \n",
    "\n",
    "def chrnff(cm, Nshots, delta_c):\n",
    "    diff = np.sqrt(np.log(2.0 / delta_c) * 12.0 / Nshots)\n",
    "    c_min = max(-1, cm - diff)\n",
    "    c_max = min(1, cm + diff)\n",
    "    return c_min, c_max    \n",
    "\n",
    "def atan(s,c):\n",
    "    if c>0: return np.arctan(s/c)\n",
    "    if c==0 :\n",
    "        if  s>0: return pi/2\n",
    "        elif s==0: return 0\n",
    "        else : return -pi/2 \n",
    "    if c<0:\n",
    "        if s>=0: return pi + np.arctan(s/c)\n",
    "        else: return -pi + np.arctan(s/c)"
   ]
  },
  {
   "cell_type": "code",
   "execution_count": 27,
   "metadata": {},
   "outputs": [],
   "source": [
    "## FAE subroutine\n",
    "#spec\n",
    "delta_c = 0.001\n",
    "l = 10\n",
    "p = 0.12\n",
    "\n",
    "#init\n",
    "theta_val_min, theta_val_max = np.zeros(l), np.zeros(l)\n",
    "Nshot_1 = 1944*np.log(2/delta_c)\n",
    "Nshot_2 = 972*np.log(2/delta_c)\n",
    "\n",
    "stage = 0\n",
    "j0 = l\n",
    "\n",
    "cos_val = np.zeros(l)\n",
    "cos_val_max, cos_val_min = np.zeros(l), np.zeros(l)"
   ]
  },
  {
   "cell_type": "code",
   "execution_count": 29,
   "metadata": {},
   "outputs": [
    {
     "name": "stderr",
     "output_type": "stream",
     "text": [
      "/tmp/ipykernel_308283/3011354354.py:9: RuntimeWarning: invalid value encountered in arcsin\n",
      "  theta = 2*np.arcsin(np.sqrt(p))\n",
      "/tmp/ipykernel_308283/3011354354.py:21: RuntimeWarning: invalid value encountered in arcsin\n",
      "  theta = 2*np.arcsin(np.sqrt(p))\n"
     ]
    },
    {
     "ename": "ValueError",
     "evalue": "array must not contain infs or NaNs",
     "output_type": "error",
     "traceback": [
      "\u001b[0;31m---------------------------------------------------------------------------\u001b[0m",
      "\u001b[0;31mValueError\u001b[0m                                Traceback (most recent call last)",
      "\u001b[1;32m/home/rajarsi/Documents/GitHub/QulabsWorkspace/QAE/FastQAE.ipynb Cell 11'\u001b[0m in \u001b[0;36m<cell line: 1>\u001b[0;34m()\u001b[0m\n\u001b[1;32m     <a href='vscode-notebook-cell:/home/rajarsi/Documents/GitHub/QulabsWorkspace/QAE/FastQAE.ipynb#ch0000011?line=10'>11</a>\u001b[0m \u001b[39melse\u001b[39;00m :\n\u001b[1;32m     <a href='vscode-notebook-cell:/home/rajarsi/Documents/GitHub/QulabsWorkspace/QAE/FastQAE.ipynb#ch0000011?line=11'>12</a>\u001b[0m     cos_val[j\u001b[39m-\u001b[39m\u001b[39m1\u001b[39m] \u001b[39m=\u001b[39m cos_val_measure(\u001b[39m2\u001b[39m\u001b[39m*\u001b[39m\u001b[39m*\u001b[39m(j\u001b[39m-\u001b[39m\u001b[39m1\u001b[39m), Nshot_2)\n\u001b[0;32m---> <a href='vscode-notebook-cell:/home/rajarsi/Documents/GitHub/QulabsWorkspace/QAE/FastQAE.ipynb#ch0000011?line=12'>13</a>\u001b[0m     sj \u001b[39m=\u001b[39m (cos_val[j\u001b[39m-\u001b[39m\u001b[39m1\u001b[39m]\u001b[39m*\u001b[39mnp\u001b[39m.\u001b[39mcos(nu) \u001b[39m-\u001b[39m cos_val_measure(\u001b[39m2\u001b[39;49m\u001b[39m*\u001b[39;49m\u001b[39m*\u001b[39;49m(j\u001b[39m-\u001b[39;49m\u001b[39m1\u001b[39;49m) \u001b[39m+\u001b[39;49m \u001b[39m2\u001b[39;49m\u001b[39m*\u001b[39;49m\u001b[39m*\u001b[39;49m(j0\u001b[39m-\u001b[39;49m\u001b[39m1\u001b[39;49m), Nshot_2)) \u001b[39m/\u001b[39m np\u001b[39m.\u001b[39msin(nu)\n\u001b[1;32m     <a href='vscode-notebook-cell:/home/rajarsi/Documents/GitHub/QulabsWorkspace/QAE/FastQAE.ipynb#ch0000011?line=13'>14</a>\u001b[0m     rho_j \u001b[39m=\u001b[39m np\u001b[39m.\u001b[39matan(sj, cos_val[j\u001b[39m-\u001b[39m\u001b[39m1\u001b[39m] )\n\u001b[1;32m     <a href='vscode-notebook-cell:/home/rajarsi/Documents/GitHub/QulabsWorkspace/QAE/FastQAE.ipynb#ch0000011?line=14'>15</a>\u001b[0m     nj \u001b[39m=\u001b[39m math\u001b[39m.\u001b[39mfloor( \u001b[39m1\u001b[39m\u001b[39m/\u001b[39m(\u001b[39m2\u001b[39m\u001b[39m*\u001b[39mpi) \u001b[39m*\u001b[39m( (\u001b[39m2\u001b[39m\u001b[39m*\u001b[39m\u001b[39m*\u001b[39m(j\u001b[39m+\u001b[39m\u001b[39m1\u001b[39m)\u001b[39m+\u001b[39m\u001b[39m2\u001b[39m)\u001b[39m*\u001b[39mtheta_val_max[j\u001b[39m-\u001b[39m\u001b[39m1\u001b[39m] \u001b[39m-\u001b[39m rho_j \u001b[39m+\u001b[39m pi\u001b[39m/\u001b[39m\u001b[39m3\u001b[39m ))\n",
      "\u001b[1;32m/home/rajarsi/Documents/GitHub/QulabsWorkspace/QAE/FastQAE.ipynb Cell 9'\u001b[0m in \u001b[0;36mcos_val_measure\u001b[0;34m(p, m, Nshots)\u001b[0m\n\u001b[1;32m      <a href='vscode-notebook-cell:/home/rajarsi/Documents/GitHub/QulabsWorkspace/QAE/FastQAE.ipynb#ch0000012?line=7'>8</a>\u001b[0m qc\u001b[39m.\u001b[39mcompose(Q(p, m)\u001b[39m.\u001b[39mto_gate(), inplace\u001b[39m=\u001b[39m \u001b[39mTrue\u001b[39;00m)\n\u001b[1;32m     <a href='vscode-notebook-cell:/home/rajarsi/Documents/GitHub/QulabsWorkspace/QAE/FastQAE.ipynb#ch0000012?line=9'>10</a>\u001b[0m qc\u001b[39m.\u001b[39mmeasure(qreg, creg)\n\u001b[0;32m---> <a href='vscode-notebook-cell:/home/rajarsi/Documents/GitHub/QulabsWorkspace/QAE/FastQAE.ipynb#ch0000012?line=11'>12</a>\u001b[0m counts \u001b[39m=\u001b[39m  execute(qc, backend\u001b[39m=\u001b[39;49m qsm, shots\u001b[39m=\u001b[39;49m Nshots)\u001b[39m.\u001b[39mresult()\u001b[39m.\u001b[39mget_counts()\n\u001b[1;32m     <a href='vscode-notebook-cell:/home/rajarsi/Documents/GitHub/QulabsWorkspace/QAE/FastQAE.ipynb#ch0000012?line=13'>14</a>\u001b[0m \u001b[39mreturn\u001b[39;00m (\u001b[39m1\u001b[39m \u001b[39m-\u001b[39m \u001b[39m2\u001b[39m\u001b[39m*\u001b[39m(counts[\u001b[39m'\u001b[39m\u001b[39m1\u001b[39m\u001b[39m'\u001b[39m]\u001b[39m/\u001b[39mNshots))\n",
      "File \u001b[0;32m~/.local/lib/python3.10/site-packages/qiskit/execute_function.py:297\u001b[0m, in \u001b[0;36mexecute\u001b[0;34m(experiments, backend, basis_gates, coupling_map, backend_properties, initial_layout, seed_transpiler, optimization_level, pass_manager, qobj_id, qobj_header, shots, memory, max_credits, seed_simulator, default_qubit_los, default_meas_los, qubit_lo_range, meas_lo_range, schedule_los, meas_level, meas_return, memory_slots, memory_slot_size, rep_time, rep_delay, parameter_binds, schedule_circuit, inst_map, meas_map, scheduling_method, init_qubits, **run_config)\u001b[0m\n\u001b[1;32m    294\u001b[0m     experiments \u001b[39m=\u001b[39m pass_manager\u001b[39m.\u001b[39mrun(experiments)\n\u001b[1;32m    295\u001b[0m \u001b[39melse\u001b[39;00m:\n\u001b[1;32m    296\u001b[0m     \u001b[39m# transpiling the circuits using given transpile options\u001b[39;00m\n\u001b[0;32m--> 297\u001b[0m     experiments \u001b[39m=\u001b[39m transpile(\n\u001b[1;32m    298\u001b[0m         experiments,\n\u001b[1;32m    299\u001b[0m         basis_gates\u001b[39m=\u001b[39;49mbasis_gates,\n\u001b[1;32m    300\u001b[0m         coupling_map\u001b[39m=\u001b[39;49mcoupling_map,\n\u001b[1;32m    301\u001b[0m         backend_properties\u001b[39m=\u001b[39;49mbackend_properties,\n\u001b[1;32m    302\u001b[0m         initial_layout\u001b[39m=\u001b[39;49minitial_layout,\n\u001b[1;32m    303\u001b[0m         seed_transpiler\u001b[39m=\u001b[39;49mseed_transpiler,\n\u001b[1;32m    304\u001b[0m         optimization_level\u001b[39m=\u001b[39;49moptimization_level,\n\u001b[1;32m    305\u001b[0m         backend\u001b[39m=\u001b[39;49mbackend,\n\u001b[1;32m    306\u001b[0m     )\n\u001b[1;32m    308\u001b[0m \u001b[39mif\u001b[39;00m schedule_circuit:\n\u001b[1;32m    309\u001b[0m     experiments \u001b[39m=\u001b[39m schedule(\n\u001b[1;32m    310\u001b[0m         circuits\u001b[39m=\u001b[39mexperiments,\n\u001b[1;32m    311\u001b[0m         backend\u001b[39m=\u001b[39mbackend,\n\u001b[0;32m   (...)\u001b[0m\n\u001b[1;32m    314\u001b[0m         method\u001b[39m=\u001b[39mscheduling_method,\n\u001b[1;32m    315\u001b[0m     )\n",
      "File \u001b[0;32m~/.local/lib/python3.10/site-packages/qiskit/compiler/transpiler.py:304\u001b[0m, in \u001b[0;36mtranspile\u001b[0;34m(circuits, backend, basis_gates, inst_map, coupling_map, backend_properties, initial_layout, layout_method, routing_method, translation_method, scheduling_method, instruction_durations, dt, approximation_degree, timing_constraints, seed_transpiler, optimization_level, callback, output_name, unitary_synthesis_method, unitary_synthesis_plugin_config, target)\u001b[0m\n\u001b[1;32m    301\u001b[0m _check_circuits_coupling_map(circuits, transpile_args, backend)\n\u001b[1;32m    303\u001b[0m \u001b[39m# Transpile circuits in parallel\u001b[39;00m\n\u001b[0;32m--> 304\u001b[0m circuits \u001b[39m=\u001b[39m parallel_map(_transpile_circuit, \u001b[39mlist\u001b[39;49m(\u001b[39mzip\u001b[39;49m(circuits, transpile_args)))\n\u001b[1;32m    306\u001b[0m end_time \u001b[39m=\u001b[39m time()\n\u001b[1;32m    307\u001b[0m _log_transpile_time(start_time, end_time)\n",
      "File \u001b[0;32m~/.local/lib/python3.10/site-packages/qiskit/tools/parallel.py:129\u001b[0m, in \u001b[0;36mparallel_map\u001b[0;34m(task, values, task_args, task_kwargs, num_processes)\u001b[0m\n\u001b[1;32m    127\u001b[0m     \u001b[39mreturn\u001b[39;00m []\n\u001b[1;32m    128\u001b[0m \u001b[39mif\u001b[39;00m \u001b[39mlen\u001b[39m(values) \u001b[39m==\u001b[39m \u001b[39m1\u001b[39m:\n\u001b[0;32m--> 129\u001b[0m     \u001b[39mreturn\u001b[39;00m [task(values[\u001b[39m0\u001b[39;49m], \u001b[39m*\u001b[39;49mtask_args, \u001b[39m*\u001b[39;49m\u001b[39m*\u001b[39;49mtask_kwargs)]\n\u001b[1;32m    131\u001b[0m Publisher()\u001b[39m.\u001b[39mpublish(\u001b[39m\"\u001b[39m\u001b[39mterra.parallel.start\u001b[39m\u001b[39m\"\u001b[39m, \u001b[39mlen\u001b[39m(values))\n\u001b[1;32m    132\u001b[0m nfinished \u001b[39m=\u001b[39m [\u001b[39m0\u001b[39m]\n",
      "File \u001b[0;32m~/.local/lib/python3.10/site-packages/qiskit/compiler/transpiler.py:389\u001b[0m, in \u001b[0;36m_transpile_circuit\u001b[0;34m(circuit_config_tuple)\u001b[0m\n\u001b[1;32m    386\u001b[0m \u001b[39melse\u001b[39;00m:\n\u001b[1;32m    387\u001b[0m     \u001b[39mraise\u001b[39;00m TranspilerError(\u001b[39m\"\u001b[39m\u001b[39moptimization_level can range from 0 to 3.\u001b[39m\u001b[39m\"\u001b[39m)\n\u001b[0;32m--> 389\u001b[0m result \u001b[39m=\u001b[39m pass_manager\u001b[39m.\u001b[39;49mrun(\n\u001b[1;32m    390\u001b[0m     circuit, callback\u001b[39m=\u001b[39;49mtranspile_config[\u001b[39m\"\u001b[39;49m\u001b[39mcallback\u001b[39;49m\u001b[39m\"\u001b[39;49m], output_name\u001b[39m=\u001b[39;49mtranspile_config[\u001b[39m\"\u001b[39;49m\u001b[39moutput_name\u001b[39;49m\u001b[39m\"\u001b[39;49m]\n\u001b[1;32m    391\u001b[0m )\n\u001b[1;32m    393\u001b[0m \u001b[39mif\u001b[39;00m transpile_config[\u001b[39m\"\u001b[39m\u001b[39mfaulty_qubits_map\u001b[39m\u001b[39m\"\u001b[39m]:\n\u001b[1;32m    394\u001b[0m     \u001b[39mreturn\u001b[39;00m _remap_circuit_faulty_backend(\n\u001b[1;32m    395\u001b[0m         result,\n\u001b[1;32m    396\u001b[0m         transpile_config[\u001b[39m\"\u001b[39m\u001b[39mbackend_num_qubits\u001b[39m\u001b[39m\"\u001b[39m],\n\u001b[1;32m    397\u001b[0m         pass_manager_config\u001b[39m.\u001b[39mbackend_properties,\n\u001b[1;32m    398\u001b[0m         transpile_config[\u001b[39m\"\u001b[39m\u001b[39mfaulty_qubits_map\u001b[39m\u001b[39m\"\u001b[39m],\n\u001b[1;32m    399\u001b[0m     )\n",
      "File \u001b[0;32m~/.local/lib/python3.10/site-packages/qiskit/transpiler/passmanager.py:222\u001b[0m, in \u001b[0;36mPassManager.run\u001b[0;34m(self, circuits, output_name, callback)\u001b[0m\n\u001b[1;32m    220\u001b[0m     \u001b[39mreturn\u001b[39;00m circuits\n\u001b[1;32m    221\u001b[0m \u001b[39mif\u001b[39;00m \u001b[39misinstance\u001b[39m(circuits, QuantumCircuit):\n\u001b[0;32m--> 222\u001b[0m     \u001b[39mreturn\u001b[39;00m \u001b[39mself\u001b[39;49m\u001b[39m.\u001b[39;49m_run_single_circuit(circuits, output_name, callback)\n\u001b[1;32m    223\u001b[0m \u001b[39mif\u001b[39;00m \u001b[39mlen\u001b[39m(circuits) \u001b[39m==\u001b[39m \u001b[39m1\u001b[39m:\n\u001b[1;32m    224\u001b[0m     \u001b[39mreturn\u001b[39;00m \u001b[39mself\u001b[39m\u001b[39m.\u001b[39m_run_single_circuit(circuits[\u001b[39m0\u001b[39m], output_name, callback)\n",
      "File \u001b[0;32m~/.local/lib/python3.10/site-packages/qiskit/transpiler/passmanager.py:277\u001b[0m, in \u001b[0;36mPassManager._run_single_circuit\u001b[0;34m(self, circuit, output_name, callback)\u001b[0m\n\u001b[1;32m    265\u001b[0m \u001b[39m\"\"\"Run all the passes on a ``circuit``.\u001b[39;00m\n\u001b[1;32m    266\u001b[0m \n\u001b[1;32m    267\u001b[0m \u001b[39mArgs:\u001b[39;00m\n\u001b[0;32m   (...)\u001b[0m\n\u001b[1;32m    274\u001b[0m \u001b[39m    The transformed circuit.\u001b[39;00m\n\u001b[1;32m    275\u001b[0m \u001b[39m\"\"\"\u001b[39;00m\n\u001b[1;32m    276\u001b[0m running_passmanager \u001b[39m=\u001b[39m \u001b[39mself\u001b[39m\u001b[39m.\u001b[39m_create_running_passmanager()\n\u001b[0;32m--> 277\u001b[0m result \u001b[39m=\u001b[39m running_passmanager\u001b[39m.\u001b[39;49mrun(circuit, output_name\u001b[39m=\u001b[39;49moutput_name, callback\u001b[39m=\u001b[39;49mcallback)\n\u001b[1;32m    278\u001b[0m \u001b[39mself\u001b[39m\u001b[39m.\u001b[39mproperty_set \u001b[39m=\u001b[39m running_passmanager\u001b[39m.\u001b[39mproperty_set\n\u001b[1;32m    279\u001b[0m \u001b[39mreturn\u001b[39;00m result\n",
      "File \u001b[0;32m~/.local/lib/python3.10/site-packages/qiskit/transpiler/runningpassmanager.py:124\u001b[0m, in \u001b[0;36mRunningPassManager.run\u001b[0;34m(***failed resolving arguments***)\u001b[0m\n\u001b[1;32m    122\u001b[0m \u001b[39mfor\u001b[39;00m passset \u001b[39min\u001b[39;00m \u001b[39mself\u001b[39m\u001b[39m.\u001b[39mworking_list:\n\u001b[1;32m    123\u001b[0m     \u001b[39mfor\u001b[39;00m pass_ \u001b[39min\u001b[39;00m passset:\n\u001b[0;32m--> 124\u001b[0m         dag \u001b[39m=\u001b[39m \u001b[39mself\u001b[39;49m\u001b[39m.\u001b[39;49m_do_pass(pass_, dag, passset\u001b[39m.\u001b[39;49moptions)\n\u001b[1;32m    126\u001b[0m circuit \u001b[39m=\u001b[39m dag_to_circuit(dag)\n\u001b[1;32m    127\u001b[0m \u001b[39mif\u001b[39;00m output_name:\n",
      "File \u001b[0;32m~/.local/lib/python3.10/site-packages/qiskit/transpiler/runningpassmanager.py:157\u001b[0m, in \u001b[0;36mRunningPassManager._do_pass\u001b[0;34m(self, pass_, dag, options)\u001b[0m\n\u001b[1;32m    155\u001b[0m \u001b[39m# Run the pass itself, if not already run\u001b[39;00m\n\u001b[1;32m    156\u001b[0m \u001b[39mif\u001b[39;00m pass_ \u001b[39mnot\u001b[39;00m \u001b[39min\u001b[39;00m \u001b[39mself\u001b[39m\u001b[39m.\u001b[39mvalid_passes:\n\u001b[0;32m--> 157\u001b[0m     dag \u001b[39m=\u001b[39m \u001b[39mself\u001b[39;49m\u001b[39m.\u001b[39;49m_run_this_pass(pass_, dag)\n\u001b[1;32m    159\u001b[0m     \u001b[39m# update the valid_passes property\u001b[39;00m\n\u001b[1;32m    160\u001b[0m     \u001b[39mself\u001b[39m\u001b[39m.\u001b[39m_update_valid_passes(pass_)\n",
      "File \u001b[0;32m~/.local/lib/python3.10/site-packages/qiskit/transpiler/runningpassmanager.py:186\u001b[0m, in \u001b[0;36mRunningPassManager._run_this_pass\u001b[0;34m(self, pass_, dag)\u001b[0m\n\u001b[1;32m    183\u001b[0m \u001b[39mif\u001b[39;00m pass_\u001b[39m.\u001b[39mis_transformation_pass:\n\u001b[1;32m    184\u001b[0m     \u001b[39m# Measure time if we have a callback or logging set\u001b[39;00m\n\u001b[1;32m    185\u001b[0m     start_time \u001b[39m=\u001b[39m time()\n\u001b[0;32m--> 186\u001b[0m     new_dag \u001b[39m=\u001b[39m pass_\u001b[39m.\u001b[39;49mrun(dag)\n\u001b[1;32m    187\u001b[0m     end_time \u001b[39m=\u001b[39m time()\n\u001b[1;32m    188\u001b[0m     run_time \u001b[39m=\u001b[39m end_time \u001b[39m-\u001b[39m start_time\n",
      "File \u001b[0;32m~/.local/lib/python3.10/site-packages/qiskit/transpiler/passes/optimization/optimize_1q_decomposition.py:168\u001b[0m, in \u001b[0;36mOptimize1qGatesDecomposition.run\u001b[0;34m(self, dag)\u001b[0m\n\u001b[1;32m    165\u001b[0m     \u001b[39mif\u001b[39;00m \u001b[39m\"\u001b[39m\u001b[39mu2\u001b[39m\u001b[39m\"\u001b[39m \u001b[39mnot\u001b[39;00m \u001b[39min\u001b[39;00m \u001b[39mself\u001b[39m\u001b[39m.\u001b[39m_target_basis \u001b[39mand\u001b[39;00m \u001b[39m\"\u001b[39m\u001b[39mu1\u001b[39m\u001b[39m\"\u001b[39m \u001b[39mnot\u001b[39;00m \u001b[39min\u001b[39;00m \u001b[39mself\u001b[39m\u001b[39m.\u001b[39m_target_basis:\n\u001b[1;32m    166\u001b[0m         \u001b[39mcontinue\u001b[39;00m\n\u001b[0;32m--> 168\u001b[0m new_basis, new_circ \u001b[39m=\u001b[39m \u001b[39mself\u001b[39;49m\u001b[39m.\u001b[39;49m_resynthesize_run(run)\n\u001b[1;32m    170\u001b[0m \u001b[39mif\u001b[39;00m new_circ \u001b[39mis\u001b[39;00m \u001b[39mnot\u001b[39;00m \u001b[39mNone\u001b[39;00m \u001b[39mand\u001b[39;00m \u001b[39mself\u001b[39m\u001b[39m.\u001b[39m_substitution_checks(dag, run, new_circ, new_basis):\n\u001b[1;32m    171\u001b[0m     new_dag \u001b[39m=\u001b[39m circuit_to_dag(new_circ)\n",
      "File \u001b[0;32m~/.local/lib/python3.10/site-packages/qiskit/transpiler/passes/optimization/optimize_1q_decomposition.py:78\u001b[0m, in \u001b[0;36mOptimize1qGatesDecomposition._resynthesize_run\u001b[0;34m(self, run)\u001b[0m\n\u001b[1;32m     75\u001b[0m \u001b[39mfor\u001b[39;00m gate \u001b[39min\u001b[39;00m run[\u001b[39m1\u001b[39m:]:\n\u001b[1;32m     76\u001b[0m     operator \u001b[39m=\u001b[39m gate\u001b[39m.\u001b[39mop\u001b[39m.\u001b[39mto_matrix()\u001b[39m.\u001b[39mdot(operator)\n\u001b[0;32m---> 78\u001b[0m new_circs \u001b[39m=\u001b[39m {k: v\u001b[39m.\u001b[39m_decompose(operator) \u001b[39mfor\u001b[39;00m k, v \u001b[39min\u001b[39;00m \u001b[39mself\u001b[39m\u001b[39m.\u001b[39m_decomposers\u001b[39m.\u001b[39mitems()}\n\u001b[1;32m     80\u001b[0m new_basis, new_circ \u001b[39m=\u001b[39m \u001b[39mNone\u001b[39;00m, \u001b[39mNone\u001b[39;00m\n\u001b[1;32m     81\u001b[0m \u001b[39mif\u001b[39;00m \u001b[39mlen\u001b[39m(new_circs) \u001b[39m>\u001b[39m \u001b[39m0\u001b[39m:\n",
      "File \u001b[0;32m~/.local/lib/python3.10/site-packages/qiskit/transpiler/passes/optimization/optimize_1q_decomposition.py:78\u001b[0m, in \u001b[0;36m<dictcomp>\u001b[0;34m(.0)\u001b[0m\n\u001b[1;32m     75\u001b[0m \u001b[39mfor\u001b[39;00m gate \u001b[39min\u001b[39;00m run[\u001b[39m1\u001b[39m:]:\n\u001b[1;32m     76\u001b[0m     operator \u001b[39m=\u001b[39m gate\u001b[39m.\u001b[39mop\u001b[39m.\u001b[39mto_matrix()\u001b[39m.\u001b[39mdot(operator)\n\u001b[0;32m---> 78\u001b[0m new_circs \u001b[39m=\u001b[39m {k: v\u001b[39m.\u001b[39;49m_decompose(operator) \u001b[39mfor\u001b[39;00m k, v \u001b[39min\u001b[39;00m \u001b[39mself\u001b[39m\u001b[39m.\u001b[39m_decomposers\u001b[39m.\u001b[39mitems()}\n\u001b[1;32m     80\u001b[0m new_basis, new_circ \u001b[39m=\u001b[39m \u001b[39mNone\u001b[39;00m, \u001b[39mNone\u001b[39;00m\n\u001b[1;32m     81\u001b[0m \u001b[39mif\u001b[39;00m \u001b[39mlen\u001b[39m(new_circs) \u001b[39m>\u001b[39m \u001b[39m0\u001b[39m:\n",
      "File \u001b[0;32m~/.local/lib/python3.10/site-packages/qiskit/quantum_info/synthesis/one_qubit_decompose.py:166\u001b[0m, in \u001b[0;36mOneQubitEulerDecomposer._decompose\u001b[0;34m(self, unitary, simplify, atol)\u001b[0m\n\u001b[1;32m    165\u001b[0m \u001b[39mdef\u001b[39;00m \u001b[39m_decompose\u001b[39m(\u001b[39mself\u001b[39m, unitary, simplify\u001b[39m=\u001b[39m\u001b[39mTrue\u001b[39;00m, atol\u001b[39m=\u001b[39mDEFAULT_ATOL):\n\u001b[0;32m--> 166\u001b[0m     theta, phi, lam, phase \u001b[39m=\u001b[39m \u001b[39mself\u001b[39;49m\u001b[39m.\u001b[39;49m_params(unitary)\n\u001b[1;32m    167\u001b[0m     circuit \u001b[39m=\u001b[39m \u001b[39mself\u001b[39m\u001b[39m.\u001b[39m_circuit(theta, phi, lam, phase, simplify\u001b[39m=\u001b[39msimplify, atol\u001b[39m=\u001b[39matol)\n\u001b[1;32m    168\u001b[0m     \u001b[39mreturn\u001b[39;00m circuit\n",
      "File \u001b[0;32m~/.local/lib/python3.10/site-packages/qiskit/quantum_info/synthesis/one_qubit_decompose.py:286\u001b[0m, in \u001b[0;36mOneQubitEulerDecomposer._params_u3\u001b[0;34m(mat)\u001b[0m\n\u001b[1;32m    281\u001b[0m \u001b[39m\"\"\"Return the Euler angles and phase for the U3 basis.\"\"\"\u001b[39;00m\n\u001b[1;32m    282\u001b[0m \u001b[39m# The determinant of U3 gate depends on its params\u001b[39;00m\n\u001b[1;32m    283\u001b[0m \u001b[39m# via det(u3(theta, phi, lam)) = exp(1j*(phi+lam))\u001b[39;00m\n\u001b[1;32m    284\u001b[0m \u001b[39m# Since the phase is wrt to a SU matrix we must rescale\u001b[39;00m\n\u001b[1;32m    285\u001b[0m \u001b[39m# phase to correct this\u001b[39;00m\n\u001b[0;32m--> 286\u001b[0m theta, phi, lam, phase \u001b[39m=\u001b[39m OneQubitEulerDecomposer\u001b[39m.\u001b[39;49m_params_zyz(mat)\n\u001b[1;32m    287\u001b[0m \u001b[39mreturn\u001b[39;00m theta, phi, lam, phase \u001b[39m-\u001b[39m \u001b[39m0.5\u001b[39m \u001b[39m*\u001b[39m (phi \u001b[39m+\u001b[39m lam)\n",
      "File \u001b[0;32m~/.local/lib/python3.10/site-packages/qiskit/quantum_info/synthesis/one_qubit_decompose.py:227\u001b[0m, in \u001b[0;36mOneQubitEulerDecomposer._params_zyz\u001b[0;34m(mat)\u001b[0m\n\u001b[1;32m    223\u001b[0m \u001b[39mimport\u001b[39;00m \u001b[39mscipy\u001b[39;00m\u001b[39m.\u001b[39;00m\u001b[39mlinalg\u001b[39;00m \u001b[39mas\u001b[39;00m \u001b[39mla\u001b[39;00m\n\u001b[1;32m    225\u001b[0m \u001b[39m# We rescale the input matrix to be special unitary (det(U) = 1)\u001b[39;00m\n\u001b[1;32m    226\u001b[0m \u001b[39m# This ensures that the quaternion representation is real\u001b[39;00m\n\u001b[0;32m--> 227\u001b[0m coeff \u001b[39m=\u001b[39m la\u001b[39m.\u001b[39;49mdet(mat) \u001b[39m*\u001b[39m\u001b[39m*\u001b[39m (\u001b[39m-\u001b[39m\u001b[39m0.5\u001b[39m)\n\u001b[1;32m    228\u001b[0m phase \u001b[39m=\u001b[39m \u001b[39m-\u001b[39mcmath\u001b[39m.\u001b[39mphase(coeff)\n\u001b[1;32m    229\u001b[0m su_mat \u001b[39m=\u001b[39m coeff \u001b[39m*\u001b[39m mat  \u001b[39m# U in SU(2)\u001b[39;00m\n",
      "File \u001b[0;32m~/.local/lib/python3.10/site-packages/scipy/linalg/_basic.py:1023\u001b[0m, in \u001b[0;36mdet\u001b[0;34m(a, overwrite_a, check_finite)\u001b[0m\n\u001b[1;32m    977\u001b[0m \u001b[39mdef\u001b[39;00m \u001b[39mdet\u001b[39m(a, overwrite_a\u001b[39m=\u001b[39m\u001b[39mFalse\u001b[39;00m, check_finite\u001b[39m=\u001b[39m\u001b[39mTrue\u001b[39;00m):\n\u001b[1;32m    978\u001b[0m     \u001b[39m\"\"\"\u001b[39;00m\n\u001b[1;32m    979\u001b[0m \u001b[39m    Compute the determinant of a matrix\u001b[39;00m\n\u001b[1;32m    980\u001b[0m \n\u001b[0;32m   (...)\u001b[0m\n\u001b[1;32m   1021\u001b[0m \n\u001b[1;32m   1022\u001b[0m \u001b[39m    \"\"\"\u001b[39;00m\n\u001b[0;32m-> 1023\u001b[0m     a1 \u001b[39m=\u001b[39m _asarray_validated(a, check_finite\u001b[39m=\u001b[39;49mcheck_finite)\n\u001b[1;32m   1024\u001b[0m     \u001b[39mif\u001b[39;00m \u001b[39mlen\u001b[39m(a1\u001b[39m.\u001b[39mshape) \u001b[39m!=\u001b[39m \u001b[39m2\u001b[39m \u001b[39mor\u001b[39;00m a1\u001b[39m.\u001b[39mshape[\u001b[39m0\u001b[39m] \u001b[39m!=\u001b[39m a1\u001b[39m.\u001b[39mshape[\u001b[39m1\u001b[39m]:\n\u001b[1;32m   1025\u001b[0m         \u001b[39mraise\u001b[39;00m \u001b[39mValueError\u001b[39;00m(\u001b[39m'\u001b[39m\u001b[39mexpected square matrix\u001b[39m\u001b[39m'\u001b[39m)\n",
      "File \u001b[0;32m~/.local/lib/python3.10/site-packages/scipy/_lib/_util.py:287\u001b[0m, in \u001b[0;36m_asarray_validated\u001b[0;34m(a, check_finite, sparse_ok, objects_ok, mask_ok, as_inexact)\u001b[0m\n\u001b[1;32m    285\u001b[0m         \u001b[39mraise\u001b[39;00m \u001b[39mValueError\u001b[39;00m(\u001b[39m'\u001b[39m\u001b[39mmasked arrays are not supported\u001b[39m\u001b[39m'\u001b[39m)\n\u001b[1;32m    286\u001b[0m toarray \u001b[39m=\u001b[39m np\u001b[39m.\u001b[39masarray_chkfinite \u001b[39mif\u001b[39;00m check_finite \u001b[39melse\u001b[39;00m np\u001b[39m.\u001b[39masarray\n\u001b[0;32m--> 287\u001b[0m a \u001b[39m=\u001b[39m toarray(a)\n\u001b[1;32m    288\u001b[0m \u001b[39mif\u001b[39;00m \u001b[39mnot\u001b[39;00m objects_ok:\n\u001b[1;32m    289\u001b[0m     \u001b[39mif\u001b[39;00m a\u001b[39m.\u001b[39mdtype \u001b[39mis\u001b[39;00m np\u001b[39m.\u001b[39mdtype(\u001b[39m'\u001b[39m\u001b[39mO\u001b[39m\u001b[39m'\u001b[39m):\n",
      "File \u001b[0;32m~/.local/lib/python3.10/site-packages/numpy/lib/function_base.py:603\u001b[0m, in \u001b[0;36masarray_chkfinite\u001b[0;34m(a, dtype, order)\u001b[0m\n\u001b[1;32m    601\u001b[0m a \u001b[39m=\u001b[39m asarray(a, dtype\u001b[39m=\u001b[39mdtype, order\u001b[39m=\u001b[39morder)\n\u001b[1;32m    602\u001b[0m \u001b[39mif\u001b[39;00m a\u001b[39m.\u001b[39mdtype\u001b[39m.\u001b[39mchar \u001b[39min\u001b[39;00m typecodes[\u001b[39m'\u001b[39m\u001b[39mAllFloat\u001b[39m\u001b[39m'\u001b[39m] \u001b[39mand\u001b[39;00m \u001b[39mnot\u001b[39;00m np\u001b[39m.\u001b[39misfinite(a)\u001b[39m.\u001b[39mall():\n\u001b[0;32m--> 603\u001b[0m     \u001b[39mraise\u001b[39;00m \u001b[39mValueError\u001b[39;00m(\n\u001b[1;32m    604\u001b[0m         \u001b[39m\"\u001b[39m\u001b[39marray must not contain infs or NaNs\u001b[39m\u001b[39m\"\u001b[39m)\n\u001b[1;32m    605\u001b[0m \u001b[39mreturn\u001b[39;00m a\n",
      "\u001b[0;31mValueError\u001b[0m: array must not contain infs or NaNs"
     ]
    }
   ],
   "source": [
    "for j in range(1, l+1):\n",
    "    if stage== 0 :\n",
    "        cos_val[j-1] = cos_val_measure(2**(j-1), Nshot_1)\n",
    "        cos_val_min[j-1], cos_val_max[j-1] = chrnff(cos_val[j-1], Nshot_1, delta_c)\n",
    "        theta_val_max[j] = np.arccos(cos_val_min[j-1])/(2**(j+1)+2)\n",
    "        theta_val_min[j] = np.arccos(cos_val_max[j-1])/(2**(j+1)+2)\n",
    "        if (2**(j+1)*theta_val_max[j] >= 3*pi/8 and j<l):\n",
    "            j0 = j\n",
    "            nu = 2**j0 * (theta_val_max[j0]+theta_val_min[j0])\n",
    "            stage= 1\n",
    "    else :\n",
    "        cos_val[j-1] = cos_val_measure(2**(j-1), Nshot_2)\n",
    "        sj = (cos_val[j-1]*np.cos(nu) - cos_val_measure(2**(j-1) + 2**(j0-1), Nshot_2)) / np.sin(nu)\n",
    "        rho_j = np.atan(sj, cos_val[j-1] )\n",
    "        nj = math.floor( 1/(2*pi) *( (2**(j+1)+2)*theta_val_max[j-1] - rho_j + pi/3 ))\n",
    "        theta_val_min[j] = (2*pi*nj + rho_j - pi/3 )/(2**(j+1) + 2)\n",
    "        theta_val_max[j] = (2*pi*nj + rho_j + pi/3 )/(2**(j+1) + 2)\n",
    "    "
   ]
  },
  {
   "cell_type": "code",
   "execution_count": null,
   "metadata": {},
   "outputs": [],
   "source": []
  }
 ],
 "metadata": {
  "kernelspec": {
   "display_name": "Python 3.10.4 64-bit",
   "language": "python",
   "name": "python3"
  },
  "language_info": {
   "codemirror_mode": {
    "name": "ipython",
    "version": 3
   },
   "file_extension": ".py",
   "mimetype": "text/x-python",
   "name": "python",
   "nbconvert_exporter": "python",
   "pygments_lexer": "ipython3",
   "version": "3.10.4"
  },
  "orig_nbformat": 4,
  "vscode": {
   "interpreter": {
    "hash": "31f2aee4e71d21fbe5cf8b01ff0e069b9275f58929596ceb00d14d90e3e16cd6"
   }
  }
 },
 "nbformat": 4,
 "nbformat_minor": 2
}
